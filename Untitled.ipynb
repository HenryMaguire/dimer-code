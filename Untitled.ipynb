{
 "cells": [
  {
   "cell_type": "code",
   "execution_count": 4,
   "metadata": {},
   "outputs": [],
   "source": [
    "%matplotlib inline \n",
    "import matplotlib\n",
    "import matplotlib.pyplot as plt\n",
    "\n",
    "import time\n",
    "import heatmap_setup as hm\n",
    "import numpy as np\n",
    "\n",
    "from SES_setup import *\n",
    "from utils import *\n",
    "from style import *\n",
    "\n",
    "from weak_phonons import L_wc_analytic, weak_phonon\n",
    "T_ph = 500.\n",
    "w_2 = 5000. #1.4*ev_to_inv_cm\n",
    "bias = 0. #0.01*ev_to_inv_cm #0.0000001*ev_to_inv_cm\n",
    "V = 1000. #0.01*ev_to_inv_cm #0.00001*ev_to_inv_cm\n",
    "\n",
    "T_EM = T_ph\n",
    "alpha_EM = 0.05 #0.05 #5.309e-3 # inv_ps_to_inv_cm *10^-3\n",
    "N =3\n",
    "\n",
    "alpha = 100.\n",
    "#wc = 50.\n",
    "w_0 = 100.\n",
    "Gamma = 2*w_0\n",
    "\n",
    "PARAMS = PARAMS_setup(bias=bias, w_2=w_2, \n",
    "                              V = V, alpha=alpha,\n",
    "                              T_EM=T_EM, T_ph=T_ph, alpha_EM=alpha_EM, shift=True,\n",
    "                              num_cpus=4, N=N, Gamma=Gamma, w_0=w_0,\n",
    "                      silent=True, exc_diff=0)\n",
    "#H, L, L_add, PARAMS = get_H_and_L(PARAMS, silent=False, threshold=0.)\n",
    "\n"
   ]
  },
  {
   "cell_type": "code",
   "execution_count": 5,
   "metadata": {},
   "outputs": [
    {
     "name": "stdout",
     "output_type": "stream",
     "text": [
      "No RC mapping performed yet. Using 0.5*pi*alpha/2\n",
      "([4078.539816339745, 6078.539816339745], [Quantum object: dims = [[3], [1]], shape = (3, 1), type = ket\n",
      "Qobj data =\n",
      "[[ 0.        ]\n",
      " [ 0.70710678]\n",
      " [-0.70710678]], Quantum object: dims = [[3], [1]], shape = (3, 1), type = ket\n",
      "Qobj data =\n",
      "[[0.        ]\n",
      " [0.70710678]\n",
      " [0.70710678]]])\n",
      "([4000.0, 6000.0], [Quantum object: dims = [[3], [1]], shape = (3, 1), type = ket\n",
      "Qobj data =\n",
      "[[ 0.        ]\n",
      " [ 0.70710678]\n",
      " [-0.70710678]], Quantum object: dims = [[3], [1]], shape = (3, 1), type = ket\n",
      "Qobj data =\n",
      "[[0.        ]\n",
      " [0.70710678]\n",
      " [0.70710678]]])\n"
     ]
    }
   ],
   "source": [
    "print(exciton_states(PARAMS, shift=True))\n",
    "print(exciton_states(PARAMS, shift=False))"
   ]
  },
  {
   "cell_type": "code",
   "execution_count": null,
   "metadata": {},
   "outputs": [],
   "source": []
  }
 ],
 "metadata": {
  "kernelspec": {
   "display_name": "Python 3",
   "language": "python",
   "name": "python3"
  },
  "language_info": {
   "codemirror_mode": {
    "name": "ipython",
    "version": 3
   },
   "file_extension": ".py",
   "mimetype": "text/x-python",
   "name": "python",
   "nbconvert_exporter": "python",
   "pygments_lexer": "ipython3",
   "version": "3.6.5"
  }
 },
 "nbformat": 4,
 "nbformat_minor": 2
}
