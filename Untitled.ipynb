{
 "cells": [
  {
   "cell_type": "code",
   "execution_count": 3,
   "metadata": {},
   "outputs": [
    {
     "name": "stdout",
     "output_type": "stream",
     "text": [
      "****************************************************************\n",
      "The operators took 0.35851073265075684 and have dimension 24.\n",
      "Building the RC Liouvillian took 0.374 seconds.\n",
      "It is 576by576. The full basis would be 729by729\n",
      "Full optical Liouvillian took 0.24118685722351074 seconds.\n",
      "Full optical Liouvillian took 0.09548211097717285 seconds.\n",
      "Chopping reduced the sparsity from 16.958% to 16.958%\n",
      "<function _J_underdamped at 0x1a0fe0aa60>\n",
      "Quantum object: dims = [[3], [3]], shape = (3, 3), type = oper, isherm = False\n",
      "Qobj data =\n",
      "[[ 0.00000000e+00+0.j          0.00000000e+00+0.j\n",
      "   0.00000000e+00+0.j        ]\n",
      " [ 0.00000000e+00+0.j          1.09172311e+02-7.83449325j\n",
      "   1.95371462e-03+2.75429475j]\n",
      " [ 0.00000000e+00+0.j         -1.95371462e-03-2.75429475j\n",
      "   1.09168379e+02-7.87346968j]]\n",
      "<function _J_underdamped at 0x1a0fe0aa60>\n",
      "<function _J_underdamped at 0x1a0fe0aa60>\n",
      "Quantum object: dims = [[3], [3]], shape = (3, 3), type = oper, isherm = False\n",
      "Qobj data =\n",
      "[[ 0.00000000e+00+0.j          0.00000000e+00+0.j\n",
      "   0.00000000e+00+0.j        ]\n",
      " [ 0.00000000e+00+0.j          1.09172311e+02-7.83449325j\n",
      "   1.95371462e-03+2.75429475j]\n",
      " [ 0.00000000e+00+0.j         -1.95371462e-03-2.75429475j\n",
      "   1.09168379e+02-7.87346968j]]\n",
      "<function _J_underdamped at 0x1a0fe0aa60>\n",
      "[-1.09174265e+02-5.08019849e+00j -1.09174265e+02+5.08019849e+00j\n",
      " -1.09170357e+02-1.05887880e+01j -1.09170357e+02+1.05887880e+01j\n",
      " -7.86449390e-03-5.53619373e-11j -7.86449390e-03+5.53619373e-11j\n",
      "  0.00000000e+00+0.00000000e+00j  0.00000000e+00+0.00000000e+00j\n",
      "  0.00000000e+00+0.00000000e+00j] [-1.09174265e+02-5.08019849e+00j -1.09174265e+02+5.08019849e+00j\n",
      " -1.09170357e+02+1.05887880e+01j -1.09170357e+02-1.05887880e+01j\n",
      " -7.86449390e-03-1.11507426e-09j -7.86449390e-03+1.11507426e-09j\n",
      "  0.00000000e+00+0.00000000e+00j  0.00000000e+00+0.00000000e+00j\n",
      "  0.00000000e+00+0.00000000e+00j]\n"
     ]
    }
   ],
   "source": [
    "%matplotlib inline \n",
    "import matplotlib\n",
    "import matplotlib.pyplot as plt\n",
    "\n",
    "import time\n",
    "import heatmap_setup as hm\n",
    "import numpy as np\n",
    "\n",
    "from SES_setup import *\n",
    "from utils import *\n",
    "from style import *\n",
    "\n",
    "from weak_phonons import L_wc_analytic, weak_phonon\n",
    "T_ph = 500.\n",
    "w_2 = 5000. #1.4*ev_to_inv_cm\n",
    "bias = 0. #0.01*ev_to_inv_cm #0.0000001*ev_to_inv_cm\n",
    "V = 1000. #0.01*ev_to_inv_cm #0.00001*ev_to_inv_cm\n",
    "\n",
    "T_EM = T_ph\n",
    "alpha_EM = 0.05 #0.05 #5.309e-3 # inv_ps_to_inv_cm *10^-3\n",
    "N =3\n",
    "\n",
    "alpha = 10.\n",
    "#wc = 50.\n",
    "w_0 = 100.\n",
    "Gamma = 2*w_0\n",
    "\n",
    "PARAMS = PARAMS_setup(bias=bias, w_2=w_2, \n",
    "                              V = V, alpha=alpha,\n",
    "                              T_EM=T_EM, T_ph=T_ph, alpha_EM=alpha_EM, shift=True,\n",
    "                              num_cpus=4, N=N, Gamma=Gamma, w_0=w_0,\n",
    "                      silent=True, exc_diff=0)\n",
    "H, L, L_add, PARAMS = get_H_and_L(PARAMS, silent=False, threshold=0.)\n",
    "\n"
   ]
  },
  {
   "cell_type": "code",
   "execution_count": null,
   "metadata": {},
   "outputs": [],
   "source": []
  }
 ],
 "metadata": {
  "kernelspec": {
   "display_name": "Python 3",
   "language": "python",
   "name": "python3"
  },
  "language_info": {
   "codemirror_mode": {
    "name": "ipython",
    "version": 3
   },
   "file_extension": ".py",
   "mimetype": "text/x-python",
   "name": "python",
   "nbconvert_exporter": "python",
   "pygments_lexer": "ipython3",
   "version": "3.6.5"
  }
 },
 "nbformat": 4,
 "nbformat_minor": 2
}
