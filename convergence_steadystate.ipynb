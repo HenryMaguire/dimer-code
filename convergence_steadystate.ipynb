{
 "cells": [
  {
   "cell_type": "code",
   "execution_count": null,
   "metadata": {
    "collapsed": true
   },
   "outputs": [],
   "source": [
    "# Incase we have to clear all variables\n",
    "%reset -f"
   ]
  },
  {
   "cell_type": "code",
   "execution_count": 25,
   "metadata": {
    "collapsed": true
   },
   "outputs": [],
   "source": [
    "colourWheel =['#329932',\n",
    "            '#ff6961',\n",
    "            'b',\n",
    "            '#6a3d9a',\n",
    "            '#fb9a99',\n",
    "            '#e31a1c',\n",
    "            '#fdbf6f',\n",
    "            '#ff7f00',\n",
    "            '#cab2d6',\n",
    "            '#6a3d9a',\n",
    "            '#ffff99',\n",
    "            '#b15928',\n",
    "            '#67001f',\n",
    "            '#b2182b',\n",
    "            '#d6604d',\n",
    "            '#f4a582',\n",
    "            '#fddbc7',\n",
    "            '#f7f7f7',\n",
    "            '#d1e5f0',\n",
    "            '#92c5de',\n",
    "            '#4393c3',\n",
    "            '#2166ac',\n",
    "            '#053061']\n",
    "\n",
    "from dimer_setup import *\n",
    "from sparse_utils import *"
   ]
  },
  {
   "cell_type": "code",
   "execution_count": null,
   "metadata": {
    "collapsed": true
   },
   "outputs": [],
   "source": [
    "import matplotlib.pyplot as plt\n",
    "from heatmap_setup import calculate_steadystate\n",
    "from scipy.sparse.linalg import eigs, lgmres\n",
    "from scipy.sparse import csc_matrix\n",
    "import time\n",
    "import numpy as np"
   ]
  },
  {
   "cell_type": "markdown",
   "metadata": {},
   "source": [
    "### Example Liouvillian"
   ]
  },
  {
   "cell_type": "code",
   "execution_count": 26,
   "metadata": {},
   "outputs": [
    {
     "name": "stdout",
     "output_type": "stream",
     "text": [
      "The operators took 5.47260713577 and have dimension 96.\n",
      "Building the RC Liouvillian took 5.493 seconds.\n",
      "****************************************************************\n",
      "It is 9216by9216. The full basis would be 10000by10000\n",
      "It took  4.86163401604  seconds to build the Non-secular RWA Liouvillian\n"
     ]
    }
   ],
   "source": [
    "w_2 = 8000.\n",
    "alpha = 20.\n",
    "\n",
    "N = 5\n",
    "pap = alpha_to_pialpha_prop(alpha, w_2)\n",
    "wc = 53.\n",
    "w_0 = 200.\n",
    "Gamma = (w_0**2)/wc\n",
    "PARAMS = PARAMS_setup(bias=100., w_2=8000., V = 100., pialpha_prop=pap,\n",
    "                                 T_EM=6000., T_ph =300.,\n",
    "                                 alpha_EM=0.1, shift=True,\n",
    "                                 num_cpus=3, N=N, Gamma=Gamma, w_0=300.,\n",
    "                                 silent=True, exc_diff=2)\n",
    "\n",
    "H, L = get_H_and_L(PARAMS,silent=False)\n",
    "L_tidy = chop(L, threshold=1e-6)"
   ]
  },
  {
   "cell_type": "code",
   "execution_count": 21,
   "metadata": {},
   "outputs": [
    {
     "name": "stdout",
     "output_type": "stream",
     "text": [
      "2260.5865469\n"
     ]
    },
    {
     "ename": "KeyboardInterrupt",
     "evalue": "",
     "output_type": "error",
     "traceback": [
      "\u001b[0;31m---------------------------------------------------------------------------\u001b[0m",
      "\u001b[0;31mKeyboardInterrupt\u001b[0m                         Traceback (most recent call last)",
      "\u001b[0;32m<ipython-input-21-1e2716acba9e>\u001b[0m in \u001b[0;36m<module>\u001b[0;34m()\u001b[0m\n\u001b[1;32m      2\u001b[0m \u001b[0mssL\u001b[0m\u001b[0;34m,\u001b[0m \u001b[0minfo\u001b[0m \u001b[0;34m=\u001b[0m \u001b[0mcalculate_steadystate\u001b[0m\u001b[0;34m(\u001b[0m\u001b[0mH\u001b[0m\u001b[0;34m,\u001b[0m \u001b[0mL\u001b[0m\u001b[0;34m,\u001b[0m \u001b[0mfill_factor\u001b[0m\u001b[0;34m=\u001b[0m\u001b[0;36m500\u001b[0m\u001b[0;34m,\u001b[0m \u001b[0mpersistent\u001b[0m\u001b[0;34m=\u001b[0m\u001b[0mFalse\u001b[0m\u001b[0;34m)\u001b[0m\u001b[0;34m\u001b[0m\u001b[0m\n\u001b[1;32m      3\u001b[0m \u001b[0;32mprint\u001b[0m \u001b[0mtime\u001b[0m\u001b[0;34m.\u001b[0m\u001b[0mtime\u001b[0m\u001b[0;34m(\u001b[0m\u001b[0;34m)\u001b[0m\u001b[0;34m-\u001b[0m\u001b[0mti\u001b[0m\u001b[0;34m;\u001b[0m \u001b[0mti\u001b[0m \u001b[0;34m=\u001b[0m \u001b[0mtime\u001b[0m\u001b[0;34m.\u001b[0m\u001b[0mtime\u001b[0m\u001b[0;34m(\u001b[0m\u001b[0;34m)\u001b[0m\u001b[0;34m\u001b[0m\u001b[0m\n\u001b[0;32m----> 4\u001b[0;31m \u001b[0mssLt\u001b[0m\u001b[0;34m,\u001b[0m \u001b[0minfo\u001b[0m \u001b[0;34m=\u001b[0m \u001b[0mcalculate_steadystate\u001b[0m\u001b[0;34m(\u001b[0m\u001b[0mH\u001b[0m\u001b[0;34m,\u001b[0m \u001b[0mL_tidy\u001b[0m\u001b[0;34m,\u001b[0m \u001b[0mfill_factor\u001b[0m\u001b[0;34m=\u001b[0m\u001b[0;36m500\u001b[0m\u001b[0;34m,\u001b[0m \u001b[0mpersistent\u001b[0m\u001b[0;34m=\u001b[0m\u001b[0mFalse\u001b[0m\u001b[0;34m)\u001b[0m\u001b[0;34m\u001b[0m\u001b[0m\n\u001b[0m\u001b[1;32m      5\u001b[0m \u001b[0;32mprint\u001b[0m \u001b[0mtime\u001b[0m\u001b[0;34m.\u001b[0m\u001b[0mtime\u001b[0m\u001b[0;34m(\u001b[0m\u001b[0;34m)\u001b[0m\u001b[0;34m-\u001b[0m\u001b[0mti\u001b[0m\u001b[0;34m\u001b[0m\u001b[0m\n\u001b[1;32m      6\u001b[0m \u001b[0mrho_size\u001b[0m \u001b[0;34m=\u001b[0m \u001b[0mssL\u001b[0m\u001b[0;34m.\u001b[0m\u001b[0mshape\u001b[0m\u001b[0;34m[\u001b[0m\u001b[0;36m0\u001b[0m\u001b[0;34m]\u001b[0m\u001b[0;34m**\u001b[0m\u001b[0;36m2\u001b[0m\u001b[0;34m\u001b[0m\u001b[0m\n",
      "\u001b[0;32m/home/henry/Work/phd-work/dimer-code/heatmap_setup.pyc\u001b[0m in \u001b[0;36mcalculate_steadystate\u001b[0;34m(H, L, fill_factor, persistent, method)\u001b[0m\n\u001b[1;32m     13\u001b[0m                                    \u001b[0muse_precond\u001b[0m\u001b[0;34m=\u001b[0m\u001b[0mTrue\u001b[0m\u001b[0;34m,\u001b[0m \u001b[0mfill_factor\u001b[0m\u001b[0;34m=\u001b[0m\u001b[0mff\u001b[0m\u001b[0;34m,\u001b[0m\u001b[0;34m\u001b[0m\u001b[0m\n\u001b[1;32m     14\u001b[0m                                    \u001b[0mdrop_tol\u001b[0m\u001b[0;34m=\u001b[0m\u001b[0;36m5e-3\u001b[0m\u001b[0;34m,\u001b[0m \u001b[0muse_rcm\u001b[0m\u001b[0;34m=\u001b[0m\u001b[0mTrue\u001b[0m\u001b[0;34m,\u001b[0m \u001b[0mreturn_info\u001b[0m\u001b[0;34m=\u001b[0m\u001b[0mTrue\u001b[0m\u001b[0;34m,\u001b[0m\u001b[0;34m\u001b[0m\u001b[0m\n\u001b[0;32m---> 15\u001b[0;31m                                    tol=tol, maxiter=60000, ILU_MILU='smilu_2')\n\u001b[0m\u001b[1;32m     16\u001b[0m             \u001b[0mcalculated\u001b[0m\u001b[0;34m=\u001b[0m\u001b[0mTrue\u001b[0m\u001b[0;34m\u001b[0m\u001b[0m\n\u001b[1;32m     17\u001b[0m             \u001b[0;32mreturn\u001b[0m \u001b[0mss\u001b[0m\u001b[0;34m[\u001b[0m\u001b[0;36m0\u001b[0m\u001b[0;34m]\u001b[0m\u001b[0;34m,\u001b[0m \u001b[0mss\u001b[0m\u001b[0;34m[\u001b[0m\u001b[0;36m1\u001b[0m\u001b[0;34m]\u001b[0m\u001b[0;34m\u001b[0m\u001b[0m\n",
      "\u001b[0;32m/home/henry/anaconda2/envs/qutip/lib/python2.7/site-packages/qutip/steadystate.pyc\u001b[0m in \u001b[0;36msteadystate\u001b[0;34m(A, c_op_list, **kwargs)\u001b[0m\n\u001b[1;32m    241\u001b[0m     elif ss_args['method'] in ['iterative-gmres',\n\u001b[1;32m    242\u001b[0m                                'iterative-lgmres', 'iterative-bicgstab']:\n\u001b[0;32m--> 243\u001b[0;31m         \u001b[0;32mreturn\u001b[0m \u001b[0m_steadystate_iterative\u001b[0m\u001b[0;34m(\u001b[0m\u001b[0mA\u001b[0m\u001b[0;34m,\u001b[0m \u001b[0mss_args\u001b[0m\u001b[0;34m)\u001b[0m\u001b[0;34m\u001b[0m\u001b[0m\n\u001b[0m\u001b[1;32m    244\u001b[0m \u001b[0;34m\u001b[0m\u001b[0m\n\u001b[1;32m    245\u001b[0m     \u001b[0;32melif\u001b[0m \u001b[0mss_args\u001b[0m\u001b[0;34m[\u001b[0m\u001b[0;34m'method'\u001b[0m\u001b[0;34m]\u001b[0m \u001b[0;34m==\u001b[0m \u001b[0;34m'svd'\u001b[0m\u001b[0;34m:\u001b[0m\u001b[0;34m\u001b[0m\u001b[0m\n",
      "\u001b[0;32m/home/henry/anaconda2/envs/qutip/lib/python2.7/site-packages/qutip/steadystate.pyc\u001b[0m in \u001b[0;36m_steadystate_iterative\u001b[0;34m(L, ss_args)\u001b[0m\n\u001b[1;32m    585\u001b[0m         v, check = lgmres(L, b, tol=ss_args['tol'], M=ss_args['M'],\n\u001b[1;32m    586\u001b[0m                           \u001b[0mx0\u001b[0m\u001b[0;34m=\u001b[0m\u001b[0mss_args\u001b[0m\u001b[0;34m[\u001b[0m\u001b[0;34m'x0'\u001b[0m\u001b[0;34m]\u001b[0m\u001b[0;34m,\u001b[0m \u001b[0mmaxiter\u001b[0m\u001b[0;34m=\u001b[0m\u001b[0mss_args\u001b[0m\u001b[0;34m[\u001b[0m\u001b[0;34m'maxiter'\u001b[0m\u001b[0;34m]\u001b[0m\u001b[0;34m,\u001b[0m\u001b[0;34m\u001b[0m\u001b[0m\n\u001b[0;32m--> 587\u001b[0;31m                           callback=_iter_count)\n\u001b[0m\u001b[1;32m    588\u001b[0m \u001b[0;34m\u001b[0m\u001b[0m\n\u001b[1;32m    589\u001b[0m     \u001b[0;32melif\u001b[0m \u001b[0mss_args\u001b[0m\u001b[0;34m[\u001b[0m\u001b[0;34m'method'\u001b[0m\u001b[0;34m]\u001b[0m \u001b[0;34m==\u001b[0m \u001b[0;34m'iterative-bicgstab'\u001b[0m\u001b[0;34m:\u001b[0m\u001b[0;34m\u001b[0m\u001b[0m\n",
      "\u001b[0;32m/home/henry/anaconda2/envs/qutip/lib/python2.7/site-packages/scipy/sparse/linalg/isolve/lgmres.pyc\u001b[0m in \u001b[0;36mlgmres\u001b[0;34m(A, b, x0, tol, maxiter, M, callback, inner_m, outer_k, outer_v, store_outer_Av)\u001b[0m\n\u001b[1;32m    198\u001b[0m \u001b[0;34m\u001b[0m\u001b[0m\n\u001b[1;32m    199\u001b[0m             \u001b[0;32mif\u001b[0m \u001b[0mv_new\u001b[0m \u001b[0;32mis\u001b[0m \u001b[0mNone\u001b[0m\u001b[0;34m:\u001b[0m\u001b[0;34m\u001b[0m\u001b[0m\n\u001b[0;32m--> 200\u001b[0;31m                 \u001b[0mv_new\u001b[0m \u001b[0;34m=\u001b[0m \u001b[0mpsolve\u001b[0m\u001b[0;34m(\u001b[0m\u001b[0mmatvec\u001b[0m\u001b[0;34m(\u001b[0m\u001b[0mz\u001b[0m\u001b[0;34m)\u001b[0m\u001b[0;34m)\u001b[0m\u001b[0;34m\u001b[0m\u001b[0m\n\u001b[0m\u001b[1;32m    201\u001b[0m             \u001b[0;32melse\u001b[0m\u001b[0;34m:\u001b[0m\u001b[0;34m\u001b[0m\u001b[0m\n\u001b[1;32m    202\u001b[0m                 \u001b[0;31m# Note: v_new is modified in-place below. Must make a\u001b[0m\u001b[0;34m\u001b[0m\u001b[0;34m\u001b[0m\u001b[0m\n",
      "\u001b[0;32m/home/henry/anaconda2/envs/qutip/lib/python2.7/site-packages/scipy/sparse/linalg/interface.pyc\u001b[0m in \u001b[0;36mmatvec\u001b[0;34m(self, x)\u001b[0m\n\u001b[1;32m    217\u001b[0m             \u001b[0;32mraise\u001b[0m \u001b[0mValueError\u001b[0m\u001b[0;34m(\u001b[0m\u001b[0;34m'dimension mismatch'\u001b[0m\u001b[0;34m)\u001b[0m\u001b[0;34m\u001b[0m\u001b[0m\n\u001b[1;32m    218\u001b[0m \u001b[0;34m\u001b[0m\u001b[0m\n\u001b[0;32m--> 219\u001b[0;31m         \u001b[0my\u001b[0m \u001b[0;34m=\u001b[0m \u001b[0mself\u001b[0m\u001b[0;34m.\u001b[0m\u001b[0m_matvec\u001b[0m\u001b[0;34m(\u001b[0m\u001b[0mx\u001b[0m\u001b[0;34m)\u001b[0m\u001b[0;34m\u001b[0m\u001b[0m\n\u001b[0m\u001b[1;32m    220\u001b[0m \u001b[0;34m\u001b[0m\u001b[0m\n\u001b[1;32m    221\u001b[0m         \u001b[0;32mif\u001b[0m \u001b[0misinstance\u001b[0m\u001b[0;34m(\u001b[0m\u001b[0mx\u001b[0m\u001b[0;34m,\u001b[0m \u001b[0mnp\u001b[0m\u001b[0;34m.\u001b[0m\u001b[0mmatrix\u001b[0m\u001b[0;34m)\u001b[0m\u001b[0;34m:\u001b[0m\u001b[0;34m\u001b[0m\u001b[0m\n",
      "\u001b[0;32m/home/henry/anaconda2/envs/qutip/lib/python2.7/site-packages/scipy/sparse/linalg/interface.pyc\u001b[0m in \u001b[0;36m_matvec\u001b[0;34m(self, x)\u001b[0m\n\u001b[1;32m    469\u001b[0m \u001b[0;34m\u001b[0m\u001b[0m\n\u001b[1;32m    470\u001b[0m     \u001b[0;32mdef\u001b[0m \u001b[0m_matvec\u001b[0m\u001b[0;34m(\u001b[0m\u001b[0mself\u001b[0m\u001b[0;34m,\u001b[0m \u001b[0mx\u001b[0m\u001b[0;34m)\u001b[0m\u001b[0;34m:\u001b[0m\u001b[0;34m\u001b[0m\u001b[0m\n\u001b[0;32m--> 471\u001b[0;31m         \u001b[0;32mreturn\u001b[0m \u001b[0mself\u001b[0m\u001b[0;34m.\u001b[0m\u001b[0m__matvec_impl\u001b[0m\u001b[0;34m(\u001b[0m\u001b[0mx\u001b[0m\u001b[0;34m)\u001b[0m\u001b[0;34m\u001b[0m\u001b[0m\n\u001b[0m\u001b[1;32m    472\u001b[0m \u001b[0;34m\u001b[0m\u001b[0m\n\u001b[1;32m    473\u001b[0m     \u001b[0;32mdef\u001b[0m \u001b[0m_rmatvec\u001b[0m\u001b[0;34m(\u001b[0m\u001b[0mself\u001b[0m\u001b[0;34m,\u001b[0m \u001b[0mx\u001b[0m\u001b[0;34m)\u001b[0m\u001b[0;34m:\u001b[0m\u001b[0;34m\u001b[0m\u001b[0m\n",
      "\u001b[0;32m/home/henry/anaconda2/envs/qutip/lib/python2.7/site-packages/qutip/steadystate.pyc\u001b[0m in \u001b[0;36m<lambda>\u001b[0;34m(x)\u001b[0m\n\u001b[1;32m    504\u001b[0m                   options=dict(ILU_MILU=ss_args['ILU_MILU']))\n\u001b[1;32m    505\u001b[0m \u001b[0;34m\u001b[0m\u001b[0m\n\u001b[0;32m--> 506\u001b[0;31m         \u001b[0mP_x\u001b[0m \u001b[0;34m=\u001b[0m \u001b[0;32mlambda\u001b[0m \u001b[0mx\u001b[0m\u001b[0;34m:\u001b[0m \u001b[0mP\u001b[0m\u001b[0;34m.\u001b[0m\u001b[0msolve\u001b[0m\u001b[0;34m(\u001b[0m\u001b[0mx\u001b[0m\u001b[0;34m)\u001b[0m\u001b[0;34m\u001b[0m\u001b[0m\n\u001b[0m\u001b[1;32m    507\u001b[0m         \u001b[0mM\u001b[0m \u001b[0;34m=\u001b[0m \u001b[0mLinearOperator\u001b[0m\u001b[0;34m(\u001b[0m\u001b[0;34m(\u001b[0m\u001b[0mn\u001b[0m \u001b[0;34m**\u001b[0m \u001b[0;36m2\u001b[0m\u001b[0;34m,\u001b[0m \u001b[0mn\u001b[0m \u001b[0;34m**\u001b[0m \u001b[0;36m2\u001b[0m\u001b[0;34m)\u001b[0m\u001b[0;34m,\u001b[0m \u001b[0mmatvec\u001b[0m\u001b[0;34m=\u001b[0m\u001b[0mP_x\u001b[0m\u001b[0;34m)\u001b[0m\u001b[0;34m\u001b[0m\u001b[0m\n\u001b[1;32m    508\u001b[0m         \u001b[0m_precond_end\u001b[0m \u001b[0;34m=\u001b[0m \u001b[0mtime\u001b[0m\u001b[0;34m.\u001b[0m\u001b[0mtime\u001b[0m\u001b[0;34m(\u001b[0m\u001b[0;34m)\u001b[0m\u001b[0;34m\u001b[0m\u001b[0m\n",
      "\u001b[0;31mKeyboardInterrupt\u001b[0m: "
     ]
    }
   ],
   "source": [
    "ti = time.time()\n",
    "ssL, info = calculate_steadystate(H, L, fill_factor=500, persistent=False)\n",
    "print time.time()-ti; ti = time.time()\n"
   ]
  },
  {
   "cell_type": "code",
   "execution_count": 27,
   "metadata": {},
   "outputs": [
    {
     "ename": "KeyboardInterrupt",
     "evalue": "",
     "output_type": "error",
     "traceback": [
      "\u001b[0;31m---------------------------------------------------------------------------\u001b[0m",
      "\u001b[0;31mKeyboardInterrupt\u001b[0m                         Traceback (most recent call last)",
      "\u001b[0;32m<ipython-input-27-0cf89b3a705b>\u001b[0m in \u001b[0;36m<module>\u001b[0;34m()\u001b[0m\n\u001b[0;32m----> 1\u001b[0;31m \u001b[0mssLt\u001b[0m\u001b[0;34m,\u001b[0m \u001b[0minfo\u001b[0m \u001b[0;34m=\u001b[0m \u001b[0mcalculate_steadystate\u001b[0m\u001b[0;34m(\u001b[0m\u001b[0mH\u001b[0m\u001b[0;34m,\u001b[0m \u001b[0mL_tidy\u001b[0m\u001b[0;34m,\u001b[0m \u001b[0mfill_factor\u001b[0m\u001b[0;34m=\u001b[0m\u001b[0;36m500\u001b[0m\u001b[0;34m,\u001b[0m \u001b[0mpersistent\u001b[0m\u001b[0;34m=\u001b[0m\u001b[0mFalse\u001b[0m\u001b[0;34m)\u001b[0m\u001b[0;34m\u001b[0m\u001b[0m\n\u001b[0m\u001b[1;32m      2\u001b[0m \u001b[0;32mprint\u001b[0m \u001b[0mtime\u001b[0m\u001b[0;34m.\u001b[0m\u001b[0mtime\u001b[0m\u001b[0;34m(\u001b[0m\u001b[0;34m)\u001b[0m\u001b[0;34m-\u001b[0m\u001b[0mti\u001b[0m\u001b[0;34m\u001b[0m\u001b[0m\n\u001b[1;32m      3\u001b[0m \u001b[0mrho_size\u001b[0m \u001b[0;34m=\u001b[0m \u001b[0mssL\u001b[0m\u001b[0;34m.\u001b[0m\u001b[0mshape\u001b[0m\u001b[0;34m[\u001b[0m\u001b[0;36m0\u001b[0m\u001b[0;34m]\u001b[0m\u001b[0;34m**\u001b[0m\u001b[0;36m2\u001b[0m\u001b[0;34m\u001b[0m\u001b[0m\n",
      "\u001b[0;32m/home/henry/Work/phd-work/dimer-code/heatmap_setup.pyc\u001b[0m in \u001b[0;36mcalculate_steadystate\u001b[0;34m(H, L, fill_factor, persistent, method)\u001b[0m\n\u001b[1;32m     13\u001b[0m                                    \u001b[0muse_precond\u001b[0m\u001b[0;34m=\u001b[0m\u001b[0mTrue\u001b[0m\u001b[0;34m,\u001b[0m \u001b[0mfill_factor\u001b[0m\u001b[0;34m=\u001b[0m\u001b[0mff\u001b[0m\u001b[0;34m,\u001b[0m\u001b[0;34m\u001b[0m\u001b[0m\n\u001b[1;32m     14\u001b[0m                                    \u001b[0mdrop_tol\u001b[0m\u001b[0;34m=\u001b[0m\u001b[0;36m5e-3\u001b[0m\u001b[0;34m,\u001b[0m \u001b[0muse_rcm\u001b[0m\u001b[0;34m=\u001b[0m\u001b[0mTrue\u001b[0m\u001b[0;34m,\u001b[0m \u001b[0mreturn_info\u001b[0m\u001b[0;34m=\u001b[0m\u001b[0mTrue\u001b[0m\u001b[0;34m,\u001b[0m\u001b[0;34m\u001b[0m\u001b[0m\n\u001b[0;32m---> 15\u001b[0;31m                                    tol=tol, maxiter=60000, ILU_MILU='smilu_2')\n\u001b[0m\u001b[1;32m     16\u001b[0m             \u001b[0mcalculated\u001b[0m\u001b[0;34m=\u001b[0m\u001b[0mTrue\u001b[0m\u001b[0;34m\u001b[0m\u001b[0m\n\u001b[1;32m     17\u001b[0m             \u001b[0;32mreturn\u001b[0m \u001b[0mss\u001b[0m\u001b[0;34m[\u001b[0m\u001b[0;36m0\u001b[0m\u001b[0;34m]\u001b[0m\u001b[0;34m,\u001b[0m \u001b[0mss\u001b[0m\u001b[0;34m[\u001b[0m\u001b[0;36m1\u001b[0m\u001b[0;34m]\u001b[0m\u001b[0;34m\u001b[0m\u001b[0m\n",
      "\u001b[0;32m/home/henry/anaconda2/envs/qutip/lib/python2.7/site-packages/qutip/steadystate.pyc\u001b[0m in \u001b[0;36msteadystate\u001b[0;34m(A, c_op_list, **kwargs)\u001b[0m\n\u001b[1;32m    241\u001b[0m     elif ss_args['method'] in ['iterative-gmres',\n\u001b[1;32m    242\u001b[0m                                'iterative-lgmres', 'iterative-bicgstab']:\n\u001b[0;32m--> 243\u001b[0;31m         \u001b[0;32mreturn\u001b[0m \u001b[0m_steadystate_iterative\u001b[0m\u001b[0;34m(\u001b[0m\u001b[0mA\u001b[0m\u001b[0;34m,\u001b[0m \u001b[0mss_args\u001b[0m\u001b[0;34m)\u001b[0m\u001b[0;34m\u001b[0m\u001b[0m\n\u001b[0m\u001b[1;32m    244\u001b[0m \u001b[0;34m\u001b[0m\u001b[0m\n\u001b[1;32m    245\u001b[0m     \u001b[0;32melif\u001b[0m \u001b[0mss_args\u001b[0m\u001b[0;34m[\u001b[0m\u001b[0;34m'method'\u001b[0m\u001b[0;34m]\u001b[0m \u001b[0;34m==\u001b[0m \u001b[0;34m'svd'\u001b[0m\u001b[0;34m:\u001b[0m\u001b[0;34m\u001b[0m\u001b[0m\n",
      "\u001b[0;32m/home/henry/anaconda2/envs/qutip/lib/python2.7/site-packages/qutip/steadystate.pyc\u001b[0m in \u001b[0;36m_steadystate_iterative\u001b[0;34m(L, ss_args)\u001b[0m\n\u001b[1;32m    585\u001b[0m         v, check = lgmres(L, b, tol=ss_args['tol'], M=ss_args['M'],\n\u001b[1;32m    586\u001b[0m                           \u001b[0mx0\u001b[0m\u001b[0;34m=\u001b[0m\u001b[0mss_args\u001b[0m\u001b[0;34m[\u001b[0m\u001b[0;34m'x0'\u001b[0m\u001b[0;34m]\u001b[0m\u001b[0;34m,\u001b[0m \u001b[0mmaxiter\u001b[0m\u001b[0;34m=\u001b[0m\u001b[0mss_args\u001b[0m\u001b[0;34m[\u001b[0m\u001b[0;34m'maxiter'\u001b[0m\u001b[0;34m]\u001b[0m\u001b[0;34m,\u001b[0m\u001b[0;34m\u001b[0m\u001b[0m\n\u001b[0;32m--> 587\u001b[0;31m                           callback=_iter_count)\n\u001b[0m\u001b[1;32m    588\u001b[0m \u001b[0;34m\u001b[0m\u001b[0m\n\u001b[1;32m    589\u001b[0m     \u001b[0;32melif\u001b[0m \u001b[0mss_args\u001b[0m\u001b[0;34m[\u001b[0m\u001b[0;34m'method'\u001b[0m\u001b[0;34m]\u001b[0m \u001b[0;34m==\u001b[0m \u001b[0;34m'iterative-bicgstab'\u001b[0m\u001b[0;34m:\u001b[0m\u001b[0;34m\u001b[0m\u001b[0m\n",
      "\u001b[0;32m/home/henry/anaconda2/envs/qutip/lib/python2.7/site-packages/scipy/sparse/linalg/isolve/lgmres.pyc\u001b[0m in \u001b[0;36mlgmres\u001b[0;34m(A, b, x0, tol, maxiter, M, callback, inner_m, outer_k, outer_v, store_outer_Av)\u001b[0m\n\u001b[1;32m    210\u001b[0m             \u001b[0mhcur\u001b[0m \u001b[0;34m=\u001b[0m \u001b[0mnp\u001b[0m\u001b[0;34m.\u001b[0m\u001b[0mzeros\u001b[0m\u001b[0;34m(\u001b[0m\u001b[0mj\u001b[0m\u001b[0;34m+\u001b[0m\u001b[0;36m1\u001b[0m\u001b[0;34m,\u001b[0m \u001b[0mdtype\u001b[0m\u001b[0;34m=\u001b[0m\u001b[0mQ\u001b[0m\u001b[0;34m.\u001b[0m\u001b[0mdtype\u001b[0m\u001b[0;34m)\u001b[0m\u001b[0;34m\u001b[0m\u001b[0m\n\u001b[1;32m    211\u001b[0m             \u001b[0;32mfor\u001b[0m \u001b[0mi\u001b[0m\u001b[0;34m,\u001b[0m \u001b[0mv\u001b[0m \u001b[0;32min\u001b[0m \u001b[0menumerate\u001b[0m\u001b[0;34m(\u001b[0m\u001b[0mvs\u001b[0m\u001b[0;34m)\u001b[0m\u001b[0;34m:\u001b[0m\u001b[0;34m\u001b[0m\u001b[0m\n\u001b[0;32m--> 212\u001b[0;31m                 \u001b[0malpha\u001b[0m \u001b[0;34m=\u001b[0m \u001b[0mdot\u001b[0m\u001b[0;34m(\u001b[0m\u001b[0mv\u001b[0m\u001b[0;34m,\u001b[0m \u001b[0mv_new\u001b[0m\u001b[0;34m)\u001b[0m\u001b[0;34m\u001b[0m\u001b[0m\n\u001b[0m\u001b[1;32m    213\u001b[0m                 \u001b[0mhcur\u001b[0m\u001b[0;34m[\u001b[0m\u001b[0mi\u001b[0m\u001b[0;34m]\u001b[0m \u001b[0;34m=\u001b[0m \u001b[0malpha\u001b[0m\u001b[0;34m\u001b[0m\u001b[0m\n\u001b[1;32m    214\u001b[0m                 \u001b[0mv_new\u001b[0m \u001b[0;34m=\u001b[0m \u001b[0maxpy\u001b[0m\u001b[0;34m(\u001b[0m\u001b[0mv\u001b[0m\u001b[0;34m,\u001b[0m \u001b[0mv_new\u001b[0m\u001b[0;34m,\u001b[0m \u001b[0mv\u001b[0m\u001b[0;34m.\u001b[0m\u001b[0mshape\u001b[0m\u001b[0;34m[\u001b[0m\u001b[0;36m0\u001b[0m\u001b[0;34m]\u001b[0m\u001b[0;34m,\u001b[0m \u001b[0;34m-\u001b[0m\u001b[0malpha\u001b[0m\u001b[0;34m)\u001b[0m  \u001b[0;31m# v_new -= alpha*v\u001b[0m\u001b[0;34m\u001b[0m\u001b[0m\n",
      "\u001b[0;31mKeyboardInterrupt\u001b[0m: "
     ]
    }
   ],
   "source": [
    "ssLt, info = calculate_steadystate(H, L_tidy, fill_factor=500, persistent=False)\n",
    "print time.time()-ti\n",
    "rho_size = ssL.shape[0]**2"
   ]
  },
  {
   "cell_type": "code",
   "execution_count": 11,
   "metadata": {},
   "outputs": [
    {
     "data": {
      "image/png": "[encoded data removed]",
      "text/plain": [
       "<matplotlib.figure.Figure at 0x7f878d96b850>"
      ]
     },
     "metadata": {},
     "output_type": "display_data"
    },
    {
     "data": {
      "image/png": "[encoded data removed]",
      "text/plain": [
       "<matplotlib.figure.Figure at 0x7f878d960890>"
      ]
     },
     "metadata": {},
     "output_type": "display_data"
    }
   ],
   "source": [
    "visualise_sparse(L)\n",
    "visualise_sparse(L_tidy)"
   ]
  },
  {
   "cell_type": "code",
   "execution_count": 7,
   "metadata": {},
   "outputs": [
    {
     "name": "stdout",
     "output_type": "stream",
     "text": [
      "545465\n",
      "243001\n",
      "16777216\n",
      "3.25122475624\n",
      "1.44839882851\n"
     ]
    }
   ],
   "source": [
    "print nonzero_elements(L)\n",
    "print nonzero_elements(L_tidy)\n",
    "print total_elements(L)\n",
    "print 100*float(nonzero_elements(L))/total_elements(L)\n",
    "print 100*float(nonzero_elements(L_tidy))/total_elements(L)"
   ]
  },
  {
   "cell_type": "code",
   "execution_count": 12,
   "metadata": {},
   "outputs": [
    {
     "name": "stdout",
     "output_type": "stream",
     "text": [
      "Total error per nz dm element due to chop: (-4.47954201036e-09+3.23117426779e-26j)\n"
     ]
    },
    {
     "data": {
      "image/png": "[encoded data removed]",
      "text/plain": [
       "<matplotlib.figure.Figure at 0x7f878db4c550>"
      ]
     },
     "metadata": {},
     "output_type": "display_data"
    },
    {
     "data": {
      "image/png": "[encoded data removed]",
      "text/plain": [
       "<matplotlib.figure.Figure at 0x7f878d96b9d0>"
      ]
     },
     "metadata": {},
     "output_type": "display_data"
    }
   ],
   "source": [
    "print \"Total error per nz dm element due to chop: {}\".format(np.sum(ssL.full()-ssLt.full())/nonzero_elements(ssL)) \n",
    "\n",
    "visualise_dense(ssL)\n",
    "visualise_dense(ssLt)\n"
   ]
  },
  {
   "cell_type": "markdown",
   "metadata": {},
   "source": [
    "# For N=6, with no "
   ]
  },
  {
   "cell_type": "code",
   "execution_count": 4,
   "metadata": {
    "code_folding": [],
    "collapsed": true
   },
   "outputs": [],
   "source": [
    "from heatmap_setup import steadystate\n",
    "\n",
    "w_2 = 8000.\n",
    "alpha = 20.\n",
    "\n",
    "N = 6\n",
    "pap = alpha_to_pialpha_prop(alpha, w_2)\n",
    "PARAMS = PARAMS_setup(bias=100., w_2=8000., V = 100., pialpha_prop=pap,\n",
    "                                 T_EM=6000., T_ph =300.,\n",
    "                                 alpha_EM=0.1, shift=True,\n",
    "                                 num_cpus=3, N=N, Gamma=200., w_0=300.,\n",
    "                                 silent=True, exc_diff=N)\n",
    "from numpy.linalg import norm\n",
    "def estimateCondition(M):\n",
    "    vec = np.ones((1, M.shape[0])).T\n",
    "    return norm(M.dot(vec), np.inf)"
   ]
  },
  {
   "cell_type": "code",
   "execution_count": 6,
   "metadata": {},
   "outputs": [
    {
     "name": "stdout",
     "output_type": "stream",
     "text": [
      "The operators took 0.415843009949 and have dimension 16.\n",
      "Building the RC Liouvillian took 0.432 seconds.\n",
      "****************************************************************\n",
      "It is 256by256. The full basis would be 256by256\n",
      "It took  0.475606918335  seconds to build the Non-secular RWA Liouvillian\n",
      "direct 0.0080771446228\n",
      "power 0.0109710693359\n",
      "The operators took 0.76158118248 and have dimension 36.\n",
      "Building the RC Liouvillian took 0.771 seconds.\n",
      "****************************************************************\n",
      "It is 1296by1296. The full basis would be 1296by1296\n",
      "It took  0.791532993317  seconds to build the Non-secular RWA Liouvillian\n",
      "direct 0.0664381980896\n",
      "power 0.0514991283417\n",
      "The operators took 1.81962299347 and have dimension 64.\n",
      "Building the RC Liouvillian took 1.828 seconds.\n",
      "****************************************************************\n",
      "It is 4096by4096. The full basis would be 4096by4096\n",
      "It took  2.04300689697  seconds to build the Non-secular RWA Liouvillian\n",
      "direct 1.30432486534\n",
      "power 0.381060123444\n",
      "The operators took 5.55640602112 and have dimension 100.\n",
      "Building the RC Liouvillian took 5.564 seconds.\n",
      "****************************************************************\n",
      "It is 10000by10000. The full basis would be 10000by10000\n",
      "It took  4.91552400589  seconds to build the Non-secular RWA Liouvillian\n",
      "direct 12.2180740833\n",
      "power 2.63252401352\n",
      "The operators took 10.9678199291 and have dimension 144.\n",
      "Building the RC Liouvillian took 10.976 seconds.\n",
      "****************************************************************\n",
      "It is 20736by20736. The full basis would be 20736by20736\n",
      "It took  9.35163402557  seconds to build the Non-secular RWA Liouvillian\n",
      "direct 148.720910072\n",
      "power 9.23729300499\n",
      "The operators took 25.5134317875 and have dimension 196.\n",
      "Building the RC Liouvillian took 25.524 seconds.\n",
      "****************************************************************\n",
      "It is 38416by38416. The full basis would be 38416by38416\n",
      "It took  18.8549129963  seconds to build the Non-secular RWA Liouvillian\n",
      "direct 727.177487135\n"
     ]
    },
    {
     "ename": "Exception",
     "evalue": "Failed to find steady state after 10000 iterations",
     "output_type": "error",
     "traceback": [
      "\u001b[0;31m---------------------------------------------------------------------------\u001b[0m",
      "\u001b[0;31mException\u001b[0m                                 Traceback (most recent call last)",
      "\u001b[0;32m<ipython-input-6-50d0df835d57>\u001b[0m in \u001b[0;36m<module>\u001b[0;34m()\u001b[0m\n\u001b[1;32m     58\u001b[0m     \u001b[0;32mreturn\u001b[0m \u001b[0mN_vals\u001b[0m\u001b[0;34m,\u001b[0m \u001b[0mdata_dict\u001b[0m\u001b[0;34m,\u001b[0m \u001b[0minfo_dict\u001b[0m\u001b[0;34m\u001b[0m\u001b[0m\n\u001b[1;32m     59\u001b[0m \u001b[0;34m\u001b[0m\u001b[0m\n\u001b[0;32m---> 60\u001b[0;31m \u001b[0mN_vals\u001b[0m\u001b[0;34m,\u001b[0m \u001b[0mdata_dict\u001b[0m\u001b[0;34m,\u001b[0m \u001b[0minfo_dict\u001b[0m \u001b[0;34m=\u001b[0m \u001b[0mmethod_comparison\u001b[0m\u001b[0;34m(\u001b[0m\u001b[0;36m2\u001b[0m\u001b[0;34m,\u001b[0m\u001b[0;36m8\u001b[0m\u001b[0;34m)\u001b[0m\u001b[0;34m\u001b[0m\u001b[0m\n\u001b[0m",
      "\u001b[0;32m<ipython-input-6-50d0df835d57>\u001b[0m in \u001b[0;36mmethod_comparison\u001b[0;34m(N_i, N_f, plot)\u001b[0m\n\u001b[1;32m     33\u001b[0m                 ss, full_info = steadystate(H[1], [L], method=method, M=M,\n\u001b[1;32m     34\u001b[0m                                            \u001b[0muse_precond\u001b[0m\u001b[0;34m=\u001b[0m\u001b[0mTrue\u001b[0m\u001b[0;34m,\u001b[0m \u001b[0muse_rcm\u001b[0m\u001b[0;34m=\u001b[0m\u001b[0mTrue\u001b[0m\u001b[0;34m,\u001b[0m\u001b[0;34m\u001b[0m\u001b[0m\n\u001b[0;32m---> 35\u001b[0;31m                                            return_info=True, tol=1e-8, maxiter=10000)\n\u001b[0m\u001b[1;32m     36\u001b[0m \u001b[0;34m\u001b[0m\u001b[0m\n\u001b[1;32m     37\u001b[0m                 \u001b[0;32mprint\u001b[0m \u001b[0mmethod\u001b[0m\u001b[0;34m,\u001b[0m \u001b[0mfull_info\u001b[0m\u001b[0;34m[\u001b[0m\u001b[0;34m'solution_time'\u001b[0m\u001b[0;34m]\u001b[0m\u001b[0;34m\u001b[0m\u001b[0m\n",
      "\u001b[0;32m/home/henry/anaconda2/envs/qutip/lib/python2.7/site-packages/qutip/steadystate.pyc\u001b[0m in \u001b[0;36msteadystate\u001b[0;34m(A, c_op_list, **kwargs)\u001b[0m\n\u001b[1;32m    248\u001b[0m     elif ss_args['method'] in ['power', 'power-gmres',\n\u001b[1;32m    249\u001b[0m                             'power-lgmres', 'power-bicgstab']:\n\u001b[0;32m--> 250\u001b[0;31m         \u001b[0;32mreturn\u001b[0m \u001b[0m_steadystate_power\u001b[0m\u001b[0;34m(\u001b[0m\u001b[0mA\u001b[0m\u001b[0;34m,\u001b[0m \u001b[0mss_args\u001b[0m\u001b[0;34m)\u001b[0m\u001b[0;34m\u001b[0m\u001b[0m\n\u001b[0m\u001b[1;32m    251\u001b[0m \u001b[0;34m\u001b[0m\u001b[0m\n\u001b[1;32m    252\u001b[0m     \u001b[0;32melse\u001b[0m\u001b[0;34m:\u001b[0m\u001b[0;34m\u001b[0m\u001b[0m\n",
      "\u001b[0;32m/home/henry/anaconda2/envs/qutip/lib/python2.7/site-packages/qutip/steadystate.pyc\u001b[0m in \u001b[0;36m_steadystate_power\u001b[0;34m(L, ss_args)\u001b[0m\n\u001b[1;32m    810\u001b[0m     \u001b[0;32mif\u001b[0m \u001b[0mit\u001b[0m \u001b[0;34m>=\u001b[0m \u001b[0mmaxiter\u001b[0m\u001b[0;34m:\u001b[0m\u001b[0;34m\u001b[0m\u001b[0m\n\u001b[1;32m    811\u001b[0m         raise Exception('Failed to find steady state after ' +\n\u001b[0;32m--> 812\u001b[0;31m                         str(maxiter) + ' iterations')\n\u001b[0m\u001b[1;32m    813\u001b[0m     \u001b[0m_power_end\u001b[0m \u001b[0;34m=\u001b[0m \u001b[0mtime\u001b[0m\u001b[0;34m.\u001b[0m\u001b[0mtime\u001b[0m\u001b[0;34m(\u001b[0m\u001b[0;34m)\u001b[0m\u001b[0;34m\u001b[0m\u001b[0m\n\u001b[1;32m    814\u001b[0m     \u001b[0mss_args\u001b[0m\u001b[0;34m[\u001b[0m\u001b[0;34m'info'\u001b[0m\u001b[0;34m]\u001b[0m\u001b[0;34m[\u001b[0m\u001b[0;34m'solution_time'\u001b[0m\u001b[0;34m]\u001b[0m \u001b[0;34m=\u001b[0m \u001b[0m_power_end\u001b[0m\u001b[0;34m-\u001b[0m\u001b[0m_power_start\u001b[0m\u001b[0;34m\u001b[0m\u001b[0m\n",
      "\u001b[0;31mException\u001b[0m: Failed to find steady state after 10000 iterations"
     ]
    }
   ],
   "source": [
    "from qutip import build_preconditioner\n",
    "\n",
    "def method_plotter(N_vals, data_dict, info_dict):\n",
    "    f, (ax1, ax2) = plt.subplots(2,1, figsize=(10,7))\n",
    "    for i, key in enumerate(data_dict.keys()):\n",
    "        ax1.plot(N_vals, data_dict[key], label=key, color=colourWheel[i])\n",
    "        print info_dict[key]\n",
    "        ax2.plot(N_vals, info_dict[key], label=key, color=colourWheel[i])\n",
    "    plt.legend()\n",
    "    ax1.set_ylabel(\"Coherence\")\n",
    "    ax2.set_ylabel(\"Solution time\")\n",
    "    plt.show()\n",
    "\n",
    "\n",
    "def method_comparison(N_i, N_f, plot=True):\n",
    "    methods = ['direct','power']\n",
    "    data_dict = dict()\n",
    "    info_dict = dict()\n",
    "    N_vals = range(N_i, N_f)\n",
    "    for N in N_vals:\n",
    "        PARAMS.update({'N_1':N, 'N_2':N, 'exc_diff':int(1.5*N)})\n",
    "        H, L = get_H_and_L(PARAMS,silent=False, threshold=1e-7)\n",
    "        exps = make_expectation_operators(PARAMS)\n",
    "        for method in methods:\n",
    "            try:\n",
    "                M=None\n",
    "                if \"iterative\" in method:\n",
    "                    ti = time.time()\n",
    "                    M = build_preconditioner(H[1], [L], fill_factor=1000,\n",
    "                                           drop_tol=1e-4, use_rcm=True, ILU_MILU='smilu_2')\n",
    "                    print \"Building preconditioner ({}) took {} seconds\".format(estimateCondition(M), \n",
    "                                                                                     time.time()-ti)\n",
    "                ss, full_info = steadystate(H[1], [L], method=method, M=M,\n",
    "                                           use_precond=True, use_rcm=True, \n",
    "                                           return_info=True, tol=1e-8, maxiter=10000)\n",
    "\n",
    "                print method, full_info['solution_time']\n",
    "                info = full_info['solution_time']\n",
    "\n",
    "                coh = (exps['site_coherence']*ss).tr()\n",
    "                try:\n",
    "                    data_dict[method].append(coh)\n",
    "                    info_dict[method].append(info)\n",
    "                except KeyError:\n",
    "                    data_dict[method] = [coh]\n",
    "                    info_dict[method] = [info]\n",
    "            except Exception as err:\n",
    "                raise\n",
    "                print \"{} failed due to : {}\".format(method, err)\n",
    "                try:\n",
    "                    data_dict[method].append(None)\n",
    "                    info_dict[method].append(None)\n",
    "                except KeyError:\n",
    "                    data_dict[method] = [None]\n",
    "                    info_dict[method] = [None]\n",
    "    if plot:\n",
    "        method_plotter(N_vals, data_dict, info_dict)\n",
    "    return N_vals, data_dict, info_dict\n",
    "\n",
    "N_vals, data_dict, info_dict = method_comparison(2,8)"
   ]
  },
  {
   "cell_type": "markdown",
   "metadata": {
    "heading_collapsed": true
   },
   "source": [
    "# Plotting methods"
   ]
  },
  {
   "cell_type": "code",
   "execution_count": null,
   "metadata": {
    "collapsed": true,
    "hidden": true
   },
   "outputs": [],
   "source": [
    "def steadystate_observable(ss_array, PARAMS, observable):\n",
    "    try:\n",
    "        size = (len(PARAMS['y_values']), len(PARAMS['x_values']))\n",
    "    except KeyError:\n",
    "        size = (1,1)\n",
    "    # deal with the case where N is being changed as an x value\n",
    "    if 'N_1' in PARAMS['x_axis_parameters']:\n",
    "        data_array = np.zeros(size)         # Collect data\n",
    "        N_values = PARAMS['x_values']\n",
    "        # NEw observable operator for each N value\n",
    "        for i, N in enumerate(N_values):\n",
    "            PARAMS.update({'N_1' : N, 'N_2' : N})\n",
    "            exc = N+PARAMS['exc_diff']\n",
    "            # Leave it so exc can be fixed or a y_parameter\n",
    "            if 'exc' in PARAMS['x_axis_parameters']:\n",
    "                PARAMS.update({'exc': exc})\n",
    "            _obs_op = make_expectation_operators(PARAMS)[observable]\n",
    "            for j, y in enumerate(PARAMS['y_values']):\n",
    "                # the case where exc is on the y axis\n",
    "                if 'exc_diff' in PARAMS['y_axis_parameters']:\n",
    "                    PARAMS.update({'exc': N+y})\n",
    "                    _obs_op = make_expectation_operators(PARAMS)[observable]\n",
    "                try:\n",
    "                    print ss_array[j][i].shape, _obs_op.shape\n",
    "                    data_array[j][i] = (qt.Qobj(ss_array[j][i])*_obs_op).tr().real\n",
    "                except AttributeError:\n",
    "                    data_array[j][i] = np.nan\n",
    "        return data_array\n",
    "    else:\n",
    "        # Much simpler if N isn't on the x-axis\n",
    "        obs_op = make_expectation_operators(PARAMS)[observable]\n",
    "        f = lambda x: (qt.Qobj(x)*obs_op).tr()\n",
    "        ss_array = np.reshape(ss_array, (1, size[0]*size[1]))[0]\n",
    "\n",
    "        data_array = map(f, ss_array)\n",
    "        data_array = np.array(data_array).reshape(size).real\n",
    "        return data_array\n",
    "\n",
    "\n",
    "def heatmap_plotter(num, plot_SD=True, dir_name=\"heatmap\", \n",
    "                     print_params=False, observable='sigma_x', \n",
    "                    reverse_x=True):\n",
    "    \n",
    "    directory = 'DATA/'+dir_name+'_'+str(num)\n",
    "    ss_array = load_obj(directory+'/ss_array')\n",
    "    PARAMS = load_obj(directory+'/PARAMS')\n",
    "    info_array = load_obj(directory+'/info_array') # reverse ordering -> lower_N-higher_N\n",
    "    info = info_array[0][0]\n",
    "    \n",
    "    try:\n",
    "        # To catch an old bug where these were in \"info\" not in PARAMS\n",
    "        keys = ['x_values', 'y_values', 'y_axis_parameters', 'x_axis_parameters']\n",
    "        PARAMS.update(dict((key, info[key]) for key in keys))\n",
    "    except Exception as err:\n",
    "        print \"new style\"\n",
    "    if plot_SD:\n",
    "        plot_UD_SD(PARAMS[\"Gamma_1\"], PARAMS[\"alpha_1\"], PARAMS[\"w0_1\"], eps=2000.)\n",
    "    \n",
    "    ss_array = steadystate_observable(ss_array, PARAMS, observable)\n",
    "\n",
    "    \n",
    "    f, axes = plt.subplots(1,1, figsize=(13,6))\n",
    "    for i, y_val in enumerate(PARAMS['y_values']):\n",
    "        x_values = PARAMS['x_values']\n",
    "        if reverse_x:\n",
    "            x_values = x_values[::-1]\n",
    "        axes.plot(x_values, ss_array[i], \n",
    "                  label=str(PARAMS['y_axis_parameters'])+\"=\"+str(y_val))\n",
    "    \n",
    "    print_PARAMS(PARAMS)\n",
    "    \n",
    "    plt.xlabel(', '.join(PARAMS['x_axis_parameters']))\n",
    "    plt.ylabel(\"Steadystate \"+observable)\n",
    "    #plt.ylabel(', '.join(info['y_axis_parameters']))\n",
    "    plt.legend()\n",
    "    plt.grid()\n",
    "    plot_filename = 'PLOTS/'+dir_name+'_'+str(num)+'.pdf'\n",
    "    plt.savefig(plot_filename)\n",
    "    print \"saved at {}\".format(plot_filename)\n",
    "    plt.show()"
   ]
  },
  {
   "cell_type": "code",
   "execution_count": null,
   "metadata": {
    "collapsed": true,
    "hidden": true
   },
   "outputs": [],
   "source": [
    "heatmap_plotter(2, plot_SD=False, dir_name='heatmap_excvN', \n",
    "                     print_params=False, observable='sigma_x', \n",
    "                    reverse_x=True)"
   ]
  },
  {
   "cell_type": "code",
   "execution_count": null,
   "metadata": {
    "collapsed": true,
    "hidden": true
   },
   "outputs": [],
   "source": []
  }
 ],
 "metadata": {
  "kernelspec": {
   "display_name": "Python 2",
   "language": "python",
   "name": "python2"
  },
  "language_info": {
   "codemirror_mode": {
    "name": "ipython",
    "version": 2
   },
   "file_extension": ".py",
   "mimetype": "text/x-python",
   "name": "python",
   "nbconvert_exporter": "python",
   "pygments_lexer": "ipython2",
   "version": "2.7.13"
  }
 },
 "nbformat": 4,
 "nbformat_minor": 2
}
