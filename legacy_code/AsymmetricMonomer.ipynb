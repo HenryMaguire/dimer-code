{
 "cells": [
  {
   "cell_type": "markdown",
   "metadata": {
    "deletable": true,
    "editable": true
   },
   "source": [
    "# Assymetrical monomers\n",
    "\n",
    "I expect that a TLS with an RC at both the ground and excited state with different oscillator frequencies will lead to different absorption and emission transition rates at zero electromagnetic temperature. This will be completely ignored in the additive theory. How exactly is best to observe this is yet to be ironed out. "
   ]
  },
  {
   "cell_type": "code",
   "execution_count": 34,
   "metadata": {
    "collapsed": true,
    "deletable": true,
    "editable": true
   },
   "outputs": [],
   "source": [
    "import time\n",
    "\n",
    "from qutip import ket, mesolve, qeye, tensor, thermal_dm, destroy, steadystate, displace\n",
    "import qutip as qt\n",
    "import matplotlib.pyplot as plt\n",
    "import numpy as np\n",
    "from numpy import pi, sqrt\n",
    "import scipy as sp\n",
    "\n",
    "plt.style.use('ggplot')\n",
    "plt.rcParams[\"axes.grid\"] = True\n",
    "plt.rcParams[\"axes.edgecolor\"] = \"0.15\"\n",
    "plt.rcParams[\"axes.linewidth\"]  = 1.5\n",
    "plt.rcParams['axes.facecolor'] = 'white'\n",
    "plt.rcParams['font.size'] = 13\n",
    "plt.rcParams['legend.fontsize'] = 'large'\n",
    "plt.rcParams['figure.titlesize'] = 'medium'\n",
    "\n",
    "from phonons import RC_mapping_UD\n",
    "from qutip import basis, qeye, enr_identity, enr_destroy, tensor, enr_thermal_dm\n",
    "from utils import *\n",
    "import tests as check\n",
    "import phonons\n"
   ]
  },
  {
   "cell_type": "code",
   "execution_count": 56,
   "metadata": {
    "collapsed": false
   },
   "outputs": [],
   "source": [
    "def ham_RC(H, CO1, CO2, COEM, \n",
    "           Omega_1, Omega_2, \n",
    "           kap_1, kap_2,\n",
    "           N_1, N_2, exc):\n",
    "    \"\"\" Builds RC Hamiltonian in excitation restricted subspace\n",
    "\n",
    "    Input: System splitting, RC freq., system-RC coupling\n",
    "    and Hilbert space dimension Output: Hamiltonian, all\n",
    "    collapse operators in the vibronic Hilbert space\n",
    "    \"\"\"\n",
    "    \n",
    "    #I_RC_1 = qeye(N_1)\n",
    "    #I_RC_2 = qeye(N_2)\n",
    "    I_dim = qeye(H.shape[0])\n",
    "    I = enr_identity([N_1,N_2], exc)\n",
    "    shift1, shift2 = (kap_1**2)/Omega_1, (kap_2**2)/Omega_2\n",
    "    H_sub = H\n",
    "    \n",
    "    H_sub += shift1*(CO1*CO1)\n",
    "    H_sub += shift2*(CO2*CO2)\n",
    "    \n",
    "    #shift1, shift2 = (kap_1**2)/Omega_1, (kap_2**2)/Omega_2\n",
    "    #print H_dim_sub\n",
    "    H_RC = tensor(H_sub, I)\n",
    "\n",
    "    atemp = enr_destroy([N_1,N_2], exc)\n",
    "\n",
    "    a_RC_exc = [tensor(I_dim, aa) for aa in atemp] # annhilation ops in exc restr basis\n",
    "    A_1 = a_RC_exc[0].dag() + a_RC_exc[0]\n",
    "    A_2 = a_RC_exc[1].dag() + a_RC_exc[1]\n",
    "    H_I1 = kap_1*tensor(CO1, I)*A_1\n",
    "    H_I2 = kap_2*tensor(CO2, I)*A_2\n",
    "\n",
    "    H_RC1 = Omega_1*a_RC_exc[0].dag()*a_RC_exc[0]\n",
    "    H_RC2 = Omega_2*a_RC_exc[1].dag()*a_RC_exc[1]\n",
    "\n",
    "    H_S = H_RC + H_RC1 + H_RC2 + H_I1 + H_I2\n",
    "    return [H_sub, H_S], A_1, A_2, tensor(COEM, I)\n",
    "\n",
    "\"\"\"print ham_RC(H, homo, lumo, sigma_x, \n",
    "           w0_h, w0_l, \n",
    "           1., 1.,\n",
    "           N_h, N_l, exc)\"\"\"\n",
    "\n",
    "def RC_mapping(H, CO1, CO2, COEM, args, silent=False):\n",
    "\n",
    "    # we define all of the RC parameters by the underdamped spectral density\n",
    "    T_1, T_2 = args['T_1'], args['T_2']\n",
    "    wRC_1, wRC_2, alpha_1, alpha_2= args['w0_1'], args['w0_2'], args['alpha_1'], args['alpha_2']\n",
    "    N_1, N_2, exc = args['N_1'], args['N_2'], args['exc']\n",
    "    Gamma_1, Gamma_2 = args['Gamma_1'], args['Gamma_2']\n",
    "    gamma_1 = Gamma_1 / (2. * np.pi * wRC_1)\n",
    "    kappa_1 = np.sqrt(np.pi * alpha_1 * wRC_1 / 2.)  # coupling strength between the TLS and RC\n",
    "\n",
    "    gamma_2 = Gamma_2 / (2. * np.pi * wRC_2)\n",
    "    kappa_2 = np.sqrt(np.pi * alpha_2 * wRC_2 / 2.)\n",
    "    args.update({'gamma_1': gamma_1, 'gamma_2': gamma_2, 'w0_1': wRC_1,\n",
    "                    'w0_2': wRC_2, 'kappa_1':kappa_1, 'kappa_2':kappa_2})\n",
    "    #print args\n",
    "    H, A_1, A_2, COEM_RC = ham_RC(H, CO1, CO2, COEM, wRC_1, wRC_2, kappa_1, kappa_2, N_1, N_2, exc)\n",
    "    L_RC =  phonons.liouvillian_build(H[1], A_1, A_2, gamma_1, gamma_2,  wRC_1, wRC_2,\n",
    "                            T_1, T_2, num_cpus=args['num_cpus'], silent=silent)\n",
    "    full_size = (4*N_1*N_2)**2\n",
    "    if not silent:\n",
    "        print \"****************************************************************\"\n",
    "        note = (L_RC.shape[0], L_RC.shape[0], full_size, full_size)\n",
    "        print \"It is {}by{}. The full basis would be {}by{}\".format(L_RC.shape[0],\n",
    "                                            L_RC.shape[0], full_size, full_size)\n",
    "    return -L_RC, H, A_1, A_2, COEM_RC, args\n",
    "\n",
    "\n"
   ]
  },
  {
   "cell_type": "code",
   "execution_count": 132,
   "metadata": {
    "collapsed": false
   },
   "outputs": [
    {
     "name": "stdout",
     "output_type": "stream",
     "text": [
      "16.0 80.0\n",
      "The operators took 18.1247830391 and have dimension 128.\n",
      "Building the RC Liouvillian took 18.591 seconds.\n",
      "****************************************************************\n",
      "It is 16384by16384. The full basis would be 160000by160000\n"
     ]
    }
   ],
   "source": [
    "homo_ket = basis(2,0)\n",
    "lumo_ket = basis(2,1)\n",
    "homo = homo_ket*homo_ket.dag()\n",
    "lumo = lumo_ket*lumo_ket.dag()\n",
    "\n",
    "sigma_m = homo_ket*lumo_ket.dag()\n",
    "sigma_x = sigma_m + sigma_m.dag()\n",
    "\n",
    "epsilon = 8000.\n",
    "T_ph= 300. # Phonon bath temperature\n",
    "\n",
    "w0_h, w0_l = 500., 100. # underdamped SD parameter omega_0\n",
    "Gamma_h = 50.\n",
    "Gamma_l = 50.\n",
    "alpha_h = 10.\n",
    "alpha_l = 10.\n",
    "\n",
    "print epsilon/w0_h, epsilon/w0_l\n",
    "\n",
    "N_h, N_l = 10, 10 # set Hilbert space sizes\n",
    "exc = N_l\n",
    "I_s = qeye(2)\n",
    "I = enr_identity([N_h, N_l], exc)\n",
    "\n",
    "num_cpus = 1\n",
    "J = J_multipolar\n",
    "num_cpus = 1\n",
    "bath_args = {'T_1': T_ph, 'T_2': T_ph, \n",
    "             'w0_1': w0_h, 'w0_2': w0_l, \n",
    "             'Gamma_1': Gamma_h, 'Gamma_2': Gamma_l,\n",
    "             'alpha_1': alpha_h, 'alpha_2': alpha_l,\n",
    "             'N_1':N_h, 'N_2':N_l, 'exc':exc, 'num_cpus':1}\n",
    "\n",
    "H = epsilon*lumo\n",
    "L_RC, H_RC, RC_h_pos, RC_l_pos, sigma_x_RC, args = RC_mapping(H, homo, -lumo, sigma_x, bath_args, silent=False)\n"
   ]
  },
  {
   "cell_type": "code",
   "execution_count": 133,
   "metadata": {
    "collapsed": false
   },
   "outputs": [
    {
     "data": {
      "image/png": "[encoded data removed]",
      "text/plain": [
       "<matplotlib.figure.Figure at 0x115252ed0>"
      ]
     },
     "metadata": {},
     "output_type": "display_data"
    }
   ],
   "source": [
    "evals, evecs = H_RC[1].eigenstates()\n",
    "plt.scatter(evals, evals)\n",
    "plt.show()"
   ]
  },
  {
   "cell_type": "markdown",
   "metadata": {},
   "source": [
    "### Phenomenological assymmetry \n",
    "This would allow the system RC Hamiltonian to have assymmetry, but it's unclear how to get to this from first principles (before RC mapping)."
   ]
  },
  {
   "cell_type": "code",
   "execution_count": 134,
   "metadata": {
    "collapsed": false
   },
   "outputs": [
    {
     "data": {
      "image/png": "[encoded data removed]",
      "text/plain": [
       "<matplotlib.figure.Figure at 0x116c4ac50>"
      ]
     },
     "metadata": {},
     "output_type": "display_data"
    }
   ],
   "source": [
    "N, g, omega, delta  = 30, 1., 160, 160\n",
    "d = destroy(N)\n",
    "Hp = tensor(epsilon*lumo, qeye(N)) + g*tensor(lumo, d+d.dag())\n",
    "Hp += omega*tensor(qeye(2), d.dag()*d)+ delta*tensor(homo, d.dag()*d)\n",
    "evals_, evecs_ = Hp.eigenstates()\n",
    "plt.scatter(evals_, evals_)\n",
    "plt.show()"
   ]
  },
  {
   "cell_type": "markdown",
   "metadata": {},
   "source": [
    "The coupling of the adjacent states via the identity renders the eigensystem pretty well symmetric, regardless of the oscillator frequency difference. This is rather annoying and I don't know how to stop this from happening."
   ]
  },
  {
   "cell_type": "markdown",
   "metadata": {},
   "source": [
    "## Displacing the number-restricted thermal states \n",
    "We would like to be able to start the RCs off in their equilibrium configurations, which are displaced thermal states. A problem arises in excitation number restriction, but I think that we can just write the combined thermal density matrices, calculate displacment operators in the reduced basis and then "
   ]
  },
  {
   "cell_type": "code",
   "execution_count": 119,
   "metadata": {
    "collapsed": false
   },
   "outputs": [
    {
     "name": "stdout",
     "output_type": "stream",
     "text": [
      "Displacements: do they match? \n",
      "(-1.01356488332+0j) (0.177040485855+0j) 0.177245385091 0j (-0.375546015541+0j) -0.396332729761\n",
      "\n"
     ]
    }
   ],
   "source": [
    "\n",
    "def displacement_enr(disp_1, disp_2, N_1, N_2, exc):\n",
    "    # lets build displacement operators\n",
    "    atemp = enr_destroy([N_1,N_2], exc)\n",
    "    D_1 = (disp_1*atemp[0].dag() - disp_1.conjugate()*atemp[0]).expm()\n",
    "    D_2 = (disp_2*atemp[1].dag() - disp_2.conjugate()*atemp[1]).expm()\n",
    "    return D_1, D_2\n",
    "\n",
    "kappa_h, kappa_l = args['kappa_1'], args['kappa_2']\n",
    "disp_h, disp_l = kappa_h/w0_h, kappa_l/w0_l\n",
    "D_1, D_2 = displacement_enr(disp_h/4, -disp_l/4, N_h, N_l, exc)\n",
    "n_RC_1 = Occupation(w0_h, T_ph)\n",
    "n_RC_2 = Occupation(w0_l, T_ph)\n",
    "opts = qt.Options(num_cpus=num_cpus, store_states=True)\n",
    "ncolors = len(plt.rcParams['axes.prop_cycle'])\n",
    "thermal_RCs = enr_thermal_dm([N_h, N_l], exc, [n_RC_1, n_RC_2])\n",
    "thermal_RCs = D_2*(D_1*enr_thermal_dm([N_h, N_l], exc, [n_RC_1, n_RC_2])*D_1.dag())*(D_2.dag())\n",
    "#print thermal_RCs\n",
    "print \"Displacements: do they match? \"\n",
    "print (RC_h_pos*(-beta_f(T_ph)*H_RC[1]).expm()).tr(), (RC_h_pos*tensor(I_s, thermal_RCs)).tr(), disp_h, \n",
    "print (RC_l_pos*(-beta_f(T_ph)*H_RC[1]).expm()).tr(), (RC_l_pos*tensor(I_s, thermal_RCs)).tr(), -disp_l\n",
    "rho_0 = tensor(lumo, thermal_RCs)\n",
    "print \n",
    "#timelist = np.linspace(0,3,1000)\n",
    "timelist = np.linspace(0,0.2,6000)\n",
    "options = qt.solver.Options(nsteps=3000)"
   ]
  },
  {
   "cell_type": "markdown",
   "metadata": {},
   "source": []
  },
  {
   "cell_type": "code",
   "execution_count": null,
   "metadata": {
    "collapsed": true
   },
   "outputs": [],
   "source": []
  }
 ],
 "metadata": {
  "kernelspec": {
   "display_name": "Python 2",
   "language": "python",
   "name": "python2"
  },
  "language_info": {
   "codemirror_mode": {
    "name": "ipython",
    "version": 2
   },
   "file_extension": ".py",
   "mimetype": "text/x-python",
   "name": "python",
   "nbconvert_exporter": "python",
   "pygments_lexer": "ipython2",
   "version": "2.7.12"
  }
 },
 "nbformat": 4,
 "nbformat_minor": 2
}
