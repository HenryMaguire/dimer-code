{
 "cells": [
  {
   "cell_type": "code",
   "execution_count": 1,
   "metadata": {},
   "outputs": [
    {
     "name": "stdout",
     "output_type": "stream",
     "text": [
      "SES_setup loaded globally\n"
     ]
    }
   ],
   "source": [
    "%matplotlib inline \n",
    "import matplotlib\n",
    "import matplotlib.pyplot as plt\n",
    "\n",
    "import time\n",
    "import heatmap_setup as hm\n",
    "import numpy as np\n",
    "\n",
    "from SES_setup import *\n",
    "from utils import *\n",
    "from style import *"
   ]
  },
  {
   "cell_type": "code",
   "execution_count": 2,
   "metadata": {},
   "outputs": [],
   "source": [
    "plt.style.use('ggplot')\n",
    "plt.rcParams[\"axes.grid\"] = True\n",
    "plt.rcParams[\"axes.edgecolor\"] = \"0.15\"\n",
    "plt.rcParams[\"axes.linewidth\"]  = 1.5\n",
    "plt.rcParams['axes.facecolor'] = 'white'\n",
    "plt.rcParams['font.size'] = 18\n",
    "plt.rcParams['legend.fontsize'] = 'medium'\n",
    "plt.rcParams['figure.titlesize'] = 'medium'\n",
    "plt.rcParams['mathtext.fontset'] = 'stix'\n",
    "plt.rcParams['font.family'] = 'STIXGeneral'\n",
    "plt.rc('text', usetex=True)\n",
    "plt.rc('text.latex', preamble=r'\\usepackage{amsmath} \\usepackage{physics} ')\n",
    "colours = ['#1E90FF', '#3CB371', '#FFA500', '#FF0000']"
   ]
  },
  {
   "cell_type": "code",
   "execution_count": 51,
   "metadata": {},
   "outputs": [
    {
     "name": "stdout",
     "output_type": "stream",
     "text": [
      "177.2453850905516\n",
      "157.07963267948966 -157.07963267948963 0.125\n"
     ]
    }
   ],
   "source": [
    "alpha = 100.\n",
    "w0 = 200.\n",
    "shift_1 = pi*alpha/2\n",
    "kappa = np.sqrt(np.pi * alpha * w0 / 2.)\n",
    "print(kappa)\n",
    "Gamma = 100\n",
    "gamma = Gamma / (2. * np.pi * w0) \n",
    "shift_2 = - (kappa**2)/w0\n",
    "print(shift_1, shift_2, pi*gamma/2)"
   ]
  },
  {
   "cell_type": "code",
   "execution_count": 3,
   "metadata": {},
   "outputs": [],
   "source": [
    "def dark_bright_displacements(PARAMS):\n",
    "    \n",
    "    disp_2 = sqrt(pi*PARAMS['alpha_2']/(2*PARAMS['w0_2']))\n",
    "    eta = sqrt(PARAMS['bias']**2+4*PARAMS['V']**2)\n",
    "    coeff_m = (eta-PARAMS['bias'])/(2*eta)\n",
    "    coeff_p = (eta+PARAMS['bias'])/(2*eta)\n",
    "    \n",
    "    # dark 1&2, bright 1&2\n",
    "    return [disp_1*coeff_m, disp_2*coeff_p], [disp_1*coeff_p, disp_2*coeff_m]\n",
    "\n",
    "def polaron_eigenstates(PARAMS_):\n",
    "    disp_1 = sqrt(pi*PARAMS_['alpha_1']/(2*PARAMS_['w0_1']))\n",
    "    kappa_1 =  np.sqrt(np.pi * PARAMS_['alpha_1'] * PARAMS_['w0_1'] / 2.)\n",
    "    disp_2 = sqrt(pi*PARAMS_['alpha_2']/(2*PARAMS_['w0_2']))\n",
    "    kappa_2 =  np.sqrt(np.pi * PARAMS_['alpha_2'] * PARAMS_['w0_2'] / 2.)\n",
    "    B1 = np.exp(-(disp_1**2)/2)  # Coth(beta_f(PARAMS['T_1'])*PARAMS['w0_1']/2)*\n",
    "    B2 = np.exp(-(disp_2**2)/2) # Coth(beta_f(PARAMS['T_2'])*PARAMS['w0_2']/2)*\n",
    "    #B1, B2 = coherent_overlaps_plain(PARAMS)\n",
    "    \n",
    "    w_1, w_2 = PARAMS_['w_1'], PARAMS_['w_1']\n",
    "    shift_1, shift_2 = 0,0 #pi*PARAMS['alpha_1']/2, pi*PARAMS['alpha_2']/2\n",
    "    V = PARAMS_['V']\n",
    "    bias = PARAMS_['bias'] + shift_1 - shift_2\n",
    "    eta = sqrt(PARAMS_['bias']**2+4*PARAMS_['V']**2)\n",
    "    av_site_energy = (w_1+shift_1+w_2+shift_2)/2\n",
    "    \n",
    "    eta_polaron = sqrt(PARAMS_['bias']**2+4*B1*B2*(PARAMS_['V']**2))\n",
    "    disp_dark, disp_bright = dark_bright_displacements(PARAMS_)\n",
    "    second_order = ((2*V*bias*B1*B2/eta)**2)/eta\n",
    "    #print(second_order)\n",
    "    dark_energy = av_site_energy - (eta_polaron**2)/(2*eta) - second_order\n",
    "    #dark_energy += PARAMS['w0_1']*(disp_dark[0]**2)+PARAMS['w0_2']*(disp_dark[1]**2)\n",
    "    \n",
    "    bright_energy = av_site_energy + (eta_polaron**2)/(2*eta) + second_order\n",
    "    #bright_energy += PARAMS['w0_1']*(disp_bright[0]**2)+(PARAMS['w0_2']**2)*(disp_bright[1]**2)\n",
    "    eta_P = (eta_polaron**2)/eta\n",
    "    v_p = qt.Qobj(np.array([0., np.sqrt(eta_P+bias), np.sqrt(eta_P-bias)]))/np.sqrt(2*eta_P)\n",
    "    v_m = qt.Qobj(np.array([0., np.sqrt(eta_P-bias), -np.sqrt(eta_P+bias)]))/np.sqrt(2*eta_P)\n",
    "    \n",
    "    return [dark_energy, bright_energy], [v_m, v_p], eta_polaron\n",
    "\n"
   ]
  },
  {
   "cell_type": "code",
   "execution_count": 4,
   "metadata": {},
   "outputs": [],
   "source": [
    "\n",
    "\n",
    "\n",
    "def polaron_coherence(PARAMS):\n",
    "    energies, states, eta = polaron_eigenstates(PARAMS)\n",
    "    return states[0]*states[1].dag()\n",
    "\n",
    "def calculate_polaron_coherence(rho_list, phonons, PARAMS, wc=False):\n",
    "    pol_coh = []\n",
    "    for alpha, rho in zip( phonons, rho_list):\n",
    "        PARAMS.update({'alpha_1' : alpha, 'alpha_2' : alpha})\n",
    "        I = enr_identity([PARAMS['N_1'], PARAMS['N_2']], PARAMS['exc'])\n",
    "        if wc:\n",
    "            polaron_coherence_op = polaron_coherence(PARAMS)\n",
    "        else:\n",
    "            polaron_coherence_op = tensor(polaron_coherence(PARAMS), I)\n",
    "        pol_coh.append((polaron_coherence_op*rho).tr())\n",
    "    return np.array(pol_coh)\n",
    "\n",
    "def calculate_polaron_coherence_numerical(rho_list, phonons, PARAMS, wc=False):\n",
    "    \n",
    "    pol_coh = []\n",
    "    for alpha, rho in zip( phonons, rho_list):\n",
    "        PARAMS.update({'alpha_1' : alpha, 'alpha_2' : alpha})\n",
    "        H, phonon_operators, A_EM, PARAMS = get_H(PARAMS)\n",
    "        energies_dict, states_dict, phonon_occ_dict = separate_states(H[1], PARAMS, trunc=0.8)\n",
    "        if wc:\n",
    "            raise ValueError(\"NO WC functionality yet\")\n",
    "        else:\n",
    "            bright_ket = (sum(states_dict['bright'])/sum(states_dict['bright']).norm())\n",
    "            dark_ket = (sum(states_dict['dark'])/sum(states_dict['dark']).norm())\n",
    "            polaron_coherence_op = bright_ket*dark_ket.dag()\n",
    "        pol_coh.append((polaron_coherence_op*rho).tr())\n",
    "    return np.array(pol_coh)\n",
    "\n",
    "def calculate_expval(rho_list, op_list, obs='OO'):\n",
    "    return np.array([(op_list[i][obs]*rho).tr() for i, rho in enumerate(rho_list)])"
   ]
  },
  {
   "cell_type": "code",
   "execution_count": 20,
   "metadata": {},
   "outputs": [],
   "source": [
    "def calculate_coherence_4_theories(PARAMS, num, threshold=0.):\n",
    "    phonons = np.linspace(0.5, 20e-3*ev_to_inv_cm, 3)\n",
    "    \n",
    "    ti =time.time()\n",
    "    rho_add = []\n",
    "    rho_nonadd = []\n",
    "    rho_sec = []\n",
    "    rho_wc = []\n",
    "    \n",
    "    op_list = []\n",
    "    \n",
    "    for j, alpha in enumerate(phonons):\n",
    "        PARAMS.update({'alpha_1':alpha, 'alpha_2': alpha})\n",
    "        #energies, states = exciton_states(PARAMS)\n",
    "        H, L, PARAMS = get_H_and_L_add_and_sec(PARAMS,silent=True, threshold=0.)\n",
    "        H_wc, L_ns, L_s = get_H_and_L_wc(H[0], PARAMS)\n",
    "        rho_add.append(steadystate(H[1], [L['add']]))\n",
    "        rho_nonadd.append(steadystate(H[1], [L['nonadd']]))\n",
    "        rho_sec.append(steadystate(H[1], [L['sec']]))\n",
    "        rho_wc.append(steadystate(H[0], [L_ns])) # shift in wc LVN\n",
    "        op_list.append(make_expectation_operators(PARAMS))\n",
    "        if j in [1,10,20,30,40,49]:\n",
    "            print(alpha)\n",
    "        #print ss.diag()\n",
    "    data_dict = {}\n",
    "    filename = 'DATA/coherence/four_theories_{}'.format(num)\n",
    "    PARAM_names = ['rho_nonadd', 'rho_add', 'rho_sec',\n",
    "                   'rho_wc', 'op_list', 'phonons', 'PARAMS']\n",
    "    scope = locals() # Lets eval below use local variables, not global\n",
    "    data_dict.update(dict((name, eval(name, scope)) for name in PARAM_names))\n",
    "    print(\"Calculation took {} seconds\".format(time.time()-ti))\n",
    "    try:\n",
    "        save_obj(data_dict, filename)\n",
    "        print( \"Filename: \"+filename)\n",
    "    except Exception as e:\n",
    "        print(\"Could not save file because: {}\".format(e))\n",
    "    return data_dict\n",
    "\n",
    "\n",
    "def calculate_bias_dependence(PARAMS, num, threshold=0.):\n",
    "    phonons = np.array([6,12,18])*1e-3*ev_to_inv_cm\n",
    "    biases = np.linspace(0., 60e-3*ev_to_inv_cm, 60)\n",
    "    ti =time.time()\n",
    "    rho_add_list = []\n",
    "    rho_nonadd_list = []\n",
    "    rho_wc_list = []\n",
    "    op_list = []\n",
    "    \n",
    "    for alpha in phonons:\n",
    "        PARAMS.update({'alpha_1':alpha, 'alpha_2': alpha})\n",
    "        rho_nonadd = []\n",
    "        rho_add = []\n",
    "        rho_wc = []\n",
    "        opss = []\n",
    "        for j, bias in enumerate(biases):\n",
    "            #PARAMS = get_converged_N(PARAMS, err_threshold=5., min_N=3,max_N=11, silent=True, exc_diff_N=False)\n",
    "            PARAMS = PARAMS_update_bias(PARAMS_init=PARAMS, bias_value=bias)\n",
    "            \n",
    "            H, L, PARAMS = get_H_and_L(PARAMS,silent=True, threshold=0.)\n",
    "            H_wc, L_ns, L_s = get_H_and_L_wc(H[0], PARAMS)\n",
    "            rho_nonadd.append(steadystate(H[1], [L['nonadd']]))\n",
    "            rho_add.append(steadystate(H[1], [L['add']]))\n",
    "            rho_wc.append(steadystate(H[0], [L_ns])) # shift in wc LVN\n",
    "            opss.append(make_expectation_operators(PARAMS))\n",
    "            if j in [1,10,20,30,40,49]:\n",
    "                print(alpha)\n",
    "            #print ss.diag()\n",
    "        rho_nonadd_list.append(rho_nonadd)\n",
    "        rho_add_list.append(rho_add)\n",
    "        rho_wc_list.append(rho_wc)\n",
    "        op_list.append(opss)\n",
    "    data_dict = {}\n",
    "    filename = 'DATA/coherence/bias_{}'.format(num)\n",
    "    PARAM_names = ['rho_nonadd_list', 'rho_add_list', 'rho_wc_list', 'biases',\n",
    "                    'op_list', 'phonons', 'PARAMS']\n",
    "    scope = locals() # Lets eval below use local variables, not global\n",
    "    data_dict.update(dict((name, eval(name, scope)) for name in PARAM_names))\n",
    "    print(\"Calculation took {} seconds\".format(time.time()-ti))\n",
    "    try:\n",
    "        save_obj(data_dict, filename)\n",
    "        print( \"Filename: \"+filename)\n",
    "    except Exception as e:\n",
    "        print(\"Could not save file because: {}\".format(e))\n",
    "    return data_dict\n"
   ]
  },
  {
   "cell_type": "code",
   "execution_count": 12,
   "metadata": {},
   "outputs": [],
   "source": [
    "def plot_all_four_theories_dark(data_dict, figname='nothing'):\n",
    "    phonons = data_dict['phonons']\n",
    "    wc_ops = [make_expectation_operators(data_dict['PARAMS'], \n",
    "                                         weak_coupling=True)]*len(data_dict['phonons'])\n",
    "    dat_nonadd = np.abs(calculate_expval(data_dict['rho_nonadd'], \n",
    "                                                           data_dict['op_list'], \n",
    "                                                           obs='dark'))\n",
    "    dat_add = np.abs(calculate_expval(data_dict['rho_add'], \n",
    "                                                           data_dict['op_list'], \n",
    "                                                           obs='dark'))\n",
    "    print(dat_nonadd[-1], dat_add[-1], 100*(dat_add[-1]-dat_nonadd[-1])/dat_add[-1])\n",
    "    plt.plot(phonons, dat_nonadd, label=r\"$\\dyad{+}{-}$\", color=colours[1])\n",
    "    plt.plot(phonons, dat_add, color=colours[1], ls='dashed')\n",
    "    \n",
    "    #dat = np.abs(calculate_polaron_coherence_numerical(data_dict['rho_nonadd'], \n",
    "    #                                                       phonons, data_dict['PARAMS']))\n",
    "    #plt.plot(phonons, dat, label=r\"$\\dyad{\\psi_+}{\\psi_-}$\", color=colours[0])\n",
    "    #plt.plot(phonons, np.abs(calculate_polaron_coherence_numerical(data_dict['rho_add'], \n",
    "    #                                                       phonons, data_dict['PARAMS'])), \n",
    "    #                                                     color=colours[0], ls='dashed')\n",
    "    plt.subplots_adjust(left=0.14, bottom=0.2, right=0.95, top=0.95, wspace=0.25, hspace=0.08)\n",
    "    #plt.legend()\n",
    "    plt.xlim(phonons[0], phonons[-1])\n",
    "    plt.xlabel(r'$\\alpha_1, \\alpha_2$ (meV)')\n",
    "    plt.ylabel(r'$\\rho_{-}^{ss}$')\n",
    "    name= 'PLOTS/'+figname+'.pdf'\n",
    "    plt.savefig(name)\n",
    "    print(name)"
   ]
  },
  {
   "cell_type": "code",
   "execution_count": 13,
   "metadata": {},
   "outputs": [
    {
     "name": "stdout",
     "output_type": "stream",
     "text": [
      "0.09612264252459611 0.09764371331623964 1.5577764711970972\n",
      "PLOTS/PAPER/four_theories_UD_dark.pdf\n"
     ]
    },
    {
     "data": {
      "image/png": "[encoded data removed]",
      "text/plain": [
       "<Figure size 432x288 with 1 Axes>"
      ]
     },
     "metadata": {},
     "output_type": "display_data"
    }
   ],
   "source": [
    "def plot_all_four_theories(data_dict, figname='nothing'):\n",
    "    phonons = data_dict['phonons']\n",
    "    wc_ops = [make_expectation_operators(data_dict['PARAMS'], \n",
    "                                         weak_coupling=True)]*len(data_dict['phonons'])\n",
    "    \n",
    "    plt.plot(phonons, np.abs(calculate_expval(data_dict['rho_nonadd'], \n",
    "                                                           data_dict['op_list'], \n",
    "                                                           obs='eig_x')), label=r\"$\\dyad{+}{-}$\", color=colours[1])\n",
    "    plt.plot(phonons, np.abs(calculate_expval(data_dict['rho_add'], \n",
    "                                                           data_dict['op_list'], \n",
    "                                                           obs='eig_x')), color=colours[1], ls='dashed')\n",
    "    \n",
    "    dat = np.abs(calculate_polaron_coherence_numerical(data_dict['rho_nonadd'], \n",
    "                                                           phonons, data_dict['PARAMS']))\n",
    "    plt.plot(phonons, dat, label=r\"$\\dyad{\\psi_+}{\\psi_-}$\", color=colours[0])\n",
    "    plt.plot(phonons, np.abs(calculate_polaron_coherence_numerical(data_dict['rho_add'], \n",
    "                                                           phonons, data_dict['PARAMS'])), \n",
    "                                                         color=colours[0], ls='dashed')\n",
    "    plt.subplots_adjust(left=0.14, bottom=0.2, right=0.95, top=0.95, wspace=0.25, hspace=0.08)\n",
    "    plt.legend()\n",
    "    plt.xlim(phonons[0], phonons[-1])\n",
    "    plt.xlabel(r'$\\alpha_1, \\alpha_2$ (meV)')\n",
    "    #plt.ylabel(r'$\\rho_{+\\!-}^{ss}$')\n",
    "    name= 'PLOTS/'+figname+'.pdf'\n",
    "    plt.savefig(name)\n",
    "    print(name)\n",
    "dd_4th = load_obj(\"DATA/coherence/four_theories_1\")\n",
    "#plot_all_four_theories(dd_4th, figname='PAPER/four_theories_UD')\n",
    "plot_all_four_theories_dark(dd_4th, figname='PAPER/four_theories_UD_dark')"
   ]
  },
  {
   "cell_type": "code",
   "execution_count": 22,
   "metadata": {},
   "outputs": [
    {
     "name": "stdout",
     "output_type": "stream",
     "text": [
      "48.393\n",
      "48.393\n",
      "48.393\n",
      "48.393\n",
      "48.393\n",
      "48.393\n",
      "96.786\n",
      "96.786\n",
      "96.786\n",
      "96.786\n",
      "96.786\n",
      "96.786\n",
      "145.17900000000003\n",
      "145.17900000000003\n",
      "145.17900000000003\n",
      "145.17900000000003\n",
      "145.17900000000003\n",
      "145.17900000000003\n",
      "Calculation took 42989.34991598129 seconds\n",
      "Filename: DATA/coherence/bias_OD\n"
     ]
    }
   ],
   "source": [
    "# OD\n",
    "N=5\n",
    "T_ph = 300.\n",
    "w_2 = 1.4*ev_to_inv_cm\n",
    "bias = 10*1e-3*ev_to_inv_cm #0.0000001*ev_to_inv_cm\n",
    "V = 10e-3*ev_to_inv_cm #0.00001*ev_to_inv_cm\n",
    "alpha = 1.\n",
    "T_EM = 6000.\n",
    "alpha_EM = 5.309e-3 # inv_ps_to_inv_cm *10^-3\n",
    "\n",
    "w0 = 2000 #40e-3*ev_to_inv_cm\n",
    "Gamma = (w0**2)/100\n",
    "PARAMS = PARAMS_setup(bias=bias, w_2=w_2, \n",
    "                  V = V, alpha=alpha,\n",
    "                  T_EM=T_EM, T_ph=T_ph, alpha_EM=alpha_EM, shift=True,\n",
    "                  num_cpus=4, N=N, Gamma=Gamma, w_0=w0,\n",
    "                  silent=True, exc_diff=0)\n",
    "dd_bd_OD = calculate_bias_dependence(PARAMS, 'OD', threshold=0.)"
   ]
  },
  {
   "cell_type": "code",
   "execution_count": 90,
   "metadata": {},
   "outputs": [
    {
     "name": "stdout",
     "output_type": "stream",
     "text": [
      "45.686645889970656\n",
      "42.80089722419401\n",
      "40.09742382069177\n",
      "37.5647124553113\n",
      "35.191977124526275\n",
      "32.969113111314975\n",
      "30.88665395241878\n",
      "28.93573112371833\n",
      "27.10803627204019\n",
      "25.395785832551542\n",
      "23.79168788105971\n",
      "22.288911080051108\n",
      "20.881055586220878\n",
      "19.562125795597467\n",
      "18.326504810192787\n",
      "17.16893051743927\n",
      "16.084473180544062\n",
      "15.068514444324721\n",
      "14.116727667119177\n",
      "13.225059495009743\n",
      "12.389712599891777\n",
      "11.607129507874012\n",
      "10.87397744914087\n",
      "10.187134164757138\n",
      "9.543674609970937\n",
      "45.686645889970656\n",
      "42.80089722419401\n",
      "40.09742382069177\n",
      "37.5647124553113\n",
      "35.191977124526275\n",
      "32.969113111314975\n",
      "30.88665395241878\n",
      "28.93573112371833\n",
      "27.10803627204019\n",
      "25.395785832551542\n",
      "23.79168788105971\n",
      "22.288911080051108\n",
      "20.881055586220878\n",
      "19.562125795597467\n",
      "18.326504810192787\n",
      "17.16893051743927\n",
      "16.084473180544062\n",
      "15.068514444324721\n",
      "14.116727667119177\n",
      "13.225059495009743\n",
      "12.389712599891777\n",
      "11.607129507874012\n",
      "10.87397744914087\n",
      "10.187134164757138\n",
      "9.543674609970937\n",
      "[0.02439647-2.54720111e-07j 0.02402378-2.53012662e-07j\n",
      " 0.02364717-2.51180249e-07j 0.02328208-2.49391243e-07j\n",
      " 0.02292867-2.47644577e-07j 0.02258691-2.45943065e-07j\n",
      " 0.02225677-2.44282551e-07j 0.02193824-2.42662488e-07j\n",
      " 0.02163137-2.41081210e-07j 0.02133625-2.39538776e-07j\n",
      " 0.02105306-2.38030170e-07j 0.02078208-2.36557959e-07j\n",
      " 0.02052368-2.35119369e-07j 0.02027844-2.33713552e-07j\n",
      " 0.02004715-2.32339489e-07j 0.01983093-2.30996154e-07j\n",
      " 0.01963145-2.29683097e-07j 0.01945118-2.28398828e-07j\n",
      " 0.01929408-2.27137407e-07j 0.01916702-2.25908275e-07j\n",
      " 0.0190837 -2.24705339e-07j 0.01908035-2.23525661e-07j\n",
      "        nan+0.00000000e+00j        nan+0.00000000e+00j\n",
      "        nan+0.00000000e+00j]\n",
      "45.686645889970656\n",
      "42.80089722419401\n",
      "40.09742382069177\n",
      "37.5647124553113\n",
      "35.191977124526275\n",
      "32.969113111314975\n",
      "30.88665395241878\n",
      "28.93573112371833\n",
      "27.10803627204019\n",
      "25.395785832551542\n",
      "23.79168788105971\n",
      "22.288911080051108\n",
      "20.881055586220878\n",
      "19.562125795597467\n",
      "18.326504810192787\n",
      "17.16893051743927\n",
      "16.084473180544062\n",
      "15.068514444324721\n",
      "14.116727667119177\n",
      "13.225059495009743\n",
      "12.389712599891777\n",
      "11.607129507874012\n",
      "10.87397744914087\n",
      "10.187134164757138\n",
      "9.543674609970937\n",
      "45.686645889970656\n",
      "42.80089722419401\n",
      "40.09742382069177\n",
      "37.5647124553113\n",
      "35.191977124526275\n"
     ]
    },
    {
     "name": "stderr",
     "output_type": "stream",
     "text": [
      "/Users/admin/anaconda3/lib/python3.6/site-packages/ipykernel_launcher.py:37: RuntimeWarning: invalid value encountered in sqrt\n",
      "/Users/admin/anaconda3/lib/python3.6/site-packages/ipykernel_launcher.py:38: RuntimeWarning: invalid value encountered in sqrt\n"
     ]
    },
    {
     "name": "stdout",
     "output_type": "stream",
     "text": [
      "32.969113111314975\n",
      "30.88665395241878\n",
      "28.93573112371833\n",
      "27.10803627204019\n",
      "25.395785832551542\n",
      "23.79168788105971\n",
      "22.288911080051108\n",
      "20.881055586220878\n",
      "19.562125795597467\n",
      "18.326504810192787\n",
      "17.16893051743927\n",
      "16.084473180544062\n",
      "15.068514444324721\n",
      "14.116727667119177\n",
      "13.225059495009743\n",
      "12.389712599891777\n",
      "11.607129507874012\n",
      "10.87397744914087\n",
      "10.187134164757138\n",
      "9.543674609970937\n"
     ]
    },
    {
     "data": {
      "image/png": "[encoded data removed]",
      "text/plain": [
       "<Figure size 432x288 with 1 Axes>"
      ]
     },
     "metadata": {},
     "output_type": "display_data"
    }
   ],
   "source": [
    "\n",
    "\n",
    "plot_all_four_theories(dd_4th)"
   ]
  },
  {
   "cell_type": "code",
   "execution_count": 50,
   "metadata": {
    "scrolled": true
   },
   "outputs": [],
   "source": [
    "N=7\n",
    "T_ph = 300.\n",
    "w_2 = 1.4*ev_to_inv_cm\n",
    "bias = 10*1e-3*ev_to_inv_cm #0.0000001*ev_to_inv_cm\n",
    "V = 10e-3*ev_to_inv_cm #0.00001*ev_to_inv_cm\n",
    "alpha = 1.\n",
    "T_EM = 6000.\n",
    "alpha_EM = 5.309e-3 # inv_ps_to_inv_cm *10^-3\n",
    "Gamma = 100\n",
    "w0 = 40e-3*ev_to_inv_cm\n",
    "PARAMS = PARAMS_setup(bias=bias, w_2=w_2, \n",
    "                  V = V, alpha=alpha,\n",
    "                  T_EM=T_EM, T_ph=T_ph, alpha_EM=alpha_EM, shift=True,\n",
    "                  num_cpus=4, N=N, Gamma=Gamma, w_0=w0,\n",
    "                  silent=True, exc_diff=0)\n",
    "\n",
    "\n"
   ]
  },
  {
   "cell_type": "code",
   "execution_count": 36,
   "metadata": {},
   "outputs": [
    {
     "name": "stdout",
     "output_type": "stream",
     "text": [
      "It took  64.1624219417572  seconds to build the secular RWA Liouvillian\n",
      "It took  78.340815782547  seconds to build the secular RWA Liouvillian\n",
      "80.905\n",
      "It took  76.08886194229126  seconds to build the secular RWA Liouvillian\n",
      "Calculation took 330.75743198394775 seconds\n",
      "Filename: DATA/coherence/four_theories_1\n"
     ]
    }
   ],
   "source": [
    "dd_4th = calculate_coherence_4_theories(PARAMS, 1, threshold=0.)"
   ]
  },
  {
   "cell_type": "code",
   "execution_count": 15,
   "metadata": {
    "scrolled": true
   },
   "outputs": [
    {
     "name": "stdout",
     "output_type": "stream",
     "text": [
      "It took  532.894208908081  seconds to build the secular RWA Liouvillian\n",
      "It took  656.7101819515228  seconds to build the secular RWA Liouvillian\n",
      "80.905\n",
      "It took  649.8448510169983  seconds to build the secular RWA Liouvillian\n",
      "Calculation took 2290.6824209690094 seconds\n",
      "Filename: DATA/coherence/four_theories_2\n"
     ]
    }
   ],
   "source": [
    "N=8\n",
    "T_ph = 300.\n",
    "w_2 = 1.4*ev_to_inv_cm\n",
    "bias = 10*1e-3*ev_to_inv_cm #0.0000001*ev_to_inv_cm\n",
    "V = 10e-3*ev_to_inv_cm #0.00001*ev_to_inv_cm\n",
    "alpha = 1.\n",
    "T_EM = 6000.\n",
    "alpha_EM = 5.309e-3 # inv_ps_to_inv_cm *10^-3\n",
    "Gamma = 100\n",
    "w0 = 30e-3*ev_to_inv_cm\n",
    "PARAMS = PARAMS_setup(bias=bias, w_2=w_2, \n",
    "                  V = V, alpha=alpha,\n",
    "                  T_EM=T_EM, T_ph=T_ph, alpha_EM=alpha_EM, shift=True,\n",
    "                  num_cpus=4, N=N, Gamma=Gamma, w_0=w0,\n",
    "                  silent=True, exc_diff=0)\n",
    "\n",
    "\n",
    "dd_4th = calculate_coherence_4_theories(PARAMS, 2, threshold=0.)"
   ]
  },
  {
   "cell_type": "code",
   "execution_count": 17,
   "metadata": {},
   "outputs": [
    {
     "name": "stdout",
     "output_type": "stream",
     "text": [
      "PLOTS/nothing.pdf\n"
     ]
    },
    {
     "data": {
      "image/png": "[encoded data removed]",
      "text/plain": [
       "<Figure size 432x288 with 1 Axes>"
      ]
     },
     "metadata": {},
     "output_type": "display_data"
    }
   ],
   "source": [
    "dd_4th = load_obj(\"DATA/coherence/four_theories_2\")\n",
    "\n",
    "plot_all_four_theories(dd_4th)"
   ]
  },
  {
   "cell_type": "code",
   "execution_count": 16,
   "metadata": {
    "scrolled": true
   },
   "outputs": [
    {
     "name": "stdout",
     "output_type": "stream",
     "text": [
      "It took  472.3839659690857  seconds to build the secular RWA Liouvillian\n",
      "It took  636.2521729469299  seconds to build the secular RWA Liouvillian\n",
      "80.905\n",
      "It took  643.6729788780212  seconds to build the secular RWA Liouvillian\n",
      "Calculation took 2288.360449075699 seconds\n",
      "Filename: DATA/coherence/four_theories_3\n"
     ]
    }
   ],
   "source": [
    "N=8\n",
    "T_ph = 300.\n",
    "w_2 = 1.4*ev_to_inv_cm\n",
    "bias = 10*1e-3*ev_to_inv_cm #0.0000001*ev_to_inv_cm\n",
    "V = 2e-3*ev_to_inv_cm #0.00001*ev_to_inv_cm\n",
    "alpha = 1.\n",
    "T_EM = 6000.\n",
    "alpha_EM = 5.309e-3 # inv_ps_to_inv_cm *10^-3\n",
    "Gamma = 100\n",
    "w0 = 30e-3*ev_to_inv_cm\n",
    "PARAMS = PARAMS_setup(bias=bias, w_2=w_2, \n",
    "                  V = V, alpha=alpha,\n",
    "                  T_EM=T_EM, T_ph=T_ph, alpha_EM=alpha_EM, shift=True,\n",
    "                  num_cpus=4, N=N, Gamma=Gamma, w_0=w0,\n",
    "                  silent=True, exc_diff=0)\n",
    "\n",
    "\n",
    "dd_4th = calculate_coherence_4_theories(PARAMS, 3, threshold=0.)"
   ]
  },
  {
   "cell_type": "code",
   "execution_count": 18,
   "metadata": {},
   "outputs": [
    {
     "name": "stdout",
     "output_type": "stream",
     "text": [
      "PLOTS/nothing.pdf\n"
     ]
    },
    {
     "data": {
      "image/png": "[encoded data removed]",
      "text/plain": [
       "<Figure size 432x288 with 1 Axes>"
      ]
     },
     "metadata": {},
     "output_type": "display_data"
    }
   ],
   "source": [
    "dd_4th = load_obj(\"DATA/coherence/four_theories_3\")\n",
    "\n",
    "plot_all_four_theories(dd_4th)"
   ]
  },
  {
   "cell_type": "code",
   "execution_count": 35,
   "metadata": {},
   "outputs": [],
   "source": [
    "#dd_bd = calculate_bias_dependence(PARAMS, 2, threshold=0.)\n",
    "dd_bd = load_obj(\"DATA/coherence/bias_2\")"
   ]
  },
  {
   "cell_type": "code",
   "execution_count": 40,
   "metadata": {},
   "outputs": [
    {
     "name": "stdout",
     "output_type": "stream",
     "text": [
      "80.655\n",
      "PLOTS/PAPER/bias-dependence-UD.pdf\n"
     ]
    },
    {
     "data": {
      "image/png": "[encoded data removed]",
      "text/plain": [
       "<Figure size 432x288 with 1 Axes>"
      ]
     },
     "metadata": {},
     "output_type": "display_data"
    }
   ],
   "source": [
    "\n",
    "\n",
    "def plot_bias_dependence(data_dict, figname=''):\n",
    "    print(data_dict['PARAMS']['V'])\n",
    "    #biases = 1000*data_dict['biases']/ev_to_inv_cm\n",
    "    biases = data_dict['biases']/data_dict['PARAMS']['V']\n",
    "    phonons = data_dict['phonons']\n",
    "    i = 0\n",
    "    for oplist, rho_list in zip(data_dict['op_list'], data_dict['rho_nonadd_list']):\n",
    "        plt.plot(biases, np.abs(calculate_expval(rho_list, oplist,obs='eig_x')), \n",
    "                 label=r\"$\\alpha=$\"+str(int(phonons[i]*1000/ev_to_inv_cm))+r\"meV\", color=colours[i], linestyle='solid')\n",
    "        i+=1\n",
    "    i = 0\n",
    "    for oplist, rho_list in zip(data_dict['op_list'], data_dict['rho_add_list']):\n",
    "        plt.plot(biases, np.abs(calculate_expval(rho_list, oplist,obs='eig_x')), color=colours[i], linestyle='dashed')\n",
    "        i+=1\n",
    "    plt.legend(loc='lower right')\n",
    "    plt.xlim(biases[0], biases[-1])\n",
    "    plt.xlabel(r'$\\epsilon$ (units of $V$)')\n",
    "    plt.ylabel(r'$\\rho_{+-}^{ss}$')\n",
    "    name = \"PLOTS/\"+figname+'.pdf'\n",
    "    plt.subplots_adjust(left=0.18, bottom=0.2, right=0.95, top=0.95, wspace=0.20, hspace=0.08)\n",
    "    plt.savefig(name)\n",
    "    print(name)\n",
    "plot_bias_dependence(dd_bd, \"PAPER/bias-dependence-UD\")"
   ]
  },
  {
   "cell_type": "code",
   "execution_count": null,
   "metadata": {},
   "outputs": [],
   "source": []
  }
 ],
 "metadata": {
  "kernelspec": {
   "display_name": "Python 3",
   "language": "python",
   "name": "python3"
  },
  "language_info": {
   "codemirror_mode": {
    "name": "ipython",
    "version": 3
   },
   "file_extension": ".py",
   "mimetype": "text/x-python",
   "name": "python",
   "nbconvert_exporter": "python",
   "pygments_lexer": "ipython3",
   "version": "3.6.5"
  }
 },
 "nbformat": 4,
 "nbformat_minor": 2
}
