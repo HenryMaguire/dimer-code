{
 "cells": [
  {
   "cell_type": "code",
   "execution_count": 1,
   "metadata": {
    "collapsed": true
   },
   "outputs": [],
   "source": [
    "# Incase we have to clear all variables\n",
    "%reset -f"
   ]
  },
  {
   "cell_type": "code",
   "execution_count": 13,
   "metadata": {
    "collapsed": true
   },
   "outputs": [],
   "source": [
    "colourWheel =['#329932',\n",
    "            '#ff6961',\n",
    "            'b',\n",
    "            '#6a3d9a',\n",
    "            '#fb9a99',\n",
    "            '#e31a1c',\n",
    "            '#fdbf6f',\n",
    "            '#ff7f00',\n",
    "            '#cab2d6',\n",
    "            '#6a3d9a',\n",
    "            '#ffff99',\n",
    "            '#b15928',\n",
    "            '#67001f',\n",
    "            '#b2182b',\n",
    "            '#d6604d',\n",
    "            '#f4a582',\n",
    "            '#fddbc7',\n",
    "            '#f7f7f7',\n",
    "            '#d1e5f0',\n",
    "            '#92c5de',\n",
    "            '#4393c3',\n",
    "            '#2166ac',\n",
    "            '#053061']\n",
    "\n",
    "from dimer_setup import *\n",
    "from utils import *"
   ]
  },
  {
   "cell_type": "code",
   "execution_count": 14,
   "metadata": {},
   "outputs": [
    {
     "ename": "ZeroDivisionError",
     "evalue": "integer division or modulo by zero",
     "output_type": "error",
     "traceback": [
      "\u001b[0;31m---------------------------------------------------------------------------\u001b[0m",
      "\u001b[0;31mZeroDivisionError\u001b[0m                         Traceback (most recent call last)",
      "\u001b[0;32m<ipython-input-14-5a9542bac011>\u001b[0m in \u001b[0;36m<module>\u001b[0;34m()\u001b[0m\n\u001b[0;32m----> 1\u001b[0;31m \u001b[0;36m1\u001b[0m\u001b[0;34m//\u001b[0m\u001b[0;36m0\u001b[0m\u001b[0;34m\u001b[0m\u001b[0m\n\u001b[0m",
      "\u001b[0;31mZeroDivisionError\u001b[0m: integer division or modulo by zero"
     ]
    }
   ],
   "source": [
    "1"
   ]
  },
  {
   "cell_type": "code",
   "execution_count": 10,
   "metadata": {},
   "outputs": [
    {
     "data": {
      "text/plain": [
       "(0, 1, 2)"
      ]
     },
     "execution_count": 10,
     "metadata": {},
     "output_type": "execute_result"
    }
   ],
   "source": [
    "a,s,d = (i for i in range(3))\n",
    "a, s, d"
   ]
  },
  {
   "cell_type": "code",
   "execution_count": 2,
   "metadata": {
    "collapsed": true
   },
   "outputs": [],
   "source": [
    "import matplotlib.pyplot as plt\n",
    "from heatmap_setup import calculate_steadystate, calculate_steadystate_L\n",
    "from scipy.sparse.linalg import eigs, lgmres\n",
    "from scipy.sparse import csc_matrix\n",
    "import time\n",
    "import numpy as np"
   ]
  },
  {
   "cell_type": "markdown",
   "metadata": {},
   "source": [
    "### Example Liouvillian"
   ]
  },
  {
   "cell_type": "code",
   "execution_count": 3,
   "metadata": {},
   "outputs": [
    {
     "name": "stdout",
     "output_type": "stream",
     "text": [
      "The operators took 2.23072195053 and have dimension 64.\n",
      "Building the RC Liouvillian took 2.269 seconds.\n",
      "****************************************************************\n",
      "It is 4096by4096. The full basis would be 4096by4096\n"
     ]
    },
    {
     "ename": "AttributeError",
     "evalue": "'numpy.ndarray' object has no attribute 'eigenstates'",
     "output_type": "error",
     "traceback": [
      "\u001b[0;31m---------------------------------------------------------------------------\u001b[0m",
      "\u001b[0;31mAttributeError\u001b[0m                            Traceback (most recent call last)",
      "\u001b[0;32m<ipython-input-3-aad081b2c139>\u001b[0m in \u001b[0;36m<module>\u001b[0;34m()\u001b[0m\n\u001b[1;32m     16\u001b[0m                       silent=True, exc_diff=0)\n\u001b[1;32m     17\u001b[0m \u001b[0;34m\u001b[0m\u001b[0m\n\u001b[0;32m---> 18\u001b[0;31m \u001b[0mH\u001b[0m\u001b[0;34m,\u001b[0m \u001b[0mL\u001b[0m \u001b[0;34m=\u001b[0m \u001b[0mget_H_and_L\u001b[0m\u001b[0;34m(\u001b[0m\u001b[0mPARAMS\u001b[0m\u001b[0;34m,\u001b[0m \u001b[0msilent\u001b[0m\u001b[0;34m=\u001b[0m\u001b[0mFalse\u001b[0m\u001b[0;34m,\u001b[0m \u001b[0mthreshold\u001b[0m\u001b[0;34m=\u001b[0m\u001b[0;36m1e-12\u001b[0m\u001b[0;34m,\u001b[0m \u001b[0msite_basis\u001b[0m\u001b[0;34m=\u001b[0m\u001b[0msite_basis\u001b[0m\u001b[0;34m)\u001b[0m\u001b[0;34m\u001b[0m\u001b[0m\n\u001b[0m",
      "\u001b[0;32m/home/henry/Work/phd-work/dimer-code/dimer_setup.pyc\u001b[0m in \u001b[0;36mget_H_and_L\u001b[0;34m(PARS, silent, threshold, site_basis)\u001b[0m\n\u001b[1;32m    100\u001b[0m \u001b[0;34m\u001b[0m\u001b[0m\n\u001b[1;32m    101\u001b[0m     \u001b[0;32mif\u001b[0m \u001b[0mabs\u001b[0m\u001b[0;34m(\u001b[0m\u001b[0mPARS\u001b[0m\u001b[0;34m[\u001b[0m\u001b[0;34m'alpha_EM'\u001b[0m\u001b[0;34m]\u001b[0m\u001b[0;34m)\u001b[0m\u001b[0;34m>\u001b[0m\u001b[0;36m0\u001b[0m\u001b[0;34m:\u001b[0m\u001b[0;34m\u001b[0m\u001b[0m\n\u001b[0;32m--> 102\u001b[0;31m         \u001b[0mL\u001b[0m \u001b[0;34m+=\u001b[0m \u001b[0mopt\u001b[0m\u001b[0;34m.\u001b[0m\u001b[0mL_nonsecular\u001b[0m\u001b[0;34m(\u001b[0m\u001b[0mH\u001b[0m\u001b[0;34m[\u001b[0m\u001b[0;36m1\u001b[0m\u001b[0;34m]\u001b[0m\u001b[0;34m,\u001b[0m \u001b[0mtensor\u001b[0m\u001b[0;34m(\u001b[0m\u001b[0msigma\u001b[0m\u001b[0;34m,\u001b[0m\u001b[0mI\u001b[0m\u001b[0;34m)\u001b[0m\u001b[0;34m,\u001b[0m \u001b[0mPARS\u001b[0m\u001b[0;34m,\u001b[0m \u001b[0msilent\u001b[0m\u001b[0;34m=\u001b[0m\u001b[0msilent\u001b[0m\u001b[0;34m,\u001b[0m \u001b[0msite_basis\u001b[0m\u001b[0;34m=\u001b[0m\u001b[0msite_basis\u001b[0m\u001b[0;34m)\u001b[0m\u001b[0;34m\u001b[0m\u001b[0m\n\u001b[0m\u001b[1;32m    103\u001b[0m \u001b[0;34m\u001b[0m\u001b[0m\n\u001b[1;32m    104\u001b[0m     \u001b[0;32melse\u001b[0m\u001b[0;34m:\u001b[0m\u001b[0;34m\u001b[0m\u001b[0m\n",
      "\u001b[0;32m/home/henry/Work/phd-work/dimer-code/optical.pyc\u001b[0m in \u001b[0;36mL_nonsecular\u001b[0;34m(H_vib, A, args, site_basis, silent)\u001b[0m\n\u001b[1;32m    252\u001b[0m     \u001b[0;31m#Construct non-secular liouvillian\u001b[0m\u001b[0;34m\u001b[0m\u001b[0;34m\u001b[0m\u001b[0m\n\u001b[1;32m    253\u001b[0m     \u001b[0mti\u001b[0m \u001b[0;34m=\u001b[0m \u001b[0mtime\u001b[0m\u001b[0;34m.\u001b[0m\u001b[0mtime\u001b[0m\u001b[0;34m(\u001b[0m\u001b[0;34m)\u001b[0m\u001b[0;34m\u001b[0m\u001b[0m\n\u001b[0;32m--> 254\u001b[0;31m     \u001b[0meVals\u001b[0m\u001b[0;34m,\u001b[0m \u001b[0meVecs\u001b[0m \u001b[0;34m=\u001b[0m \u001b[0mH_vib\u001b[0m\u001b[0;34m.\u001b[0m\u001b[0meigenstates\u001b[0m\u001b[0;34m(\u001b[0m\u001b[0;34m)\u001b[0m\u001b[0;34m\u001b[0m\u001b[0m\n\u001b[0m\u001b[1;32m    255\u001b[0m     \u001b[0;32mif\u001b[0m \u001b[0mnum_cpus\u001b[0m \u001b[0;34m<=\u001b[0m \u001b[0;36m1\u001b[0m\u001b[0;34m:\u001b[0m\u001b[0;34m\u001b[0m\u001b[0m\n\u001b[1;32m    256\u001b[0m         \u001b[0;32mprint\u001b[0m \u001b[0;34m\"Serial mode on optical\"\u001b[0m\u001b[0;34m\u001b[0m\u001b[0m\n",
      "\u001b[0;31mAttributeError\u001b[0m: 'numpy.ndarray' object has no attribute 'eigenstates'"
     ]
    }
   ],
   "source": [
    "w_2 = 1.4*ev_to_inv_cm\n",
    "bias = 0.01*ev_to_inv_cm #0.0000001*ev_to_inv_cm\n",
    "V = 0.01*ev_to_inv_cm #0.00001*ev_to_inv_cm\n",
    "alpha = 0./pi\n",
    "alpha_EM = 5.309e-3 # inv_ps_to_inv_cm *10^-3\n",
    "N =4\n",
    "pap = alpha_to_pialpha_prop(alpha, w_2)\n",
    "wc = 100.\n",
    "w_0 = 200.\n",
    "site_basis = False\n",
    "Gamma = (w_0**2)/wc\n",
    "PARAMS = PARAMS_setup(bias=bias, w_2=w_2, \n",
    "                      V = V, pialpha_prop=pap,\n",
    "                      T_EM=6000., T_ph =300., alpha_EM=alpha_EM, shift=True,\n",
    "                      num_cpus=1, N=N, Gamma=Gamma, w_0=w_0,\n",
    "                      silent=True, exc_diff=0)\n",
    "\n",
    "H, L = get_H_and_L(PARAMS, silent=False, threshold=1e-12, site_basis=site_basis)"
   ]
  },
  {
   "cell_type": "code",
   "execution_count": 4,
   "metadata": {
    "scrolled": true
   },
   "outputs": [
    {
     "name": "stdout",
     "output_type": "stream",
     "text": [
      "alpha_1=0.00, w_1=11372.35, kappa_1=0.00, kappa_2=0.00, T_EM=6000.00, bias=80.66, alpha_2=0.00, w0_1=200.00, w0_2=200.00, V=80.66, T_2=300.00, T_1=300.00, Gamma_1=400.00, Gamma_2=400.00, dipole_2=1.00, dipole_1=1.00, exc=8.00, alpha_EM=0.01, sys_dim=4.00, N_1=4.00, N_2=4.00, mu=0.99, shift1=0.00, shift2=0.00, w_2=11291.70, gamma_1=0.32, w_xx=22664.06, gamma_2=0.32\n"
     ]
    }
   ],
   "source": [
    "print_PARAMS(PARAMS)"
   ]
  },
  {
   "cell_type": "code",
   "execution_count": 4,
   "metadata": {},
   "outputs": [
    {
     "name": "stdout",
     "output_type": "stream",
     "text": [
      "Steady state took 0.897 seconds\n",
      "THIS ONE IS EIG BASIS\n",
      "OO : 0.879917916079 \t | \t 0.879917918568\n",
      "sigma_y : (2.27099244356+0j) \t | \t (1.45129672588+0j)\n",
      "sigma_x : (2.42029715959+0j) \t | \t (1.44782988391+0j)\n",
      "XO : (0.0543385393569+0j) \t | \t (0.0584964450201+0j)\n",
      "bright : (0.0496615220287+0j) \t | \t (0.0589588832803+0j)\n",
      "eig_coherence : 0j \t | \t 0j\n",
      "dark : (0.0665831296879+0j) \t | \t (0.0572857659371+0j)\n",
      "XX : 0.00383743220467 \t | \t 0.00383743221499\n",
      "OX : (0.0619061123598+0j) \t | \t (0.0577482041973+0j)\n",
      "site_coherence : (-0.00756757300293+0j) \t | \t (0.000748240822732+0j)\n",
      "0.998736143112\n"
     ]
    }
   ],
   "source": [
    "ti = time.time()\n",
    "ssL, info = calculate_steadystate(H, L, method=\"direct\", persistent=True)\n",
    "exps = make_expectation_operators(H, PARAMS, site_basis=site_basis)\n",
    "ss_therm = thermal_state(PARAMS[\"T_EM\"], H[1])\n",
    "for key, op in exps.items():\n",
    "    if 'RC' not in key:\n",
    "        print \"{} : {} \\t | \\t {}\".format(key, (ssL*op).tr(), (ss_therm*op).tr())\n",
    "print time.time()-ti; ti = time.time()\n"
   ]
  },
  {
   "cell_type": "code",
   "execution_count": 22,
   "metadata": {},
   "outputs": [
    {
     "name": "stdout",
     "output_type": "stream",
     "text": [
      "GS  0.000197837531\n",
      "XO  -0.011655924608\n",
      "OX  0.003782154924\n",
      "XO-OX  -0.016562079532 -0.001124\n",
      "XX  8.2215e-07\n"
     ]
    }
   ],
   "source": [
    "print \"GS \", 0.880134837531-0.879937\n",
    "print \"XO \", 0.049732375392-0.0613883\n",
    "print \"OX \", 0.066294454924-0.0625123\n",
    "print \"XO-OX \", 0.049732375392-0.066294454924, 0.0613883-0.0625123\n",
    "print \"XX \", 0.00383833215-0.00383751"
   ]
  },
  {
   "cell_type": "code",
   "execution_count": null,
   "metadata": {
    "collapsed": true
   },
   "outputs": [],
   "source": [
    "0.73907725876\n",
    "0.739077377\n",
    "0.7390772"
   ]
  },
  {
   "cell_type": "code",
   "execution_count": 9,
   "metadata": {},
   "outputs": [
    {
     "name": "stdout",
     "output_type": "stream",
     "text": [
      "The operators took 1.73425197601 and have dimension 64.\n",
      "Building the RC Liouvillian took 1.830 seconds.\n",
      "****************************************************************\n",
      "It is 4096by4096. The full basis would be 4096by4096\n",
      "It took  1.27408099174  seconds to build the Non-secular RWA Liouvillian\n",
      "7.25182294846\n",
      "The operators took 1.99701499939 and have dimension 64.\n",
      "Building the RC Liouvillian took 2.525 seconds.\n",
      "****************************************************************\n",
      "It is 4096by4096. The full basis would be 4096by4096\n",
      "It took  2.11194682121  seconds to build the Non-secular RWA Liouvillian\n",
      "13.2721960545\n"
     ]
    }
   ],
   "source": [
    "H, L = get_H_and_L(PARAMS, silent=False, threshold=1e-7, site_basis=True)\n",
    "\n",
    "print sparse_percentage(L)\n",
    "H, L = get_H_and_L(PARAMS, silent=False, threshold=1e-7, site_basis=False)\n",
    "print sparse_percentage(L)"
   ]
  },
  {
   "cell_type": "code",
   "execution_count": null,
   "metadata": {
    "collapsed": true
   },
   "outputs": [],
   "source": [
    "expectation(ssL)"
   ]
  },
  {
   "cell_type": "code",
   "execution_count": null,
   "metadata": {
    "collapsed": true
   },
   "outputs": [],
   "source": [
    "from scipy.sparse.linalg import eigs\n",
    "from qutip.cy.spconvert import dense2D_to_fastcsr_fmode\n",
    "\n",
    "def v0_estimate(H, PARAMS, method=0):\n",
    "    H = H[1]\n",
    "    T1, T2 = PARAMS['T_EM'], 0.5*(PARAMS['T_1']+PARAMS['T_2'])\n",
    "    alpha1, alpha2 = PARAMS['alpha_EM'], 0.5*(PARAMS['alpha_1']+PARAMS['alpha_2'])\n",
    "    p1 = alpha1/(alpha1+alpha2)\n",
    "    p2 = alpha2/(alpha1+alpha2)\n",
    "    p1/= (p1+p2)\n",
    "    p2/= (p1+p2)\n",
    "    if method==1:\n",
    "        # Average two density matrices together\n",
    "        r1 = (-beta_f(T1)*H).expm(method='sparse')\n",
    "        r1/ = r1.tr()\n",
    "        r2 = (-beta_f(T2)*H).expm(method='sparse')\n",
    "        r2/ = r2.tr()\n",
    "        rho_approx = r1#+r2\n",
    "        return qt.operator_to_vector(rho_approx/rho_approx.tr()).data.todense()\n",
    "    elif method==0:\n",
    "        # Averages temperatures\n",
    "        r1 = (-beta_f(abs(2*T1-T2))*H).expm(method='sparse')\n",
    "        return qt.operator_to_vector(r1/r1.tr()).data.todense()\n",
    "    else:\n",
    "        r1 = (-beta_f(T1)*H).expm(method='sparse')\n",
    "        r2 = (-beta_f(T2)*H).expm(method='sparse')\n",
    "        rho_approx = 0.5*(r1+r2)+(-beta_f(abs(2*T1-T2))*H).expm(method='sparse')\n",
    "        return qt.operator_to_vector(rho_approx/rho_approx.tr()).data.todense()\n",
    "\n",
    "def expectation(rho, expval='site_coherence'):\n",
    "    e_op = make_expectation_operators(PARAMS)[expval]\n",
    "    return (rho*e_op).tr()\n",
    "\n",
    "def vec_to_dm(evec, _H):\n",
    "    n = int(np.sqrt(evec.shape[0]))\n",
    "    data = dense2D_to_fastcsr_fmode(evec.reshape((n, n)).T, n, n)\n",
    "    data = 0.5 * (data + data.H)\n",
    "    data = qt.Qobj(data, dims=_H[1].dims, isherm=True)\n",
    "    return data/data.tr()\n",
    "\n",
    "def L_steadystate(L, tol=1e-8, sigma=1e-12, ncv=18, print_coh=True, v0=None):\n",
    "    ti = time.time()\n",
    "    evals, evec = eigs(L, 1, which='LM', sigma=sigma, tol=tol, ncv=ncv, v0=v0)\n",
    "    print(\"Steadystate took {:0.3f} seconds\".format(time.time() - ti))\n",
    "    rho = vec_to_dm(evec, H)\n",
    "    if print_coh:\n",
    "        print(\"Coherence is {}\".format(expectation(rho)))\n",
    "    return rho\n",
    "\n",
    "def _steadystate(H, L, tol=1e-8, sigma=1e-12, ncv=18, print_coh=True, v0=None):\n",
    "    L_full = -1*qt.liouvillian(H[1], c_ops=[L]).data\n",
    "    ti = time.time()\n",
    "    evals, evec = eigs(L_full, 1, which='LM', sigma=sigma, tol=tol, ncv=ncv, v0=v0)\n",
    "    print(\"Steadystate took {:0.3f} seconds\".format(time.time() - ti))\n",
    "    rho = vec_to_dm(evec, H)\n",
    "    if print_coh:\n",
    "        print(\"Coherence is {}\".format(expectation(rho)))\n",
    "    return rho"
   ]
  },
  {
   "cell_type": "code",
   "execution_count": null,
   "metadata": {
    "collapsed": true
   },
   "outputs": [],
   "source": [
    "#ev, evec = H[1].\n",
    "from scipy.linalg import eig, inv\n",
    "import numpy as np\n",
    "def sorted_eig(_H):\n",
    "    if type(_H) == qt.Qobj:\n",
    "        _H = _H.full()\n",
    "    eigenValues, eigenVectors = eig(_H)\n",
    "    idx = eigenValues.argsort()[::-1]   \n",
    "    return eigenValues[idx], eigenVectors[:,idx]\n",
    "\n",
    "def to_eigenbasis(op, evals, evecs, evecs_inv):\n",
    "    if type(op) == qt.Qobj:\n",
    "        op = op.full()\n",
    "    A = np.matmul(evecs_inv, op)\n",
    "    return np.matmul(A, evecs)\n",
    "\n",
    "def to_site_basis(op, evals, evecs, evecs_inv):\n",
    "    if type(op) == qt.Qobj:\n",
    "        op = op.full()\n",
    "    A = np.matmul(evecs, op)\n",
    "    return np.matmul(A, evecs_inv)\n",
    "\n",
    "def array_to_qobj(arr, qobj_in_basis):\n",
    "    return qt.Qobj(arr, dims=qobj_in_basis.dims)\n",
    "#print H[1]\n",
    "eVals, eVecs = H[1].eigenstates()\n",
    "evecs = np.transpose(np.array([v.dag().full()[0] for v in eVecs]))\n",
    "\n",
    "#evals, evecs = sorted_eig(H[1])\n",
    "ti = time.time()\n",
    "evecs_inv = inv(evecs)\n",
    "print (time.time() - ti)\n",
    "D = to_eigenbasis(H[1], evals, evecs, evecs_inv)\n",
    "H_again = to_site_basis(qt.Qobj(D), evals, evecs, evecs_inv)\n",
    "\n",
    "assert np.sum(np.around(sorted_eig(qt.Qobj(H_array))[0]-sorted_eig(qt.Qobj(D))[0], 3)) == 0. # get diagonal\n",
    "assert np.sum(np.around(H_again - H_array, 3)) == 0. # get H again from diagonal\n",
    "\n",
    "print np.sum(D)\n",
    "print np.sum(H[1].transform(eVecs).full())"
   ]
  },
  {
   "cell_type": "code",
   "execution_count": null,
   "metadata": {
    "collapsed": true
   },
   "outputs": [],
   "source": [
    "v0 = v0_estimate(H, PARAMS, method=0)\n",
    "print(np.sum(abs(vec_to_dm(v0, H)-ssL)))\n",
    "rho = _steadystate(H, L, v0=v0, method=\"eigen\")"
   ]
  },
  {
   "cell_type": "code",
   "execution_count": null,
   "metadata": {
    "collapsed": true
   },
   "outputs": [],
   "source": [
    "v0 = v0_estimate(H, PARAMS, method=1)\n",
    "print(np.sum(abs(vec_to_dm(v0, H)-ssL)))\n",
    "rho = _steadystate(H, L, v0=v0)"
   ]
  },
  {
   "cell_type": "code",
   "execution_count": null,
   "metadata": {
    "collapsed": true
   },
   "outputs": [],
   "source": [
    "v0 = v0_estimate(H, PARAMS, method=2)\n",
    "print(np.sum(abs(vec_to_dm(v0, H)-ssL)))\n",
    "rho = _steadystate(H, L, v0=v0)"
   ]
  },
  {
   "cell_type": "code",
   "execution_count": null,
   "metadata": {
    "collapsed": true
   },
   "outputs": [],
   "source": [
    "#v0 = v0_estimate(H, PARAMS, method=0)\n",
    "#print(np.sum(abs(vec_to_dm(v0, H)-ssL)))\n",
    "rho = _steadystate(H, L, v0=None)"
   ]
  },
  {
   "cell_type": "code",
   "execution_count": null,
   "metadata": {
    "collapsed": true
   },
   "outputs": [],
   "source": [
    "visualise_sparse(L)\n",
    "visualise_sparse(L_tidy)"
   ]
  },
  {
   "cell_type": "code",
   "execution_count": null,
   "metadata": {
    "collapsed": true
   },
   "outputs": [],
   "source": [
    "print nonzero_elements(L)\n",
    "print nonzero_elements(L_tidy)\n",
    "print total_elements(L)\n",
    "print 100*float(nonzero_elements(L))/total_elements(L)\n",
    "print 100*float(nonzero_elements(L_tidy))/total_elements(L)"
   ]
  },
  {
   "cell_type": "code",
   "execution_count": null,
   "metadata": {
    "collapsed": true
   },
   "outputs": [],
   "source": [
    "print \"Total error per nz dm element due to chop: {}\".format(np.sum(ssL.full()-ssLt.full())/nonzero_elements(ssL)) \n",
    "\n",
    "visualise_dense(ssL)\n",
    "visualise_dense(ssLt)\n"
   ]
  },
  {
   "cell_type": "code",
   "execution_count": null,
   "metadata": {
    "collapsed": true
   },
   "outputs": [],
   "source": []
  },
  {
   "cell_type": "markdown",
   "metadata": {},
   "source": [
    "# For N=6, with no "
   ]
  },
  {
   "cell_type": "code",
   "execution_count": null,
   "metadata": {
    "code_folding": [],
    "collapsed": true
   },
   "outputs": [],
   "source": [
    "\"\"\"from heatmap_setup import steadystate\n",
    "\n",
    "w_2 = 8000.\n",
    "alpha = 20.\n",
    "\n",
    "N = 6\n",
    "pap = alpha_to_pialpha_prop(alpha, w_2)\n",
    "PARAMS = PARAMS_setup(bias=100., w_2=8000., V = 100., pialpha_prop=pap,\n",
    "                                 T_EM=6000., T_ph =300.,\n",
    "                                 alpha_EM=0.1, shift=True,\n",
    "                                 num_cpus=3, N=N, Gamma=200., w_0=300.,\n",
    "                                 silent=True, exc_diff=0)\n",
    "from numpy.linalg import norm\n",
    "def estimateCondition(M):\n",
    "    vec = np.ones((1, M.shape[0])).T\n",
    "    return norm(M.dot(vec), np.inf)\"\"\""
   ]
  },
  {
   "cell_type": "code",
   "execution_count": null,
   "metadata": {},
   "outputs": [
    {
     "name": "stdout",
     "output_type": "stream",
     "text": [
      "The operators took 0.512689113617 and have dimension 16.\n",
      "Building the RC Liouvillian took 0.518 seconds.\n",
      "****************************************************************\n",
      "It is 256by256. The full basis would be 256by256\n",
      "It took  0.485960006714  seconds to build the Non-secular RWA Liouvillian\n",
      "direct 0.0322630405426\n",
      "power 0.0322329998016\n",
      "The operators took 1.70861816406 and have dimension 36.\n",
      "Building the RC Liouvillian took 1.729 seconds.\n",
      "****************************************************************\n",
      "It is 1296by1296. The full basis would be 1296by1296\n",
      "It took  0.947709798813  seconds to build the Non-secular RWA Liouvillian\n",
      "direct 0.118867874146\n",
      "power 0.135626077652\n",
      "The operators took 2.17551994324 and have dimension 64.\n",
      "Building the RC Liouvillian took 2.330 seconds.\n",
      "****************************************************************\n",
      "It is 4096by4096. The full basis would be 4096by4096\n",
      "It took  1.41785907745  seconds to build the Non-secular RWA Liouvillian\n",
      "direct 1.57009887695\n",
      "power 1.56765699387\n",
      "The operators took 3.52975201607 and have dimension 100.\n",
      "Building the RC Liouvillian took 3.984 seconds.\n",
      "****************************************************************\n",
      "It is 10000by10000. The full basis would be 10000by10000\n",
      "It took  3.25907087326  seconds to build the Non-secular RWA Liouvillian\n",
      "direct 21.0599179268\n",
      "power 19.8519949913\n",
      "The operators took 8.7882130146 and have dimension 144.\n",
      "Building the RC Liouvillian took 10.267 seconds.\n",
      "****************************************************************\n",
      "It is 20736by20736. The full basis would be 20736by20736\n",
      "It took  6.75102996826  seconds to build the Non-secular RWA Liouvillian\n",
      "direct 236.046247005\n",
      "power 155.297327995\n",
      "The operators took 21.1131389141 and have dimension 196.\n",
      "Building the RC Liouvillian took 25.056 seconds.\n",
      "****************************************************************\n",
      "It is 38416by38416. The full basis would be 38416by38416\n",
      "It took  13.9055681229  seconds to build the Non-secular RWA Liouvillian\n",
      "direct 1116.69268203\n",
      "power 705.867386103\n",
      "The operators took 87.0868411064 and have dimension 256.\n",
      "Building the RC Liouvillian took 97.186 seconds.\n",
      "****************************************************************\n",
      "It is 65536by65536. The full basis would be 65536by65536\n",
      "It took  30.4958341122  seconds to build the Non-secular RWA Liouvillian\n",
      "direct 37.4957478046\n"
     ]
    },
    {
     "name": "stderr",
     "output_type": "stream",
     "text": [
      "/home/henry/anaconda2/envs/qutip/lib/python2.7/site-packages/qutip/steadystate.py:806: RuntimeWarning: invalid value encountered in divide\n",
      "  v = v / la.norm(v, np.inf)\n"
     ]
    },
    {
     "name": "stdout",
     "output_type": "stream",
     "text": [
      "power failed due to : array must not contain infs or NaNs\n",
      "The operators took 0.589689970016 and have dimension 16.\n",
      "Building the RC Liouvillian took 0.596 seconds.\n",
      "****************************************************************\n",
      "It is 256by256. The full basis would be 256by256\n",
      "It took  0.504094839096  seconds to build the Non-secular RWA Liouvillian\n",
      "THIS ONE IS EIG BASIS\n",
      "direct 0.0827350616455\n",
      "power 0.0317389965057\n",
      "The operators took 1.43930006027 and have dimension 36.\n",
      "Building the RC Liouvillian took 1.486 seconds.\n",
      "****************************************************************\n",
      "It is 1296by1296. The full basis would be 1296by1296\n",
      "It took  1.17172884941  seconds to build the Non-secular RWA Liouvillian\n",
      "THIS ONE IS EIG BASIS\n",
      "direct 0.117140054703\n",
      "power 0.121341943741\n",
      "The operators took 1.92389988899 and have dimension 64.\n",
      "Building the RC Liouvillian took 2.577 seconds.\n",
      "****************************************************************\n",
      "It is 4096by4096. The full basis would be 4096by4096\n",
      "It took  2.19043397903  seconds to build the Non-secular RWA Liouvillian\n",
      "THIS ONE IS EIG BASIS\n",
      "direct 2.00163412094\n",
      "power 2.42928409576\n",
      "The operators took 4.19254088402 and have dimension 100.\n",
      "Building the RC Liouvillian took 8.228 seconds.\n",
      "****************************************************************\n",
      "It is 10000by10000. The full basis would be 10000by10000\n",
      "It took  6.725689888  seconds to build the Non-secular RWA Liouvillian\n",
      "THIS ONE IS EIG BASIS\n",
      "direct 34.726006031\n",
      "power 28.4162399769\n",
      "The operators took 8.78202700615 and have dimension 144.\n",
      "Building the RC Liouvillian took 24.019 seconds.\n",
      "****************************************************************\n",
      "It is 20736by20736. The full basis would be 20736by20736\n",
      "It took  20.1587269306  seconds to build the Non-secular RWA Liouvillian\n",
      "THIS ONE IS EIG BASIS\n",
      "direct 326.136108875\n",
      "power 212.409295082\n",
      "The operators took 21.3563649654 and have dimension 196.\n"
     ]
    }
   ],
   "source": [
    "from qutip import build_preconditioner\n",
    "\n",
    "def method_plotter(N_vals, data_dict, info_dict, ax1, ax2, linestyle=\"solid\"):\n",
    "    lw=1.\n",
    "    if linestyle == 'dashed':\n",
    "        lw=1.8\n",
    "    for i, key in enumerate(data_dict.keys()):\n",
    "        ax1.plot(N_vals, data_dict[key], label=key, color=colourWheel[i], ls=linestyle, linewidth=lw)\n",
    "        #print info_dict[key]\n",
    "        ax2.plot(N_vals, info_dict[key], label=key, color=colourWheel[i], ls=linestyle, linewidth=lw)\n",
    "    ax1.legend()\n",
    "    ax2.legend()\n",
    "    ax1.set_ylabel(\"Coherence\")\n",
    "    ax2.set_ylabel(\"Solution time\")\n",
    "\n",
    "\n",
    "def method_comparison(N_i, N_f, plot=False, site_basis=True):\n",
    "    methods = ['direct','power']\n",
    "    data_dict = dict()\n",
    "    info_dict = dict()\n",
    "    N_vals = range(N_i, N_f)\n",
    "    for N in N_vals:\n",
    "        PARAMS.update({'N_1':N, 'N_2':N, 'exc':int(2*N)})\n",
    "        H, L = get_H_and_L(PARAMS,silent=False, threshold=1e-7, site_basis=site_basis)\n",
    "        exps = make_expectation_operators(H, PARAMS, site_basis=site_basis)\n",
    "        for method in methods:\n",
    "            try:\n",
    "                M=None\n",
    "                \"\"\" \n",
    "                if \"iterative\" in method:\n",
    "                    ti = time.time()\n",
    "                    M = build_preconditioner(H[1], [L], fill_factor=1000,\n",
    "                                           drop_tol=1e-4, use_rcm=True, ILU_MILU='smilu_2')\n",
    "                    print \"Building preconditioner ({}) took {} seconds\".format(estimateCondition(M), \n",
    "                                                                                     time.time()-ti)\"\"\"\n",
    "                ss, full_info = steadystate(H[1], [L], method=method, M=M,\n",
    "                                           use_precond=True, use_rcm=True, \n",
    "                                           return_info=True, tol=1e-8, maxiter=5000)\n",
    "\n",
    "                print method, full_info['solution_time']\n",
    "                info = full_info['solution_time']\n",
    "\n",
    "                coh = (exps['sigma_x']*ss).tr()\n",
    "                try:\n",
    "                    data_dict[method].append(coh)\n",
    "                    info_dict[method].append(info)\n",
    "                except KeyError:\n",
    "                    data_dict[method] = [coh]\n",
    "                    info_dict[method] = [info]\n",
    "            except Exception as err:\n",
    "                print \"{} failed due to : {}\".format(method, err)\n",
    "                try:\n",
    "                    data_dict[method].append(None)\n",
    "                    info_dict[method].append(None)\n",
    "                except KeyError:\n",
    "                    data_dict[method] = [None]\n",
    "                    info_dict[method] = [None]\n",
    "    #if plot:\n",
    "    #    method_plotter(N_vals, data_dict, info_dict)\n",
    "    return N_vals, data_dict, info_dict\n",
    "\n",
    "N_vals, data_dict_sb, info_dict_sb = method_comparison(2,9)\n",
    "N_vals, data_dict_eb, info_dict_eb = method_comparison(2,9, site_basis=False)\n",
    "\n",
    "f, (ax1, ax2) = plt.subplots(2,1, figsize=(10,7))\n",
    "method_plotter(N_vals, data_dict_sb, info_dict_sb, ax1, ax2)\n",
    "method_plotter(N_vals, data_dict_eb, info_dict_eb, ax1, ax2, linestyle=\"dashed\")\n",
    "plt.show()"
   ]
  },
  {
   "cell_type": "markdown",
   "metadata": {},
   "source": [
    "# Plotting methods"
   ]
  },
  {
   "cell_type": "code",
   "execution_count": null,
   "metadata": {
    "collapsed": true
   },
   "outputs": [],
   "source": []
  },
  {
   "cell_type": "code",
   "execution_count": null,
   "metadata": {
    "collapsed": true
   },
   "outputs": [],
   "source": [
    "def steadystate_observable(ss_array, PARAMS, observable):\n",
    "    try:\n",
    "        size = (len(PARAMS['y_values']), len(PARAMS['x_values']))\n",
    "    except KeyError:\n",
    "        size = (1,1)\n",
    "    # deal with the case where N is being changed as an x value\n",
    "    if 'N_1' in PARAMS['x_axis_parameters']:\n",
    "        data_array = np.zeros(size)         # Collect data\n",
    "        N_values = PARAMS['x_values']\n",
    "        # NEw observable operator for each N value\n",
    "        for i, N in enumerate(N_values):\n",
    "            PARAMS.update({'N_1' : N, 'N_2' : N})\n",
    "            exc = N+PARAMS['exc_diff']\n",
    "            # Leave it so exc can be fixed or a y_parameter\n",
    "            if 'exc' in PARAMS['x_axis_parameters']:\n",
    "                PARAMS.update({'exc': exc})\n",
    "            _obs_op = make_expectation_operators(PARAMS)[observable]\n",
    "            for j, y in enumerate(PARAMS['y_values']):\n",
    "                # the case where exc is on the y axis\n",
    "                if 'exc_diff' in PARAMS['y_axis_parameters']:\n",
    "                    PARAMS.update({'exc': N+y})\n",
    "                    _obs_op = make_expectation_operators(PARAMS)[observable]\n",
    "                try:\n",
    "                    print ss_array[j][i].shape, _obs_op.shape\n",
    "                    data_array[j][i] = (qt.Qobj(ss_array[j][i])*_obs_op).tr().real\n",
    "                except AttributeError:\n",
    "                    data_array[j][i] = np.nan\n",
    "        return data_array\n",
    "    else:\n",
    "        # Much simpler if N isn't on the x-axis\n",
    "        obs_op = make_expectation_operators(PARAMS)[observable]\n",
    "        f = lambda x: (qt.Qobj(x)*obs_op).tr()\n",
    "        ss_array = np.reshape(ss_array, (1, size[0]*size[1]))[0]\n",
    "\n",
    "        data_array = map(f, ss_array)\n",
    "        data_array = np.array(data_array).reshape(size).real\n",
    "        return data_array\n",
    "\n",
    "\n",
    "def heatmap_plotter(num, plot_SD=True, dir_name=\"heatmap\", \n",
    "                     print_params=False, observable='sigma_x', \n",
    "                    reverse_x=True):\n",
    "    \n",
    "    directory = 'DATA/'+dir_name+'_'+str(num)\n",
    "    ss_array = load_obj(directory+'/ss_array')\n",
    "    PARAMS = load_obj(directory+'/PARAMS')\n",
    "    info_array = load_obj(directory+'/info_array') # reverse ordering -> lower_N-higher_N\n",
    "    info = info_array[0][0]\n",
    "    \n",
    "    try:\n",
    "        # To catch an old bug where these were in \"info\" not in PARAMS\n",
    "        keys = ['x_values', 'y_values', 'y_axis_parameters', 'x_axis_parameters']\n",
    "        PARAMS.update(dict((key, info[key]) for key in keys))\n",
    "    except Exception as err:\n",
    "        print \"new style\"\n",
    "    if plot_SD:\n",
    "        plot_UD_SD(PARAMS[\"Gamma_1\"], PARAMS[\"alpha_1\"], PARAMS[\"w0_1\"], eps=2000.)\n",
    "    \n",
    "    ss_array = steadystate_observable(ss_array, PARAMS, observable)\n",
    "\n",
    "    \n",
    "    f, axes = plt.subplots(1,1, figsize=(13,6))\n",
    "    for i, y_val in enumerate(PARAMS['y_values']):\n",
    "        x_values = PARAMS['x_values']\n",
    "        if reverse_x:\n",
    "            x_values = x_values[::-1]\n",
    "        axes.plot(x_values, ss_array[i], \n",
    "                  label=str(PARAMS['y_axis_parameters'])+\"=\"+str(y_val))\n",
    "    \n",
    "    print_PARAMS(PARAMS)\n",
    "    \n",
    "    plt.xlabel(', '.join(PARAMS['x_axis_parameters']))\n",
    "    plt.ylabel(\"Steadystate \"+observable)\n",
    "    #plt.ylabel(', '.join(info['y_axis_parameters']))\n",
    "    plt.legend()\n",
    "    plt.grid()\n",
    "    plot_filename = 'PLOTS/'+dir_name+'_'+str(num)+'.pdf'\n",
    "    plt.savefig(plot_filename)\n",
    "    print \"saved at {}\".format(plot_filename)\n",
    "    plt.show()"
   ]
  },
  {
   "cell_type": "code",
   "execution_count": null,
   "metadata": {
    "collapsed": true
   },
   "outputs": [],
   "source": [
    "heatmap_plotter(2, plot_SD=False, dir_name='heatmap_excvN', \n",
    "                     print_params=False, observable='sigma_x', \n",
    "                    reverse_x=True)"
   ]
  },
  {
   "cell_type": "code",
   "execution_count": null,
   "metadata": {
    "collapsed": true
   },
   "outputs": [],
   "source": []
  }
 ],
 "metadata": {
  "kernelspec": {
   "display_name": "Python 2",
   "language": "python",
   "name": "python2"
  },
  "language_info": {
   "codemirror_mode": {
    "name": "ipython",
    "version": 2
   },
   "file_extension": ".py",
   "mimetype": "text/x-python",
   "name": "python",
   "nbconvert_exporter": "python",
   "pygments_lexer": "ipython2",
   "version": "2.7.13"
  }
 },
 "nbformat": 4,
 "nbformat_minor": 2
}
