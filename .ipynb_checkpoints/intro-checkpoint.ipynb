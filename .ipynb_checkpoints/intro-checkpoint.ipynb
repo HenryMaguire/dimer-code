{
 "cells": [
  {
   "cell_type": "code",
   "execution_count": 4,
   "metadata": {},
   "outputs": [
    {
     "name": "stdout",
     "output_type": "stream",
     "text": [
      "SES_setup loaded globally\n"
     ]
    }
   ],
   "source": [
    "%matplotlib inline \n",
    "\n",
    "import time\n",
    "import numpy as np\n",
    "\n",
    "import matplotlib\n",
    "import matplotlib.pyplot as plt\n",
    "\n",
    "from SES_setup import * # Boilerplate code for single excitation subspace version of dimer model\n",
    "from utils import * # Various helper functions\n",
    "from style import * # Contains styling settings\n",
    "\n"
   ]
  },
  {
   "cell_type": "markdown",
   "metadata": {},
   "source": [
    "# The model\n",
    "\n",
    "In this code we model a molecular system of the form:\n",
    "\n",
    "<img src=\"PLOTS/PAPER/sys_schem.png\" alt=\"Drawing\" style=\"width: 650px;\"/>\n",
    "\n",
    "where there are two molecules (monomers), each with an independent vibrational environment, with parallel dipole moments, causing them to couple. The whole two-molecule (dimer) system is then embedded in an optical environment. The right figure shows the system in the eigenbasis of the Hamiltonian. The point of all this, is to investigate whether *dark-state protection* can exist in these systems (energy absorbed by sun gets trapped in $|\\psi_-\\rangle$ rather than reemitted), enabling them to [enhance photovoltaic power in organic solar cells](https://journals.aps.org/prl/abstract/10.1103/PhysRevLett.111.253601). \n",
    "\n",
    "The vibrational environments are treated non-perturbatively via the [collective coordinate master equation](https://journals.aps.org/pra/abstract/10.1103/PhysRevA.90.032114), which maps the environments to two discrete modes, or collective coordinates (CC), and uses a Born-Markov master equation to describe the CC-residual bath interactions: \n",
    "<img src=\"PLOTS/PAPER/RC_mapping.png\" alt=\"Drawing\" style=\"width: 650px;\"/>\n",
    "\n",
    "The effect of the vibrations is included in the optical dissipator in a [*non-additive*](https://arxiv.org/abs/1812.04502) way.\n",
    "\n",
    "Firstly, we set up some basic parameters and enforce a few symmetries using the `PARAMS_setup` function. This just makes the two vibrational environments symmetric ($T_1 = T_2$, etc), truncates the Hilbert space appropriately (CC oscillators are infinite) and includes any detuning ($\\omega_1-\\omega_2$) in the system Hamiltonian."
   ]
  },
  {
   "cell_type": "code",
   "execution_count": 35,
   "metadata": {},
   "outputs": [],
   "source": [
    "N =4 # Size of CC hilbert space - should be infinite but we truncate\n",
    "\n",
    "w_0 = 30e-3*ev_to_inv_cm   # Peak center of Vibrational/phonon environment (Lorentzian)\n",
    "Gamma = 30e-3*ev_to_inv_cm # Width of Lorentzian\n",
    "T_ph = 300.                # Temperature of phonons\n",
    "w_2 = 1.4*ev_to_inv_cm     # Energy of site 2\n",
    "bias = 10e-3*ev_to_inv_cm  # Difference between site 1 and site 2 energies\n",
    "V = 10e-3*ev_to_inv_cm     # Inter-site coupling\n",
    "alpha = 8e-3*ev_to_inv_cm # Phonon coupling\n",
    "T_EM = 6000.               # Photon temperature (~black-body temperature of the sun)\n",
    "alpha_EM = 5.309e-3        # molecule-photon coupling strength \n",
    "\n",
    "\n",
    "PARAMS = PARAMS_setup(bias=bias, w_2=w_2, \n",
    "                      V = V, alpha=alpha,\n",
    "                      T_EM=T_EM, T_ph=T_ph, alpha_EM=alpha_EM, shift=True,\n",
    "                      num_cpus=4, N=N, Gamma=Gamma, w_0=w_0,\n",
    "                      silent=True, exc_diff=0)"
   ]
  },
  {
   "cell_type": "markdown",
   "metadata": {},
   "source": [
    "Now we build the Hamiltonians and master equations. `L` is a dictionary containing the additive and non-additive versions of the model.\n"
   ]
  },
  {
   "cell_type": "code",
   "execution_count": 36,
   "metadata": {},
   "outputs": [
    {
     "name": "stdout",
     "output_type": "stream",
     "text": [
      "****************************************************************\n",
      "The operators took 1.43907904625 and have dimension 39.\n",
      "Building the RC Liouvillian took 1.539 seconds.\n",
      "It is 1521by1521. The full basis would be 2304by2304\n",
      "Full optical Liouvillian took 0.967586994171 seconds.\n",
      "Full optical Liouvillian took 0.774498939514 seconds.\n",
      "Chopping reduced the sparsity from 10.104% to 8.759%\n"
     ]
    }
   ],
   "source": [
    "H, L, PARAMS = get_H_and_L(PARAMS,silent=False, threshold=1e-7)\n"
   ]
  },
  {
   "cell_type": "code",
   "execution_count": 37,
   "metadata": {},
   "outputs": [],
   "source": [
    "energies_dict, states_dict, phonon_occ_dict = separate_states(H[1], PARAMS, trunc=0.8)\n",
    "assert(energies_dict['ground'][0] == 0.0) # Check that the ground-state energy is zero\n"
   ]
  },
  {
   "cell_type": "code",
   "execution_count": 42,
   "metadata": {},
   "outputs": [
    {
     "name": "stdout",
     "output_type": "stream",
     "text": [
      "could calculate:\n",
      "['OO', 'sigma_z', 'sigma_y', 'sigma_x', 'XO', 'RC2_number', 'eig_x_equiv', 'dark', 'bright', 'RC1_number', 'RC2_position', 'OX', 'site_coherence', 'RC1_position1', 'eig_y', 'eig_x', 'eig_z']\n",
      "10.0%. Run time:  29.32s. Est. time left: 00:00:04:23\n",
      "20.0%. Run time:  59.29s. Est. time left: 00:00:03:57\n",
      "30.0%. Run time:  90.45s. Est. time left: 00:00:03:31\n",
      "40.0%. Run time: 126.69s. Est. time left: 00:00:03:10\n",
      "50.0%. Run time: 158.09s. Est. time left: 00:00:02:38\n",
      "60.0%. Run time: 187.75s. Est. time left: 00:00:02:05\n",
      "70.0%. Run time: 216.54s. Est. time left: 00:00:01:32\n",
      "80.0%. Run time: 245.26s. Est. time left: 00:00:01:01\n",
      "90.0%. Run time: 274.04s. Est. time left: 00:00:00:30\n",
      "Total run time: 302.76s\n"
     ]
    }
   ],
   "source": [
    "ops = make_expectation_operators(PARAMS)\n",
    "print(\"could calculate:\")\n",
    "print(ops.keys())\n",
    "timelist = np.linspace(0, 100, 2000)                            # List of time values for dynamics \n",
    "rho_0 = states_dict['ground'][0]*states_dict['ground'][0].dag() # Start system in ground state\n",
    "e_ops = [ops['dark'], ops['XO']]                                # List of expectation values to calculate\n",
    "dynamics = qt.mesolve(H[1], rho_0, timelist, c_ops=[L['nonadd']], e_ops=e_ops, progress_bar=True)"
   ]
  },
  {
   "cell_type": "code",
   "execution_count": 43,
   "metadata": {},
   "outputs": [],
   "source": [
    "steady = qt.steadystate(H[1], [L['nonadd']]) # Steadystate density matrix"
   ]
  },
  {
   "cell_type": "code",
   "execution_count": 41,
   "metadata": {},
   "outputs": [
    {
     "data": {
      "text/plain": [
       "<matplotlib.lines.Line2D at 0x118015350>"
      ]
     },
     "execution_count": 41,
     "metadata": {},
     "output_type": "execute_result"
    },
    {
     "data": {
      "image/png": "[encoded data removed]",
      "text/plain": [
       "<Figure size 432x288 with 1 Axes>"
      ]
     },
     "metadata": {
      "needs_background": "light"
     },
     "output_type": "display_data"
    }
   ],
   "source": [
    "plt.plot(timelist, dynamics.expect[0])\n",
    "plt.axhline((steady*ops['dark']).tr().real, linestyle='dashed')"
   ]
  },
  {
   "cell_type": "markdown",
   "metadata": {},
   "source": [
    "**Now lets increase phonon coupling and see if the dark-state population increases or decreases**"
   ]
  },
  {
   "cell_type": "code",
   "execution_count": 44,
   "metadata": {},
   "outputs": [
    {
     "name": "stdout",
     "output_type": "stream",
     "text": [
      "****************************************************************\n",
      "The operators took 1.32873892784 and have dimension 39.\n",
      "Building the RC Liouvillian took 1.415 seconds.\n",
      "It is 1521by1521. The full basis would be 2304by2304\n",
      "Full optical Liouvillian took 0.973632097244 seconds.\n",
      "Full optical Liouvillian took 0.736009120941 seconds.\n",
      "Chopping reduced the sparsity from 10.137% to 8.759%\n",
      "10.0%. Run time:  29.45s. Est. time left: 00:00:04:25\n",
      "20.0%. Run time:  58.41s. Est. time left: 00:00:03:53\n",
      "30.0%. Run time:  87.53s. Est. time left: 00:00:03:24\n",
      "40.0%. Run time: 116.58s. Est. time left: 00:00:02:54\n",
      "50.0%. Run time: 145.52s. Est. time left: 00:00:02:25\n",
      "60.0%. Run time: 174.56s. Est. time left: 00:00:01:56\n",
      "70.0%. Run time: 203.71s. Est. time left: 00:00:01:27\n",
      "80.0%. Run time: 232.87s. Est. time left: 00:00:00:58\n",
      "90.0%. Run time: 262.01s. Est. time left: 00:00:00:29\n",
      "Total run time: 290.79s\n"
     ]
    }
   ],
   "source": [
    "alpha = 10e-3*ev_to_inv_cm # Phonon coupling\n",
    "PARAMS = PARAMS_setup(bias=bias, w_2=w_2, \n",
    "                      V = V, alpha=alpha,\n",
    "                      T_EM=T_EM, T_ph=T_ph, alpha_EM=alpha_EM, shift=True,\n",
    "                      num_cpus=4, N=N, Gamma=Gamma, w_0=w_0,\n",
    "                      silent=True, exc_diff=0)\n",
    "H, L, PARAMS = get_H_and_L(PARAMS,silent=False, threshold=1e-7)\n",
    "dynamics_stronger = qt.mesolve(H[1], rho_0, timelist, \n",
    "                               c_ops=[L['nonadd']], e_ops=e_ops, progress_bar=True)\n",
    "steady_stronger = qt.steadystate(H[1], [L['nonadd']]) # Steadystate density matrix\n"
   ]
  },
  {
   "cell_type": "code",
   "execution_count": 46,
   "metadata": {},
   "outputs": [
    {
     "data": {
      "text/plain": [
       "<matplotlib.legend.Legend at 0x118211090>"
      ]
     },
     "execution_count": 46,
     "metadata": {},
     "output_type": "execute_result"
    },
    {
     "data": {
      "image/png": "[encoded data removed]",
      "text/plain": [
       "<Figure size 432x288 with 1 Axes>"
      ]
     },
     "metadata": {
      "needs_background": "light"
     },
     "output_type": "display_data"
    }
   ],
   "source": [
    "plt.plot(timelist, dynamics.expect[0], color=colourWheel[0], label='weaker')\n",
    "plt.plot(timelist, dynamics_stronger.expect[0], color=colourWheel[7], label='stronger')\n",
    "\n",
    "plt.axhline((steady*ops['dark']).tr().real, linestyle='dashed', color=colourWheel[0])\n",
    "plt.axhline((steady_stronger*ops['dark']).tr().real, linestyle='dashed', color=colourWheel[7])\n",
    "plt.legend()"
   ]
  },
  {
   "cell_type": "markdown",
   "metadata": {},
   "source": [
    "In this case, stronger phonon coupling does not increase steadystate dark-state population."
   ]
  },
  {
   "cell_type": "code",
   "execution_count": null,
   "metadata": {},
   "outputs": [],
   "source": []
  }
 ],
 "metadata": {
  "kernelspec": {
   "display_name": "Python 2",
   "language": "python",
   "name": "python2"
  },
  "language_info": {
   "codemirror_mode": {
    "name": "ipython",
    "version": 2
   },
   "file_extension": ".py",
   "mimetype": "text/x-python",
   "name": "python",
   "nbconvert_exporter": "python",
   "pygments_lexer": "ipython2",
   "version": "2.7.15"
  }
 },
 "nbformat": 4,
 "nbformat_minor": 2
}
