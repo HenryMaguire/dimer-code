{
 "cells": [
  {
   "cell_type": "code",
   "execution_count": 2,
   "metadata": {},
   "outputs": [
    {
     "name": "stdout",
     "output_type": "stream",
     "text": [
      "The operators took 0.14124417305 and have dimension 12.\n",
      "Building the RC Liouvillian took 0.155 seconds.\n",
      "****************************************************************\n",
      "It is 144by144. The full basis would be 144by144\n",
      "It took  0.14484000206  seconds to build the Non-secular RWA Liouvillian\n",
      "Building preconditioner took 0.00454807281494 seconds\n",
      "{'permc_spec': 'NATURAL', 'fill_factor': 500, 'l_nnz': 599, 'weight': 648.4945790453696, 'solver': None, 'diag_pivot_thresh': None, 'residual_norm': None, 'ilu_fill_factor': 1, 'solution_time': None, 'precond_time': 0.0006279945373535156, 'rcm_time': 0.0006849765777587891, 'u_nnz': 469, 'perm': ['rcm'], 'ilu_condest': 3219.1401064756033, 'ILU_MILU': 'smilu_2', 'method': None, 'drop_tol': 0.0001}\n",
      "{'weight': 648.4945790453696, 'solver': 'scipy', 'residual_norm': 3.6625202507260984e-08, 'solution_time': 0.001981019973754883, 'rcm_time': 0.0005238056182861328, 'perm': ['rcm'], 'iterations': 2, 'iter_time': 0.001981019973754883, 'method': 'iterative-lgmres'}\n",
      "[[4, 2, 2], [4, 2, 2]]\n"
     ]
    },
    {
     "ename": "TypeError",
     "evalue": "Incompatible Qobj shapes",
     "output_type": "error",
     "traceback": [
      "\u001b[0;31m---------------------------------------------------------------------------\u001b[0m",
      "\u001b[0;31mTypeError\u001b[0m                                 Traceback (most recent call last)",
      "\u001b[0;32m<ipython-input-2-11ab5bf4b408>\u001b[0m in \u001b[0;36m<module>\u001b[0;34m()\u001b[0m\n\u001b[1;32m     37\u001b[0m     \u001b[0;32mprint\u001b[0m \u001b[0me_ops\u001b[0m\u001b[0;34m[\u001b[0m\u001b[0;34m'bright'\u001b[0m\u001b[0;34m]\u001b[0m\u001b[0;34m.\u001b[0m\u001b[0mdims\u001b[0m\u001b[0;34m\u001b[0m\u001b[0m\n\u001b[1;32m     38\u001b[0m     \u001b[0;32mprint\u001b[0m \u001b[0;34m(\u001b[0m\u001b[0me_ops\u001b[0m\u001b[0;34m[\u001b[0m\u001b[0;34m'bright'\u001b[0m\u001b[0;34m]\u001b[0m\u001b[0;34m*\u001b[0m\u001b[0mss\u001b[0m\u001b[0;34m)\u001b[0m\u001b[0;34m.\u001b[0m\u001b[0mtr\u001b[0m\u001b[0;34m(\u001b[0m\u001b[0;34m)\u001b[0m\u001b[0;34m\u001b[0m\u001b[0m\n\u001b[0;32m---> 39\u001b[0;31m \u001b[0mcalculate_steadystate_populations_SES\u001b[0m\u001b[0;34m(\u001b[0m\u001b[0;34m)\u001b[0m\u001b[0;34m\u001b[0m\u001b[0m\n\u001b[0m",
      "\u001b[0;32m<ipython-input-2-11ab5bf4b408>\u001b[0m in \u001b[0;36mcalculate_steadystate_populations_SES\u001b[0;34m()\u001b[0m\n\u001b[1;32m     36\u001b[0m     \u001b[0me_ops\u001b[0m \u001b[0;34m=\u001b[0m \u001b[0mmake_expectation_operators\u001b[0m\u001b[0;34m(\u001b[0m\u001b[0mPARAMS\u001b[0m\u001b[0;34m)\u001b[0m\u001b[0;34m\u001b[0m\u001b[0m\n\u001b[1;32m     37\u001b[0m     \u001b[0;32mprint\u001b[0m \u001b[0me_ops\u001b[0m\u001b[0;34m[\u001b[0m\u001b[0;34m'bright'\u001b[0m\u001b[0;34m]\u001b[0m\u001b[0;34m.\u001b[0m\u001b[0mdims\u001b[0m\u001b[0;34m\u001b[0m\u001b[0m\n\u001b[0;32m---> 38\u001b[0;31m     \u001b[0;32mprint\u001b[0m \u001b[0;34m(\u001b[0m\u001b[0me_ops\u001b[0m\u001b[0;34m[\u001b[0m\u001b[0;34m'bright'\u001b[0m\u001b[0;34m]\u001b[0m\u001b[0;34m*\u001b[0m\u001b[0mss\u001b[0m\u001b[0;34m)\u001b[0m\u001b[0;34m.\u001b[0m\u001b[0mtr\u001b[0m\u001b[0;34m(\u001b[0m\u001b[0;34m)\u001b[0m\u001b[0;34m\u001b[0m\u001b[0m\n\u001b[0m\u001b[1;32m     39\u001b[0m \u001b[0mcalculate_steadystate_populations_SES\u001b[0m\u001b[0;34m(\u001b[0m\u001b[0;34m)\u001b[0m\u001b[0;34m\u001b[0m\u001b[0m\n",
      "\u001b[0;32m/Users/henrymaguire/.pyenv/versions/2.7.15/lib/python2.7/site-packages/qutip/qobj.pyc\u001b[0m in \u001b[0;36m__mul__\u001b[0;34m(self, other)\u001b[0m\n\u001b[1;32m    538\u001b[0m \u001b[0;34m\u001b[0m\u001b[0m\n\u001b[1;32m    539\u001b[0m             \u001b[0;32melse\u001b[0m\u001b[0;34m:\u001b[0m\u001b[0;34m\u001b[0m\u001b[0m\n\u001b[0;32m--> 540\u001b[0;31m                 \u001b[0;32mraise\u001b[0m \u001b[0mTypeError\u001b[0m\u001b[0;34m(\u001b[0m\u001b[0;34m\"Incompatible Qobj shapes\"\u001b[0m\u001b[0;34m)\u001b[0m\u001b[0;34m\u001b[0m\u001b[0m\n\u001b[0m\u001b[1;32m    541\u001b[0m \u001b[0;34m\u001b[0m\u001b[0m\n\u001b[1;32m    542\u001b[0m         \u001b[0;32melif\u001b[0m \u001b[0misinstance\u001b[0m\u001b[0;34m(\u001b[0m\u001b[0mother\u001b[0m\u001b[0;34m,\u001b[0m \u001b[0mnp\u001b[0m\u001b[0;34m.\u001b[0m\u001b[0mndarray\u001b[0m\u001b[0;34m)\u001b[0m\u001b[0;34m:\u001b[0m\u001b[0;34m\u001b[0m\u001b[0m\n",
      "\u001b[0;31mTypeError\u001b[0m: Incompatible Qobj shapes"
     ]
    }
   ],
   "source": [
    "from utils import *\n",
    "import matplotlib.pyplot as plt\n",
    "\n",
    "#from heatmap_setup import calculate_steadystate\n",
    "import heatmap_setup as hm\n",
    "from scipy.sparse.linalg import eigs, lgmres\n",
    "from scipy.sparse import csc_matrix\n",
    "import time\n",
    "from style import *\n",
    "\n",
    "from SES_setup import *\n",
    "def calculate_steadystate_populations_SES():\n",
    "    reload(hm)\n",
    "    w_2 = 8000.\n",
    "    alpha = 0./pi\n",
    "\n",
    "    N = 2\n",
    "    pap = alpha_to_pialpha_prop(alpha, w_2)\n",
    "    wc = 100.\n",
    "    w_0 = 200.\n",
    "    Gamma = (w_0**2)/wc\n",
    "    PARAMS = PARAMS_setup(bias=100., w_2=8000., V = 100., pialpha_prop=pap,\n",
    "                                     T_EM=6000., T_ph =300.,\n",
    "                                     alpha_EM=0.1, shift=True,\n",
    "                                     num_cpus=3, N=N, Gamma=Gamma, w_0=w_0,\n",
    "                                     silent=True, exc_diff=1)\n",
    "\n",
    "    H, L = get_H_and_L(PARAMS,silent=False)\n",
    "    # numpy imported as well as qutip and various functions\n",
    "    ss, info = hm.calculate_steadystate(H, L, fill_factor=500, tol=1e-8, \n",
    "                                     persistent=False, method=\"iterative-lgmres\")\n",
    "    print info\n",
    "    \"\"\"ss2, info2 = hm.calculate_steadystate_bootstrap(H, L, chop_threshold=3e-10, \n",
    "                                                  fill_factor=500, method=\"iterative-lgmres\", maxiter=500)\n",
    "    print info2\"\"\"\n",
    "    e_ops = make_expectation_operators(PARAMS)\n",
    "    print e_ops['bright'].dims\n",
    "    print (e_ops['bright']*ss).tr()\n",
    "calculate_steadystate_populations_SES()"
   ]
  },
  {
   "cell_type": "code",
   "execution_count": null,
   "metadata": {},
   "outputs": [],
   "source": [
    "%reset -f\n",
    "from utils import *\n",
    "import matplotlib.pyplot as plt\n",
    "\n",
    "#from heatmap_setup import calculate_steadystate\n",
    "import heatmap_setup as hm\n",
    "from scipy.sparse.linalg import eigs, lgmres\n",
    "from scipy.sparse import csc_matrix\n",
    "import time\n",
    "from style import *\n",
    "\n",
    "from dimer_setup import *\n",
    "def calculate_steadystate_populations_SES():\n",
    "    reload(hm)\n",
    "    w_2 = 8000.\n",
    "    alpha = 0./pi\n",
    "\n",
    "    N = 2\n",
    "    pap = alpha_to_pialpha_prop(alpha, w_2)\n",
    "    wc = 100.\n",
    "    w_0 = 200.\n",
    "    Gamma = (w_0**2)/wc\n",
    "    PARAMS = PARAMS_setup(bias=100., w_2=8000., V = 100., pialpha_prop=pap,\n",
    "                                     T_EM=6000., T_ph =300.,\n",
    "                                     alpha_EM=0.1, shift=True,\n",
    "                                     num_cpus=3, N=N, Gamma=Gamma, w_0=w_0,\n",
    "                                     silent=True, exc_diff=1)\n",
    "\n",
    "    H, L = get_H_and_L(PARAMS,silent=False)\n",
    "    # numpy imported as well as qutip and various functions\n",
    "    ss, info = hm.calculate_steadystate(H, L, fill_factor=500, tol=1e-8, \n",
    "                                     persistent=False, method=\"iterative-lgmres\")\n",
    "    print info\n",
    "    \"\"\"ss2, info2 = hm.calculate_steadystate_bootstrap(H, L, chop_threshold=3e-10, \n",
    "                                                  fill_factor=500, method=\"iterative-lgmres\", maxiter=500)\n",
    "    print info2\"\"\"\n",
    "    e_ops = make_expectation_operators(PARAMS)\n",
    "    print (e_ops['bright']*ss).tr()\n",
    "calculate_steadystate_populations_SES()"
   ]
  },
  {
   "cell_type": "code",
   "execution_count": null,
   "metadata": {},
   "outputs": [],
   "source": []
  }
 ],
 "metadata": {
  "kernelspec": {
   "display_name": "Python 2",
   "language": "python",
   "name": "python2"
  },
  "language_info": {
   "codemirror_mode": {
    "name": "ipython",
    "version": 2
   },
   "file_extension": ".py",
   "mimetype": "text/x-python",
   "name": "python",
   "nbconvert_exporter": "python",
   "pygments_lexer": "ipython2",
   "version": "2.7.15"
  }
 },
 "nbformat": 4,
 "nbformat_minor": 2
}
