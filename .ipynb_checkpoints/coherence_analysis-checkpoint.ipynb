{
 "cells": [
  {
   "cell_type": "markdown",
   "metadata": {},
   "source": [
    "# Coherence analysis for the dimer paper\n",
    "\n",
    "In these notes I will make sense of the coherence dynamics and steadystates for the dimer system. From the calculations ($\\omega_1 = \\omega_2 + \\epsilon$) I find that \n",
    "\n",
    "$|\\psi_-\\rangle\\langle\\psi_+| +  |\\psi_+\\rangle\\langle\\psi_-| = \\frac{2V}{\\eta} |1\\rangle\\langle 1|-|2\\rangle\\langle 2|) - \\frac{\\epsilon}{2\\eta} (|2\\rangle\\langle1|+|1\\rangle\\langle2|)$\n",
    "\n",
    "which suggests that the real part of the eigenstate coherence incorporates both the real site coherence and the site population imbalance. We can numerically check this in the open 4LS to see if it holds true. Additionally,\n",
    "\n",
    "$j = \\dot{N_1} = 2 V \\Im(<{|2\\rangle\\langle 1|}>) = 2 V \\Im(<{|-\\rangle\\langle +|}>)$, where the outer $<.>$ are expectation values with the reduced density matrix. This means that the imaginary coherence is the same in both the site and exciton basis and that it is proportional to the particle current between sites.\n",
    "\n",
    "### Preliminary checks & gaining insight\n",
    "- Check that the real eigenstate coherence is equal to the sum shown above\n",
    "    - Q: For a homodimer, does real e-coherence always equilibrate to zero? Strongly non-equilibrium systems? Perhaps a non-local dissipator won't cause coherence, but local ones (additive) ones do?\n",
    "- Check that the imaginary eigenstate coherence is converged, see that it is equal to the site coherence and see if it goes to zero in the steady state (both with and without optical driving).\n",
    "    - Q: What does it mean if it's non-zero? In the single-excitation subspace, should this be zero at steadystate due to conservation of particle number? In the dimer, is there a three way particle exchange occurring? \n",
    "- In mathematica, look at the Hamiltonian for small N with two RCs. Do the $\\kappa_i$ act on separately on the monomer they are coupled to? Or do they cause transitions non-locally?\n",
    "### Results we're aiming for\n",
    "As it stands, eigenstate populations and the real and imaginary parts of coherences are of interest. I think the presence of electronic coherence in 2DFS experiments relates to site coherence (Mukamel for dummies), however, eigenstate coherence incorporates that anyway and is more interesting as it is only possible via the non-equilibrium/non-Markovian nature of the phonon baths. Its existence is a clear feature of the strong-coupling theory, so interpreting it is of interest to this work. The following will all be with symmetrical phonon baths $\\alpha_1 = \\alpha_2 = \\alpha_{ph}$.\n",
    "\n",
    "Indeed, it is not possible to alter the phonon-coupling rate in molecules, but it is interesting to know the $\\alpha_{ph}$-dependence of various density matrix elements, particularly if they reach maxima as a function of $\\alpha_{ph}$: for example, excitonic coherence may increase to a point as the phonons want to equilibrate the system into eigenstates which are less excitonic and more vibronic, but at some point there may be a localisation effect where V is suppressed. 4 figures: 2 should be ss populations as a function of $\\alpha_{ph}$ at different system parameter regimes, the other two should be real and imaginary eigenstate coherence as a function of $\\alpha_{ph}$ but for various parameter regimes.\n",
    "\n",
    "Q: Is it important to look at temperature dependence?\n",
    "\n",
    "Similarly to alpha dependence, the temperatures of the different baths will cause dissipation at different rates and towards different thermal states. THis non-equilibrium behaviour should be also effected by the different temperature baths $\\frac{T_{EM}}{T_{ph}}$.\n"
   ]
  },
  {
   "cell_type": "code",
   "execution_count": 2,
   "metadata": {},
   "outputs": [
    {
     "data": {
      "text/plain": [
       "<module 'optical' from 'optical.pyc'>"
      ]
     },
     "execution_count": 2,
     "metadata": {},
     "output_type": "execute_result"
    }
   ],
   "source": [
    "import os\n",
    "\n",
    "import numpy as np\n",
    "from numpy import pi, sqrt\n",
    "import matplotlib.pyplot as plt\n",
    "import phonons as RC\n",
    "import optical as opt\n",
    "import time\n",
    "from phonons import RC_mapping\n",
    "from optical import L_non_rwa, L_phenom\n",
    "from qutip import basis, qeye, enr_identity, enr_destroy, tensor, enr_thermal_dm, steadystate\n",
    "from utils import *\n",
    "import tests as check\n",
    "\n",
    "\n",
    "reload(RC)\n",
    "reload(opt)"
   ]
  },
  {
   "cell_type": "code",
   "execution_count": 6,
   "metadata": {
    "collapsed": true
   },
   "outputs": [],
   "source": [
    "n = iter(range(5,8))\n",
    "lab = ['full', 'add. ns', 'add']"
   ]
  },
  {
   "cell_type": "code",
   "execution_count": 140,
   "metadata": {},
   "outputs": [
    {
     "data": {
      "image/png": "[encoded data removed]",
      "text/plain": [
       "<matplotlib.figure.Figure at 0x114055bd0>"
      ]
     },
     "metadata": {},
     "output_type": "display_data"
    }
   ],
   "source": [
    "\n",
    "\"\"\"for d in dat:\n",
    "    \n",
    "    for i, l in enumerate(d):\n",
    "        plt.plot(l.expect[1].real, label=lab[i])\n",
    "    #plt.plot(d.expect[0].imag, ls='dashed')\n",
    "plt.legend(loc='best')\"\"\"\n",
    "plt.figure()\n",
    "for d in dat1:\n",
    "    for i, l in enumerate(d):\n",
    "        plt.plot(l.expect[4].real, label=lab[i])\n",
    "        #plt.plot(l.expect[0].real, label=lab[i])\n",
    "    #plt.plot(d.expect[0].imag, ls='dashed')\n",
    "plt.legend(loc='best')\n",
    "plt.show()"
   ]
  },
  {
   "cell_type": "markdown",
   "metadata": {},
   "source": [
    "# Steady state plots for the paper\n",
    "Choose the best model and use it to plot\n",
    "\n",
    "4 $\\alpha_{ph}$-dependence figures:\n",
    "\n",
    "- 2 should be ss populations as a function of $\\alpha_{ph}$ at 2 different system parameter regimes\n",
    "- 2 should be (1) real and (2) imaginary eigenstate coherence as a function of $\\alpha_{ph}$ for various parameter regimes.\n",
    "\n",
    "4 $\\frac{T_{EM}}{T_{ph}}$-dependence figures:\n",
    "- populations at 2 different system parameter regimes\n",
    "- real coherence for various parameters\n",
    "- imaginary coherence for various parameters"
   ]
  },
  {
   "cell_type": "markdown",
   "metadata": {},
   "source": [
    "### Populations\n",
    "Why? \n",
    "- In order to see how the phonons effect transitions between dark and bright states given their energy gap\n",
    "- To see how steadystate population imbalance leads to excitonic coherence"
   ]
  },
  {
   "cell_type": "code",
   "execution_count": 3,
   "metadata": {
    "collapsed": true
   },
   "outputs": [],
   "source": [
    "reload(opt)\n",
    "def alpha_dependence(bias=100., w_2=2000., V = 100., \n",
    "                                 T_EM=6000., T_ph =300., \n",
    "                                 alpha_EM=1., shift=True,\n",
    "                                lower_prop=0.005, upper_prop=0.5, \n",
    "                                 num=15, lower_N=3, upper_N=15, num_cpus=1):\n",
    "    gap = sqrt(bias**2 +4*(V**2))\n",
    "    phonon_energy = T_ph*0.695\n",
    "    \n",
    "    OO = basis(4,0)\n",
    "    XO = basis(4,1)\n",
    "    OX = basis(4,2)\n",
    "    XX = basis(4,3)\n",
    "    sigma_m1 = OX*XX.dag() + OO*XO.dag()\n",
    "    sigma_m2 = XO*XX.dag() + OO*OX.dag()\n",
    "    sigma_x1 = sigma_m1+sigma_m1.dag()\n",
    "    sigma_x2 = sigma_m2+sigma_m2.dag()\n",
    "    w_1 = w_2 + bias\n",
    "    dipole_1, dipole_2 = 1., 1.\n",
    "    mu = w_2*dipole_2/(w_1*dipole_1)\n",
    "    sigma = sigma_m1 + mu*sigma_m2\n",
    "    T_1, T_2 = 300., 300. # Phonon bath temperature\n",
    "\n",
    "    wc = 1*53.08 # Ind.-Boson frame phonon cutoff freq\n",
    "    Gamma_1, Gamma_2 = 50., 50.\n",
    "    w0_2, w0_1 = w_2*0.07, w_2*0.07 # underdamped SD parameter omega_0\n",
    "    w_xx = w_2 + w_1\n",
    "    print \"Gap is {}. Phonon thermal energy is {}. Phonon SD peak is {}.\".format(gap, phonon_energy, w0_2)\n",
    "    I_dimer = qeye(4)\n",
    "\n",
    "    J = J_minimal\n",
    "\n",
    "    PARAM_names = ['w_1', 'w_2', 'V', 'bias', 'w_xx', 'T_1', 'T_2', 'wc',\n",
    "                   'w0_1', 'w0_2', 'T_EM', 'alpha_EM','mu', 'num_cpus', 'J', \n",
    "                   'dipole_1','dipole_2', 'Gamma_1', 'Gamma_2']\n",
    "    scope = locals() # Lets eval below use local variables, not global\n",
    "    PARAMS = dict((name, eval(name, scope)) for name in PARAM_names)\n",
    "    \n",
    "    '''Defining DM states'''\n",
    "    \n",
    "\n",
    "    #Now we build all of the mapped operators and RC Liouvillian.\n",
    "    \n",
    "    # electromagnetic bath liouvillians\n",
    "    N_vals = [int(i) for i in np.logspace(np.log10(lower_N),np.log10(upper_N), num)]\n",
    "    pialphas = np.logspace(np.log10(lower_prop), np.log10(upper_prop), num)\n",
    "    steady_states = []\n",
    "    \n",
    "    for i, pialpha in enumerate(pialphas):\n",
    "        alpha = w_2*pialpha/pi\n",
    "        N_1 = N_2 = N = N_vals[i]\n",
    "        exc = N\n",
    "        \n",
    "        silent = False\n",
    "        if N<5:\n",
    "            silent = True\n",
    "        \n",
    "        PARAMS.update({'alpha_1': alpha, 'alpha_2': alpha})\n",
    "        PARAMS.update({'N_1': N_1, 'N_2': N_2})\n",
    "        PARAMS.update({'exc': exc})\n",
    "        I = enr_identity([N_1,N_2], exc)\n",
    "        ''' generate the RC liouvillian '''\n",
    "        # Get the mapped parameters back\n",
    "        L_RC, H, A_1, A_2, SIG_1, SIG_2, PARAMS = RC.RC_mapping(PARAMS, \n",
    "                                                                silent=silent, \n",
    "                                                                shift=True)\n",
    "        \n",
    "        L_EM_full = opt.L_non_rwa(H[1], tensor(sigma,I), PARAMS, silent=silent)\n",
    "        ti = time.time()\n",
    "        L = L_RC+L_EM_full\n",
    "        if N >5:\n",
    "            print i+1, \" N=\",N\n",
    "            method='iterative-lgmres'\n",
    "            use_precond = True\n",
    "            ff=100\n",
    "            dt=1e-4\n",
    "            if N>7:\n",
    "                ff = 50\n",
    "                dt = 1e-3\n",
    "                if N>9:\n",
    "                    ff = 30\n",
    "                    dt = 1e-2\n",
    "        else:\n",
    "            method = 'direct'\n",
    "            use_precond = False\n",
    "            ff=100\n",
    "            dt=1e-4\n",
    "        ss = steadystate(H[1], [L], method=method, use_precond=use_precond,\n",
    "                                                 fill_factor=ff, drop_tol=dt)\n",
    "        steady_states.append(ss)\n",
    "        if not silent:\n",
    "            print \"full steady states took {:0.3f} seconds\".format(time.time()-ti)\n",
    "    j = 1\n",
    "    saved = False\n",
    "    while not saved:\n",
    "        directory = 'DATA/ss_wrt_alpha_'+str(j)\n",
    "        if not os.path.exists(directory):\n",
    "            os.makedirs(directory)\n",
    "            save_obj(pialphas, directory+'/pialphas')\n",
    "            save_obj(steady_states, directory+'/steady_states')\n",
    "            save_obj(PARAMS, directory+'/PARAMS')\n",
    "            save_obj(N_vals, directory+'/N_vals')\n",
    "            saved = True\n",
    "        else:\n",
    "            j+=1\n",
    "    return pialphas, steady_states, PARAMS, N_vals\n",
    "\n",
    "def population_alpha_dependence_plotter(num, eig=False):\n",
    "    directory = 'DATA/ss_wrt_alpha_'+str(num)\n",
    "    pialphas  = load_obj(directory+'/pialphas')\n",
    "    steady_states = load_obj(directory+'/steady_states')\n",
    "    PARAMS = load_obj(directory+'/PARAMS')\n",
    "    N_vals = load_obj(directory+'/N_vals')\n",
    "    OO = basis(4,0)\n",
    "    XO = basis(4,1)\n",
    "    OX = basis(4,2)\n",
    "    XX = basis(4,3)\n",
    "    OO_proj = OO*OO.dag()\n",
    "    XO_proj = XO*XO.dag()\n",
    "    OX_proj = OX*OX.dag()\n",
    "    XX_proj = XX*XX.dag()\n",
    "    energies, states = exciton_states(PARAMS, shift=False) \n",
    "    bright_vec = states[1]\n",
    "    dark_vec = states[0]\n",
    "    #print bright_vec, (sigma_m1 + sigma_m2)*bright_vec\n",
    "    #print dark_vec, np.dot((sigma_m1 + sigma_m2).full(), dark_vec.full())\n",
    "    dark = dark_vec*dark_vec.dag()\n",
    "    bright = bright_vec*bright_vec.dag()\n",
    "    e_ops = [OO_proj, XO_proj, OX_proj, XX_proj, dark, bright]\n",
    "    expectation_values = []\n",
    "    for e_op in e_ops:\n",
    "        dat = []\n",
    "        for i, ss in enumerate(steady_states):\n",
    "            I = enr_identity([N_vals[i],N_vals[i]], N_vals[i])\n",
    "            dat.append((tensor(e_op,I)*ss).tr())    \n",
    "        expectation_values.append(dat)\n",
    "        \n",
    "    ''' make the RC observable operators '''\n",
    "    \n",
    "    \n",
    "    plt.figure()\n",
    "    colors = [c['color'] for c in plt.rcParams['axes.prop_cycle']]\n",
    "    labels = ['g', '1', '2', 'XX']\n",
    "    ids = [0,1,2,3]\n",
    "    if eig:\n",
    "        labels = ['g', 'dark', 'bright', 'XX']\n",
    "        ids = [0,4,5,3]\n",
    "    for i, l in zip(ids, labels):\n",
    "        plt.plot(pialphas, expectation_values[i], label=l, color=colors[i])\n",
    "    plt.xlabel(r'$\\pi \\alpha$ (units of $\\omega_2$)')\n",
    "    plt.ylabel(r'Population')\n",
    "    plt.legend()\n",
    "    plt.show()\n",
    "    \n",
    "    return pialphas, expectation_values\n",
    "\n",
    "def coherence_alpha_dependence_plotter(pialphas, steady_states, \n",
    "                                        PARAMS, N_vals, eig=False):\n",
    "    OO = basis(4,0)\n",
    "    XO = basis(4,1)\n",
    "    OX = basis(4,2)\n",
    "    XX = basis(4,3)\n",
    "    site_coherence = OX*XO.dag()\n",
    "    \n",
    "    energies, states = exciton_states(PARAMS, shift=False) \n",
    "    bright_vec = states[1]\n",
    "    dark_vec = states[0]\n",
    "    #print bright_vec, (sigma_m1 + sigma_m2)*bright_vec\n",
    "    #print dark_vec, np.dot((sigma_m1 + sigma_m2).full(), dark_vec.full())\n",
    "    dark = dark_vec*dark_vec.dag()\n",
    "    bright = bright_vec*bright_vec.dag()\n",
    "    exciton_coherence = dark_vec*bright_vec.dag()\n",
    "    e_ops = [site_coherence, exciton_coherence]\n",
    "    expectation_values = []\n",
    "    for e_op in e_ops:\n",
    "        dat = []\n",
    "        for i, ss in enumerate(steady_states):\n",
    "            I = enr_identity([N_vals[i],N_vals[i]], N_vals[i])\n",
    "            dat.append((tensor(e_op,I)*ss).tr())    \n",
    "        expectation_values.append(dat)\n",
    "        \n",
    "    ''' make the RC observable operators '''\n",
    "    \n",
    "    \n",
    "    plt.figure()\n",
    "    colors = [c['color'] for c in plt.rcParams['axes.prop_cycle']]\n",
    "    labels = ['real', 'imag.']\n",
    "    for i, dat in enumerate(expectation_values):\n",
    "        plt.figure\n",
    "        plt.plot(pialphas, np.array(dat).real, label=labels[i], color=colors[i])\n",
    "        plt.xlabel(r'$\\pi \\alpha$ (units of $\\omega_2$)')\n",
    "        plt.ylabel(r'Population')\n",
    "        plt.legend()\n",
    "    plt.show()\n",
    "    return pialphas, expectation_values"
   ]
  },
  {
   "cell_type": "code",
   "execution_count": 71,
   "metadata": {},
   "outputs": [
    {
     "name": "stdout",
     "output_type": "stream",
     "text": [
      "[3, 3, 3, 4, 4, 5, 5, 6, 7, 8, 9, 10, 11, 13, 15] [ 0.05        0.05893843  0.06947477  0.08189469  0.09653489  0.1137923\n",
      "  0.13413479  0.15811388  0.18637969  0.21969853  0.25897373  0.30527011\n",
      "  0.35984284  0.42417145  0.5       ]\n"
     ]
    },
    {
     "data": {
      "image/png": "[encoded data removed]",
      "text/plain": [
       "<matplotlib.figure.Figure at 0x7fd63478ad10>"
      ]
     },
     "metadata": {},
     "output_type": "display_data"
    }
   ],
   "source": [
    "num = 15\n",
    "N_vals = [int(i) for i in np.logspace(np.log10(3),np.log10(15), num)]\n",
    "pialphas = np.logspace(np.log10(0.05), np.log10(0.5), num)\n",
    "print N_vals, pialphas\n",
    "plt.scatter(N_vals, pialphas)\n",
    "plt.show()"
   ]
  },
  {
   "cell_type": "code",
   "execution_count": 10,
   "metadata": {},
   "outputs": [
    {
     "name": "stdout",
     "output_type": "stream",
     "text": [
      "Gap is 223.60679775. Phonon thermal energy is 208.5. Phonon SD peak is 140.0.\n"
     ]
    }
   ],
   "source": [
    "pialphast, populationst, paramst, N_valst = alpha_dependence(bias=100., w_2=2000., V = 100., \n",
    "                                                             num=5, upper_N=3, num_cpus=3)"
   ]
  },
  {
   "cell_type": "markdown",
   "metadata": {},
   "source": [
    "## Parameters\n",
    "Choose somes basic parameter regimes to use:\n",
    "### Dimer electronic parameters\n",
    "#### two heterodimers: with small and large gap but same bias.\n",
    "- These sets of parameters will allow us look at changes in site basis populations without changing bias (which will trivially change the ss populations). Though this also means increasing V which may trivially increase the site basis coherence.\n",
    "\n",
    "#### one homodimer with gap larger than phonon energy\n",
    "- Totally dark and bright states. The dark state is only populated via mixing due to the phonons and due to dephasing which destroys the dark state (same thing?). We should see that for weak phonons the dark state is populated less highly than at stronger coupling.\n",
    "\n",
    "### Phonon bath parameters\n",
    "- Changing the peak position will allow the phonons to couple to the gap, causing transitions. Though, the phonons may not have enough thermal energy to cause upwards transitions. This means that for dark state protection, we need a broad or resonant phonon bath with thermal energy smaller than the energy gap."
   ]
  },
  {
   "cell_type": "markdown",
   "metadata": {},
   "source": [
    "Q: do the effects of the two baths add up?"
   ]
  },
  {
   "cell_type": "code",
   "execution_count": null,
   "metadata": {},
   "outputs": [
    {
     "name": "stdout",
     "output_type": "stream",
     "text": [
      "Gap is 223.60679775. Phonon thermal energy is 208.5. Phonon SD peak is 140.0.\n",
      "The operators took 2.24815607071 and have dimension 76.\n",
      "Building the RC Liouvillian took 2.257 seconds.\n",
      "****************************************************************\n",
      "It is 5776by5776. The full basis would be 10000by10000\n",
      "Full optical Liouvillian took 5.48720598221 seconds.\n",
      "full steady states took 1.718 seconds\n",
      "The operators took 2.25013208389 and have dimension 76.\n",
      "Building the RC Liouvillian took 2.256 seconds.\n",
      "****************************************************************\n",
      "It is 5776by5776. The full basis would be 10000by10000\n",
      "Full optical Liouvillian took 5.52403306961 seconds.\n",
      "full steady states took 1.701 seconds\n",
      "The operators took 2.25038695335 and have dimension 76.\n",
      "Building the RC Liouvillian took 2.257 seconds.\n",
      "****************************************************************\n",
      "It is 5776by5776. The full basis would be 10000by10000\n",
      "Full optical Liouvillian took 5.49247097969 seconds.\n",
      "full steady states took 1.713 seconds\n",
      "The operators took 2.2503900528 and have dimension 76.\n",
      "Building the RC Liouvillian took 2.256 seconds.\n",
      "****************************************************************\n",
      "It is 5776by5776. The full basis would be 10000by10000\n",
      "Full optical Liouvillian took 5.50686597824 seconds.\n",
      "full steady states took 1.552 seconds\n",
      "The operators took 4.26259803772 and have dimension 104.\n",
      "Building the RC Liouvillian took 4.269 seconds.\n",
      "****************************************************************\n",
      "It is 10816by10816. The full basis would be 20736by20736\n",
      "Full optical Liouvillian took 10.8175609112 seconds.\n",
      "11  N= 6\n",
      "full steady states took 11.900 seconds\n",
      "The operators took 4.16391396523 and have dimension 104.\n",
      "Building the RC Liouvillian took 4.177 seconds.\n",
      "****************************************************************\n",
      "It is 10816by10816. The full basis would be 20736by20736\n",
      "Full optical Liouvillian took 10.8995649815 seconds.\n",
      "12  N= 6\n",
      "full steady states took 11.229 seconds\n",
      "The operators took 4.26648306847 and have dimension 104.\n",
      "Building the RC Liouvillian took 4.273 seconds.\n",
      "****************************************************************\n",
      "It is 10816by10816. The full basis would be 20736by20736\n",
      "Full optical Liouvillian took 10.9416699409 seconds.\n",
      "13  N= 6\n",
      "full steady states took 12.510 seconds\n",
      "The operators took 4.16506099701 and have dimension 104.\n",
      "Building the RC Liouvillian took 4.184 seconds.\n",
      "****************************************************************\n",
      "It is 10816by10816. The full basis would be 20736by20736\n",
      "Full optical Liouvillian took 10.9342169762 seconds.\n",
      "14  N= 6\n",
      "full steady states took 12.624 seconds\n",
      "The operators took 7.77783083916 and have dimension 136.\n",
      "Building the RC Liouvillian took 7.784 seconds.\n",
      "****************************************************************\n",
      "It is 18496by18496. The full basis would be 38416by38416\n",
      "Full optical Liouvillian took 20.1720969677 seconds.\n",
      "15  N= 7\n",
      "full steady states took 57.218 seconds\n",
      "The operators took 7.78236794472 and have dimension 136.\n",
      "Building the RC Liouvillian took 7.789 seconds.\n",
      "****************************************************************\n",
      "It is 18496by18496. The full basis would be 38416by38416\n",
      "Full optical Liouvillian took 20.0370109081 seconds.\n",
      "16  N= 7\n",
      "full steady states took 49.110 seconds\n",
      "The operators took 7.68412804604 and have dimension 136.\n",
      "Building the RC Liouvillian took 7.691 seconds.\n",
      "****************************************************************\n",
      "It is 18496by18496. The full basis would be 38416by38416\n",
      "Full optical Liouvillian took 19.8461749554 seconds.\n",
      "17  N= 7\n",
      "full steady states took 56.793 seconds\n",
      "The operators took 13.6110517979 and have dimension 172.\n",
      "Building the RC Liouvillian took 13.619 seconds.\n",
      "****************************************************************\n",
      "It is 29584by29584. The full basis would be 65536by65536\n",
      "Full optical Liouvillian took 34.3977329731 seconds.\n",
      "18  N= 8\n",
      "full steady states took 149.969 seconds\n",
      "The operators took 13.6260609627 and have dimension 172.\n",
      "Building the RC Liouvillian took 13.633 seconds.\n",
      "****************************************************************\n",
      "It is 29584by29584. The full basis would be 65536by65536\n",
      "Full optical Liouvillian took 34.468806982 seconds.\n",
      "19  N= 8\n",
      "full steady states took 128.940 seconds\n",
      "The operators took 23.5541081429 and have dimension 212.\n",
      "Building the RC Liouvillian took 23.565 seconds.\n",
      "****************************************************************\n",
      "It is 44944by44944. The full basis would be 104976by104976\n",
      "Full optical Liouvillian took 58.2655649185 seconds.\n",
      "20  N= 9\n",
      "full steady states took 727.606 seconds\n",
      "Gap is 412.310562562. Phonon thermal energy is 208.5. Phonon SD peak is 140.0.\n",
      "The operators took 2.27079701424 and have dimension 76.\n",
      "Building the RC Liouvillian took 2.278 seconds.\n",
      "****************************************************************\n",
      "It is 5776by5776. The full basis would be 10000by10000\n",
      "Full optical Liouvillian took 5.48673796654 seconds.\n",
      "full steady states took 1.546 seconds\n",
      "The operators took 2.2650179863 and have dimension 76.\n",
      "Building the RC Liouvillian took 2.271 seconds.\n",
      "****************************************************************\n",
      "It is 5776by5776. The full basis would be 10000by10000\n",
      "Full optical Liouvillian took 5.43278408051 seconds.\n",
      "full steady states took 1.604 seconds\n",
      "The operators took 2.26570701599 and have dimension 76.\n",
      "Building the RC Liouvillian took 2.271 seconds.\n",
      "****************************************************************\n",
      "It is 5776by5776. The full basis would be 10000by10000\n",
      "Full optical Liouvillian took 5.33230185509 seconds.\n",
      "full steady states took 1.630 seconds\n",
      "The operators took 2.27312684059 and have dimension 76.\n",
      "Building the RC Liouvillian took 2.278 seconds.\n",
      "****************************************************************\n",
      "It is 5776by5776. The full basis would be 10000by10000\n",
      "Full optical Liouvillian took 5.32057404518 seconds.\n",
      "full steady states took 1.482 seconds\n",
      "The operators took 4.07861685753 and have dimension 104.\n",
      "Building the RC Liouvillian took 4.084 seconds.\n",
      "****************************************************************\n",
      "It is 10816by10816. The full basis would be 20736by20736\n",
      "Full optical Liouvillian took 10.5434699059 seconds.\n",
      "11  N= 6\n",
      "full steady states took 13.219 seconds\n",
      "The operators took 4.0818901062 and have dimension 104.\n",
      "Building the RC Liouvillian took 4.089 seconds.\n",
      "****************************************************************\n",
      "It is 10816by10816. The full basis would be 20736by20736\n",
      "Full optical Liouvillian took 10.663394928 seconds.\n",
      "12  N= 6\n",
      "full steady states took 10.991 seconds\n",
      "The operators took 4.19041490555 and have dimension 104.\n",
      "Building the RC Liouvillian took 4.196 seconds.\n",
      "****************************************************************\n",
      "It is 10816by10816. The full basis would be 20736by20736\n",
      "Full optical Liouvillian took 10.7322850227 seconds.\n",
      "13  N= 6\n",
      "full steady states took 12.328 seconds\n",
      "The operators took 4.18936491013 and have dimension 104.\n",
      "Building the RC Liouvillian took 4.197 seconds.\n",
      "****************************************************************\n",
      "It is 10816by10816. The full basis would be 20736by20736\n",
      "Full optical Liouvillian took 10.7699079514 seconds.\n",
      "14  N= 6\n",
      "full steady states took 12.595 seconds\n",
      "The operators took 7.69986319542 and have dimension 136.\n",
      "Building the RC Liouvillian took 7.709 seconds.\n",
      "****************************************************************\n",
      "It is 18496by18496. The full basis would be 38416by38416\n",
      "Full optical Liouvillian took 19.6510150433 seconds.\n",
      "15  N= 7\n",
      "full steady states took 64.024 seconds\n",
      "The operators took 7.7013399601 and have dimension 136.\n",
      "Building the RC Liouvillian took 7.708 seconds.\n",
      "****************************************************************\n",
      "It is 18496by18496. The full basis would be 38416by38416\n",
      "Full optical Liouvillian took 19.9067139626 seconds.\n",
      "16  N= 7\n",
      "full steady states took 50.314 seconds\n",
      "The operators took 7.71027183533 and have dimension 136.\n",
      "Building the RC Liouvillian took 7.717 seconds.\n",
      "****************************************************************\n",
      "It is 18496by18496. The full basis would be 38416by38416\n",
      "Full optical Liouvillian took 19.8665440083 seconds.\n"
     ]
    },
    {
     "name": "stdout",
     "output_type": "stream",
     "text": [
      "17  N= 7\n",
      "full steady states took 57.755 seconds\n",
      "The operators took 13.5200059414 and have dimension 172.\n",
      "Building the RC Liouvillian took 13.528 seconds.\n",
      "****************************************************************\n",
      "It is 29584by29584. The full basis would be 65536by65536\n",
      "Full optical Liouvillian took 34.3154380322 seconds.\n",
      "18  N= 8\n",
      "full steady states took 148.510 seconds\n",
      "The operators took 13.5261359215 and have dimension 172.\n",
      "Building the RC Liouvillian took 13.534 seconds.\n",
      "****************************************************************\n",
      "It is 29584by29584. The full basis would be 65536by65536\n",
      "Full optical Liouvillian took 34.4323351383 seconds.\n",
      "19  N= 8\n",
      "full steady states took 149.845 seconds\n",
      "The operators took 23.8969299793 and have dimension 212.\n",
      "Building the RC Liouvillian took 23.908 seconds.\n",
      "****************************************************************\n",
      "It is 44944by44944. The full basis would be 104976by104976\n",
      "Full optical Liouvillian took 58.6494140625 seconds.\n",
      "20  N= 9\n",
      "full steady states took 616.932 seconds\n",
      "Gap is 400.0. Phonon thermal energy is 208.5. Phonon SD peak is 140.0.\n",
      "The operators took 2.27108311653 and have dimension 76.\n",
      "Building the RC Liouvillian took 2.276 seconds.\n",
      "****************************************************************\n",
      "It is 5776by5776. The full basis would be 10000by10000\n",
      "Full optical Liouvillian took 5.3069498539 seconds.\n",
      "full steady states took 1.541 seconds\n",
      "The operators took 2.27372694016 and have dimension 76.\n",
      "Building the RC Liouvillian took 2.280 seconds.\n",
      "****************************************************************\n",
      "It is 5776by5776. The full basis would be 10000by10000\n",
      "Full optical Liouvillian took 5.35049390793 seconds.\n",
      "full steady states took 1.655 seconds\n",
      "The operators took 2.27316594124 and have dimension 76.\n",
      "Building the RC Liouvillian took 2.280 seconds.\n",
      "****************************************************************\n",
      "It is 5776by5776. The full basis would be 10000by10000\n",
      "Full optical Liouvillian took 5.39225482941 seconds.\n",
      "full steady states took 1.490 seconds\n",
      "The operators took 2.2736749649 and have dimension 76.\n",
      "Building the RC Liouvillian took 2.291 seconds.\n",
      "****************************************************************\n",
      "It is 5776by5776. The full basis would be 10000by10000\n",
      "Full optical Liouvillian took 5.41946101189 seconds.\n",
      "full steady states took 1.523 seconds\n",
      "The operators took 4.18072915077 and have dimension 104.\n",
      "Building the RC Liouvillian took 4.186 seconds.\n",
      "****************************************************************\n",
      "It is 10816by10816. The full basis would be 20736by20736\n",
      "Full optical Liouvillian took 10.5381789207 seconds.\n",
      "11  N= 6\n",
      "full steady states took 13.218 seconds\n",
      "The operators took 4.18572592735 and have dimension 104.\n",
      "Building the RC Liouvillian took 4.192 seconds.\n",
      "****************************************************************\n",
      "It is 10816by10816. The full basis would be 20736by20736\n",
      "Full optical Liouvillian took 10.6678640842 seconds.\n",
      "12  N= 6\n",
      "full steady states took 15.005 seconds\n",
      "The operators took 4.08300113678 and have dimension 104.\n",
      "Building the RC Liouvillian took 4.089 seconds.\n",
      "****************************************************************\n",
      "It is 10816by10816. The full basis would be 20736by20736\n",
      "Full optical Liouvillian took 10.6049830914 seconds.\n",
      "13  N= 6\n",
      "full steady states took 14.315 seconds\n",
      "The operators took 4.089220047 and have dimension 104.\n",
      "Building the RC Liouvillian took 4.104 seconds.\n",
      "****************************************************************\n",
      "It is 10816by10816. The full basis would be 20736by20736\n",
      "Full optical Liouvillian took 10.6482491493 seconds.\n",
      "14  N= 6\n",
      "full steady states took 14.964 seconds\n",
      "The operators took 7.59723901749 and have dimension 136.\n",
      "Building the RC Liouvillian took 7.606 seconds.\n",
      "****************************************************************\n",
      "It is 18496by18496. The full basis would be 38416by38416\n",
      "Full optical Liouvillian took 19.5364260674 seconds.\n",
      "15  N= 7\n",
      "full steady states took 57.938 seconds\n",
      "The operators took 7.70523095131 and have dimension 136.\n",
      "Building the RC Liouvillian took 7.713 seconds.\n",
      "****************************************************************\n",
      "It is 18496by18496. The full basis would be 38416by38416\n",
      "Full optical Liouvillian took 19.6911430359 seconds.\n",
      "16  N= 7\n",
      "full steady states took 52.817 seconds\n",
      "The operators took 7.70414495468 and have dimension 136.\n",
      "Building the RC Liouvillian took 7.711 seconds.\n",
      "****************************************************************\n",
      "It is 18496by18496. The full basis would be 38416by38416\n",
      "Full optical Liouvillian took 19.5936880112 seconds.\n",
      "17  N= 7\n",
      "full steady states took 53.444 seconds\n",
      "The operators took 13.6169340611 and have dimension 172.\n",
      "Building the RC Liouvillian took 13.625 seconds.\n",
      "****************************************************************\n",
      "It is 29584by29584. The full basis would be 65536by65536\n",
      "Full optical Liouvillian took 34.365046978 seconds.\n",
      "18  N= 8\n",
      "full steady states took 213.659 seconds\n",
      "The operators took 13.5244450569 and have dimension 172.\n",
      "Building the RC Liouvillian took 13.534 seconds.\n",
      "****************************************************************\n",
      "It is 29584by29584. The full basis would be 65536by65536\n",
      "Full optical Liouvillian took 34.2042551041 seconds.\n",
      "19  N= 8\n",
      "full steady states took 217.983 seconds\n",
      "The operators took 23.6614909172 and have dimension 212.\n",
      "Building the RC Liouvillian took 23.670 seconds.\n",
      "****************************************************************\n",
      "It is 44944by44944. The full basis would be 104976by104976\n",
      "Full optical Liouvillian took 58.1522378922 seconds.\n",
      "20  N= 9\n"
     ]
    }
   ],
   "source": [
    "pialphas1, populations1, params1, N_vals1 = alpha_dependence(bias=100., w_2=2000., V = 100., \n",
    "                                                             num=20, lower_N=4, upper_N=9, num_cpus=3)\n",
    "pialphas2, populations2, params2, N_vals2 = alpha_dependence(bias=100., w_2=2000., V = 200., \n",
    "                                                             num=20, lower_N=4, upper_N=9, num_cpus=3)\n",
    "pialphas3, populations3, params3, N_vals3 = alpha_dependence(bias=0., w_2=2000., V = 200., \n",
    "                                                             num=20, lower_N=4, upper_N=9, num_cpus=3)\n"
   ]
  },
  {
   "cell_type": "code",
   "execution_count": 12,
   "metadata": {},
   "outputs": [
    {
     "name": "stderr",
     "output_type": "stream",
     "text": [
      "/home/henry/anaconda2/envs/qutip/lib/python2.7/site-packages/numpy/core/numeric.py:531: ComplexWarning: Casting complex values to real discards the imaginary part\n",
      "  return array(a, dtype, copy=False, order=order)\n"
     ]
    },
    {
     "data": {
      "image/png": "[encoded data removed]",
      "text/plain": [
       "<matplotlib.figure.Figure at 0x7fb9b2221e90>"
      ]
     },
     "metadata": {},
     "output_type": "display_data"
    },
    {
     "data": {
      "image/png": "[encoded data removed]",
      "text/plain": [
       "<matplotlib.figure.Figure at 0x7fb9ac8bf410>"
      ]
     },
     "metadata": {},
     "output_type": "display_data"
    },
    {
     "data": {
      "image/png": "[encoded data removed]",
      "text/plain": [
       "<matplotlib.figure.Figure at 0x7fb9b15cdc50>"
      ]
     },
     "metadata": {},
     "output_type": "display_data"
    },
    {
     "data": {
      "image/png": "[encoded data removed]",
      "text/plain": [
       "<matplotlib.figure.Figure at 0x7fb9ac592f10>"
      ]
     },
     "metadata": {},
     "output_type": "display_data"
    },
    {
     "data": {
      "image/png": "[encoded data removed]",
      "text/plain": [
       "<matplotlib.figure.Figure at 0x7fb9ac80fa50>"
      ]
     },
     "metadata": {},
     "output_type": "display_data"
    },
    {
     "data": {
      "image/png": "[encoded data removed]",
      "text/plain": [
       "<matplotlib.figure.Figure at 0x7fb9ac2d5410>"
      ]
     },
     "metadata": {},
     "output_type": "display_data"
    }
   ],
   "source": [
    "pa1, p1 = population_alpha_dependence_plotter(4)\n",
    "pa1, p1 = population_alpha_dependence_plotter(4, eig=True)\n",
    "pa1, p1 = population_alpha_dependence_plotter(5, N_vals2)\n",
    "pa1, p1 = population_alpha_dependence_plotter(5, eig=True)\n",
    "pa1, p1 = population_alpha_dependence_plotter(6)\n",
    "pa1, p1 = population_alpha_dependence_plotter(6, eig=True)"
   ]
  },
  {
   "cell_type": "code",
   "execution_count": 40,
   "metadata": {
    "scrolled": true
   },
   "outputs": [
    {
     "name": "stdout",
     "output_type": "stream",
     "text": [
      "Gap is 223.60679775. Phonon thermal energy is 208.5. Phonon SD peak is 140.0.\n",
      "The operators took 7.99551606178 and have dimension 136.\n",
      "Building the RC Liouvillian took 8.004 seconds.\n",
      "****************************************************************\n",
      "It is 18496by18496. The full basis would be 38416by38416\n",
      "Full optical Liouvillian took 19.9804120064 seconds.\n",
      "1  N= 7\n",
      "full steady states took 35.243 seconds\n",
      "The operators took 8.12072110176 and have dimension 136.\n",
      "Building the RC Liouvillian took 8.128 seconds.\n",
      "****************************************************************\n",
      "It is 18496by18496. The full basis would be 38416by38416\n",
      "Full optical Liouvillian took 20.0227119923 seconds.\n",
      "2  N= 7\n",
      "full steady states took 37.476 seconds\n",
      "The operators took 8.21633005142 and have dimension 136.\n",
      "Building the RC Liouvillian took 8.223 seconds.\n",
      "****************************************************************\n",
      "It is 18496by18496. The full basis would be 38416by38416\n",
      "Full optical Liouvillian took 20.2049179077 seconds.\n",
      "3  N= 7\n",
      "full steady states took 38.859 seconds\n",
      "The operators took 7.91095495224 and have dimension 136.\n",
      "Building the RC Liouvillian took 7.917 seconds.\n",
      "****************************************************************\n",
      "It is 18496by18496. The full basis would be 38416by38416\n",
      "Full optical Liouvillian took 20.0713260174 seconds.\n",
      "4  N= 7\n",
      "full steady states took 45.831 seconds\n",
      "The operators took 8.01849198341 and have dimension 136.\n",
      "Building the RC Liouvillian took 8.025 seconds.\n",
      "****************************************************************\n",
      "It is 18496by18496. The full basis would be 38416by38416\n",
      "Full optical Liouvillian took 20.1535599232 seconds.\n",
      "5  N= 7\n",
      "full steady states took 45.028 seconds\n",
      "The operators took 8.00704693794 and have dimension 136.\n",
      "Building the RC Liouvillian took 8.014 seconds.\n",
      "****************************************************************\n",
      "It is 18496by18496. The full basis would be 38416by38416\n",
      "Full optical Liouvillian took 20.1921842098 seconds.\n",
      "6  N= 7\n",
      "full steady states took 45.499 seconds\n",
      "The operators took 8.0166349411 and have dimension 136.\n",
      "Building the RC Liouvillian took 8.025 seconds.\n",
      "****************************************************************\n",
      "It is 18496by18496. The full basis would be 38416by38416\n",
      "Full optical Liouvillian took 20.3583679199 seconds.\n",
      "7  N= 7\n",
      "full steady states took 41.844 seconds\n",
      "The operators took 8.00716400146 and have dimension 136.\n",
      "Building the RC Liouvillian took 8.014 seconds.\n",
      "****************************************************************\n",
      "It is 18496by18496. The full basis would be 38416by38416\n",
      "Full optical Liouvillian took 20.2319569588 seconds.\n",
      "8  N= 7\n",
      "full steady states took 48.538 seconds\n",
      "The operators took 13.9224121571 and have dimension 172.\n",
      "Building the RC Liouvillian took 13.930 seconds.\n",
      "****************************************************************\n",
      "It is 29584by29584. The full basis would be 65536by65536\n",
      "Full optical Liouvillian took 34.9621121883 seconds.\n",
      "9  N= 8\n",
      "full steady states took 113.470 seconds\n",
      "The operators took 13.9319608212 and have dimension 172.\n",
      "Building the RC Liouvillian took 13.939 seconds.\n",
      "****************************************************************\n",
      "It is 29584by29584. The full basis would be 65536by65536\n",
      "Full optical Liouvillian took 35.0675728321 seconds.\n",
      "10  N= 8\n",
      "full steady states took 152.103 seconds\n",
      "The operators took 13.9314777851 and have dimension 172.\n",
      "Building the RC Liouvillian took 13.939 seconds.\n",
      "****************************************************************\n",
      "It is 29584by29584. The full basis would be 65536by65536\n",
      "Full optical Liouvillian took 35.3209240437 seconds.\n",
      "11  N= 8\n",
      "full steady states took 154.740 seconds\n",
      "The operators took 14.058975935 and have dimension 172.\n",
      "Building the RC Liouvillian took 14.066 seconds.\n",
      "****************************************************************\n",
      "It is 29584by29584. The full basis would be 65536by65536\n",
      "Full optical Liouvillian took 35.0023999214 seconds.\n",
      "12  N= 8\n",
      "full steady states took 112.888 seconds\n",
      "The operators took 14.0286250114 and have dimension 172.\n",
      "Building the RC Liouvillian took 14.037 seconds.\n",
      "****************************************************************\n",
      "It is 29584by29584. The full basis would be 65536by65536\n",
      "Full optical Liouvillian took 35.0879020691 seconds.\n",
      "13  N= 8\n",
      "full steady states took 141.612 seconds\n",
      "The operators took 13.9251041412 and have dimension 172.\n",
      "Building the RC Liouvillian took 13.933 seconds.\n",
      "****************************************************************\n",
      "It is 29584by29584. The full basis would be 65536by65536\n",
      "Full optical Liouvillian took 35.1321101189 seconds.\n",
      "14  N= 8\n",
      "full steady states took 121.053 seconds\n",
      "The operators took 24.2665371895 and have dimension 212.\n",
      "Building the RC Liouvillian took 24.276 seconds.\n",
      "****************************************************************\n",
      "It is 44944by44944. The full basis would be 104976by104976\n",
      "Full optical Liouvillian took 59.5634269714 seconds.\n",
      "15  N= 9\n",
      "full steady states took 737.169 seconds\n"
     ]
    }
   ],
   "source": [
    "pialphas, populations = populations_alpha_dependence(num=15, lower_N=7, upper_N=9, num_cpus=3)"
   ]
  },
  {
   "cell_type": "code",
   "execution_count": 41,
   "metadata": {},
   "outputs": [
    {
     "data": {
      "image/png": "[encoded data removed]",
      "text/plain": [
       "<matplotlib.figure.Figure at 0x7f2f159f4650>"
      ]
     },
     "metadata": {},
     "output_type": "display_data"
    },
    {
     "data": {
      "image/png": "[encoded data removed]",
      "text/plain": [
       "<matplotlib.figure.Figure at 0x7f2f159f4290>"
      ]
     },
     "metadata": {},
     "output_type": "display_data"
    }
   ],
   "source": [
    "pa1, p1 = alpha_dependence_plotter(pialphas, populations)\n",
    "pa1, p1 = alpha_dependence_plotter(pialphas, populations, eig=True)"
   ]
  },
  {
   "cell_type": "markdown",
   "metadata": {},
   "source": [
    "### Coherences\n",
    "Why?\n",
    "- We are going to relate steadystate eigenstate coherences to the site basis coherence and population differences\n",
    "- Seeing any maxima of coherence would be interesting (after shifts are accounted for)"
   ]
  },
  {
   "cell_type": "code",
   "execution_count": null,
   "metadata": {
    "collapsed": true
   },
   "outputs": [],
   "source": [
    "pa1, p1 = coherence_alpha_dependence_plotter(pialphast, populationst, \n",
    "                                              paramst, N_valst)\n",
    "pa1, p1 = coherence_alpha_dependence_plotter(pialphast, populationst, \n",
    "                                              paramst, N_valst, eig=True)"
   ]
  },
  {
   "cell_type": "code",
   "execution_count": 2,
   "metadata": {
    "collapsed": true
   },
   "outputs": [],
   "source": [
    "\n",
    "\n",
    "        \n",
    "def plot_dynamics(bias=100., w_2=2000., V = 100., N=3, \n",
    "                  alpha_1=100., alpha_2=100., T_EM=0., \n",
    "                  T_ph =300., alpha_EM=1., shift=True,dimer_init='one'):\n",
    "    OO = basis(4,0)\n",
    "    XO = basis(4,1)\n",
    "    OX = basis(4,2)\n",
    "    XX = basis(4,3)\n",
    "    sigma_m1 = OX*XX.dag() + OO*XO.dag()\n",
    "    sigma_m2 = XO*XX.dag() + OO*OX.dag()\n",
    "    sigma_x1 = sigma_m1+sigma_m1.dag()\n",
    "    sigma_x2 = sigma_m2+sigma_m2.dag()\n",
    "    w_1 = w_2 + bias\n",
    "    dipole_1, dipole_2 = 1., 1.\n",
    "    mu = w_2*dipole_2/(w_1*dipole_1)\n",
    "    sigma = sigma_m1 + mu*sigma_m2\n",
    "    T_1, T_2 = 300., 300. # Phonon bath temperature\n",
    "\n",
    "    wc = 1*53.08 # Ind.-Boson frame phonon cutoff freq\n",
    "    Gamma_1, Gamma_2 = 50., 50.\n",
    "    w0_2, w0_1 = w_2*0.07, w_2*0.07 # underdamped SD parameter omega_0\n",
    "    w_xx = w_2 + w_1\n",
    "    N_1, N_2 = N, N # set Hilbert space sizes\n",
    "    exc = N_1\n",
    "    I_dimer = qeye(4)\n",
    "    I = enr_identity([N_1,N_2], exc)\n",
    "    num_cpus = 1\n",
    "    J = J_minimal\n",
    "\n",
    "    PARAM_names = ['w_1', 'w_2', 'V', 'bias', 'w_xx', 'T_1', 'T_2', 'wc',\n",
    "                   'w0_1', 'w0_2', 'alpha_1', 'alpha_2', 'N_1', 'N_2', 'exc', \n",
    "                   'T_EM', 'alpha_EM','mu', 'num_cpus', 'J', \n",
    "                   'dipole_1','dipole_2', 'Gamma_1', 'Gamma_2']\n",
    "    scope = locals() # Lets eval below use local variables, not global\n",
    "    PARAMS = dict((name, eval(name, scope)) for name in PARAM_names)\n",
    "    \n",
    "\n",
    "    '''Defining DM states'''\n",
    "    site_coherence = tensor(OX*XO.dag(), I)\n",
    "    OO = tensor(OO*OO.dag(), I)\n",
    "    XO = tensor(XO*XO.dag(), I)\n",
    "    OX = tensor(OX*OX.dag(), I)\n",
    "    XX = tensor(XX*XX.dag(), I)\n",
    "\n",
    "    #Now we build all of the mapped operators and RC Liouvillian.\n",
    "\n",
    "    # electromagnetic bath liouvillians\n",
    "\n",
    "    opts = qt.Options(num_cpus=1, store_states=True)\n",
    "    ncolors = len(plt.rcParams['axes.prop_cycle'])\n",
    "    ''' generate the RC liouvillian '''\n",
    "    L_RC, H, A_1, A_2, SIG_1, SIG_2, PARAMS = RC.RC_mapping(PARAMS, \n",
    "                                                            silent=False, \n",
    "                                                            shift=True) # Get the mapped parameters back\n",
    "    #H_dim = w_1*XO*XO.dag() + w_2*OX*OX.dag() + w_xx*XX*XX.dag() + V*(XO*OX.dag() + OX*XO.dag())\n",
    "    import utils as ut\n",
    "    reload(ut)\n",
    "    energies, states = ut.exciton_states(PARAMS, shift=False)\n",
    "    bright_vec = states[1]\n",
    "    dark_vec = states[0]\n",
    "    #print bright_vec, (sigma_m1 + sigma_m2)*bright_vec\n",
    "    #print dark_vec, np.dot((sigma_m1 + sigma_m2).full(), dark_vec.full())\n",
    "    dark = tensor(dark_vec*dark_vec.dag(), I)\n",
    "    bright = tensor(bright_vec*bright_vec.dag(), I)\n",
    "    exciton_coherence = tensor(dark_vec*bright_vec.dag(), I)\n",
    "    \n",
    "    wRC_1, wRC_2 =  PARAMS['w0_1'], PARAMS['w0_2']\n",
    "    kappa_1, kappa_2 = PARAMS['kappa_1'],PARAMS['kappa_2']\n",
    "    ''' make the RC observable operators '''\n",
    "    atemp = enr_destroy([N_1,N_2], exc)\n",
    "    n_RC_1 = Occupation(wRC_1, T_1)\n",
    "    n_RC_2 = Occupation(wRC_2, T_2)\n",
    "    phonon_num_1 = atemp[0].dag()*atemp[0]\n",
    "    phonon_num_2 = atemp[1].dag()*atemp[1]\n",
    "    x_1 = (atemp[0].dag()+atemp[0])\n",
    "    x_2 = (atemp[1].dag()+atemp[1])\n",
    "    Phonon_1 = tensor(I_dimer, phonon_num_1)\n",
    "    Phonon_2 = tensor(I_dimer, phonon_num_2)\n",
    "    disp_1 = tensor(I_dimer, x_1)\n",
    "    disp_2 = tensor(I_dimer, x_2)\n",
    "    \n",
    "    opts = qt.Options(num_cpus=num_cpus, store_states=True)\n",
    "    ncolors = len(plt.rcParams['axes.prop_cycle'])\n",
    "    \n",
    "    thermal_RCs = enr_thermal_dm([N_1, N_2], exc, [n_RC_1, n_RC_2])\n",
    "    if dimer_init=='one':\n",
    "        rho_0 = tensor(basis(4,1)*basis(4,1).dag(), thermal_RCs)\n",
    "    elif dimer_init in ('zero', 'ground'):\n",
    "        rho_0 = tensor(basis(4,0)*basis(4,0).dag(), thermal_RCs)\n",
    "    elif dimer_init=='bright':\n",
    "        rho_0 = tensor(bright_vec*bright_vec.dag(), thermal_RCs)\n",
    "    elif dimer_init=='dark':\n",
    "        rho_0 = tensor(dark_vec*dark_vec.dag(), thermal_RCs)\n",
    "    elif dimer_init== 'exc_coherence':\n",
    "        rho_0 = tensor(0.5*(dark_vec*bright_vec.dag()+bright_vec*dark_vec.dag()), thermal_RCs)\n",
    "    else:\n",
    "        print \"The descriptor for electronic state is not an option\"\n",
    "        raise ValueError\n",
    "    #timelist = np.linspace(0,3,1000)\n",
    "    e_ops = [XO, exciton_coherence, disp_1, dark, bright]\n",
    "    timelist = np.linspace(0,0.6,10000)\n",
    "    options = qt.solver.Options(nsteps=1500)\n",
    "    L_EM_full = L_non_rwa(H[1], tensor(sigma,I), PARAMS, silent=False)\n",
    "    ti = time.time()\n",
    "    L = L_RC+L_EM_full\n",
    "    data_f = qt.mesolve(H[1], rho_0, timelist, c_ops=L, \n",
    "                        e_ops=e_ops, \n",
    "                        options=options, progress_bar=True)\n",
    "    print \"full dynamics took {:0.3f} seconds\".format(time.time()-ti)\n",
    "    \n",
    "    \n",
    "    L_EM_add = L_phenom(I, PARAMS)\n",
    "    ti = time.time()\n",
    "    L = L_RC+L_EM_add\n",
    "    data_add = qt.mesolve(H[1], rho_0, timelist, c_ops=L, \n",
    "                      e_ops=e_ops, options=options)\n",
    "    \n",
    "    print \"additive dynamics took {:0.3f} seconds\".format(time.time()-ti)\n",
    "    L_EM_add = L_non_rwa(tensor(H[0],I), tensor(sigma,I), PARAMS, silent=False)\n",
    "    ti = time.time()\n",
    "    L = L_RC+L_EM_add\n",
    "    data_adns = qt.mesolve(H[1], rho_0, timelist, c_ops=L, \n",
    "                      e_ops=e_ops, options=options)\n",
    "    print \"additive dynamics took {:0.3f} seconds\".format(time.time()-ti)\n",
    "    \n",
    "    return data_f, data_adns, data_add\n",
    "    \n",
    "\n"
   ]
  },
  {
   "cell_type": "code",
   "execution_count": 139,
   "metadata": {
    "scrolled": true
   },
   "outputs": [
    {
     "name": "stdout",
     "output_type": "stream",
     "text": [
      "The operators took 18.6476781368 and have dimension 104.\n",
      "Building the RC Liouvillian took 19.333 seconds.\n",
      "****************************************************************\n",
      "It is 10816by10816. The full basis would be 20736by20736\n",
      "0.0 0.0\n",
      "Full optical Liouvillian took 11.8200778961 seconds.\n",
      "10.0%. Run time:  11.30s. Est. time left: 00:00:01:41\n",
      "20.0%. Run time:  22.92s. Est. time left: 00:00:01:31\n",
      "30.0%. Run time:  34.64s. Est. time left: 00:00:01:20\n",
      "40.0%. Run time:  46.41s. Est. time left: 00:00:01:09\n",
      "50.0%. Run time:  58.98s. Est. time left: 00:00:00:58\n",
      "60.0%. Run time:  71.11s. Est. time left: 00:00:00:47\n",
      "70.0%. Run time:  83.27s. Est. time left: 00:00:00:35\n",
      "80.0%. Run time:  95.52s. Est. time left: 00:00:00:23\n",
      "90.0%. Run time: 107.68s. Est. time left: 00:00:00:11\n",
      "Total run time: 119.78s\n",
      "full dynamics took 119.990 seconds\n",
      "It took 0.0395460128784 seconds to build the phenomenological Liouvillian\n",
      "additive dynamics took 28.372 seconds\n",
      "Full optical Liouvillian took 10.0598468781 seconds.\n",
      "additive dynamics took 118.665 seconds\n"
     ]
    }
   ],
   "source": [
    "dat1 = []\n",
    "dat1.append(plot_dynamics(bias=0., w_2=4000., V = 100., N=6, \n",
    "                          alpha_1=50., alpha_2=50., T_EM=0., \n",
    "                          T_ph =300., alpha_EM=1., dimer_init='dark'))\n"
   ]
  },
  {
   "cell_type": "code",
   "execution_count": 37,
   "metadata": {
    "collapsed": true
   },
   "outputs": [],
   "source": [
    "reload(opt)\n",
    "def coherences_alpha_dependence(bias=100., w_2=2000., V = 100., \n",
    "                                 T_EM=6000., T_ph =300., \n",
    "                                 alpha_EM=1., shift=True,\n",
    "                                lower_prop=0.005, upper_prop=0.5, \n",
    "                                 num=15, lower_N=3, upper_N=15, num_cpus=1):\n",
    "    gap = sqrt(bias**2 +4*(V**2))\n",
    "    phonon_energy = T_ph*0.695\n",
    "    \n",
    "    OO = basis(4,0)\n",
    "    XO = basis(4,1)\n",
    "    OX = basis(4,2)\n",
    "    XX = basis(4,3)\n",
    "    sigma_m1 = OX*XX.dag() + OO*XO.dag()\n",
    "    sigma_m2 = XO*XX.dag() + OO*OX.dag()\n",
    "    sigma_x1 = sigma_m1+sigma_m1.dag()\n",
    "    sigma_x2 = sigma_m2+sigma_m2.dag()\n",
    "    w_1 = w_2 + bias\n",
    "    dipole_1, dipole_2 = 1., 1.\n",
    "    mu = w_2*dipole_2/(w_1*dipole_1)\n",
    "    sigma = sigma_m1 + mu*sigma_m2\n",
    "    T_1, T_2 = 300., 300. # Phonon bath temperature\n",
    "\n",
    "    wc = 1*53.08 # Ind.-Boson frame phonon cutoff freq\n",
    "    Gamma_1, Gamma_2 = 50., 50.\n",
    "    w0_2, w0_1 = w_2*0.07, w_2*0.07 # underdamped SD parameter omega_0\n",
    "    w_xx = w_2 + w_1\n",
    "    print \"Gap is {}. Phonon thermal energy is {}. Phonon SD peak is {}.\".format(gap, phonon_energy, w0_2)\n",
    "    I_dimer = qeye(4)\n",
    "\n",
    "    J = J_minimal\n",
    "\n",
    "    PARAM_names = ['w_1', 'w_2', 'V', 'bias', 'w_xx', 'T_1', 'T_2', 'wc',\n",
    "                   'w0_1', 'w0_2', 'T_EM', 'alpha_EM','mu', 'num_cpus', 'J', \n",
    "                   'dipole_1','dipole_2', 'Gamma_1', 'Gamma_2']\n",
    "    scope = locals() # Lets eval below use local variables, not global\n",
    "    PARAMS = dict((name, eval(name, scope)) for name in PARAM_names)\n",
    "    \n",
    "    '''Defining DM states'''\n",
    "    \n",
    "\n",
    "    #Now we build all of the mapped operators and RC Liouvillian.\n",
    "\n",
    "    # electromagnetic bath liouvillians\n",
    "\n",
    "    opts = qt.Options(num_cpus=1, store_states=True)\n",
    "    ncolors = len(plt.rcParams['axes.prop_cycle'])\n",
    "    N_vals = [int(i) for i in np.logspace(np.log10(lower_N),np.log10(upper_N), num)]\n",
    "    pialphas = np.logspace(np.log10(lower_prop), np.log10(upper_prop), num)\n",
    "    populations = []\n",
    "    \n",
    "    for i, pialpha in enumerate(pialphas):\n",
    "        alpha = w_2*pialpha/pi\n",
    "        N_1 = N_2 = N = N_vals[i]\n",
    "        silent = False\n",
    "        if N<5:\n",
    "            silent = True\n",
    "        exc = N\n",
    "        PARAMS.update({'alpha_1': alpha, 'alpha_2': alpha})\n",
    "        PARAMS.update({'N_1': N_1, 'N_2': N_2})\n",
    "        PARAMS.update({'exc': exc})\n",
    "        I = enr_identity([N_1,N_2], exc)\n",
    "        ''' generate the RC liouvillian '''\n",
    "        # Get the mapped parameters back\n",
    "        L_RC, H, A_1, A_2, SIG_1, SIG_2, PARAMS = RC.RC_mapping(PARAMS, \n",
    "                                                                silent=silent, \n",
    "                                                                shift=True)\n",
    "        site_coherence = tensor(OX*XO.dag(), I)\n",
    "        OO_proj = tensor(OO*OO.dag(), I)\n",
    "        XO_proj = tensor(XO*XO.dag(), I)\n",
    "        OX_proj = tensor(OX*OX.dag(), I)\n",
    "        XX_proj = tensor(XX*XX.dag(), I)\n",
    "        # dark and bright states defined without shifts\n",
    "        energies, states = exciton_states(PARAMS, shift=False) \n",
    "        bright_vec = states[1]\n",
    "        dark_vec = states[0]\n",
    "        \n",
    "        exciton_coherence = tensor(dark_vec*bright_vec.dag(), I)\n",
    "\n",
    "        wRC_1, wRC_2 =  PARAMS['w0_1'], PARAMS['w0_2']\n",
    "        kappa_1, kappa_2 = PARAMS['kappa_1'],PARAMS['kappa_2']\n",
    "        ''' make the RC observable operators '''\n",
    "\n",
    "        opts = qt.Options(num_cpus=num_cpus, store_states=True)\n",
    "\n",
    "        #timelist = np.linspace(0,3,1000)\n",
    "        e_ops = [OO_proj, XO_proj, OX_proj, XX_proj, dark, bright]\n",
    "        timelist = np.linspace(0,0.6,10000)\n",
    "        options = qt.solver.Options(nsteps=1500)\n",
    "        L_EM_full = opt.L_non_rwa(H[1], tensor(sigma,I), PARAMS, silent=silent)\n",
    "        ti = time.time()\n",
    "        L = L_RC+L_EM_full\n",
    "        if N >5:\n",
    "            print i+1, \" N=\",N\n",
    "            method='iterative-lgmres'\n",
    "            use_precond = True\n",
    "            ff=100\n",
    "            dt=1e-4\n",
    "            if N>7:\n",
    "                ff = 50\n",
    "                dt = 1e-3\n",
    "                if N>9:\n",
    "                    ff = 30\n",
    "                    dt = 1e-2\n",
    "        else:\n",
    "            method = 'direct'\n",
    "            use_precond = False\n",
    "            ff=100\n",
    "            dt=1e-4\n",
    "        ss = steadystate(H[1], [L], method=method, use_precond=use_precond,\n",
    "                                                 fill_factor=ff, drop_tol=dt)\n",
    "        dat = []\n",
    "        for e_op in e_ops:\n",
    "            dat.append((e_op*ss).tr())\n",
    "        populations.append(dat)\n",
    "        if not silent:\n",
    "            print \"full steady states took {:0.3f} seconds\".format(time.time()-ti)\n",
    "\n",
    "    return pialphas, populations\n",
    "\n",
    "def alpha_dependence_plotter(pialphas, populations, eig=False):\n",
    "    plt.figure()\n",
    "    colors = [c['color'] for c in plt.rcParams['axes.prop_cycle']]\n",
    "    labels = ['g', '1', '2', 'XX']\n",
    "    ids = [0,1,2,3]\n",
    "    if eig:\n",
    "        labels = ['g', 'dark', 'bright', 'XX']\n",
    "        ids = [0,4,5,3]\n",
    "    populations = np.array(populations).T\n",
    "    for i, l in zip(ids, labels):\n",
    "        plt.plot(pialphas, populations[i], label=l, color=colors[i])\n",
    "    plt.xlabel(r'$\\pi \\alpha$ (units of $\\omega_2$)')\n",
    "    plt.ylabel(r'Population')\n",
    "    plt.legend()\n",
    "    plt.show()\n",
    "    return pialphas, populations"
   ]
  },
  {
   "cell_type": "markdown",
   "metadata": {},
   "source": [
    "## Dark state protection"
   ]
  },
  {
   "cell_type": "code",
   "execution_count": 141,
   "metadata": {},
   "outputs": [
    {
     "name": "stdout",
     "output_type": "stream",
     "text": [
      "200.0\n",
      "280.0\n",
      "208.5\n"
     ]
    }
   ],
   "source": [
    "print np.sqrt(0**2 + 4*(100**2))\n",
    "print 4000.*0.07\n",
    "print 300.*0.695\n"
   ]
  },
  {
   "cell_type": "markdown",
   "metadata": {},
   "source": [
    "Can the phonons overcome the dark-bright state gap? \n",
    "\n",
    "The phonons couple strongly to transitions on the same order as the splitting. The phonons also have enough thermal energy to overcome the gap. Try increasing the gap to see if the dark-state population is suppressed."
   ]
  },
  {
   "cell_type": "code",
   "execution_count": 142,
   "metadata": {},
   "outputs": [
    {
     "name": "stdout",
     "output_type": "stream",
     "text": [
      "400.0\n",
      "280.0\n",
      "208.5\n"
     ]
    }
   ],
   "source": [
    "print np.sqrt(0**2 + 4*(200**2))\n",
    "print 4000.*0.07\n",
    "print 300.*0.695"
   ]
  },
  {
   "cell_type": "code",
   "execution_count": 143,
   "metadata": {},
   "outputs": [
    {
     "name": "stdout",
     "output_type": "stream",
     "text": [
      "The operators took 19.8447618484 and have dimension 104.\n",
      "Building the RC Liouvillian took 20.535 seconds.\n",
      "****************************************************************\n",
      "It is 10816by10816. The full basis would be 20736by20736\n",
      "0.0 0.0\n",
      "Full optical Liouvillian took 11.9835619926 seconds.\n",
      "10.0%. Run time:  12.25s. Est. time left: 00:00:01:50\n",
      "20.0%. Run time:  24.55s. Est. time left: 00:00:01:38\n",
      "30.0%. Run time:  37.77s. Est. time left: 00:00:01:28\n",
      "40.0%. Run time:  51.42s. Est. time left: 00:00:01:17\n",
      "50.0%. Run time:  63.81s. Est. time left: 00:00:01:03\n",
      "60.0%. Run time:  76.67s. Est. time left: 00:00:00:51\n",
      "70.0%. Run time:  90.89s. Est. time left: 00:00:00:38\n",
      "80.0%. Run time: 104.18s. Est. time left: 00:00:00:26\n",
      "90.0%. Run time: 117.89s. Est. time left: 00:00:00:13\n",
      "Total run time: 131.20s\n",
      "full dynamics took 131.411 seconds\n",
      "It took 0.0400681495667 seconds to build the phenomenological Liouvillian\n",
      "additive dynamics took 33.155 seconds\n",
      "Full optical Liouvillian took 11.8388538361 seconds.\n",
      "additive dynamics took 113.739 seconds\n"
     ]
    }
   ],
   "source": [
    "dat2 = []\n",
    "dat2.append(plot_dynamics(bias=0., w_2=4000., V = 200., N=6, \n",
    "                          alpha_1=50., alpha_2=50., T_EM=0., \n",
    "                          T_ph =300., alpha_EM=1., dimer_init='dark'))"
   ]
  },
  {
   "cell_type": "code",
   "execution_count": 144,
   "metadata": {},
   "outputs": [
    {
     "data": {
      "image/png": "[encoded data removed]",
      "text/plain": [
       "<matplotlib.figure.Figure at 0x11408ccd0>"
      ]
     },
     "metadata": {},
     "output_type": "display_data"
    }
   ],
   "source": [
    "\n",
    "\"\"\"for d in dat:\n",
    "    \n",
    "    for i, l in enumerate(d):\n",
    "        plt.plot(l.expect[1].real, label=lab[i])\n",
    "    #plt.plot(d.expect[0].imag, ls='dashed')\n",
    "plt.legend()\"\"\"\n",
    "plt.figure()\n",
    "for d in dat2:\n",
    "    for i, l in enumerate(d):\n",
    "        plt.plot(l.expect[4].real, label=lab[i])\n",
    "    #plt.plot(d.expect[0].imag, ls='dashed')\n",
    "plt.legend()\n",
    "plt.show()"
   ]
  },
  {
   "cell_type": "code",
   "execution_count": 133,
   "metadata": {},
   "outputs": [
    {
     "name": "stdout",
     "output_type": "stream",
     "text": [
      "447.2135955\n",
      "280.0\n",
      "208.5\n"
     ]
    }
   ],
   "source": [
    "print np.sqrt(400**2 + 4*(100**2))\n",
    "print 4000.*0.07\n",
    "print 300.*0.695"
   ]
  },
  {
   "cell_type": "code",
   "execution_count": 4,
   "metadata": {},
   "outputs": [
    {
     "name": "stdout",
     "output_type": "stream",
     "text": [
      "The operators took 34.3376498222 and have dimension 136.\n",
      "Building the RC Liouvillian took 35.975 seconds.\n",
      "****************************************************************\n",
      "It is 18496by18496. The full basis would be 38416by38416\n",
      "100.0 100.0\n",
      "Full optical Liouvillian took 33.5340120792 seconds.\n",
      "10.0%. Run time:  43.80s. Est. time left: 00:00:06:34\n",
      "20.0%. Run time:  89.34s. Est. time left: 00:00:05:57\n",
      "30.0%. Run time: 129.85s. Est. time left: 00:00:05:02\n",
      "40.0%. Run time: 170.15s. Est. time left: 00:00:04:15\n",
      "50.0%. Run time: 210.50s. Est. time left: 00:00:03:30\n",
      "60.0%. Run time: 250.98s. Est. time left: 00:00:02:47\n",
      "70.0%. Run time: 291.38s. Est. time left: 00:00:02:04\n",
      "80.0%. Run time: 331.73s. Est. time left: 00:00:01:22\n",
      "90.0%. Run time: 372.19s. Est. time left: 00:00:00:41\n",
      "Total run time: 412.52s\n",
      "full dynamics took 413.356 seconds\n",
      "100.0 100.0\n",
      "It took 0.0649590492249 seconds to build the phenomenological Liouvillian\n",
      "additive dynamics took 73.491 seconds\n",
      "Full optical Liouvillian took 17.6890599728 seconds.\n",
      "additive dynamics took 612.197 seconds\n"
     ]
    }
   ],
   "source": [
    "dat3 = []\n",
    "dat3.append(plot_dynamics(bias=100., w_2=4000., V = 150., N=7, \n",
    "                          alpha_1=100., alpha_2=100., T_EM=6000., \n",
    "                          T_ph =300., alpha_EM=1., dimer_init='ground'))"
   ]
  },
  {
   "cell_type": "code",
   "execution_count": 7,
   "metadata": {},
   "outputs": [
    {
     "data": {
      "text/plain": [
       "<matplotlib.figure.Figure at 0x106f431d0>"
      ]
     },
     "metadata": {},
     "output_type": "display_data"
    },
    {
     "data": {
      "image/png": "[encoded data removed]",
      "text/plain": [
       "<matplotlib.figure.Figure at 0x1071e2990>"
      ]
     },
     "metadata": {},
     "output_type": "display_data"
    }
   ],
   "source": [
    "\n",
    "\"\"\"for d in dat:\n",
    "    \n",
    "    for i, l in enumerate(d):\n",
    "        plt.plot(l.expect[1].real, label=lab[i])\n",
    "    #plt.plot(d.expect[0].imag, ls='dashed')\n",
    "plt.legend()\"\"\"\n",
    "plt.figure()\n",
    "for d in dat3:\n",
    "    for i, l in enumerate(d):\n",
    "        plt.plot(l.expect[1].imag, label=lab[i])\n",
    "    #plt.plot(d.expect[0].imag, ls='dashed')\n",
    "plt.legend()\n",
    "plt.show()"
   ]
  },
  {
   "cell_type": "code",
   "execution_count": 20,
   "metadata": {
    "scrolled": true
   },
   "outputs": [
    {
     "name": "stdout",
     "output_type": "stream",
     "text": [
      "The operators took 18.3629541397 and have dimension 104.\n",
      "Building the RC Liouvillian took 19.004 seconds.\n",
      "****************************************************************\n",
      "It is 10816by10816. The full basis would be 20736by20736\n",
      "47.1238898038\n",
      "dynamics took 82.425 seconds\n"
     ]
    }
   ],
   "source": [
    "dat = []\n",
    "dat.append(plot_dynamics(bias=100., w_2=4000., V = 100., N=6, \n",
    "                          alpha_1=30., alpha_2=30., T_EM=0., \n",
    "                          T_ph =300., alpha_EM=1.))"
   ]
  },
  {
   "cell_type": "code",
   "execution_count": 21,
   "metadata": {},
   "outputs": [
    {
     "data": {
      "image/png": "[encoded data removed]",
      "text/plain": [
       "<matplotlib.figure.Figure at 0x10e496710>"
      ]
     },
     "metadata": {},
     "output_type": "display_data"
    }
   ],
   "source": [
    "l = iter(range(5,8))\n",
    "for d in dat:\n",
    "    plt.plot(d.expect[1].real, label=l.next())\n",
    "    #plt.plot(d.expect[0].imag, ls='dashed')\n",
    "plt.legend()\n",
    "plt.show()"
   ]
  },
  {
   "cell_type": "code",
   "execution_count": 38,
   "metadata": {},
   "outputs": [
    {
     "name": "stdout",
     "output_type": "stream",
     "text": [
      "N=5\n"
     ]
    },
    {
     "ename": "KeyboardInterrupt",
     "evalue": "",
     "output_type": "error",
     "traceback": [
      "\u001b[0;31m---------------------------------------------------------------------------\u001b[0m",
      "\u001b[0;31mKeyboardInterrupt\u001b[0m                         Traceback (most recent call last)",
      "\u001b[0;32m<ipython-input-38-7124de0c4969>\u001b[0m in \u001b[0;36m<module>\u001b[0;34m()\u001b[0m\n\u001b[1;32m      4\u001b[0m     dat.append(plot_dynamics(bias=100., w_2=4000., V = 100., N=n, \n\u001b[1;32m      5\u001b[0m                   \u001b[0malpha_1\u001b[0m\u001b[0;34m=\u001b[0m\u001b[0;36m30.\u001b[0m\u001b[0;34m,\u001b[0m \u001b[0malpha_2\u001b[0m\u001b[0;34m=\u001b[0m\u001b[0;36m30.\u001b[0m\u001b[0;34m,\u001b[0m \u001b[0mT_EM\u001b[0m\u001b[0;34m=\u001b[0m\u001b[0;36m0.\u001b[0m\u001b[0;34m,\u001b[0m\u001b[0;34m\u001b[0m\u001b[0m\n\u001b[0;32m----> 6\u001b[0;31m                   T_ph =300., alpha_EM=1.))\n\u001b[0m\u001b[1;32m      7\u001b[0m \u001b[0;34m\u001b[0m\u001b[0m\n",
      "\u001b[0;32m<ipython-input-33-746b10dfc165>\u001b[0m in \u001b[0;36mplot_dynamics\u001b[0;34m(bias, w_2, V, N, alpha_1, alpha_2, T_EM, T_ph, alpha_EM)\u001b[0m\n\u001b[1;32m     52\u001b[0m     L_RC, H, A_1, A_2, SIG_1, SIG_2, PARAMS = RC.RC_mapping(PARAMS, \n\u001b[1;32m     53\u001b[0m                                                             \u001b[0msilent\u001b[0m\u001b[0;34m=\u001b[0m\u001b[0mFalse\u001b[0m\u001b[0;34m,\u001b[0m\u001b[0;34m\u001b[0m\u001b[0m\n\u001b[0;32m---> 54\u001b[0;31m                                                             shift=True) # Get the mapped parameters back\n\u001b[0m\u001b[1;32m     55\u001b[0m     \u001b[0;31m#H_dim = w_1*XO*XO.dag() + w_2*OX*OX.dag() + w_xx*XX*XX.dag() + V*(XO*OX.dag() + OX*XO.dag())\u001b[0m\u001b[0;34m\u001b[0m\u001b[0;34m\u001b[0m\u001b[0m\n\u001b[1;32m     56\u001b[0m     \u001b[0menergies\u001b[0m\u001b[0;34m,\u001b[0m \u001b[0mstates\u001b[0m \u001b[0;34m=\u001b[0m \u001b[0mexciton_states\u001b[0m\u001b[0;34m(\u001b[0m\u001b[0mPARAMS\u001b[0m\u001b[0;34m,\u001b[0m \u001b[0mshift\u001b[0m\u001b[0;34m=\u001b[0m\u001b[0mFalse\u001b[0m\u001b[0;34m)\u001b[0m\u001b[0;34m\u001b[0m\u001b[0m\n",
      "\u001b[0;32m/Users/henrymaguire/Work/phd-work/dimer-code/phonons.pyc\u001b[0m in \u001b[0;36mRC_mapping\u001b[0;34m(args, silent, shift)\u001b[0m\n\u001b[1;32m    276\u001b[0m                                                 shift=shift)\n\u001b[1;32m    277\u001b[0m     L_RC =  liouvillian_build(H[1], A_1, A_2, gamma_1, gamma_2,  wRC_1, wRC_2,\n\u001b[0;32m--> 278\u001b[0;31m                             T_1, T_2, num_cpus=args['num_cpus'], silent=silent)\n\u001b[0m\u001b[1;32m    279\u001b[0m     \u001b[0mfull_size\u001b[0m \u001b[0;34m=\u001b[0m \u001b[0;34m(\u001b[0m\u001b[0;36m4\u001b[0m\u001b[0;34m*\u001b[0m\u001b[0mN_1\u001b[0m\u001b[0;34m*\u001b[0m\u001b[0mN_2\u001b[0m\u001b[0;34m)\u001b[0m\u001b[0;34m**\u001b[0m\u001b[0;36m2\u001b[0m\u001b[0;34m\u001b[0m\u001b[0m\n\u001b[1;32m    280\u001b[0m     \u001b[0;32mif\u001b[0m \u001b[0;32mnot\u001b[0m \u001b[0msilent\u001b[0m\u001b[0;34m:\u001b[0m\u001b[0;34m\u001b[0m\u001b[0m\n",
      "\u001b[0;32m/Users/henrymaguire/Work/phd-work/dimer-code/phonons.pyc\u001b[0m in \u001b[0;36mliouvillian_build\u001b[0;34m(H_RC, A_1, A_2, gamma_1, gamma_2, wRC_1, wRC_2, T_1, T_2, num_cpus, silent)\u001b[0m\n\u001b[1;32m    176\u001b[0m     \u001b[0;31m# Now this function has to construct the liouvillian so that it can be passed to mesolve\u001b[0m\u001b[0;34m\u001b[0m\u001b[0;34m\u001b[0m\u001b[0m\n\u001b[1;32m    177\u001b[0m     H_RC, Z_1, Z_2  = RCME_operators(H_RC, A_1, A_2, gamma_1, gamma_2,\n\u001b[0;32m--> 178\u001b[0;31m                                     beta_1, beta_2, num_cpus=num_cpus)\n\u001b[0m\u001b[1;32m    179\u001b[0m \u001b[0;34m\u001b[0m\u001b[0m\n\u001b[1;32m    180\u001b[0m     \u001b[0mL\u001b[0m \u001b[0;34m=\u001b[0m \u001b[0;36m0\u001b[0m\u001b[0;34m\u001b[0m\u001b[0m\n",
      "\u001b[0;32m/Users/henrymaguire/Work/phd-work/dimer-code/phonons.pyc\u001b[0m in \u001b[0;36mRCME_operators\u001b[0;34m(H_0, A_1, A_2, gamma_1, gamma_2, beta_1, beta_2, num_cpus)\u001b[0m\n\u001b[1;32m    134\u001b[0m                 \u001b[0;32mif\u001b[0m \u001b[0msp\u001b[0m\u001b[0;34m.\u001b[0m\u001b[0mabsolute\u001b[0m\u001b[0;34m(\u001b[0m\u001b[0me_jk\u001b[0m\u001b[0;34m)\u001b[0m \u001b[0;34m>\u001b[0m \u001b[0;36m0\u001b[0m \u001b[0;32mand\u001b[0m \u001b[0msp\u001b[0m\u001b[0;34m.\u001b[0m\u001b[0mabsolute\u001b[0m\u001b[0;34m(\u001b[0m\u001b[0mbeta_1\u001b[0m\u001b[0;34m)\u001b[0m \u001b[0;34m>\u001b[0m \u001b[0;36m0\u001b[0m\u001b[0;34m:\u001b[0m\u001b[0;34m\u001b[0m\u001b[0m\n\u001b[1;32m    135\u001b[0m                     \u001b[0mZ_1\u001b[0m \u001b[0;34m+=\u001b[0m \u001b[0;36m0.5\u001b[0m\u001b[0;34m*\u001b[0m\u001b[0mnp\u001b[0m\u001b[0;34m.\u001b[0m\u001b[0mpi\u001b[0m\u001b[0;34m*\u001b[0m\u001b[0me_jk\u001b[0m\u001b[0;34m*\u001b[0m\u001b[0mgamma_1\u001b[0m \u001b[0;34m*\u001b[0m \u001b[0mcoth\u001b[0m\u001b[0;34m(\u001b[0m\u001b[0me_jk\u001b[0m \u001b[0;34m*\u001b[0m \u001b[0mbeta_1\u001b[0m \u001b[0;34m/\u001b[0m \u001b[0;36m2\u001b[0m\u001b[0;34m)\u001b[0m\u001b[0;34m*\u001b[0m\u001b[0mA_jk_1\u001b[0m\u001b[0;34m*\u001b[0m\u001b[0mouter_eigen\u001b[0m\u001b[0;34m\u001b[0m\u001b[0m\n\u001b[0;32m--> 136\u001b[0;31m                     \u001b[0mZ_1\u001b[0m \u001b[0;34m+=\u001b[0m \u001b[0;36m0.5\u001b[0m\u001b[0;34m*\u001b[0m\u001b[0mnp\u001b[0m\u001b[0;34m.\u001b[0m\u001b[0mpi\u001b[0m\u001b[0;34m*\u001b[0m\u001b[0me_jk\u001b[0m\u001b[0;34m*\u001b[0m\u001b[0mgamma_1\u001b[0m \u001b[0;34m*\u001b[0m \u001b[0mA_jk_1\u001b[0m \u001b[0;34m*\u001b[0m \u001b[0mouter_eigen\u001b[0m\u001b[0;34m\u001b[0m\u001b[0m\n\u001b[0m\u001b[1;32m    137\u001b[0m                 \u001b[0;32melse\u001b[0m\u001b[0;34m:\u001b[0m\u001b[0;34m\u001b[0m\u001b[0m\n\u001b[1;32m    138\u001b[0m                     \u001b[0mZ_1\u001b[0m \u001b[0;34m+=\u001b[0m \u001b[0mnp\u001b[0m\u001b[0;34m.\u001b[0m\u001b[0mpi\u001b[0m\u001b[0;34m*\u001b[0m\u001b[0mgamma_1\u001b[0m\u001b[0;34m*\u001b[0m\u001b[0mA_jk_1\u001b[0m\u001b[0;34m*\u001b[0m\u001b[0mouter_eigen\u001b[0m\u001b[0;34m/\u001b[0m\u001b[0mbeta_1\u001b[0m \u001b[0;31m# Just return coefficients which are left over\u001b[0m\u001b[0;34m\u001b[0m\u001b[0m\n",
      "\u001b[0;32m/usr/local/lib/python2.7/site-packages/qutip/qobj.pyc\u001b[0m in \u001b[0;36m__add__\u001b[0;34m(self, other)\u001b[0m\n\u001b[1;32m    348\u001b[0m             \u001b[0mother\u001b[0m \u001b[0;34m=\u001b[0m \u001b[0mQobj\u001b[0m\u001b[0;34m(\u001b[0m\u001b[0mother\u001b[0m\u001b[0;34m)\u001b[0m\u001b[0;34m\u001b[0m\u001b[0m\n\u001b[1;32m    349\u001b[0m \u001b[0;34m\u001b[0m\u001b[0m\n\u001b[0;32m--> 350\u001b[0;31m         \u001b[0;32mif\u001b[0m \u001b[0mnp\u001b[0m\u001b[0;34m.\u001b[0m\u001b[0mprod\u001b[0m\u001b[0;34m(\u001b[0m\u001b[0mother\u001b[0m\u001b[0;34m.\u001b[0m\u001b[0mshape\u001b[0m\u001b[0;34m)\u001b[0m \u001b[0;34m==\u001b[0m \u001b[0;36m1\u001b[0m \u001b[0;32mand\u001b[0m \u001b[0mnp\u001b[0m\u001b[0;34m.\u001b[0m\u001b[0mprod\u001b[0m\u001b[0;34m(\u001b[0m\u001b[0mself\u001b[0m\u001b[0;34m.\u001b[0m\u001b[0mshape\u001b[0m\u001b[0;34m)\u001b[0m \u001b[0;34m!=\u001b[0m \u001b[0;36m1\u001b[0m\u001b[0;34m:\u001b[0m\u001b[0;34m\u001b[0m\u001b[0m\n\u001b[0m\u001b[1;32m    351\u001b[0m             \u001b[0;31m# case for scalar quantum object\u001b[0m\u001b[0;34m\u001b[0m\u001b[0;34m\u001b[0m\u001b[0m\n\u001b[1;32m    352\u001b[0m             \u001b[0mdat\u001b[0m \u001b[0;34m=\u001b[0m \u001b[0mother\u001b[0m\u001b[0;34m.\u001b[0m\u001b[0mdata\u001b[0m\u001b[0;34m[\u001b[0m\u001b[0;36m0\u001b[0m\u001b[0;34m,\u001b[0m \u001b[0;36m0\u001b[0m\u001b[0;34m]\u001b[0m\u001b[0;34m\u001b[0m\u001b[0m\n",
      "\u001b[0;32m/usr/local/lib/python2.7/site-packages/numpy/core/fromnumeric.pyc\u001b[0m in \u001b[0;36mprod\u001b[0;34m(a, axis, dtype, out, keepdims)\u001b[0m\n\u001b[1;32m   2516\u001b[0m \u001b[0;34m\u001b[0m\u001b[0m\n\u001b[1;32m   2517\u001b[0m     return _methods._prod(a, axis=axis, dtype=dtype,\n\u001b[0;32m-> 2518\u001b[0;31m                           out=out, **kwargs)\n\u001b[0m\u001b[1;32m   2519\u001b[0m \u001b[0;34m\u001b[0m\u001b[0m\n\u001b[1;32m   2520\u001b[0m \u001b[0;34m\u001b[0m\u001b[0m\n",
      "\u001b[0;32m/usr/local/lib/python2.7/site-packages/numpy/core/_methods.pyc\u001b[0m in \u001b[0;36m_prod\u001b[0;34m(a, axis, dtype, out, keepdims)\u001b[0m\n\u001b[1;32m     33\u001b[0m \u001b[0;34m\u001b[0m\u001b[0m\n\u001b[1;32m     34\u001b[0m \u001b[0;32mdef\u001b[0m \u001b[0m_prod\u001b[0m\u001b[0;34m(\u001b[0m\u001b[0ma\u001b[0m\u001b[0;34m,\u001b[0m \u001b[0maxis\u001b[0m\u001b[0;34m=\u001b[0m\u001b[0mNone\u001b[0m\u001b[0;34m,\u001b[0m \u001b[0mdtype\u001b[0m\u001b[0;34m=\u001b[0m\u001b[0mNone\u001b[0m\u001b[0;34m,\u001b[0m \u001b[0mout\u001b[0m\u001b[0;34m=\u001b[0m\u001b[0mNone\u001b[0m\u001b[0;34m,\u001b[0m \u001b[0mkeepdims\u001b[0m\u001b[0;34m=\u001b[0m\u001b[0mFalse\u001b[0m\u001b[0;34m)\u001b[0m\u001b[0;34m:\u001b[0m\u001b[0;34m\u001b[0m\u001b[0m\n\u001b[0;32m---> 35\u001b[0;31m     \u001b[0;32mreturn\u001b[0m \u001b[0mumr_prod\u001b[0m\u001b[0;34m(\u001b[0m\u001b[0ma\u001b[0m\u001b[0;34m,\u001b[0m \u001b[0maxis\u001b[0m\u001b[0;34m,\u001b[0m \u001b[0mdtype\u001b[0m\u001b[0;34m,\u001b[0m \u001b[0mout\u001b[0m\u001b[0;34m,\u001b[0m \u001b[0mkeepdims\u001b[0m\u001b[0;34m)\u001b[0m\u001b[0;34m\u001b[0m\u001b[0m\n\u001b[0m\u001b[1;32m     36\u001b[0m \u001b[0;34m\u001b[0m\u001b[0m\n\u001b[1;32m     37\u001b[0m \u001b[0;32mdef\u001b[0m \u001b[0m_any\u001b[0m\u001b[0;34m(\u001b[0m\u001b[0ma\u001b[0m\u001b[0;34m,\u001b[0m \u001b[0maxis\u001b[0m\u001b[0;34m=\u001b[0m\u001b[0mNone\u001b[0m\u001b[0;34m,\u001b[0m \u001b[0mdtype\u001b[0m\u001b[0;34m=\u001b[0m\u001b[0mNone\u001b[0m\u001b[0;34m,\u001b[0m \u001b[0mout\u001b[0m\u001b[0;34m=\u001b[0m\u001b[0mNone\u001b[0m\u001b[0;34m,\u001b[0m \u001b[0mkeepdims\u001b[0m\u001b[0;34m=\u001b[0m\u001b[0mFalse\u001b[0m\u001b[0;34m)\u001b[0m\u001b[0;34m:\u001b[0m\u001b[0;34m\u001b[0m\u001b[0m\n",
      "\u001b[0;31mKeyboardInterrupt\u001b[0m: "
     ]
    }
   ],
   "source": [
    "dat = []\n",
    "for n in range(5,8):\n",
    "    print \"N={}\".format(n)\n",
    "    dat.append(plot_dynamics(bias=100., w_2=4000., V = 100., N=n, \n",
    "                  alpha_1=30., alpha_2=30., T_EM=0., \n",
    "                  T_ph =300., alpha_EM=1.))\n",
    "    "
   ]
  },
  {
   "cell_type": "code",
   "execution_count": 51,
   "metadata": {
    "scrolled": true
   },
   "outputs": [
    {
     "name": "stdout",
     "output_type": "stream",
     "text": [
      "The operators took 63.578772068 and have dimension 172.\n",
      "Building the RC Liouvillian took 67.220 seconds.\n",
      "****************************************************************\n",
      "It is 29584by29584. The full basis would be 65536by65536\n",
      "[3938.1966011250106, 4161.8033988749894] [     0.            200.            200.            400.            400.\n",
      "    400.            600.            600.            600.            600.\n",
      "    800.            800.            800.            800.            800.\n",
      "   1000.           1000.           1000.           1000.           1000.\n",
      "   1000.           1200.           1200.           1200.           1200.\n",
      "   1200.           1200.           1200.           1400.           1400.\n",
      "   1400.           1400.           1400.           1400.           1400.\n",
      "   1400.           1600.           1600.           1600.           1600.\n",
      "   1600.           1600.           1600.           3994.74591193\n",
      "   4145.14383728   4194.74592259   4261.18374568   4329.74670772\n",
      "   4345.14415717   4394.74639344   4461.18576326   4464.68507758\n",
      "   4529.7544883    4531.54496877   4545.15496827   4594.75646928\n",
      "   4657.40660232   4661.23632539   4664.77466864   4729.93281794\n",
      "   4731.62273235   4740.78472793   4745.31781667   4794.87753613\n",
      "   4848.93279687   4858.23836273   4861.69840182   4866.34721871\n",
      "   4931.49538161   4932.67326493   4941.38895424   4946.58918022\n",
      "   4949.88948017   4995.97273366   5043.3368495    5052.58084235\n",
      "   5061.70711749   5064.06319831   5080.07588112   5136.72632011\n",
      "   5137.4103518    5146.00088155   5152.69600974   5154.94547837\n",
      "   5159.98395884   5204.37677171   5247.38327774   5257.65773712\n",
      "   5267.41618308   5270.43980673   5276.9805097    5321.63342422\n",
      "   5347.15199362   5355.78070228   5361.70358015   5368.29943186\n",
      "   5371.70445909   5385.41302262   5400.99253366   5442.852765\n",
      "   5480.6343746    5486.98014624   5501.22973497   5506.79521003\n",
      "   5515.46679923   5527.86784493   5557.73977146   5572.0716925\n",
      "   5596.17931629   5609.64274769   5621.3459394    5629.60766452\n",
      "   5648.89929489   5735.79100967   5737.79510851   5766.83326206\n",
      "   5785.79682962   5799.76014045   5813.86811434   5827.90573125\n",
      "   5834.80858538   5843.52797852   5934.97720466   5955.12561271\n",
      "   5969.69007994   5980.51914224   5995.33911929   6013.89875187\n",
      "   6034.18133761   8100.00000376   8300.00010582   8300.0004887\n",
      "   8500.00280945   8500.00930594   8500.02375884   8700.03868454\n",
      "   8700.15858266   8700.30083313   8700.53409278   8900.28862572\n",
      "   8901.39502931   8903.00592312   8904.15684809   8905.73453498\n",
      "   9101.57859752   9106.68921069   9115.08101323   9123.05151199\n",
      "   9126.72154282   9130.99175493   9307.10943141   9323.2573664\n",
      "   9345.85617941   9369.99145212   9390.56602246   9397.37513132\n",
      "   9401.16085725   9527.60186828   9567.19312879   9612.37287884\n",
      "   9657.07683703   9696.98345105   9730.48796361   9760.71506919\n",
      "   9763.20094932   9802.20865252   9881.93272712   9957.8426628\n",
      "  10028.36424904  10089.87165573  10140.34577866  10181.37695275]\n",
      "47.1238898038\n"
     ]
    }
   ],
   "source": [
    "plot_dynamics(bias=100., w_2=4000., V = 100., N=8, \n",
    "                          alpha_1=30., alpha_2=30., T_EM=0., \n",
    "                          T_ph =300., alpha_EM=1.)"
   ]
  },
  {
   "cell_type": "code",
   "execution_count": 35,
   "metadata": {},
   "outputs": [
    {
     "data": {
      "text/plain": [
       "-37.70000000000027"
      ]
     },
     "execution_count": 35,
     "metadata": {},
     "output_type": "execute_result"
    }
   ],
   "source": [
    "3994.74 - 4032.44"
   ]
  },
  {
   "cell_type": "code",
   "execution_count": null,
   "metadata": {
    "collapsed": true
   },
   "outputs": [],
   "source": [
    "46.2080"
   ]
  },
  {
   "cell_type": "code",
   "execution_count": 98,
   "metadata": {},
   "outputs": [
    {
     "data": {
      "image/png": "[encoded data removed]",
      "text/plain": [
       "<matplotlib.figure.Figure at 0x10272e990>"
      ]
     },
     "metadata": {},
     "output_type": "display_data"
    }
   ],
   "source": [
    "for d in dat:\n",
    "    plt.plot(d.expect[1].real)\n",
    "    plt.plot(d.expect[1].imag, ls='dashed')\n",
    "plt.show()"
   ]
  },
  {
   "cell_type": "code",
   "execution_count": null,
   "metadata": {
    "collapsed": true
   },
   "outputs": [],
   "source": []
  }
 ],
 "metadata": {
  "kernelspec": {
   "display_name": "Python 2",
   "language": "python",
   "name": "python2"
  },
  "language_info": {
   "codemirror_mode": {
    "name": "ipython",
    "version": 2
   },
   "file_extension": ".py",
   "mimetype": "text/x-python",
   "name": "python",
   "nbconvert_exporter": "python",
   "pygments_lexer": "ipython2",
   "version": "2.7.13"
  }
 },
 "nbformat": 4,
 "nbformat_minor": 2
}
