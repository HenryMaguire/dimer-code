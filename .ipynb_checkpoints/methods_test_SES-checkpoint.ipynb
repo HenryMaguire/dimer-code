{
 "cells": [
  {
   "cell_type": "code",
   "execution_count": null,
   "metadata": {},
   "outputs": [],
   "source": [
    "# Incase we have to clear all variables\n",
    "%reset -f"
   ]
  },
  {
   "cell_type": "code",
   "execution_count": 13,
   "metadata": {},
   "outputs": [],
   "source": [
    "from SES_setup import *\n",
    "from utils import *\n",
    "# numpy imported as well as qutip and various functions\n",
    "from style import *\n",
    "import matplotlib.pyplot as plt\n",
    "from heatmap_setup import calculate_steadystate\n",
    "from scipy.sparse import csc_matrix\n",
    "import numpy as np\n",
    "import time\n",
    "\n"
   ]
  },
  {
   "cell_type": "markdown",
   "metadata": {},
   "source": [
    "### Example Liouvillian"
   ]
  },
  {
   "cell_type": "code",
   "execution_count": null,
   "metadata": {},
   "outputs": [],
   "source": [
    "w_2 = 8000.\n",
    "alpha = 50./pi\n",
    "\n",
    "N = 12\n",
    "pap = alpha_to_pialpha_prop(alpha, w_2)\n",
    "wc = 100.\n",
    "w_0 = 200.\n",
    "Gamma = (w_0**2)/wc\n",
    "PARAMS = PARAMS_setup(bias=100., w_2=8000., V = 100., pialpha_prop=pap,\n",
    "                                 T_EM=6000., T_ph =300.,\n",
    "                                 alpha_EM=0.1, shift=True,\n",
    "                                 num_cpus=2, N=N, Gamma=Gamma, w_0=w_0,\n",
    "                                 silent=True, exc_diff=N-4)\n",
    "\n",
    "H, L = get_H_and_L(PARAMS,silent=False)\n",
    "\n",
    "\n"
   ]
  },
  {
   "cell_type": "code",
   "execution_count": null,
   "metadata": {},
   "outputs": [],
   "source": [
    "\n",
    "p2 = lambda n : PARAMS_setup(bias=100., w_2=8000., V = 100., pialpha_prop=pap,\n",
    "                                 T_EM=6000., T_ph =300.,\n",
    "                                 alpha_EM=0.1, shift=True,\n",
    "                                 num_cpus=4, N=n, Gamma=Gamma, w_0=w_0,\n",
    "                                 silent=True, exc_diff=n-3)\n",
    "p = lambda n : PARAMS_setup(bias=100., w_2=8000., V = 100., pialpha_prop=pap,\n",
    "                                 T_EM=6000., T_ph =300.,\n",
    "                                 alpha_EM=0.1, shift=True,\n",
    "                                 num_cpus=3, N=n, Gamma=Gamma, w_0=w_0,\n",
    "                                 silent=True, exc_diff=n-exc_offset)\n",
    "def get_L_stats(PARAMS, lower_N=3, upper_N=9, exc_offset=0., plot_stats = True):\n",
    "    # This is to motivate a correct L chop parameter\n",
    "    \n",
    "    \n",
    "    std = []\n",
    "    me = []\n",
    "    mi = []\n",
    "    nvals = range(lower_N, upper_N+1)\n",
    "    for n in nvals:\n",
    "        PARAMS.update({'N_1' : n, 'N_2' :n, 'exc': 2*n-exc_offset})\n",
    "        silent=True\n",
    "        if n>6:\n",
    "            silent=False\n",
    "        H, L = get_H_and_L(PARAMS,silent=silent)\n",
    "        std.append(((abs((get_csc(L))**2).mean()-((abs(get_csc(L)).mean())**2)).real))\n",
    "        me.append(abs(get_csc(L)).mean().real)\n",
    "        mi.append(abs(get_csc(L)).min().real)\n",
    "    if plot_stats:\n",
    "        plt.plot(nvals, std)\n",
    "        plt.show()\n",
    "        plt.plot(nvals, me)\n",
    "        plt.show()\n",
    "        plt.plot(nvals, mi)\n",
    "        plt.show()\n",
    "    return nvals, me, std, mi\n",
    "\n"
   ]
  },
  {
   "cell_type": "code",
   "execution_count": null,
   "metadata": {},
   "outputs": [],
   "source": [
    "nvals, me1, std1, mi1 = get_L_stats(PARAMS, lower_N=3, upper_N=8, exc_offset=0.)"
   ]
  },
  {
   "cell_type": "markdown",
   "metadata": {},
   "source": [
    "From the above we can see that the variance of the elements of L and the mean have the same scaling with N. This means that the chop threshold must decrease as a function of N to maintain stability. New to find this function of N. "
   ]
  },
  {
   "cell_type": "code",
   "execution_count": null,
   "metadata": {},
   "outputs": [],
   "source": [
    "\n",
    "\"\"\"n = 1\n",
    "plt.plot(nvals[n::], std1[n::])\n",
    "plt.show()\n",
    "plt.plot(nvals[n::], me1[n::])\n",
    "plt.show()\n",
    "plt.plot(nvals[n::], mi1[n::])\n",
    "plt.show()\"\"\"\n"
   ]
  },
  {
   "cell_type": "code",
   "execution_count": null,
   "metadata": {},
   "outputs": [],
   "source": [
    "def normalise(y):\n",
    "    return y/y[0]\n",
    "\n",
    "from scipy.optimize import curve_fit\n",
    "import sys\n",
    "\n",
    "\n",
    "def dm_dim(N):\n",
    "    return (3*N*N)**2\n",
    "\n",
    "def fit_f(N, a, b, c, d):\n",
    "    return a*np.exp(-b*(N-c)**d)\n",
    "\n",
    "def fit_mean(nvals, me):\n",
    "    return curve_fit(fit_f, nvals, me)[0]\n",
    "\n",
    "\n",
    "def ss_error(ssa, ss0):\n",
    "    # Error in approx Liouvillian\n",
    "    return np.sqrt(np.sum((ssa.full()-ss0.full())**2)/nonzero_elements(ss0))"
   ]
  },
  {
   "cell_type": "code",
   "execution_count": null,
   "metadata": {},
   "outputs": [],
   "source": [
    "\n",
    "std1 = normalise(std1)\n",
    "me1 = normalise(me1)\n",
    "\n",
    "cfm = curve_fit(fit_f, nvals, me1)\n",
    "cfs = curve_fit(fit_f, nvals, std1)\n",
    "print cfm[0], cfs[0]\n",
    "\n",
    "plt.plot(nvals, std1)\n",
    "plt.plot(nvals, fit_f(nvals, cfs[0][0], cfs[0][1], cfs[0][2], cfs[0][3]), ls='dashed', lw=3)\n",
    "plt.show()\n",
    "plt.plot(nvals, me1)\n",
    "plt.plot(nvals, fit_f(nvals, cfm[0][0], cfm[0][1], cfm[0][2], cfm[0][3]), ls='dashed', lw=3)\n",
    "plt.show()"
   ]
  },
  {
   "cell_type": "code",
   "execution_count": null,
   "metadata": {},
   "outputs": [],
   "source": [
    "# N=5 : 2.68 sec (prec) | 168.534472942 seconds"
   ]
  },
  {
   "cell_type": "code",
   "execution_count": 14,
   "metadata": {
    "scrolled": true
   },
   "outputs": [],
   "source": [
    "w_2 = 8000.\n",
    "alpha = 50./pi\n",
    "\n",
    "N = 3\n",
    "pap = alpha_to_pialpha_prop(alpha, w_2)\n",
    "wc = 100.\n",
    "w_0 = 200.\n",
    "Gamma = (w_0**2)/wc\n",
    "PARAMS = PARAMS_setup(bias=100., w_2=8000., V = 100., pialpha_prop=pap,\n",
    "                                 T_EM=6000., T_ph =300.,\n",
    "                                 alpha_EM=0.1, shift=True,\n",
    "                                 num_cpus=3, N=N, Gamma=Gamma, w_0=w_0,\n",
    "                                 silent=True, exc_diff=N)\n",
    "\n",
    "def print_data_for_base_threshold(PARAMS):\n",
    "    # if the optimal chop is X for N=5, we can calculate what it should be when N=10\n",
    "    thresholds = [1e-4, 1e-5, 1e-6, 1e-7, 1e-8, 1e-9, 1e-10, 1e-11, 1e-12, 0.][::-1]\n",
    "    ss0 = 0\n",
    "    for threshold in thresholds:\n",
    "        print \"threshold = {}\".format(threshold)\n",
    "        H, L = get_H_and_L(PARAMS, silent=True, threshold=threshold)\n",
    "        ti = time.time()\n",
    "        ssL, info = calculate_steadystate(H, L, fill_factor=1000, persistent=False)\n",
    "        if threshold==0.:\n",
    "            ss0 = ssL\n",
    "\n",
    "        print \"SS took {} and has error of {}\".format(time.time()-ti, ss_error(ssL, ss0))#; ti = time.time()\n",
    "        #print info"
   ]
  },
  {
   "cell_type": "markdown",
   "metadata": {},
   "source": [
    "Looks like the optimal chop for N=3 (and these parameters) is $1 \\times 10^{-8}$"
   ]
  },
  {
   "cell_type": "code",
   "execution_count": null,
   "metadata": {},
   "outputs": [],
   "source": [
    "def optimal_chop(base_chop, N, normalised_fit_params):\n",
    "    # assume that base chop is correct value for chop at base_N\n",
    "    # the function that finds the \n",
    "    nfp = normalised_fit_params\n",
    "    return base_chop*fit_f(N, nfp[0], nfp[1], nfp[2], nfp[3])\n",
    "\n",
    "print optimal_chop(1e-8, 8, fit_mean(nvals, me1))"
   ]
  },
  {
   "cell_type": "code",
   "execution_count": null,
   "metadata": {},
   "outputs": [],
   "source": [
    "def find_optimal_chop_threshold(base_chop, N, PARAMS, exc_offset=0):\n",
    "    nvals, me, std, mi = get_L_stats(PARAMS, lower_N=3, upper_N=8, exc_offset=exc_offset)\n",
    "    return optimal_chop(base_chop, N, fit_mean(nvals, normalise(me)))\n"
   ]
  },
  {
   "cell_type": "code",
   "execution_count": null,
   "metadata": {},
   "outputs": [],
   "source": [
    "# test for different exc_diff"
   ]
  },
  {
   "cell_type": "code",
   "execution_count": 4,
   "metadata": {},
   "outputs": [],
   "source": [
    "PARAMS = PARAMS_setup(bias=100., w_2=8000., V = 100., pialpha_prop=pap,\n",
    "                                 T_EM=6000., T_ph =300.,\n",
    "                                 alpha_EM=0.1, shift=True,\n",
    "                                 num_cpus=3, N=N, Gamma=Gamma, w_0=w_0,\n",
    "                      silent=True, exc_diff=N-3)"
   ]
  },
  {
   "cell_type": "code",
   "execution_count": 5,
   "metadata": {},
   "outputs": [],
   "source": [
    "\n",
    "\n",
    "\n",
    "#print_data_for_base_threshold(PARAMS)\n"
   ]
  },
  {
   "cell_type": "code",
   "execution_count": null,
   "metadata": {},
   "outputs": [],
   "source": [
    "oc = find_optimal_chop_threshold(1e-8, 8, PARAMS, exc_offset=3)"
   ]
  },
  {
   "cell_type": "code",
   "execution_count": 6,
   "metadata": {},
   "outputs": [],
   "source": [
    "from qutip import spre, spost\n",
    "def H_to_LVN(H):\n",
    "    return -1j*(spre(H)-spost(H))"
   ]
  },
  {
   "cell_type": "code",
   "execution_count": 5,
   "metadata": {},
   "outputs": [
    {
     "name": "stdout",
     "output_type": "stream",
     "text": [
      "The operators took 4.88093900681 and have dimension 72.\n",
      "Building the RC Liouvillian took 4.894 seconds.\n",
      "****************************************************************\n",
      "It is 5184by5184. The full basis would be 5625by5625\n",
      "It took  2.75764703751  seconds to build the Non-secular RWA Liouvillian\n"
     ]
    },
    {
     "data": {
      "text/plain": [
       "'ti = time.time()\\nssL, info = calculate_steadystate(H, L, fill_factor=5000, \\n                                        persistent=False, \\n                                        maxiter=500, \\n                                        method=\"direct\")'"
      ]
     },
     "execution_count": 5,
     "metadata": {},
     "output_type": "execute_result"
    }
   ],
   "source": [
    "N = 5\n",
    "PARAMS.update({'N_1': N, 'N_2':N, 'exc': 2*N-3})\n",
    "H, L = get_H_and_L(PARAMS, silent=False, threshold=1e-7)\n",
    "\"\"\"ti = time.time()\n",
    "ssL, info = calculate_steadystate(H, L, fill_factor=5000, \n",
    "                                        persistent=False, \n",
    "                                        maxiter=500, \n",
    "                                        method=\"direct\")\"\"\"\n",
    "\n",
    "#print ssL\n"
   ]
  },
  {
   "cell_type": "code",
   "execution_count": 15,
   "metadata": {},
   "outputs": [],
   "source": [
    "from scipy.sparse.linalg import eigs"
   ]
  },
  {
   "cell_type": "code",
   "execution_count": 16,
   "metadata": {},
   "outputs": [],
   "source": [
    "def vector_to_operator(op):\n",
    "    \"\"\"\n",
    "    Create a matrix representation given a quantum operator in\n",
    "    vector form.\n",
    "    \"\"\"\n",
    "    q = Qobj()\n",
    "    q.dims = op.dims[0]\n",
    "    n = int(np.sqrt(op.shape[0]))\n",
    "    q.data = sp_reshape(op.data.T, (n, n)).T\n",
    "    return q\n",
    "\n",
    "def vec2mat(vec):\n",
    "    \"\"\"\n",
    "    Private function reshaping vector to matrix.\n",
    "    \"\"\"\n",
    "    n = int(np.sqrt(len(vec)))\n",
    "    return vec.reshape((n, n)).T\n",
    "\n",
    "def reshape_to_operator(ket, H):\n",
    "    _dims = H.dims # find dimension of rho\n",
    "    return qt.Qobj(vec2mat(ket), dims=_dims) #"
   ]
  },
  {
   "cell_type": "code",
   "execution_count": 29,
   "metadata": {},
   "outputs": [],
   "source": [
    "from qutip.cy.spconvert import dense2D_to_fastcsr_fmode\n",
    "def coherence_exp(rho):\n",
    "    e_op = make_expectation_operators(PARAMS)['site_coherence']\n",
    "    return ((rho*e_op).tr())\n",
    "\n",
    "def vec_to_dm(evecs, _H, L):\n",
    "    \n",
    "    n = int(np.sqrt(L.shape[0]))\n",
    "    data = dense2D_to_fastcsr_fmode(vec2mat(evecs[:, 0]), n, n)\n",
    "    data = 0.5 * (data + data.H)\n",
    "    data = qt.Qobj(data, dims=_H[1].dims, isherm=True)\n",
    "    return data/data.tr()\n",
    "\n",
    "#e_op = make_expectation_operators(PARAMS)['site_coherence']\n",
    "#print((dm*e_op).tr())"
   ]
  },
  {
   "cell_type": "code",
   "execution_count": 30,
   "metadata": {},
   "outputs": [
    {
     "name": "stdout",
     "output_type": "stream",
     "text": [
      "1\n"
     ]
    },
    {
     "ename": "AttributeError",
     "evalue": "'numpy.ndarray' object has no attribute 'H'",
     "output_type": "error",
     "traceback": [
      "\u001b[0;31m---------------------------------------------------------------------------\u001b[0m",
      "\u001b[0;31mAttributeError\u001b[0m                            Traceback (most recent call last)",
      "\u001b[0;32m<ipython-input-30-69686ff0ae4e>\u001b[0m in \u001b[0;36m<module>\u001b[0;34m()\u001b[0m\n\u001b[1;32m     16\u001b[0m \u001b[0;34m\u001b[0m\u001b[0m\n\u001b[1;32m     17\u001b[0m \u001b[0;34m\u001b[0m\u001b[0m\n\u001b[0;32m---> 18\u001b[0;31m \u001b[0;32mprint\u001b[0m\u001b[0;34m(\u001b[0m\u001b[0mevals\u001b[0m\u001b[0;34m[\u001b[0m\u001b[0;36m0\u001b[0m\u001b[0;34m]\u001b[0m\u001b[0;34m,\u001b[0m \u001b[0mcoherence_exp\u001b[0m\u001b[0;34m(\u001b[0m\u001b[0mvec_to_dm\u001b[0m\u001b[0;34m(\u001b[0m\u001b[0mevecs\u001b[0m\u001b[0;34m,\u001b[0m \u001b[0mH\u001b[0m\u001b[0;34m[\u001b[0m\u001b[0;36m1\u001b[0m\u001b[0;34m]\u001b[0m\u001b[0;34m,\u001b[0m \u001b[0mL_full\u001b[0m\u001b[0;34m)\u001b[0m\u001b[0;34m)\u001b[0m\u001b[0;34m)\u001b[0m\u001b[0;34m\u001b[0m\u001b[0m\n\u001b[0m\u001b[1;32m     19\u001b[0m \u001b[0;32mprint\u001b[0m\u001b[0;34m(\u001b[0m\u001b[0mtime\u001b[0m\u001b[0;34m.\u001b[0m\u001b[0mtime\u001b[0m\u001b[0;34m(\u001b[0m\u001b[0;34m)\u001b[0m\u001b[0;34m-\u001b[0m\u001b[0mti\u001b[0m\u001b[0;34m)\u001b[0m \u001b[0;34m;\u001b[0m \u001b[0mti\u001b[0m \u001b[0;34m=\u001b[0m \u001b[0mtime\u001b[0m\u001b[0;34m.\u001b[0m\u001b[0mtime\u001b[0m\u001b[0;34m(\u001b[0m\u001b[0;34m)\u001b[0m\u001b[0;34m\u001b[0m\u001b[0m\n\u001b[1;32m     20\u001b[0m \u001b[0;34m\u001b[0m\u001b[0m\n",
      "\u001b[0;32m<ipython-input-29-244daa76ffd8>\u001b[0m in \u001b[0;36mvec_to_dm\u001b[0;34m(evecs, _H, L)\u001b[0m\n\u001b[1;32m      7\u001b[0m     \u001b[0;32mprint\u001b[0m\u001b[0;34m(\u001b[0m\u001b[0;34m\"1\"\u001b[0m\u001b[0;34m)\u001b[0m\u001b[0;34m\u001b[0m\u001b[0m\n\u001b[1;32m      8\u001b[0m     \u001b[0mn\u001b[0m \u001b[0;34m=\u001b[0m \u001b[0mint\u001b[0m\u001b[0;34m(\u001b[0m\u001b[0mnp\u001b[0m\u001b[0;34m.\u001b[0m\u001b[0msqrt\u001b[0m\u001b[0;34m(\u001b[0m\u001b[0mL\u001b[0m\u001b[0;34m.\u001b[0m\u001b[0mshape\u001b[0m\u001b[0;34m[\u001b[0m\u001b[0;36m0\u001b[0m\u001b[0;34m]\u001b[0m\u001b[0;34m)\u001b[0m\u001b[0;34m)\u001b[0m\u001b[0;34m\u001b[0m\u001b[0m\n\u001b[0;32m----> 9\u001b[0;31m     \u001b[0mdata\u001b[0m \u001b[0;34m=\u001b[0m \u001b[0mdense2D_to_fastcsr_fmode\u001b[0m\u001b[0;34m(\u001b[0m\u001b[0mvec2mat\u001b[0m\u001b[0;34m(\u001b[0m\u001b[0mevecs\u001b[0m\u001b[0;34m.\u001b[0m\u001b[0mH\u001b[0m\u001b[0;34m)\u001b[0m\u001b[0;34m,\u001b[0m \u001b[0mn\u001b[0m\u001b[0;34m,\u001b[0m \u001b[0mn\u001b[0m\u001b[0;34m)\u001b[0m\u001b[0;34m\u001b[0m\u001b[0m\n\u001b[0m\u001b[1;32m     10\u001b[0m     \u001b[0;32mprint\u001b[0m\u001b[0;34m(\u001b[0m\u001b[0;34m\"2\"\u001b[0m\u001b[0;34m)\u001b[0m\u001b[0;34m\u001b[0m\u001b[0m\n\u001b[1;32m     11\u001b[0m     \u001b[0mdata\u001b[0m \u001b[0;34m=\u001b[0m \u001b[0;36m0.5\u001b[0m \u001b[0;34m*\u001b[0m \u001b[0;34m(\u001b[0m\u001b[0mdata\u001b[0m \u001b[0;34m+\u001b[0m \u001b[0mdata\u001b[0m\u001b[0;34m.\u001b[0m\u001b[0mH\u001b[0m\u001b[0;34m)\u001b[0m\u001b[0;34m\u001b[0m\u001b[0m\n",
      "\u001b[0;31mAttributeError\u001b[0m: 'numpy.ndarray' object has no attribute 'H'"
     ]
    }
   ],
   "source": [
    "L_full = -1*qt.liouvillian(H[1], c_ops=[L]).data #-(H_to_LVN(H[1])+ L).data\n",
    "\n",
    "\"\"\"# Baseline largest evals\n",
    "ti = time.time()\n",
    "evals, evecs = eigs(L_full, 1)\n",
    "print(evals[0], evecs[0].max())\n",
    "print(time.time()-ti) ; ti = time.time()\n",
    "\n",
    "# baseline smallest evals\n",
    "print(eigs(L_full, 1, which='SM'))\n",
    "print(time.time()-ti) ; \n",
    "\"\"\"\n",
    "# shift-inverse at zero\n",
    "ti = time.time()\n",
    "evals, evecs = eigs(L_full, 1, which='LM', sigma=1e-15, tol=0)\n",
    "\n",
    "\n",
    "print(evals[0], coherence_exp(vec_to_dm(evecs, H[1], L_full)))\n",
    "print(time.time()-ti) ; ti = time.time()\n",
    "\n",
    "evals, evecs = eigs(L_full, 1, which='LM', sigma=1e-15, tol=0)\n",
    "#print evals, evecs\n",
    "print(evals[0], coherence_exp(vec_to_dm(evecs, H[1], L_full)))\n",
    "print(time.time()-ti) ; ti = time.time()\n",
    "\n",
    "\n"
   ]
  },
  {
   "cell_type": "code",
   "execution_count": 41,
   "metadata": {},
   "outputs": [
    {
     "data": {
      "text/plain": [
       "array([0.0015512 +9.01320931e-10j, 0.00356744+2.32050307e-09j,\n",
       "       0.00427072-3.59711503e-11j, 0.00518655-7.55548413e-10j,\n",
       "       0.00524464+3.08558689e-09j, 0.00626081+1.88517439e-09j,\n",
       "       0.00719444+4.57296389e-09j, 0.00749287+1.44762583e-09j,\n",
       "       0.00787547-3.63794431e-05j, 0.00787556+3.63860028e-05j])"
      ]
     },
     "execution_count": 41,
     "metadata": {},
     "output_type": "execute_result"
    }
   ],
   "source": [
    "evals"
   ]
  },
  {
   "cell_type": "code",
   "execution_count": 31,
   "metadata": {},
   "outputs": [
    {
     "name": "stdout",
     "output_type": "stream",
     "text": [
      "(-4.40060795524e-05-9.5207955958e-07j)\n",
      "2.47511816025\n",
      "(-4.40060795524e-05-9.5207955958e-07j)\n",
      "2.41130280495\n"
     ]
    }
   ],
   "source": [
    "ti = time.time()\n",
    "ss = steadystate(H[1], [L])\n",
    "e_op = make_expectation_operators(PARAMS)['site_coherence']\n",
    "print ((ss*e_op).tr())\n",
    "print(time.time()-ti) ; ti = time.time()\n",
    "ss = steadystate(H[1], [L])\n",
    "e_op = make_expectation_operators(PARAMS)['site_coherence']\n",
    "print ((ss*e_op).tr())\n",
    "print(time.time()-ti) "
   ]
  },
  {
   "cell_type": "markdown",
   "metadata": {},
   "source": [
    "# Showing that pre-multiplying by $\\sigma$ doesn't work"
   ]
  },
  {
   "cell_type": "code",
   "execution_count": 11,
   "metadata": {},
   "outputs": [
    {
     "name": "stdout",
     "output_type": "stream",
     "text": [
      "Quantum object: dims = [[[3, 5, 5], [3, 5, 5]], [[3, 5, 5], [3, 5, 5]]], shape = (5184, 5184), type = super, isherm = False\n",
      "Qobj data =\n",
      "[[-6.48510915e+02  4.55956258e-05 -1.75712202e+02 ...  0.00000000e+00\n",
      "   0.00000000e+00  0.00000000e+00]\n",
      " [ 4.44164692e-05 -3.24263625e+02  6.44837651e-05 ...  0.00000000e+00\n",
      "   0.00000000e+00  0.00000000e+00]\n",
      " [-4.58554915e+02  6.28161930e-05 -5.72758205e+02 ...  0.00000000e+00\n",
      "   0.00000000e+00  0.00000000e+00]\n",
      " ...\n",
      " [ 0.00000000e+00  0.00000000e+00  0.00000000e+00 ... -5.70614975e-02\n",
      "  -2.37833582e-04 -5.04679792e-07]\n",
      " [ 0.00000000e+00  0.00000000e+00  0.00000000e+00 ... -2.36156195e-04\n",
      "  -5.70619168e-02 -2.91286208e-04]\n",
      " [ 0.00000000e+00  0.00000000e+00  0.00000000e+00 ... -5.22472508e-07\n",
      "  -2.89231836e-04 -5.70615023e-02]] Quantum object: dims = [[3, 5, 5], [3, 5, 5]], shape = (72, 72), type = oper, isherm = True\n",
      "Qobj data =\n",
      "[[   0.            0.            0.         ...    0.\n",
      "     0.            0.        ]\n",
      " [   0.          200.            0.         ...    0.\n",
      "     0.            0.        ]\n",
      " [   0.            0.          400.         ...    0.\n",
      "     0.            0.        ]\n",
      " ...\n",
      " [   0.            0.            0.         ... 9025.\n",
      "   100.            0.        ]\n",
      " [   0.            0.            0.         ...  100.\n",
      "  9225.          122.47448714]\n",
      " [   0.            0.            0.         ...    0.\n",
      "   122.47448714 9425.        ]]\n",
      "[Quantum object: dims = [[[3, 5, 5], [3, 5, 5]], [1, 1]], shape = (5184, 1), type = operator-ket\n",
      "Qobj data =\n",
      "[[0.+0.j]\n",
      " [0.+0.j]\n",
      " [0.+0.j]\n",
      " ...\n",
      " [0.+0.j]\n",
      " [0.+0.j]\n",
      " [0.+0.j]]]\n"
     ]
    },
    {
     "data": {
      "text/plain": [
       "'\\nn = int(np.sqrt(L.shape[0]))\\nweight = np.mean(np.abs(H[1].data.data.max()))\\nL_LU = L.data.tocsc() + csc_matrix((weight*np.ones(n), \\n                                       (np.zeros(n), [nn * (n + 1) for nn in range(n)])),\\n                                         shape=(n ** 2, n ** 2))\\nprint(n))\\nLU = splu(csc_matrix(L.data))\\n#print LU.L, LU.U\\nb = np.zeros(n ** 2, dtype=complex)\\nb[0] = weight\\nsol = np.array([LU.solve(b)])\\nprint( np.array(sol).shape)\\n\\n#s = qt.to_super(, dims=_dims))\\n#print s\\n#print type(s) #\\n#print np.dot(Lsig, b)\\n#print Lsig.shape, b.shape\\n#X = cg(Lsig, b)\\n#print X'"
      ]
     },
     "execution_count": 11,
     "metadata": {},
     "output_type": "execute_result"
    }
   ],
   "source": [
    "\n",
    "from qutip import spre\n",
    "from scipy.sparse import csc_matrix\n",
    "from scipy.sparse.linalg import spsolve, lgmres, gmres, cg, spilu, splu\n",
    "from qutip import build_preconditioner\n",
    "L_full = qt.liouvillian(H[1], c_ops=[L])\n",
    "print L, H[1]\n",
    "evals, evec = L_full.eigenstates(sparse=True, sort='high', eigvals=1)\n",
    "print evec\n",
    "\"\"\"e_op = make_expectation_operators(PARAMS)['sigma_x']\n",
    "_dims = e_op.dims\n",
    "I = qt.enr_identity(_dims[0], 2*N-3)\n",
    "#\n",
    "e_op = qt.to_super(e_op)\n",
    "#print (qt.tensor(, I))\n",
    "Lsig = (e_op*L_full)\n",
    "print(Lsig)\n",
    "#M = build_preconditioner(H, c_op_list=[Lsig])\n",
    "#ss = qt.steadystate(Lsig) # this makes the kernel die\"\"\"\n",
    "\"\"\"\n",
    "n = int(np.sqrt(L.shape[0]))\n",
    "weight = np.mean(np.abs(H[1].data.data.max()))\n",
    "L_LU = L.data.tocsc() + csc_matrix((weight*np.ones(n), \n",
    "                                       (np.zeros(n), [nn * (n + 1) for nn in range(n)])),\n",
    "                                         shape=(n ** 2, n ** 2))\n",
    "print(n))\n",
    "LU = splu(csc_matrix(L.data))\n",
    "#print LU.L, LU.U\n",
    "b = np.zeros(n ** 2, dtype=complex)\n",
    "b[0] = weight\n",
    "sol = np.array([LU.solve(b)])\n",
    "print( np.array(sol).shape)\n",
    "\n",
    "#s = qt.to_super(, dims=_dims))\n",
    "#print s\n",
    "#print type(s) #\n",
    "#print np.dot(Lsig, b)\n",
    "#print Lsig.shape, b.shape\n",
    "#X = cg(Lsig, b)\n",
    "#print X\"\"\""
   ]
  },
  {
   "cell_type": "code",
   "execution_count": null,
   "metadata": {},
   "outputs": [],
   "source": [
    "\n",
    "ket = qt.Qobj(qt.Qobj(sol).dag(), dims=_dims)\n",
    "print(ket)\n",
    "print qt.vector_to_operator(ket)"
   ]
  },
  {
   "cell_type": "code",
   "execution_count": null,
   "metadata": {},
   "outputs": [],
   "source": [
    "print(n**2)"
   ]
  },
  {
   "cell_type": "code",
   "execution_count": null,
   "metadata": {},
   "outputs": [],
   "source": [
    "from numpy.random import random\n",
    "from scipy.sparse import csc_matrix\n",
    "from scipy.sparse.linalg import spsolve, minres\n",
    "\n",
    "N = 10\n",
    "A = csc_matrix( random(size = (N,N)) )\n",
    "A = (A.T).dot(A) # force the matrix to be symmetric, as required by minres\n",
    "x = csc_matrix( random(size = (N,1)) ) # create a solution vector\n",
    "b = A.dot(x) # create the RHS vector\n",
    "\n",
    "# verify shapes and types are correct\n",
    "print('A', A.shape, type(A))\n",
    "print('x', x.shape, type(x))\n",
    "print('b', b.shape, type(b))\n",
    "\n",
    "# spsolve function works fine\n",
    "sol1 = spsolve(A, b)\n"
   ]
  },
  {
   "cell_type": "code",
   "execution_count": null,
   "metadata": {},
   "outputs": [],
   "source": [
    "H, L = get_H_and_L(PARAMS, silent=True, threshold=oc*10)\n",
    "ti = time.time()\n",
    "PARAMS.update({'N_1': 8, 'N_1': 8, 'exc': 16-3})\n",
    "ssL, info = calculate_steadystate(H, L, fill_factor=5000, \n",
    "                                        persistent=False)"
   ]
  },
  {
   "cell_type": "code",
   "execution_count": null,
   "metadata": {},
   "outputs": [],
   "source": [
    "H, L = get_H_and_L(PARAMS, silent=True, threshold=oc*10)\n",
    "ti = time.time()\n",
    "PARAMS.update({'N_1': 8, 'N_1': 8, 'exc': 16-3})\n",
    "ssL, info = calculate_steadystate(H, L, fill_factor=10000, \n",
    "                                        persistent=False)"
   ]
  },
  {
   "cell_type": "code",
   "execution_count": null,
   "metadata": {},
   "outputs": [],
   "source": [
    "H, L = get_H_and_L(PARAMS, silent=True, \n",
    "                           threshold=oc*100)\n",
    "ti = time.time()\n",
    "PARAMS.update({'N_1': 8, 'N_1': 8, 'exc': 16-3})\n",
    "ssL, info = calculate_steadystate(H, L, fill_factor=5000, persistent=False)"
   ]
  },
  {
   "cell_type": "code",
   "execution_count": null,
   "metadata": {},
   "outputs": [],
   "source": [
    "heat_map_calculator(PARAMS,\n",
    "                        x_axis_parameters=['w0_1', 'w0_2'],\n",
    "                        y_axis_parameters=['Gamma_1', 'Gamma_2'],\n",
    "                        x_values=[100., 200., 300.],\n",
    "                        y_values=[70., 200., 600.],\n",
    "                        dir_name='heatmap_oG', fill_factor=47,\n",
    "                        save_data=True, persistent=False)"
   ]
  },
  {
   "cell_type": "code",
   "execution_count": null,
   "metadata": {},
   "outputs": [],
   "source": [
    "# N=5 : 0.960 sec (prec) | 44.356 seconds"
   ]
  },
  {
   "cell_type": "code",
   "execution_count": null,
   "metadata": {
    "scrolled": true
   },
   "outputs": [],
   "source": [
    "ti = time.time()\n",
    "L_tidy = chop(L, threshold=1e-6)\n",
    "ssLt, info = calculate_steadystate(H, L_tidy, fill_factor=500, persistent=False)\n",
    "print time.time()-ti\n",
    "rho_size = ssL.shape[0]**2"
   ]
  },
  {
   "cell_type": "code",
   "execution_count": null,
   "metadata": {},
   "outputs": [],
   "source": [
    "visualise_sparse(L)\n",
    "visualise_sparse(L_tidy)"
   ]
  },
  {
   "cell_type": "code",
   "execution_count": null,
   "metadata": {},
   "outputs": [],
   "source": [
    "print nonzero_elements(L)\n",
    "print nonzero_elements(L_tidy)\n",
    "print total_elements(L)\n",
    "print 100*float(nonzero_elements(L))/total_elements(L)\n",
    "print 100*float(nonzero_elements(L_tidy))/total_elements(L)"
   ]
  },
  {
   "cell_type": "code",
   "execution_count": null,
   "metadata": {},
   "outputs": [],
   "source": [
    "print \"Total error per nz dm element due to chop: {}\".format(np.sum(ssL.full()-ssLt.full())/nonzero_elements(ssL)) \n",
    "\n",
    "visualise_dense(ssL)\n",
    "visualise_dense(ssLt)\n"
   ]
  },
  {
   "cell_type": "code",
   "execution_count": null,
   "metadata": {},
   "outputs": [],
   "source": []
  },
  {
   "cell_type": "markdown",
   "metadata": {},
   "source": [
    "# For N=6, with no "
   ]
  },
  {
   "cell_type": "code",
   "execution_count": null,
   "metadata": {
    "code_folding": []
   },
   "outputs": [],
   "source": [
    "from heatmap_setup import steadystate\n",
    "\n",
    "w_2 = 8000.\n",
    "alpha = 20.\n",
    "\n",
    "N = 6\n",
    "pap = alpha_to_pialpha_prop(alpha, w_2)\n",
    "PARAMS = PARAMS_setup(bias=100., w_2=8000., V = 100., pialpha_prop=pap,\n",
    "                                 T_EM=6000., T_ph =300.,\n",
    "                                 alpha_EM=0.1, shift=True,\n",
    "                                 num_cpus=3, N=N, Gamma=200., w_0=300.,\n",
    "                                 silent=True, exc_diff=N)\n",
    "from numpy.linalg import norm\n",
    "def estimateCondition(M):\n",
    "    vec = np.ones((1, M.shape[0])).T\n",
    "    return norm(M.dot(vec), np.inf)"
   ]
  },
  {
   "cell_type": "code",
   "execution_count": null,
   "metadata": {},
   "outputs": [],
   "source": [
    "from qutip import build_preconditioner\n",
    "\n",
    "def method_plotter(N_vals, data_dict, info_dict):\n",
    "    f, (ax1, ax2) = plt.subplots(2,1, figsize=(10,7))\n",
    "    for i, key in enumerate(data_dict.keys()):\n",
    "        ax1.plot(N_vals, data_dict[key], label=key, color=colourWheel[i])\n",
    "        print info_dict[key]\n",
    "        ax2.plot(N_vals, info_dict[key], label=key, color=colourWheel[i])\n",
    "    plt.legend()\n",
    "    ax1.set_ylabel(\"Coherence\")\n",
    "    ax2.set_ylabel(\"Solution time\")\n",
    "    plt.show()\n",
    "\n",
    "\n",
    "def method_comparison(N_i, N_f, plot=True):\n",
    "    methods = ['direct','power']\n",
    "    data_dict = dict()\n",
    "    info_dict = dict()\n",
    "    N_vals = range(N_i, N_f)\n",
    "    for N in N_vals:\n",
    "        PARAMS.update({'N_1':N, 'N_2':N, 'exc_diff':int(1.5*N)})\n",
    "        H, L = get_H_and_L(PARAMS,silent=False, threshold=1e-7)\n",
    "        exps = make_expectation_operators(PARAMS)\n",
    "        for method in methods:\n",
    "            try:\n",
    "                M=None\n",
    "                if \"iterative\" in method:\n",
    "                    ti = time.time()\n",
    "                    M = build_preconditioner(H[1], [L], fill_factor=1000,\n",
    "                                           drop_tol=1e-4, use_rcm=True, ILU_MILU='smilu_2')\n",
    "                    print \"Building preconditioner ({}) took {} seconds\".format(estimateCondition(M), \n",
    "                                                                                     time.time()-ti)\n",
    "                ss, full_info = steadystate(H[1], [L], method=method, M=M,\n",
    "                                           use_precond=True, use_rcm=True, \n",
    "                                           return_info=True, tol=1e-8, maxiter=10000)\n",
    "\n",
    "                print method, full_info['solution_time']\n",
    "                info = full_info['solution_time']\n",
    "\n",
    "                coh = (exps['site_coherence']*ss).tr()\n",
    "                try:\n",
    "                    data_dict[method].append(coh)\n",
    "                    info_dict[method].append(info)\n",
    "                except KeyError:\n",
    "                    data_dict[method] = [coh]\n",
    "                    info_dict[method] = [info]\n",
    "            except Exception as err:\n",
    "                raise\n",
    "                print \"{} failed due to : {}\".format(method, err)\n",
    "                try:\n",
    "                    data_dict[method].append(None)\n",
    "                    info_dict[method].append(None)\n",
    "                except KeyError:\n",
    "                    data_dict[method] = [None]\n",
    "                    info_dict[method] = [None]\n",
    "    if plot:\n",
    "        method_plotter(N_vals, data_dict, info_dict)\n",
    "    return N_vals, data_dict, info_dict\n",
    "\n",
    "N_vals, data_dict, info_dict = method_comparison(2,8)"
   ]
  },
  {
   "cell_type": "markdown",
   "metadata": {
    "heading_collapsed": true
   },
   "source": [
    "# Plotting methods"
   ]
  },
  {
   "cell_type": "code",
   "execution_count": null,
   "metadata": {
    "hidden": true
   },
   "outputs": [],
   "source": [
    "def steadystate_observable(ss_array, PARAMS, observable):\n",
    "    try:\n",
    "        size = (len(PARAMS['y_values']), len(PARAMS['x_values']))\n",
    "    except KeyError:\n",
    "        size = (1,1)\n",
    "    # deal with the case where N is being changed as an x value\n",
    "    if 'N_1' in PARAMS['x_axis_parameters']:\n",
    "        data_array = np.zeros(size)         # Collect data\n",
    "        N_values = PARAMS['x_values']\n",
    "        # NEw observable operator for each N value\n",
    "        for i, N in enumerate(N_values):\n",
    "            PARAMS.update({'N_1' : N, 'N_2' : N})\n",
    "            exc = N+PARAMS['exc_diff']\n",
    "            # Leave it so exc can be fixed or a y_parameter\n",
    "            if 'exc' in PARAMS['x_axis_parameters']:\n",
    "                PARAMS.update({'exc': exc})\n",
    "            _obs_op = make_expectation_operators(PARAMS)[observable]\n",
    "            for j, y in enumerate(PARAMS['y_values']):\n",
    "                # the case where exc is on the y axis\n",
    "                if 'exc_diff' in PARAMS['y_axis_parameters']:\n",
    "                    PARAMS.update({'exc': N+y})\n",
    "                    _obs_op = make_expectation_operators(PARAMS)[observable]\n",
    "                try:\n",
    "                    print ss_array[j][i].shape, _obs_op.shape\n",
    "                    data_array[j][i] = (qt.Qobj(ss_array[j][i])*_obs_op).tr().real\n",
    "                except AttributeError:\n",
    "                    data_array[j][i] = np.nan\n",
    "        return data_array\n",
    "    else:\n",
    "        # Much simpler if N isn't on the x-axis\n",
    "        obs_op = make_expectation_operators(PARAMS)[observable]\n",
    "        f = lambda x: (qt.Qobj(x)*obs_op).tr()\n",
    "        ss_array = np.reshape(ss_array, (1, size[0]*size[1]))[0]\n",
    "\n",
    "        data_array = map(f, ss_array)\n",
    "        data_array = np.array(data_array).reshape(size).real\n",
    "        return data_array\n",
    "\n",
    "\n",
    "def heatmap_plotter(num, plot_SD=True, dir_name=\"heatmap\", \n",
    "                     print_params=False, observable='sigma_x', \n",
    "                    reverse_x=True):\n",
    "    \n",
    "    directory = 'DATA/'+dir_name+'_'+str(num)\n",
    "    ss_array = load_obj(directory+'/ss_array')\n",
    "    PARAMS = load_obj(directory+'/PARAMS')\n",
    "    info_array = load_obj(directory+'/info_array') # reverse ordering -> lower_N-higher_N\n",
    "    info = info_array[0][0]\n",
    "    \n",
    "    try:\n",
    "        # To catch an old bug where these were in \"info\" not in PARAMS\n",
    "        keys = ['x_values', 'y_values', 'y_axis_parameters', 'x_axis_parameters']\n",
    "        PARAMS.update(dict((key, info[key]) for key in keys))\n",
    "    except Exception as err:\n",
    "        print \"new style\"\n",
    "    if plot_SD:\n",
    "        plot_UD_SD(PARAMS[\"Gamma_1\"], PARAMS[\"alpha_1\"], PARAMS[\"w0_1\"], eps=2000.)\n",
    "    \n",
    "    ss_array = steadystate_observable(ss_array, PARAMS, observable)\n",
    "\n",
    "    \n",
    "    f, axes = plt.subplots(1,1, figsize=(13,6))\n",
    "    for i, y_val in enumerate(PARAMS['y_values']):\n",
    "        x_values = PARAMS['x_values']\n",
    "        if reverse_x:\n",
    "            x_values = x_values[::-1]\n",
    "        axes.plot(x_values, ss_array[i], \n",
    "                  label=str(PARAMS['y_axis_parameters'])+\"=\"+str(y_val))\n",
    "    \n",
    "    print_PARAMS(PARAMS)\n",
    "    \n",
    "    plt.xlabel(', '.join(PARAMS['x_axis_parameters']))\n",
    "    plt.ylabel(\"Steadystate \"+observable)\n",
    "    #plt.ylabel(', '.join(info['y_axis_parameters']))\n",
    "    plt.legend()\n",
    "    plt.grid()\n",
    "    plot_filename = 'PLOTS/'+dir_name+'_'+str(num)+'.pdf'\n",
    "    plt.savefig(plot_filename)\n",
    "    print \"saved at {}\".format(plot_filename)\n",
    "    plt.show()"
   ]
  },
  {
   "cell_type": "code",
   "execution_count": null,
   "metadata": {
    "hidden": true
   },
   "outputs": [],
   "source": [
    "heatmap_plotter(2, plot_SD=False, dir_name='heatmap_excvN', \n",
    "                     print_params=False, observable='sigma_x', \n",
    "                    reverse_x=True)"
   ]
  },
  {
   "cell_type": "code",
   "execution_count": null,
   "metadata": {
    "hidden": true
   },
   "outputs": [],
   "source": []
  }
 ],
 "metadata": {
  "kernelspec": {
   "display_name": "Python 2",
   "language": "python",
   "name": "python2"
  },
  "language_info": {
   "codemirror_mode": {
    "name": "ipython",
    "version": 2
   },
   "file_extension": ".py",
   "mimetype": "text/x-python",
   "name": "python",
   "nbconvert_exporter": "python",
   "pygments_lexer": "ipython2",
   "version": "2.7.15"
  }
 },
 "nbformat": 4,
 "nbformat_minor": 2
}
