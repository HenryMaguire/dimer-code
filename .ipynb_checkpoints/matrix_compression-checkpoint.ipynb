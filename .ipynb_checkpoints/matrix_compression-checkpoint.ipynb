{
 "cells": [
  {
   "cell_type": "code",
   "execution_count": 1,
   "metadata": {},
   "outputs": [
    {
     "data": {
      "text/plain": [
       "<module 'dimer_tests' from 'dimer_tests.pyc'>"
      ]
     },
     "execution_count": 1,
     "metadata": {},
     "output_type": "execute_result"
    }
   ],
   "source": [
    "import sys\n",
    "import os\n",
    "import traceback\n",
    "import time\n",
    "\n",
    "from numpy import pi\n",
    "import numpy as np\n",
    "from qutip import Qobj, basis, ket, mesolve, qeye, tensor, thermal_dm, destroy\n",
    "from qutip import enr_identity, enr_destroy, enr_thermal_dm\n",
    "import qutip as qt\n",
    "import matplotlib.pyplot as plt\n",
    "import matplotlib\n",
    "from matplotlib import gridspec\n",
    "\n",
    "import dimer_phonons as RC\n",
    "import dimer_optical as EM\n",
    "from utils import *\n",
    "import dimer_plotting as vis\n",
    "import dimer_tests as check\n",
    "import optical_liouvillian_J as JAKE\n",
    "\n",
    "matplotlib.style.use('ggplot')\n",
    "\n",
    "reload(RC)\n",
    "reload(EM)\n",
    "reload(vis)\n",
    "reload(check)"
   ]
  },
  {
   "cell_type": "code",
   "execution_count": null,
   "metadata": {},
   "outputs": [
    {
     "name": "stdout",
     "output_type": "stream",
     "text": [
      "Help on function enr_identity in module qutip.operators:\n",
      "\n",
      "enr_identity(dims, excitations)\n",
      "    Generate the identity operator for the excitation-number restricted\n",
      "    state space defined by the `dims` and `exciations` arguments. See the\n",
      "    docstring for enr_fock for a more detailed description of these arguments.\n",
      "    \n",
      "    Parameters\n",
      "    ----------\n",
      "    dims : list\n",
      "        A list of the dimensions of each subsystem of a composite quantum\n",
      "        system.\n",
      "    \n",
      "    excitations : integer\n",
      "        The maximum number of excitations that are to be included in the\n",
      "        state space.\n",
      "    \n",
      "    state : list of integers\n",
      "        The state in the number basis representation.\n",
      "    \n",
      "    Returns\n",
      "    -------\n",
      "    op : Qobj\n",
      "        A Qobj instance that represent the identity operator in the\n",
      "        exication-number-restricted state space defined by `dims` and\n",
      "        `exciations`.\n",
      "\n"
     ]
    }
   ],
   "source": [
    "help(enr_identity)\n",
    "print np.linalg.eig(np.array([enr_identity([2**4,10,10,10,10], 10).full()]))"
   ]
  },
  {
   "cell_type": "code",
   "execution_count": 49,
   "metadata": {
    "collapsed": true
   },
   "outputs": [],
   "source": [
    "def phonon_dynamics_calculator(w_2, bias, V, T_EM, alpha_EM, alpha_1, alpha_2, \n",
    "                               N,exc, optical=True, just_operators=False, new_way=True):\n",
    "    OO = basis(4,0)\n",
    "    XO = basis(4,1)\n",
    "    OX = basis(4,2)\n",
    "    XX = basis(4,3)\n",
    "    sigma_m1 = OX*XX.dag() + OO*XO.dag()\n",
    "    sigma_m2 = XO*XX.dag() + OO*OX.dag()\n",
    "    sigma_x1 = sigma_m1+sigma_m1.dag()\n",
    "    sigma_x2 = sigma_m2+sigma_m2.dag()\n",
    "    w_1 = w_2 + bias\n",
    "    dipole_1, dipole_2 = 1., 1.\n",
    "    mu = w_2*dipole_2/(w_1*dipole_1)\n",
    "\n",
    "    T_1, T_2 = 300., 300. # Phonon bath temperature\n",
    "\n",
    "    wc = 1*53.08 # Ind.-Boson frame phonon cutoff freq\n",
    "    w0_2, w0_1 = 500., 501. # underdamped SD parameter omega_0\n",
    "    w_xx = w_2 + w_1\n",
    "    N_1, N_2 = N,N # set Hilbert space sizes\n",
    "    num_cpus = 1\n",
    "    J = J_minimal\n",
    "    \n",
    "    PARAM_names = ['w_1', 'w_2', 'V', 'bias', 'w_xx', 'T_1', 'T_2', 'wc',\n",
    "                    'w0_1', 'w0_2', 'alpha_1', 'alpha_2', 'N_1', 'N_2', 'exc', 'T_EM', 'alpha_EM','mu', 'num_cpus', 'J', 'dipole_1','dipole_2']\n",
    "    scope = locals() # Lets eval below use local variables, not global\n",
    "    PARAMS = dict((name, eval(name, scope)) for name in PARAM_names)\n",
    "    if just_operators:\n",
    "        return RC.rate_operators(PARAMS)\n",
    "    H_dim = w_1*XO*XO.dag() + w_2*OX*OX.dag() + w_xx*XX*XX.dag() + V*(XO*OX.dag() + OX*XO.dag())\n",
    "    energies, states = check.exciton_states(PARAMS)\n",
    "    bright_vec = states[1]\n",
    "    dark_vec = states[0]\n",
    "    energies_n, states_n = H_dim.eigenstates()\n",
    "\n",
    "    I_dimer = qeye(4)\n",
    "    I = enr_identity([N_1,N_2], exc)\n",
    "    dark = tensor(dark_vec*dark_vec.dag(), I)\n",
    "    bright = tensor(bright_vec*bright_vec.dag(), I)\n",
    "    exciton_coherence = tensor(dark_vec*bright_vec.dag(), I)\n",
    "\n",
    "    '''Defining DM states'''\n",
    "    site_coherence = tensor(OX*XO.dag(), I)\n",
    "    OO = tensor(OO*OO.dag(), I)\n",
    "    XO = tensor(XO*XO.dag(), I)\n",
    "    OX = tensor(OX*OX.dag(), I)\n",
    "    XX = tensor(XX*XX.dag(), I)\n",
    "\n",
    "    #Now we build all of the mapped operators and RC Liouvillian.\n",
    "\n",
    "    # electromagnetic bath liouvillians\n",
    "\n",
    "    opts = qt.Options(num_cpus=1, store_states=True)\n",
    "    ncolors = len(plt.rcParams['axes.prop_cycle'])\n",
    "    ''' generate the RC liouvillian'''\n",
    "    L_RC, H_0, A_1, A_2, SIG_1, SIG_2, PARAMS = RC.RC_mapping_OD(PARAMS) # Got the mapped parameters back\n",
    "    wRC_1, wRC_2, kappa_1, kappa_2 = PARAMS['w0_1'], PARAMS['w0_2'], PARAMS['kappa_1'],PARAMS['kappa_2']\n",
    "    ''' make the RC observable operators '''\n",
    "    atemp = enr_destroy([N_1,N_2], exc)\n",
    "    n_RC_1 = Occupation(wRC_1, T_1)\n",
    "    n_RC_2 = Occupation(wRC_2, T_2)\n",
    "    phonon_num_1 = atemp[0].dag()*atemp[0]\n",
    "    phonon_num_2 = atemp[1].dag()*atemp[1]\n",
    "    x_1 = (atemp[0].dag()+atemp[0])\n",
    "    x_2 = (atemp[1].dag()+atemp[1])\n",
    "    Phonon_1 = tensor(I_dimer, phonon_num_1)\n",
    "    Phonon_2 = tensor(I_dimer, phonon_num_2)\n",
    "    disp_1 = tensor(I_dimer, x_1)\n",
    "    disp_2 = tensor(I_dimer, x_2)\n",
    "\n",
    "    thermal_RCs = enr_thermal_dm([N_1,N_2], exc, [n_RC_1, n_RC_2])\n",
    "    ''' initial density operator state'''\n",
    "    #rho_0 = tensor(basis(4,initial)*basis(4,initial).dag(),thermal_RCs)\n",
    "\n",
    "    ops = [OO, XO, OX, XX]\n",
    "    # Expectation values and time increments needed to calculate the dynamics\n",
    "    expects = ops + [dark, bright, exciton_coherence, site_coherence]\n",
    "    expects +=[Phonon_1, Phonon_2, disp_1, disp_2]\n",
    "    \n",
    "    #timelist = np.linspace(0,end_time,1000*end_time)\n",
    "    if optical:\n",
    "        A_EM = SIG_1+PARAMS['mu']*SIG_2\n",
    "        L_RC += EM.L_non_rwa(H_0, A_EM, PARAMS)\n",
    "        print \"L has shape {}\".format(L_RC.shape)\n",
    "    return L_RC, H_0, expects#, timelist\n"
   ]
  },
  {
   "cell_type": "code",
   "execution_count": 38,
   "metadata": {
    "collapsed": true
   },
   "outputs": [],
   "source": [
    "from numpy.linalg import svd\n",
    "\n",
    "def compress_L(L, threshold=50.):\n",
    "    ti = time.time()\n",
    "    u, s, vh = svd(L.full())\n",
    "    #print s\n",
    "    approx_s = [sv if abs(sv)>threshold else 0 for sv in s]\n",
    "    removed = sum([0. if abs(sv)>threshold else 1. for sv in s])\n",
    "    print \"Removed {} which is {:0.2f}% of the {} singular values.\".format(int(removed), \n",
    "                                                                           100*(removed/len(approx_s)), \n",
    "                                                                            len(approx_s))\n",
    "    approx_s_mat = np.zeros((u.shape[1], vh.shape[0]), dtype=complex)\n",
    "    approx_s_mat[:len(s), :len(s)] = np.diag(approx_s)\n",
    "    approx_L = qt.Qobj(np.dot(u, np.dot(approx_s_mat, vh)), dims = L.dims).tidyup(atol=1e-6)\n",
    "    print \"Compression took {} seconds.\".format(time.time()-ti)\n",
    "    return approx_L\n",
    "\n",
    "from scipy.sparse.linalg import svds\n",
    "\n",
    "def compress_L_sp(L, k_fract=0.98):\n",
    "    ti = time.time()\n",
    "    k = int(L_RC.shape[0]*k_fract)\n",
    "    u, s, vh = svds(L.full(), k=k)\n",
    "    print u.shape, s.shape, vh.shape\n",
    "    vh = vh[:,:k] # first k columns\n",
    "    u = u[0:k] # first k rows\n",
    "    #approx_s = [sv if abs(sv)>1E-8 else 0 for sv in s]\n",
    "    #kept = sum([1. if abs(sv)>1E-8 else 0. for sv in s])\n",
    "    #print \"Kept {} which is {:0.1f}% of singular values.\".format(kept, 100*(kept/len(approx_s)))\n",
    "    #approx_s_mat = np.zeros((u.shape[1], vh.shape[0]), dtype=complex)\n",
    "    #approx_s_mat[:len(s), :len(s)] = np.diag(approx_s)\n",
    "    print \"Compression took {} seconds.\".format(time.time()-ti)\n",
    "    a = np.dot(s, vh)\n",
    "    print a.shape\n",
    "    return np.dot(u, a)\n",
    "\n"
   ]
  },
  {
   "cell_type": "code",
   "execution_count": 50,
   "metadata": {},
   "outputs": [
    {
     "name": "stdout",
     "output_type": "stream",
     "text": [
      "Building the RC Liouvillian took  2.75445413589 seconds.\n",
      "Full optical Liouvillian took 2.58380198479 seconds.\n",
      "L has shape (2704, 2704)\n"
     ]
    }
   ],
   "source": [
    "reload(RC)\n",
    "L_RC, H_0, expects = phonon_dynamics_calculator(1000, 100, 100, 300, 5, 500, 500, 4,4, new_way=True, optical=True)\n",
    "#L_RC2, H_0, expects = phonon_dynamics_calculator(1000, 100, 100, 300, 5, 500, 500, 5,10, new_way=False)"
   ]
  },
  {
   "cell_type": "code",
   "execution_count": 48,
   "metadata": {},
   "outputs": [
    {
     "data": {
      "text/plain": [
       "array([    0.        ,   241.22806307,   365.24016344,   664.09152719,\n",
       "         667.02295221,   667.02295221,   911.732498  ,  1038.34086063,\n",
       "        1152.39479957,  1289.32521023,  1334.04590442,  1334.04590442,\n",
       "        1334.04590442,  1545.90533339,  1673.95354386,  1733.26083676,\n",
       "        1762.80895993,  1854.43736994,  1939.98915646,  2001.06885663,\n",
       "        2001.06885663,  2001.06885663,  2001.06885663,  2410.15573172,\n",
       "        2480.99533789,  2574.39596433,  2599.29944006,  2643.96490234,\n",
       "        2668.09180884,  2668.09180884,  2668.09180884,  2816.41827955,\n",
       "        2861.71427345,  2933.3066579 ,  3065.97146537,  3119.18348241,\n",
       "        3203.86713088,  3771.7870563 ,  4120.0705158 ,  4140.32773224,\n",
       "        4244.89944607,  4266.20480358,  4355.63215583,  4473.97503423,\n",
       "        4622.81271697,  4759.01662344,  4760.26959383,  4833.03110712,\n",
       "        4929.62149035,  5310.99287151,  6231.62212176,  6931.95915481])"
      ]
     },
     "execution_count": 48,
     "metadata": {},
     "output_type": "execute_result"
    }
   ],
   "source": [
    "H_0.eigenenergies()"
   ]
  },
  {
   "cell_type": "code",
   "execution_count": 13,
   "metadata": {},
   "outputs": [
    {
     "name": "stdout",
     "output_type": "stream",
     "text": [
      "[  1.13705456e+05   1.11801940e+05   1.02984101e+05 ...,   7.56500555e-12\n",
      "   7.56500555e-12   7.56500555e-12]\n",
      "Removed 9 which is 0.33% of the 2704 singular values.\n",
      "Compression took 29.1383850574 seconds.\n",
      "[  1.13705456e+05   1.11801940e+05   1.02984101e+05 ...,   7.56500555e-12\n",
      "   7.56500555e-12   7.56500555e-12]\n",
      "Removed 23 which is 0.85% of the 2704 singular values.\n",
      "Compression took 29.2809779644 seconds.\n",
      "[  1.13705456e+05   1.11801940e+05   1.02984101e+05 ...,   7.56500555e-12\n",
      "   7.56500555e-12   7.56500555e-12]\n",
      "Removed 50 which is 1.85% of the 2704 singular values.\n",
      "Compression took 29.6318421364 seconds.\n",
      "[  1.13705456e+05   1.11801940e+05   1.02984101e+05 ...,   7.56500555e-12\n",
      "   7.56500555e-12   7.56500555e-12]\n",
      "Removed 77 which is 2.85% of the 2704 singular values.\n",
      "Compression took 29.1358449459 seconds.\n"
     ]
    }
   ],
   "source": [
    "t = compress_L(L_RC, threshold=1)\n",
    "t = compress_L(L_RC, threshold=10)\n",
    "t = compress_L(L_RC, threshold=50)\n",
    "t = compress_L(L_RC, threshold=100)"
   ]
  },
  {
   "cell_type": "code",
   "execution_count": 25,
   "metadata": {
    "collapsed": true
   },
   "outputs": [],
   "source": [
    "u, s, vt =  svd(L_RC.full())\n"
   ]
  },
  {
   "cell_type": "code",
   "execution_count": 26,
   "metadata": {},
   "outputs": [
    {
     "data": {
      "text/plain": [
       "(1024, 1024)"
      ]
     },
     "execution_count": 26,
     "metadata": {},
     "output_type": "execute_result"
    }
   ],
   "source": [
    "u.shape"
   ]
  },
  {
   "cell_type": "code",
   "execution_count": 43,
   "metadata": {},
   "outputs": [
    {
     "ename": "KeyboardInterrupt",
     "evalue": "",
     "output_type": "error",
     "traceback": [
      "\u001b[0;31m---------------------------------------------------------------------------\u001b[0m",
      "\u001b[0;31mKeyboardInterrupt\u001b[0m                         Traceback (most recent call last)",
      "\u001b[0;32m<ipython-input-43-8791f393dce1>\u001b[0m in \u001b[0;36m<module>\u001b[0;34m()\u001b[0m\n\u001b[0;32m----> 1\u001b[0;31m \u001b[0mt\u001b[0m \u001b[0;34m=\u001b[0m \u001b[0mcompress_L_sp\u001b[0m\u001b[0;34m(\u001b[0m\u001b[0mL_RC\u001b[0m\u001b[0;34m,\u001b[0m \u001b[0mk_fract\u001b[0m\u001b[0;34m=\u001b[0m\u001b[0;36m0.9\u001b[0m\u001b[0;34m)\u001b[0m\u001b[0;34m\u001b[0m\u001b[0m\n\u001b[0m\u001b[1;32m      2\u001b[0m \u001b[0mt\u001b[0m \u001b[0;34m=\u001b[0m \u001b[0mcompress_L_sp\u001b[0m\u001b[0;34m(\u001b[0m\u001b[0mL_RC\u001b[0m\u001b[0;34m,\u001b[0m \u001b[0mk_fract\u001b[0m\u001b[0;34m=\u001b[0m\u001b[0;36m0.95\u001b[0m\u001b[0;34m)\u001b[0m\u001b[0;34m\u001b[0m\u001b[0m\n",
      "\u001b[0;32m<ipython-input-38-8fbd17709219>\u001b[0m in \u001b[0;36mcompress_L_sp\u001b[0;34m(L, k_fract)\u001b[0m\n\u001b[1;32m     21\u001b[0m     \u001b[0mti\u001b[0m \u001b[0;34m=\u001b[0m \u001b[0mtime\u001b[0m\u001b[0;34m.\u001b[0m\u001b[0mtime\u001b[0m\u001b[0;34m(\u001b[0m\u001b[0;34m)\u001b[0m\u001b[0;34m\u001b[0m\u001b[0m\n\u001b[1;32m     22\u001b[0m     \u001b[0mk\u001b[0m \u001b[0;34m=\u001b[0m \u001b[0mint\u001b[0m\u001b[0;34m(\u001b[0m\u001b[0mL_RC\u001b[0m\u001b[0;34m.\u001b[0m\u001b[0mshape\u001b[0m\u001b[0;34m[\u001b[0m\u001b[0;36m0\u001b[0m\u001b[0;34m]\u001b[0m\u001b[0;34m*\u001b[0m\u001b[0mk_fract\u001b[0m\u001b[0;34m)\u001b[0m\u001b[0;34m\u001b[0m\u001b[0m\n\u001b[0;32m---> 23\u001b[0;31m     \u001b[0mu\u001b[0m\u001b[0;34m,\u001b[0m \u001b[0ms\u001b[0m\u001b[0;34m,\u001b[0m \u001b[0mvh\u001b[0m \u001b[0;34m=\u001b[0m \u001b[0msvds\u001b[0m\u001b[0;34m(\u001b[0m\u001b[0mL\u001b[0m\u001b[0;34m.\u001b[0m\u001b[0mfull\u001b[0m\u001b[0;34m(\u001b[0m\u001b[0;34m)\u001b[0m\u001b[0;34m,\u001b[0m \u001b[0mk\u001b[0m\u001b[0;34m=\u001b[0m\u001b[0mk\u001b[0m\u001b[0;34m)\u001b[0m\u001b[0;34m\u001b[0m\u001b[0m\n\u001b[0m\u001b[1;32m     24\u001b[0m     \u001b[0;32mprint\u001b[0m \u001b[0mu\u001b[0m\u001b[0;34m.\u001b[0m\u001b[0mshape\u001b[0m\u001b[0;34m,\u001b[0m \u001b[0ms\u001b[0m\u001b[0;34m.\u001b[0m\u001b[0mshape\u001b[0m\u001b[0;34m,\u001b[0m \u001b[0mvh\u001b[0m\u001b[0;34m.\u001b[0m\u001b[0mshape\u001b[0m\u001b[0;34m\u001b[0m\u001b[0m\n\u001b[1;32m     25\u001b[0m     \u001b[0mvh\u001b[0m \u001b[0;34m=\u001b[0m \u001b[0mvh\u001b[0m\u001b[0;34m[\u001b[0m\u001b[0;34m:\u001b[0m\u001b[0;34m,\u001b[0m\u001b[0;34m:\u001b[0m\u001b[0mk\u001b[0m\u001b[0;34m]\u001b[0m \u001b[0;31m# first k columns\u001b[0m\u001b[0;34m\u001b[0m\u001b[0m\n",
      "\u001b[0;32m/home/henry/anaconda2/envs/qutip/lib/python2.7/site-packages/scipy/sparse/linalg/eigen/arpack/arpack.pyc\u001b[0m in \u001b[0;36msvds\u001b[0;34m(A, k, ncv, tol, which, v0, maxiter, return_singular_vectors)\u001b[0m\n\u001b[1;32m   1752\u001b[0m     \u001b[0;31m# This is not a stable way to approach the problem.\u001b[0m\u001b[0;34m\u001b[0m\u001b[0;34m\u001b[0m\u001b[0m\n\u001b[1;32m   1753\u001b[0m     eigvals, eigvec = eigsh(XH_X, k=k, tol=tol ** 2, maxiter=maxiter,\n\u001b[0;32m-> 1754\u001b[0;31m                                   ncv=ncv, which=which, v0=v0)\n\u001b[0m\u001b[1;32m   1755\u001b[0m \u001b[0;34m\u001b[0m\u001b[0m\n\u001b[1;32m   1756\u001b[0m     \u001b[0;31m# In 'LM' mode try to be clever about small eigenvalues.\u001b[0m\u001b[0;34m\u001b[0m\u001b[0;34m\u001b[0m\u001b[0m\n",
      "\u001b[0;32m/home/henry/anaconda2/envs/qutip/lib/python2.7/site-packages/scipy/sparse/linalg/eigen/arpack/arpack.pyc\u001b[0m in \u001b[0;36meigsh\u001b[0;34m(A, k, M, sigma, which, v0, ncv, maxiter, tol, return_eigenvectors, Minv, OPinv, mode)\u001b[0m\n\u001b[1;32m   1500\u001b[0m                    \u001b[0mncv\u001b[0m\u001b[0;34m=\u001b[0m\u001b[0mncv\u001b[0m\u001b[0;34m,\u001b[0m \u001b[0mmaxiter\u001b[0m\u001b[0;34m=\u001b[0m\u001b[0mmaxiter\u001b[0m\u001b[0;34m,\u001b[0m \u001b[0mtol\u001b[0m\u001b[0;34m=\u001b[0m\u001b[0mtol\u001b[0m\u001b[0;34m,\u001b[0m\u001b[0;34m\u001b[0m\u001b[0m\n\u001b[1;32m   1501\u001b[0m                    \u001b[0mreturn_eigenvectors\u001b[0m\u001b[0;34m=\u001b[0m\u001b[0mreturn_eigenvectors\u001b[0m\u001b[0;34m,\u001b[0m \u001b[0mMinv\u001b[0m\u001b[0;34m=\u001b[0m\u001b[0mMinv\u001b[0m\u001b[0;34m,\u001b[0m\u001b[0;34m\u001b[0m\u001b[0m\n\u001b[0;32m-> 1502\u001b[0;31m                    OPinv=OPinv)\n\u001b[0m\u001b[1;32m   1503\u001b[0m \u001b[0;34m\u001b[0m\u001b[0m\n\u001b[1;32m   1504\u001b[0m         \u001b[0;32mif\u001b[0m \u001b[0mreturn_eigenvectors\u001b[0m\u001b[0;34m:\u001b[0m\u001b[0;34m\u001b[0m\u001b[0m\n",
      "\u001b[0;32m/home/henry/anaconda2/envs/qutip/lib/python2.7/site-packages/scipy/sparse/linalg/eigen/arpack/arpack.pyc\u001b[0m in \u001b[0;36meigs\u001b[0;34m(A, k, M, sigma, which, v0, ncv, maxiter, tol, return_eigenvectors, Minv, OPinv, OPpart)\u001b[0m\n\u001b[1;32m   1303\u001b[0m             \u001b[0mparams\u001b[0m\u001b[0;34m.\u001b[0m\u001b[0miterate\u001b[0m\u001b[0;34m(\u001b[0m\u001b[0;34m)\u001b[0m\u001b[0;34m\u001b[0m\u001b[0m\n\u001b[1;32m   1304\u001b[0m \u001b[0;34m\u001b[0m\u001b[0m\n\u001b[0;32m-> 1305\u001b[0;31m         \u001b[0;32mreturn\u001b[0m \u001b[0mparams\u001b[0m\u001b[0;34m.\u001b[0m\u001b[0mextract\u001b[0m\u001b[0;34m(\u001b[0m\u001b[0mreturn_eigenvectors\u001b[0m\u001b[0;34m)\u001b[0m\u001b[0;34m\u001b[0m\u001b[0m\n\u001b[0m\u001b[1;32m   1306\u001b[0m \u001b[0;34m\u001b[0m\u001b[0m\n\u001b[1;32m   1307\u001b[0m \u001b[0;34m\u001b[0m\u001b[0m\n",
      "\u001b[0;32m/home/henry/anaconda2/envs/qutip/lib/python2.7/site-packages/scipy/sparse/linalg/eigen/arpack/arpack.pyc\u001b[0m in \u001b[0;36mextract\u001b[0;34m(self, return_eigenvectors)\u001b[0m\n\u001b[1;32m    875\u001b[0m                            \u001b[0mself\u001b[0m\u001b[0;34m.\u001b[0m\u001b[0mbmat\u001b[0m\u001b[0;34m,\u001b[0m \u001b[0mself\u001b[0m\u001b[0;34m.\u001b[0m\u001b[0mwhich\u001b[0m\u001b[0;34m,\u001b[0m \u001b[0mk\u001b[0m\u001b[0;34m,\u001b[0m \u001b[0mself\u001b[0m\u001b[0;34m.\u001b[0m\u001b[0mtol\u001b[0m\u001b[0;34m,\u001b[0m \u001b[0mself\u001b[0m\u001b[0;34m.\u001b[0m\u001b[0mresid\u001b[0m\u001b[0;34m,\u001b[0m\u001b[0;34m\u001b[0m\u001b[0m\n\u001b[1;32m    876\u001b[0m                            \u001b[0mself\u001b[0m\u001b[0;34m.\u001b[0m\u001b[0mv\u001b[0m\u001b[0;34m,\u001b[0m \u001b[0mself\u001b[0m\u001b[0;34m.\u001b[0m\u001b[0miparam\u001b[0m\u001b[0;34m,\u001b[0m \u001b[0mself\u001b[0m\u001b[0;34m.\u001b[0m\u001b[0mipntr\u001b[0m\u001b[0;34m,\u001b[0m\u001b[0;34m\u001b[0m\u001b[0m\n\u001b[0;32m--> 877\u001b[0;31m                            self.workd, self.workl, self.rwork, ierr)\n\u001b[0m\u001b[1;32m    878\u001b[0m \u001b[0;34m\u001b[0m\u001b[0m\n\u001b[1;32m    879\u001b[0m             \u001b[0;32mif\u001b[0m \u001b[0mierr\u001b[0m \u001b[0;34m!=\u001b[0m \u001b[0;36m0\u001b[0m\u001b[0;34m:\u001b[0m\u001b[0;34m\u001b[0m\u001b[0m\n",
      "\u001b[0;31mKeyboardInterrupt\u001b[0m: "
     ]
    }
   ],
   "source": [
    "t = compress_L_sp(L_RC, k_fract=0.9)\n",
    "t = compress_L_sp(L_RC, k_fract=0.95)"
   ]
  },
  {
   "cell_type": "code",
   "execution_count": 190,
   "metadata": {},
   "outputs": [
    {
     "name": "stdout",
     "output_type": "stream",
     "text": [
      "Quantum object: dims = [[[4, 5, 5], [4, 5, 5]], [[4, 5, 5], [4, 5, 5]]], shape = (5776, 5776), type = super, isherm = False\n",
      "Qobj data =\n",
      "[[ 17477.12664965      0.            252.08759734 ...,      0.              0.\n",
      "       0.        ]\n",
      " [     0.          22024.6611616       0.         ...,      0.              0.\n",
      "       0.        ]\n",
      " [  6179.09738481      0.          26572.19567355 ...,      0.              0.\n",
      "       0.        ]\n",
      " ..., \n",
      " [     0.              0.              0.         ...,  11521.12692734\n",
      "    -463.76747125   -538.08784634]\n",
      " [     0.              0.              0.         ...,   4772.53416263\n",
      "    7886.1511939     377.51311496]\n",
      " [     0.              0.              0.         ...,  -4377.69637072\n",
      "    2402.04085602   7319.35165367]]\n"
     ]
    },
    {
     "ename": "TypeError",
     "evalue": "Can only eliminate states from operators or state vectors",
     "output_type": "error",
     "traceback": [
      "\u001b[0;31m---------------------------------------------------------------------------\u001b[0m",
      "\u001b[0;31mTypeError\u001b[0m                                 Traceback (most recent call last)",
      "\u001b[0;32m<ipython-input-190-d22345c5edac>\u001b[0m in \u001b[0;36m<module>\u001b[0;34m()\u001b[0m\n\u001b[1;32m      1\u001b[0m \u001b[0mL_test\u001b[0m \u001b[0;34m=\u001b[0m \u001b[0mL_RC\u001b[0m\u001b[0;34m\u001b[0m\u001b[0m\n\u001b[1;32m      2\u001b[0m \u001b[0;32mprint\u001b[0m \u001b[0mL_RC\u001b[0m\u001b[0;34m\u001b[0m\u001b[0m\n\u001b[0;32m----> 3\u001b[0;31m \u001b[0mL_test\u001b[0m\u001b[0;34m.\u001b[0m\u001b[0meliminate_states\u001b[0m\u001b[0;34m(\u001b[0m\u001b[0;34m[\u001b[0m\u001b[0mL_test\u001b[0m\u001b[0;34m.\u001b[0m\u001b[0mshape\u001b[0m\u001b[0;34m[\u001b[0m\u001b[0;36m0\u001b[0m\u001b[0;34m]\u001b[0m\u001b[0;34m-\u001b[0m\u001b[0;36m2\u001b[0m\u001b[0;34m,\u001b[0m \u001b[0mL_test\u001b[0m\u001b[0;34m.\u001b[0m\u001b[0mshape\u001b[0m\u001b[0;34m[\u001b[0m\u001b[0;36m0\u001b[0m\u001b[0;34m]\u001b[0m\u001b[0;34m-\u001b[0m\u001b[0;36m1\u001b[0m\u001b[0;34m]\u001b[0m\u001b[0;34m)\u001b[0m\u001b[0;34m\u001b[0m\u001b[0m\n\u001b[0m",
      "\u001b[0;32m/home/henry/anaconda2/envs/qutip/lib/python2.7/site-packages/qutip/qobj.pyc\u001b[0m in \u001b[0;36meliminate_states\u001b[0;34m(self, states_inds, normalize)\u001b[0m\n\u001b[1;32m   1691\u001b[0m                                  for s in range(self.shape[0])]).nonzero()[0]\n\u001b[1;32m   1692\u001b[0m \u001b[0;34m\u001b[0m\u001b[0m\n\u001b[0;32m-> 1693\u001b[0;31m         \u001b[0;32mreturn\u001b[0m \u001b[0mself\u001b[0m\u001b[0;34m.\u001b[0m\u001b[0mextract_states\u001b[0m\u001b[0;34m(\u001b[0m\u001b[0mkeep_indices\u001b[0m\u001b[0;34m,\u001b[0m \u001b[0mnormalize\u001b[0m\u001b[0;34m=\u001b[0m\u001b[0mnormalize\u001b[0m\u001b[0;34m)\u001b[0m\u001b[0;34m\u001b[0m\u001b[0m\n\u001b[0m\u001b[1;32m   1694\u001b[0m \u001b[0;34m\u001b[0m\u001b[0m\n\u001b[1;32m   1695\u001b[0m     \u001b[0;32mdef\u001b[0m \u001b[0mdnorm\u001b[0m\u001b[0;34m(\u001b[0m\u001b[0mself\u001b[0m\u001b[0;34m,\u001b[0m \u001b[0mB\u001b[0m\u001b[0;34m=\u001b[0m\u001b[0mNone\u001b[0m\u001b[0;34m)\u001b[0m\u001b[0;34m:\u001b[0m\u001b[0;34m\u001b[0m\u001b[0m\n",
      "\u001b[0;32m/home/henry/anaconda2/envs/qutip/lib/python2.7/site-packages/qutip/qobj.pyc\u001b[0m in \u001b[0;36mextract_states\u001b[0;34m(self, states_inds, normalize)\u001b[0m\n\u001b[1;32m   1658\u001b[0m         \u001b[0;32melse\u001b[0m\u001b[0;34m:\u001b[0m\u001b[0;34m\u001b[0m\u001b[0m\n\u001b[1;32m   1659\u001b[0m             raise TypeError(\"Can only eliminate states from operators or \" +\n\u001b[0;32m-> 1660\u001b[0;31m                             \"state vectors\")\n\u001b[0m\u001b[1;32m   1661\u001b[0m \u001b[0;34m\u001b[0m\u001b[0m\n\u001b[1;32m   1662\u001b[0m         \u001b[0;32mreturn\u001b[0m \u001b[0mq\u001b[0m\u001b[0;34m.\u001b[0m\u001b[0munit\u001b[0m\u001b[0;34m(\u001b[0m\u001b[0;34m)\u001b[0m \u001b[0;32mif\u001b[0m \u001b[0mnormalize\u001b[0m \u001b[0;32melse\u001b[0m \u001b[0mq\u001b[0m\u001b[0;34m\u001b[0m\u001b[0m\n",
      "\u001b[0;31mTypeError\u001b[0m: Can only eliminate states from operators or state vectors"
     ]
    }
   ],
   "source": [
    "L_test = L_RC\n",
    "print L_RC\n",
    "L_test\n"
   ]
  },
  {
   "cell_type": "code",
   "execution_count": 184,
   "metadata": {},
   "outputs": [
    {
     "ename": "KeyboardInterrupt",
     "evalue": "",
     "output_type": "error",
     "traceback": [
      "\u001b[0;31m---------------------------------------------------------------------------\u001b[0m",
      "\u001b[0;31mKeyboardInterrupt\u001b[0m                         Traceback (most recent call last)",
      "\u001b[0;32m<ipython-input-184-6001b2e99281>\u001b[0m in \u001b[0;36m<module>\u001b[0;34m()\u001b[0m\n\u001b[0;32m----> 1\u001b[0;31m \u001b[0mL_c\u001b[0m \u001b[0;34m=\u001b[0m \u001b[0mcompress_L_sp\u001b[0m\u001b[0;34m(\u001b[0m\u001b[0mL_RC\u001b[0m\u001b[0;34m)\u001b[0m\u001b[0;34m\u001b[0m\u001b[0m\n\u001b[0m",
      "\u001b[0;32m<ipython-input-174-f6d009d49972>\u001b[0m in \u001b[0;36mcompress_L_sp\u001b[0;34m(L)\u001b[0m\n\u001b[1;32m     20\u001b[0m \u001b[0;32mdef\u001b[0m \u001b[0mcompress_L_sp\u001b[0m\u001b[0;34m(\u001b[0m\u001b[0mL\u001b[0m\u001b[0;34m)\u001b[0m\u001b[0;34m:\u001b[0m\u001b[0;34m\u001b[0m\u001b[0m\n\u001b[1;32m     21\u001b[0m     \u001b[0mti\u001b[0m \u001b[0;34m=\u001b[0m \u001b[0mtime\u001b[0m\u001b[0;34m.\u001b[0m\u001b[0mtime\u001b[0m\u001b[0;34m(\u001b[0m\u001b[0;34m)\u001b[0m\u001b[0;34m\u001b[0m\u001b[0m\n\u001b[0;32m---> 22\u001b[0;31m     \u001b[0mu\u001b[0m\u001b[0;34m,\u001b[0m \u001b[0ms\u001b[0m\u001b[0;34m,\u001b[0m \u001b[0mvh\u001b[0m \u001b[0;34m=\u001b[0m \u001b[0msvds\u001b[0m\u001b[0;34m(\u001b[0m\u001b[0mL\u001b[0m\u001b[0;34m.\u001b[0m\u001b[0mfull\u001b[0m\u001b[0;34m(\u001b[0m\u001b[0;34m)\u001b[0m\u001b[0;34m,\u001b[0m \u001b[0mk\u001b[0m\u001b[0;34m=\u001b[0m\u001b[0mmin\u001b[0m\u001b[0;34m(\u001b[0m\u001b[0mL\u001b[0m\u001b[0;34m.\u001b[0m\u001b[0mshape\u001b[0m\u001b[0;34m)\u001b[0m\u001b[0;34m-\u001b[0m\u001b[0;36m10\u001b[0m\u001b[0;34m)\u001b[0m\u001b[0;34m\u001b[0m\u001b[0m\n\u001b[0m\u001b[1;32m     23\u001b[0m     \u001b[0;32mprint\u001b[0m \u001b[0ms\u001b[0m\u001b[0;34m\u001b[0m\u001b[0m\n\u001b[1;32m     24\u001b[0m     \u001b[0mapprox_s\u001b[0m \u001b[0;34m=\u001b[0m \u001b[0;34m[\u001b[0m\u001b[0msv\u001b[0m \u001b[0;32mif\u001b[0m \u001b[0mabs\u001b[0m\u001b[0;34m(\u001b[0m\u001b[0msv\u001b[0m\u001b[0;34m)\u001b[0m\u001b[0;34m>\u001b[0m\u001b[0;36m1E-8\u001b[0m \u001b[0;32melse\u001b[0m \u001b[0;36m0\u001b[0m \u001b[0;32mfor\u001b[0m \u001b[0msv\u001b[0m \u001b[0;32min\u001b[0m \u001b[0ms\u001b[0m\u001b[0;34m]\u001b[0m\u001b[0;34m\u001b[0m\u001b[0m\n",
      "\u001b[0;32m/home/henry/anaconda2/envs/qutip/lib/python2.7/site-packages/scipy/sparse/linalg/eigen/arpack/arpack.pyc\u001b[0m in \u001b[0;36msvds\u001b[0;34m(A, k, ncv, tol, which, v0, maxiter, return_singular_vectors)\u001b[0m\n\u001b[1;32m   1752\u001b[0m     \u001b[0;31m# This is not a stable way to approach the problem.\u001b[0m\u001b[0;34m\u001b[0m\u001b[0;34m\u001b[0m\u001b[0m\n\u001b[1;32m   1753\u001b[0m     eigvals, eigvec = eigsh(XH_X, k=k, tol=tol ** 2, maxiter=maxiter,\n\u001b[0;32m-> 1754\u001b[0;31m                                   ncv=ncv, which=which, v0=v0)\n\u001b[0m\u001b[1;32m   1755\u001b[0m \u001b[0;34m\u001b[0m\u001b[0m\n\u001b[1;32m   1756\u001b[0m     \u001b[0;31m# In 'LM' mode try to be clever about small eigenvalues.\u001b[0m\u001b[0;34m\u001b[0m\u001b[0;34m\u001b[0m\u001b[0m\n",
      "\u001b[0;32m/home/henry/anaconda2/envs/qutip/lib/python2.7/site-packages/scipy/sparse/linalg/eigen/arpack/arpack.pyc\u001b[0m in \u001b[0;36meigsh\u001b[0;34m(A, k, M, sigma, which, v0, ncv, maxiter, tol, return_eigenvectors, Minv, OPinv, mode)\u001b[0m\n\u001b[1;32m   1500\u001b[0m                    \u001b[0mncv\u001b[0m\u001b[0;34m=\u001b[0m\u001b[0mncv\u001b[0m\u001b[0;34m,\u001b[0m \u001b[0mmaxiter\u001b[0m\u001b[0;34m=\u001b[0m\u001b[0mmaxiter\u001b[0m\u001b[0;34m,\u001b[0m \u001b[0mtol\u001b[0m\u001b[0;34m=\u001b[0m\u001b[0mtol\u001b[0m\u001b[0;34m,\u001b[0m\u001b[0;34m\u001b[0m\u001b[0m\n\u001b[1;32m   1501\u001b[0m                    \u001b[0mreturn_eigenvectors\u001b[0m\u001b[0;34m=\u001b[0m\u001b[0mreturn_eigenvectors\u001b[0m\u001b[0;34m,\u001b[0m \u001b[0mMinv\u001b[0m\u001b[0;34m=\u001b[0m\u001b[0mMinv\u001b[0m\u001b[0;34m,\u001b[0m\u001b[0;34m\u001b[0m\u001b[0m\n\u001b[0;32m-> 1502\u001b[0;31m                    OPinv=OPinv)\n\u001b[0m\u001b[1;32m   1503\u001b[0m \u001b[0;34m\u001b[0m\u001b[0m\n\u001b[1;32m   1504\u001b[0m         \u001b[0;32mif\u001b[0m \u001b[0mreturn_eigenvectors\u001b[0m\u001b[0;34m:\u001b[0m\u001b[0;34m\u001b[0m\u001b[0m\n",
      "\u001b[0;32m/home/henry/anaconda2/envs/qutip/lib/python2.7/site-packages/scipy/sparse/linalg/eigen/arpack/arpack.pyc\u001b[0m in \u001b[0;36meigs\u001b[0;34m(A, k, M, sigma, which, v0, ncv, maxiter, tol, return_eigenvectors, Minv, OPinv, OPpart)\u001b[0m\n\u001b[1;32m   1301\u001b[0m     \u001b[0;32mwith\u001b[0m \u001b[0m_ARPACK_LOCK\u001b[0m\u001b[0;34m:\u001b[0m\u001b[0;34m\u001b[0m\u001b[0m\n\u001b[1;32m   1302\u001b[0m         \u001b[0;32mwhile\u001b[0m \u001b[0;32mnot\u001b[0m \u001b[0mparams\u001b[0m\u001b[0;34m.\u001b[0m\u001b[0mconverged\u001b[0m\u001b[0;34m:\u001b[0m\u001b[0;34m\u001b[0m\u001b[0m\n\u001b[0;32m-> 1303\u001b[0;31m             \u001b[0mparams\u001b[0m\u001b[0;34m.\u001b[0m\u001b[0miterate\u001b[0m\u001b[0;34m(\u001b[0m\u001b[0;34m)\u001b[0m\u001b[0;34m\u001b[0m\u001b[0m\n\u001b[0m\u001b[1;32m   1304\u001b[0m \u001b[0;34m\u001b[0m\u001b[0m\n\u001b[1;32m   1305\u001b[0m         \u001b[0;32mreturn\u001b[0m \u001b[0mparams\u001b[0m\u001b[0;34m.\u001b[0m\u001b[0mextract\u001b[0m\u001b[0;34m(\u001b[0m\u001b[0mreturn_eigenvectors\u001b[0m\u001b[0;34m)\u001b[0m\u001b[0;34m\u001b[0m\u001b[0m\n",
      "\u001b[0;32m/home/henry/anaconda2/envs/qutip/lib/python2.7/site-packages/scipy/sparse/linalg/eigen/arpack/arpack.pyc\u001b[0m in \u001b[0;36miterate\u001b[0;34m(self)\u001b[0m\n\u001b[1;32m    729\u001b[0m                                     \u001b[0mself\u001b[0m\u001b[0;34m.\u001b[0m\u001b[0mtol\u001b[0m\u001b[0;34m,\u001b[0m \u001b[0mself\u001b[0m\u001b[0;34m.\u001b[0m\u001b[0mresid\u001b[0m\u001b[0;34m,\u001b[0m \u001b[0mself\u001b[0m\u001b[0;34m.\u001b[0m\u001b[0mv\u001b[0m\u001b[0;34m,\u001b[0m \u001b[0mself\u001b[0m\u001b[0;34m.\u001b[0m\u001b[0miparam\u001b[0m\u001b[0;34m,\u001b[0m\u001b[0;34m\u001b[0m\u001b[0m\n\u001b[1;32m    730\u001b[0m                                     \u001b[0mself\u001b[0m\u001b[0;34m.\u001b[0m\u001b[0mipntr\u001b[0m\u001b[0;34m,\u001b[0m \u001b[0mself\u001b[0m\u001b[0;34m.\u001b[0m\u001b[0mworkd\u001b[0m\u001b[0;34m,\u001b[0m \u001b[0mself\u001b[0m\u001b[0;34m.\u001b[0m\u001b[0mworkl\u001b[0m\u001b[0;34m,\u001b[0m\u001b[0;34m\u001b[0m\u001b[0m\n\u001b[0;32m--> 731\u001b[0;31m                                     self.rwork, self.info)\n\u001b[0m\u001b[1;32m    732\u001b[0m \u001b[0;34m\u001b[0m\u001b[0m\n\u001b[1;32m    733\u001b[0m         \u001b[0mxslice\u001b[0m \u001b[0;34m=\u001b[0m \u001b[0mslice\u001b[0m\u001b[0;34m(\u001b[0m\u001b[0mself\u001b[0m\u001b[0;34m.\u001b[0m\u001b[0mipntr\u001b[0m\u001b[0;34m[\u001b[0m\u001b[0;36m0\u001b[0m\u001b[0;34m]\u001b[0m \u001b[0;34m-\u001b[0m \u001b[0;36m1\u001b[0m\u001b[0;34m,\u001b[0m \u001b[0mself\u001b[0m\u001b[0;34m.\u001b[0m\u001b[0mipntr\u001b[0m\u001b[0;34m[\u001b[0m\u001b[0;36m0\u001b[0m\u001b[0;34m]\u001b[0m \u001b[0;34m-\u001b[0m \u001b[0;36m1\u001b[0m \u001b[0;34m+\u001b[0m \u001b[0mself\u001b[0m\u001b[0;34m.\u001b[0m\u001b[0mn\u001b[0m\u001b[0;34m)\u001b[0m\u001b[0;34m\u001b[0m\u001b[0m\n",
      "\u001b[0;31mKeyboardInterrupt\u001b[0m: "
     ]
    }
   ],
   "source": [
    "L_c = compress_L_sp(L_RC)"
   ]
  },
  {
   "cell_type": "code",
   "execution_count": 182,
   "metadata": {
    "scrolled": true
   },
   "outputs": [
    {
     "name": "stdout",
     "output_type": "stream",
     "text": [
      "97.47628  percent of matrix is zero.\n"
     ]
    }
   ],
   "source": [
    "flat_L = (L_RC.full()).flatten()\n",
    "print 100*sum([1 if i == 0. else 0 for i in flat_L])/float(len(flat_L)), \" percent of matrix is zero.\""
   ]
  },
  {
   "cell_type": "code",
   "execution_count": 172,
   "metadata": {},
   "outputs": [
    {
     "name": "stdout",
     "output_type": "stream",
     "text": [
      "Quantum object: dims = [[[4, 5, 5], [4, 5, 5]], [[4, 5, 5], [4, 5, 5]]], shape = (10000, 10000), type = super, isherm = False\n",
      "Qobj data =\n",
      "[[  1.74763778e+04   8.71787351e-01   2.51178345e+02 ...,   0.00000000e+00\n",
      "    0.00000000e+00   0.00000000e+00]\n",
      " [  1.92103864e-01   2.20231317e+04   1.64903764e+00 ...,   0.00000000e+00\n",
      "    0.00000000e+00   0.00000000e+00]\n",
      " [  6.17895783e+03   7.26480214e-01   2.65699181e+04 ...,   0.00000000e+00\n",
      "    0.00000000e+00   0.00000000e+00]\n",
      " ..., \n",
      " [  0.00000000e+00   0.00000000e+00   0.00000000e+00 ...,   1.08026282e+04\n",
      "    8.64572799e+03  -3.34894611e+02]\n",
      " [  0.00000000e+00   0.00000000e+00   0.00000000e+00 ...,   1.12350045e+04\n",
      "    1.45949529e+04   7.07002318e+02]\n",
      " [  0.00000000e+00   0.00000000e+00   0.00000000e+00 ...,   1.41596487e+04\n",
      "    9.76497327e+03  -1.85938441e+03]] Quantum object: dims = [[[4, 5, 5], [4, 5, 5]], [[4, 5, 5], [4, 5, 5]]], shape = (10000, 10000), type = super, isherm = False\n",
      "Qobj data =\n",
      "[[  1.74763778e+04   8.71787351e-01   2.51178345e+02 ...,   0.00000000e+00\n",
      "    0.00000000e+00   0.00000000e+00]\n",
      " [  1.92103864e-01   2.20231317e+04   1.64903764e+00 ...,   0.00000000e+00\n",
      "    0.00000000e+00   0.00000000e+00]\n",
      " [  6.17895783e+03   7.26480214e-01   2.65699181e+04 ...,   0.00000000e+00\n",
      "    0.00000000e+00   0.00000000e+00]\n",
      " ..., \n",
      " [  0.00000000e+00   0.00000000e+00   0.00000000e+00 ...,   1.08026282e+04\n",
      "    8.64572799e+03  -3.34894611e+02]\n",
      " [  0.00000000e+00   0.00000000e+00   0.00000000e+00 ...,   1.12350045e+04\n",
      "    1.45949529e+04   7.07002318e+02]\n",
      " [  0.00000000e+00   0.00000000e+00   0.00000000e+00 ...,   1.41596487e+04\n",
      "    9.76497327e+03  -1.85938441e+03]]\n"
     ]
    }
   ],
   "source": [
    "print L_RC., L_RC2"
   ]
  },
  {
   "cell_type": "code",
   "execution_count": 205,
   "metadata": {},
   "outputs": [
    {
     "name": "stdout",
     "output_type": "stream",
     "text": [
      "[    0.           500.           500.           936.8197497   1000.          1000.\n",
      "  1000.          1159.72676967  1436.81974972  1437.51872041  1500.          1500.\n",
      "  1500.          1500.          1659.03228787  1659.72676973  1936.81976202\n",
      "  1937.51874501  1938.21196904  2000.          2000.          2000.          2000.\n",
      "  2000.          2096.85840735  2158.34350648  2159.03238118  2159.7268167\n",
      "  2436.82407711  2437.53171674  2438.22513761  2438.90398581  2500.          2500.\n",
      "  2500.          2500.          2596.85840739  2596.85840739  2657.67186937\n",
      "  2658.37889541  2659.06857547  2659.73921422  2936.96887269  2938.05582823\n",
      "  2939.24357688  2940.1205255   2943.39799642  3096.85840836  3096.85848433\n",
      "  3096.85848472  3157.19853004  3158.31226145  3159.52229594  3161.95184329\n",
      "  3165.38360214  3441.74526055  3442.8213935   3443.80409273  3444.87314189\n",
      "  3596.85860568  3596.85937555  3596.9069347   3596.90695069  3664.09331493\n",
      "  3664.86934373  3665.6034433   3666.39397749  4096.89108318  4096.9827736\n",
      "  4097.11947623  4104.66870692  4104.66874358  4600.4703756   4605.14765011\n",
      "  4610.39571177  4614.97301283]\n",
      "[ -1.05257316e+00+0.j   2.94857832e-13+0.j   1.37818782e+01+0.j\n",
      "   5.00000000e+02+0.j   5.00000000e+02+0.j   9.36819873e+02+0.j\n",
      "   1.00000000e+03+0.j   1.00000000e+03+0.j   1.00000000e+03+0.j\n",
      "   1.15975316e+03+0.j   1.43697218e+03+0.j   1.44490960e+03+0.j\n",
      "   1.50000000e+03+0.j   1.50000000e+03+0.j   1.50000000e+03+0.j\n",
      "   1.50000000e+03+0.j   1.65963089e+03+0.j   1.67911095e+03+0.j\n",
      "   1.93682424e+03+0.j   1.93751884e+03+0.j   1.93829141e+03+0.j\n",
      "   2.00000000e+03+0.j   2.00000000e+03+0.j   2.00000000e+03+0.j\n",
      "   2.00000014e+03+0.j   2.09685841e+03+0.j   2.11310648e+03+0.j\n",
      "   2.15837739e+03+0.j   2.15903915e+03+0.j   2.15973882e+03+0.j\n",
      "   2.43683966e+03+0.j   2.43754483e+03+0.j   2.43823581e+03+0.j\n",
      "   2.43892200e+03+0.j   2.50000000e+03+0.j   2.50000000e+03+0.j\n",
      "   2.50000000e+03+0.j   2.59685841e+03+0.j   2.59687313e+03+0.j\n",
      "   2.65766440e+03+0.j   2.65836082e+03+0.j   2.65905725e+03+0.j\n",
      "   2.65972176e+03+0.j   2.93400024e+03+0.j   2.93746825e+03+0.j\n",
      "   2.93906558e+03+0.j   2.93988301e+03+0.j   2.94339787e+03+0.j\n",
      "   3.09685845e+03+0.j   3.09685865e+03+0.j   3.10155071e+03+0.j\n",
      "   3.15595216e+03+0.j   3.15772031e+03+0.j   3.15926632e+03+0.j\n",
      "   3.16195158e+03+0.j   3.16536011e+03+0.j   3.44173416e+03+0.j\n",
      "   3.44279635e+03+0.j   3.44376607e+03+0.j   3.44487088e+03+0.j\n",
      "   3.59685822e+03+0.j   3.59690033e+03+0.j   3.59694218e+03+0.j\n",
      "   3.66408777e+03+0.j   3.66486885e+03+0.j   3.66559531e+03+0.j\n",
      "   3.66638669e+03+0.j   4.09358655e+03+0.j   4.09691988e+03+0.j\n",
      "   4.10036856e+03+0.j   4.10464773e+03+0.j   4.10467266e+03+0.j\n",
      "   4.60339789e+03+0.j   4.60780065e+03+0.j   4.61209636e+03+0.j]\n"
     ]
    }
   ],
   "source": [
    "H_0, Z_1, Z_2 = phonon_dynamics_calculator(1000, 100, 100, 300, 5, 1, 1, 5,5, just_operators=True)\n",
    "print H_0.eigenenergies()\n",
    "from numpy.linalg import svd\n",
    "u, s, vh = svd(Z_1.full())\n",
    "u_t = Qobj(u).eliminate_states([H_0.shape[0]-3])\n",
    "vh_t= Qobj(vh).eliminate_states([H_0.shape[0]-3])\n",
    "H_t = qt.Qobj(np.dot(u, np.dot(H_0.full(), vh))).eliminate_states([H_0.shape[0]-3])\n",
    "print (u_t.dag()*H_t*vh_t.dag()).eigenenergies()\n",
    "#print qt.Qobj(H_t, dims=H_0.dims).eliminate_states([H_0.shape[0]-1])\n"
   ]
  },
  {
   "cell_type": "code",
   "execution_count": 186,
   "metadata": {},
   "outputs": [
    {
     "name": "stdout",
     "output_type": "stream",
     "text": [
      "[  7.91044961e+03   7.90514549e+03   7.89601407e+03   7.89600955e+03\n",
      "   7.89589221e+03   7.89075674e+03   7.89075674e+03   7.89054238e+03\n",
      "   7.46430444e+03   7.46274554e+03   7.45768775e+03   7.45768460e+03\n",
      "   7.45765713e+03   7.45717112e+03   7.45717112e+03   7.45713463e+03\n",
      "   7.44826372e+03   7.44467947e+03   7.43135841e+03   7.42677506e+03\n",
      "   6.97645031e+03   6.97451994e+03   6.96482138e+03   6.96436264e+03\n",
      "   6.95749187e+03   6.95503788e+03   6.93870274e+03   6.93478718e+03\n",
      "   6.83607443e+03   6.83551623e+03   6.83457678e+03   6.83457375e+03\n",
      "   6.83456470e+03   6.83398790e+03   6.83398790e+03   6.83396529e+03\n",
      "   6.45420264e+03   6.45227905e+03   6.43753009e+03   6.43712921e+03\n",
      "   6.43137519e+03   6.42966260e+03   6.41181883e+03   6.40856348e+03\n",
      "   6.32896278e+03   6.32887558e+03   6.32853387e+03   6.32847012e+03\n",
      "   6.32846431e+03   6.32840816e+03   6.32840816e+03   6.32833760e+03\n",
      "   6.32666890e+03   6.32632342e+03   6.32519861e+03   6.32479758e+03\n",
      "   5.88777991e+03   5.88611006e+03   5.86677707e+03   5.86643377e+03\n",
      "   5.86134235e+03   5.86010233e+03   5.84169955e+03   5.83908744e+03\n",
      "   5.77546482e+03   5.77539478e+03   5.77486016e+03   5.77480940e+03\n",
      "   5.77358584e+03   5.77337663e+03   5.77229124e+03   5.77203532e+03\n",
      "   5.76851971e+03   5.76850316e+03   5.76845512e+03   5.76842394e+03\n",
      "   5.76841168e+03   5.76841168e+03   5.76834772e+03   5.76833220e+03\n",
      "   5.26273532e+03   5.26143266e+03   5.23863572e+03   5.23834911e+03\n",
      "   5.23365159e+03   5.23273640e+03   5.21444144e+03   5.21244496e+03\n",
      "   5.16414005e+03   5.16409557e+03   5.16354039e+03   5.16350182e+03\n",
      "   5.16262517e+03   5.16250408e+03   5.16162065e+03   5.16147246e+03\n",
      "   5.15953144e+03   5.15952877e+03   5.15946822e+03   5.15946066e+03\n",
      "   5.15945204e+03   5.15945080e+03   5.15945080e+03   5.15939916e+03\n",
      "   5.15937423e+03   5.15937343e+03   5.15937236e+03   5.15931012e+03\n",
      "   4.55502980e+03   4.55413145e+03   4.52957387e+03   4.52934230e+03\n",
      "   4.52480148e+03   4.52412726e+03   4.50651283e+03   4.50509195e+03\n",
      "   4.47111029e+03   4.47108908e+03   4.47061552e+03   4.47058802e+03\n",
      "   4.46995526e+03   4.46988947e+03   4.46926784e+03   4.46919395e+03\n",
      "   4.46823259e+03   4.46819867e+03   4.46817059e+03   4.46816827e+03\n",
      "   4.46816761e+03   4.46816320e+03   4.46813580e+03   4.46812181e+03\n",
      "   4.46810101e+03   4.46810090e+03   4.46810085e+03   4.46810085e+03\n",
      "   4.46809698e+03   4.46806334e+03   4.46803421e+03   4.46803352e+03\n",
      "   3.71791451e+03   3.71741740e+03   3.69358048e+03   3.69340124e+03\n",
      "   3.68860566e+03   3.68811724e+03   3.67181009e+03   3.67091065e+03\n",
      "   3.64988450e+03   3.64987889e+03   3.64954551e+03   3.64952788e+03\n",
      "   3.64907059e+03   3.64903962e+03   3.64867215e+03   3.64864456e+03\n",
      "   3.64827101e+03   3.64825411e+03   3.64824435e+03   3.64824391e+03\n",
      "   3.64824324e+03   3.64821918e+03   3.64821488e+03   3.64820111e+03\n",
      "   3.64819542e+03   3.64818924e+03   3.64818921e+03   3.64818920e+03\n",
      "   3.64818920e+03   3.64818893e+03   3.64818888e+03   3.64816084e+03\n",
      "   3.64814469e+03   3.64813484e+03   3.64813431e+03   3.64813395e+03\n",
      "   2.61957480e+03   2.61956023e+03   2.61182110e+03   2.61169376e+03\n",
      "   2.59077202e+03   2.59074956e+03   2.59038130e+03   2.59036871e+03\n",
      "   2.58048720e+03   2.58048633e+03   2.58031106e+03   2.58030355e+03\n",
      "   2.57992442e+03   2.57991652e+03   2.57979096e+03   2.57979002e+03\n",
      "   2.57970780e+03   2.57970005e+03   2.57969821e+03   2.57969794e+03\n",
      "   2.57969763e+03   2.57969727e+03   2.57967037e+03   2.57966840e+03\n",
      "   2.57966189e+03   2.57966039e+03   2.57965917e+03   2.57965915e+03\n",
      "   2.57965906e+03   2.57965905e+03   2.57965904e+03   2.57965904e+03\n",
      "   2.57965904e+03   2.57965904e+03   2.57963009e+03   2.57962312e+03\n",
      "   2.57962087e+03   2.57962043e+03   2.57962017e+03   2.57961998e+03\n",
      "   2.35837207e+02   2.35831202e+02   2.35445350e+02   2.35431875e+02\n",
      "   2.98905888e+01   2.98843442e+01   2.60887510e+01   2.59964695e+01\n",
      "   2.95602439e+00   2.95088191e+00   2.65753686e+00   2.64414251e+00\n",
      "   2.81362576e-01   2.80246030e-01   2.61383224e-01   2.59679789e-01\n",
      "   6.71476496e-02   2.62291298e-02   2.60578411e-02   2.52410925e-02\n",
      "   2.52398825e-02   2.52375969e-02   2.50390054e-02   2.50390054e-02\n",
      "   2.50321348e-02   1.18733852e-02   7.80868944e-03   2.97669912e-03\n",
      "   1.07294348e-03   5.27602078e-04   5.13078839e-04   1.41385165e-04\n",
      "   7.44341125e-05   1.59770985e-05   1.74573092e-06   1.42525419e-06\n",
      "   3.60283848e-12   1.63152602e-12   3.73865381e-13   6.65641824e-14]\n",
      "Removed 24 which is 9.38% of the 256 singular values.\n",
      "Compression took 0.0604219436646 seconds.\n"
     ]
    }
   ],
   "source": [
    "op = compress_L(Z_1) \n"
   ]
  },
  {
   "cell_type": "code",
   "execution_count": 187,
   "metadata": {},
   "outputs": [
    {
     "name": "stdout",
     "output_type": "stream",
     "text": [
      "0.8212890625 (212, 212)\n"
     ]
    }
   ],
   "source": [
    "print ((H_0.shape[0]-24)**2)/float(H_0.shape[0])**2, Xi_1.shape"
   ]
  },
  {
   "cell_type": "code",
   "execution_count": 151,
   "metadata": {},
   "outputs": [
    {
     "name": "stdout",
     "output_type": "stream",
     "text": [
      "[  6.38093352e+03   6.38014473e+03   6.37875956e+03   6.37873959e+03\n",
      "   6.37809086e+03   6.37806982e+03   6.37804746e+03   6.37769192e+03\n",
      "   6.37767922e+03   6.37764168e+03   6.37611875e+03   6.37611875e+03\n",
      "   6.37611875e+03   6.37611875e+03   6.37606431e+03   6.37605089e+03\n",
      "   5.86211913e+03   5.86119950e+03   5.86000893e+03   5.85999168e+03\n",
      "   5.85769771e+03   5.85736476e+03   5.85588594e+03   5.85588594e+03\n",
      "   5.30674735e+03   5.30576669e+03   5.30475453e+03   5.30473852e+03\n",
      "   5.30068707e+03   5.30041876e+03   5.29904624e+03   5.29904624e+03\n",
      "   4.70611561e+03   4.70512646e+03   4.70428023e+03   4.70426626e+03\n",
      "   4.69834631e+03   4.69814043e+03   4.69688762e+03   4.69688762e+03\n",
      "   4.53215596e+03   4.53205937e+03   4.53085430e+03   4.53084931e+03\n",
      "   4.53028811e+03   4.53027378e+03   4.53025474e+03   4.53021520e+03\n",
      "   4.53020401e+03   4.53018153e+03   4.52899334e+03   4.52899334e+03\n",
      "   4.52899334e+03   4.52899334e+03   4.52895199e+03   4.52894892e+03\n",
      "   4.04742922e+03   4.04650104e+03   4.04580274e+03   4.04579183e+03\n",
      "   4.03791310e+03   4.03776681e+03   4.03665100e+03   4.03665100e+03\n",
      "   3.96355804e+03   3.96350463e+03   3.96243079e+03   3.96242979e+03\n",
      "   3.96079508e+03   3.96076691e+03   3.95966961e+03   3.95966961e+03\n",
      "   3.34854978e+03   3.34848097e+03   3.34758712e+03   3.34758492e+03\n",
      "   3.34498148e+03   3.34496957e+03   3.34402590e+03   3.34402590e+03\n",
      "   3.31056555e+03   3.30979170e+03   3.30921629e+03   3.30920982e+03\n",
      "   3.29937021e+03   3.29927959e+03   3.29832495e+03   3.29832495e+03\n",
      "   2.93656642e+03   2.93626248e+03   2.93560841e+03   2.93560484e+03\n",
      "   2.93527985e+03   2.93527163e+03   2.93525991e+03   2.93516207e+03\n",
      "   2.93515376e+03   2.93513874e+03   2.93440618e+03   2.93440618e+03\n",
      "   2.93440618e+03   2.93440618e+03   2.93437993e+03   2.93437704e+03\n",
      "   2.67424867e+03   2.67400258e+03   2.67338693e+03   2.67338083e+03\n",
      "   2.67003407e+03   2.66998802e+03   2.66924177e+03   2.66924177e+03\n",
      "   2.46044880e+03   2.45995170e+03   2.45946874e+03   2.45946860e+03\n",
      "   2.44803345e+03   2.44799249e+03   2.44723766e+03   2.44723766e+03\n",
      "   2.31470918e+03   2.31429346e+03   2.31386879e+03   2.31386100e+03\n",
      "   2.31297782e+03   2.31283847e+03   2.31225956e+03   2.31225956e+03\n",
      "   1.92042436e+03   1.91994767e+03   1.91965807e+03   1.91964742e+03\n",
      "   1.91598115e+03   1.91590940e+03   1.91538229e+03   1.91538229e+03\n",
      "   1.63354171e+03   1.63295831e+03   1.63280788e+03   1.63279681e+03\n",
      "   1.63161363e+03   1.63146167e+03   1.63107476e+03   1.63107476e+03\n",
      "   1.44701888e+03   1.44649807e+03   1.44636735e+03   1.44635826e+03\n",
      "   1.44628246e+03   1.44627908e+03   1.44627574e+03   1.44606172e+03\n",
      "   1.44605919e+03   1.44604872e+03   1.44577156e+03   1.44577156e+03\n",
      "   1.44577156e+03   1.44577156e+03   1.44576075e+03   1.44575444e+03\n",
      "   1.41342271e+03   1.41330528e+03   1.41330488e+03   1.41318944e+03\n",
      "   1.41291332e+03   1.41291332e+03   1.41290603e+03   1.41289329e+03\n",
      "   1.05238619e+03   1.05173481e+03   1.05171940e+03   1.05165625e+03\n",
      "   1.04868950e+03   1.04860530e+03   1.04833052e+03   1.04833052e+03\n",
      "   8.73314868e+02   8.72704830e+02   8.72690523e+02   8.72558343e+02\n",
      "   8.71680194e+02   8.71527640e+02   8.71352958e+02   8.71352958e+02\n",
      "   7.62724193e+02   7.62206948e+02   7.62195044e+02   7.62094778e+02\n",
      "   7.61994540e+02   7.61778413e+02   7.61673048e+02   7.61673048e+02\n",
      "   5.32125808e-01   3.99702994e-01   3.22745581e-01   2.75096573e-01\n",
      "   1.30422579e-01   1.28650280e-01   1.27920020e-01   9.79901028e-02\n",
      "   6.75105401e-02   3.74771303e-02   1.25012919e-02   7.49986877e-03\n",
      "   3.92551098e-03   2.47941093e-03   2.00942648e-03   2.36325366e-12\n",
      "   1.35692004e-12   9.54474975e-13   6.37084210e-13   4.79832739e-13]\n",
      "Removed 13 which is 6.13% of the 212 singular values.\n",
      "Compression took 0.034334897995 seconds.\n",
      "[  5.31738406e+03   5.31738406e+03   5.31738406e+03   5.31738406e+03\n",
      "   5.31361372e+03   5.31361372e+03   5.31361372e+03   5.31361372e+03\n",
      "   5.31361372e+03   5.31361372e+03   5.31361372e+03   5.31361372e+03\n",
      "   5.31361372e+03   5.31361372e+03   5.31361372e+03   5.31361372e+03\n",
      "   4.88590132e+03   4.88590132e+03   4.88590132e+03   4.88590132e+03\n",
      "   4.88007157e+03   4.88007157e+03   4.88007157e+03   4.88007157e+03\n",
      "   4.42405798e+03   4.42405798e+03   4.42405798e+03   4.42405798e+03\n",
      "   4.41602265e+03   4.41602265e+03   4.41602265e+03   4.41602265e+03\n",
      "   3.92457160e+03   3.92457160e+03   3.92457160e+03   3.92457160e+03\n",
      "   3.91420666e+03   3.91420666e+03   3.91420666e+03   3.91420666e+03\n",
      "   3.77692651e+03   3.77692651e+03   3.77692651e+03   3.77692651e+03\n",
      "   3.77428999e+03   3.77428999e+03   3.77428999e+03   3.77428999e+03\n",
      "   3.77428999e+03   3.77428999e+03   3.77428999e+03   3.77428999e+03\n",
      "   3.77428999e+03   3.77428999e+03   3.77428999e+03   3.77428999e+03\n",
      "   3.37676274e+03   3.37676274e+03   3.37676274e+03   3.37676274e+03\n",
      "   3.36399069e+03   3.36399069e+03   3.36399069e+03   3.36399069e+03\n",
      "   3.30369193e+03   3.30369193e+03   3.30369193e+03   3.30369193e+03\n",
      "   3.29983735e+03   3.29983735e+03   3.29983735e+03   3.29983735e+03\n",
      "   2.79170538e+03   2.79170538e+03   2.79170538e+03   2.79170538e+03\n",
      "   2.78678341e+03   2.78678341e+03   2.78678341e+03   2.78678341e+03\n",
      "   2.76380186e+03   2.76380186e+03   2.76380186e+03   2.76380186e+03\n",
      "   2.74869798e+03   2.74869798e+03   2.74869798e+03   2.74869798e+03\n",
      "   2.44711504e+03   2.44711504e+03   2.44711504e+03   2.44711504e+03\n",
      "   2.44542198e+03   2.44542198e+03   2.44542198e+03   2.44542198e+03\n",
      "   2.44542198e+03   2.44542198e+03   2.44542198e+03   2.44542198e+03\n",
      "   2.44542198e+03   2.44542198e+03   2.44542198e+03   2.44542198e+03\n",
      "   2.23011710e+03   2.23011710e+03   2.23011710e+03   2.23011710e+03\n",
      "   2.22444409e+03   2.22444409e+03   2.22444409e+03   2.22444409e+03\n",
      "   2.05607557e+03   2.05607557e+03   2.05607557e+03   2.05607557e+03\n",
      "   2.03943435e+03   2.03943435e+03   2.03943435e+03   2.03943435e+03\n",
      "   1.92917305e+03   1.92917305e+03   1.92917305e+03   1.92917305e+03\n",
      "   1.92694876e+03   1.92694876e+03   1.92694876e+03   1.92694876e+03\n",
      "   1.60199743e+03   1.60199743e+03   1.60199743e+03   1.60199743e+03\n",
      "   1.59620641e+03   1.59620641e+03   1.59620641e+03   1.59620641e+03\n",
      "   1.36164227e+03   1.36164227e+03   1.36164227e+03   1.36164227e+03\n",
      "   1.35927538e+03   1.35927538e+03   1.35927538e+03   1.35927538e+03\n",
      "   1.20568094e+03   1.20568094e+03   1.20568094e+03   1.20568094e+03\n",
      "   1.20485077e+03   1.20485077e+03   1.20485077e+03   1.20485077e+03\n",
      "   1.20485077e+03   1.20485077e+03   1.20485077e+03   1.20485077e+03\n",
      "   1.20485077e+03   1.20485077e+03   1.20485077e+03   1.20485077e+03\n",
      "   1.17746797e+03   1.17746797e+03   1.17746797e+03   1.17746797e+03\n",
      "   1.17746797e+03   1.17746797e+03   1.17746797e+03   1.17746797e+03\n",
      "   8.78191958e+02   8.78191958e+02   8.78191958e+02   8.78191958e+02\n",
      "   8.73638593e+02   8.73638593e+02   8.73638593e+02   8.73638593e+02\n",
      "   7.27976642e+02   7.27976642e+02   7.27976642e+02   7.27976642e+02\n",
      "   7.26152259e+02   7.26152259e+02   7.26152259e+02   7.26152259e+02\n",
      "   6.35477988e+02   6.35477988e+02   6.35477988e+02   6.35477988e+02\n",
      "   6.34749213e+02   6.34749213e+02   6.34749213e+02   6.34749213e+02\n",
      "   1.35730193e-08   1.35713095e-08   9.46552168e-09   9.46380250e-09\n",
      "   7.15005075e-09   7.14944794e-09   5.85088672e-09   5.85039564e-09\n",
      "   3.52098269e-09   3.52040267e-09   2.76944944e-09   2.76893573e-09\n",
      "   9.14415866e-10   9.12897263e-10   2.37649566e-12   2.06653197e-12\n",
      "   9.28774126e-13   3.03496519e-13   2.89176757e-13   2.06776539e-13]\n",
      "Removed 20 which is 9.43% of the 212 singular values.\n",
      "Compression took 0.0596120357513 seconds.\n",
      "[  6.38093352e+03   6.38014473e+03   6.37877244e+03   6.37873169e+03\n",
      "   6.37807818e+03   6.37807051e+03   6.37804746e+03   6.37769931e+03\n",
      "   6.37767744e+03   6.37764168e+03   6.37611875e+03   6.37611875e+03\n",
      "   6.37611875e+03   6.37611875e+03   6.37606412e+03   6.37605175e+03\n",
      "   5.86211913e+03   5.86119950e+03   5.86001163e+03   5.85998421e+03\n",
      "   5.85769516e+03   5.85737177e+03   5.85588594e+03   5.85588594e+03\n",
      "   5.30674735e+03   5.30576669e+03   5.30475391e+03   5.30472978e+03\n",
      "   5.30068772e+03   5.30042718e+03   5.29904624e+03   5.29904624e+03\n",
      "   4.70611561e+03   4.70512646e+03   4.70427703e+03   4.70425587e+03\n",
      "   4.69834944e+03   4.69815063e+03   4.69688762e+03   4.69688762e+03\n",
      "   4.53215596e+03   4.53205937e+03   4.53086159e+03   4.53084501e+03\n",
      "   4.53028074e+03   4.53027456e+03   4.53025474e+03   4.53021963e+03\n",
      "   4.53020303e+03   4.53018153e+03   4.52899334e+03   4.52899334e+03\n",
      "   4.52899334e+03   4.52899334e+03   4.52895127e+03   4.52894972e+03\n",
      "   4.04742922e+03   4.04650104e+03   4.04579707e+03   4.04577964e+03\n",
      "   4.03791864e+03   4.03777886e+03   4.03665100e+03   4.03665100e+03\n",
      "   3.96355804e+03   3.96350463e+03   3.96243205e+03   3.96242576e+03\n",
      "   3.96079381e+03   3.96077102e+03   3.95966961e+03   3.95966961e+03\n",
      "   3.34854978e+03   3.34848097e+03   3.34758407e+03   3.34758249e+03\n",
      "   3.34498623e+03   3.34497042e+03   3.34402590e+03   3.34402590e+03\n",
      "   3.31056555e+03   3.30979170e+03   3.30920817e+03   3.30919590e+03\n",
      "   3.29937821e+03   3.29929338e+03   3.29832495e+03   3.29832495e+03\n",
      "   2.93656642e+03   2.93626248e+03   2.93560881e+03   2.93560594e+03\n",
      "   2.93528276e+03   2.93527107e+03   2.93525991e+03   2.93515781e+03\n",
      "   2.93515465e+03   2.93513874e+03   2.93440618e+03   2.93440618e+03\n",
      "   2.93440618e+03   2.93440618e+03   2.93438070e+03   2.93437592e+03\n",
      "   2.67424867e+03   2.67400258e+03   2.67338179e+03   2.67337863e+03\n",
      "   2.67003932e+03   2.66999025e+03   2.66924177e+03   2.66924177e+03\n",
      "   2.46044880e+03   2.45995170e+03   2.45945843e+03   2.45945346e+03\n",
      "   2.44804375e+03   2.44800735e+03   2.44723766e+03   2.44723766e+03\n",
      "   2.31470918e+03   2.31429346e+03   2.31386674e+03   2.31386156e+03\n",
      "   2.31298017e+03   2.31283774e+03   2.31225956e+03   2.31225956e+03\n",
      "   1.92042436e+03   1.91994767e+03   1.91965287e+03   1.91964450e+03\n",
      "   1.91598639e+03   1.91591243e+03   1.91538229e+03   1.91538229e+03\n",
      "   1.63354171e+03   1.63295831e+03   1.63280578e+03   1.63279633e+03\n",
      "   1.63161597e+03   1.63146203e+03   1.63107476e+03   1.63107476e+03\n",
      "   1.44701888e+03   1.44649807e+03   1.44636491e+03   1.44636018e+03\n",
      "   1.44628546e+03   1.44627885e+03   1.44627574e+03   1.44606055e+03\n",
      "   1.44605932e+03   1.44604872e+03   1.44577156e+03   1.44577156e+03\n",
      "   1.44577156e+03   1.44577156e+03   1.44576137e+03   1.44575272e+03\n",
      "   1.41342271e+03   1.41330515e+03   1.41330500e+03   1.41318944e+03\n",
      "   1.41291332e+03   1.41291332e+03   1.41290530e+03   1.41289409e+03\n",
      "   1.05238619e+03   1.05173059e+03   1.05171686e+03   1.05165625e+03\n",
      "   1.04869361e+03   1.04860805e+03   1.04833052e+03   1.04833052e+03\n",
      "   8.73314868e+02   8.72703073e+02   8.72689940e+02   8.72558343e+02\n",
      "   8.71682079e+02   8.71528185e+02   8.71352958e+02   8.71352958e+02\n",
      "   7.62724193e+02   7.62206001e+02   7.62195493e+02   7.62094778e+02\n",
      "   7.61995833e+02   7.61777676e+02   7.61673048e+02   7.61673048e+02\n",
      "   5.32125804e-01   3.99702992e-01   3.22745581e-01   2.75096572e-01\n",
      "   1.30422582e-01   1.29739046e-01   1.29118739e-01   9.87146067e-02\n",
      "   6.79903248e-02   3.79255188e-02   1.10982995e-02   6.78041188e-03\n",
      "   3.73743375e-03   2.42468894e-03   1.25272505e-03   2.61133895e-13\n",
      "   2.26805503e-13   2.13943473e-13   1.80918870e-13   1.44035097e-13]\n",
      "Removed 13 which is 6.13% of the 212 singular values.\n",
      "Compression took 0.0310020446777 seconds.\n",
      "[  5.31738406e+03   5.31738406e+03   5.31738406e+03   5.31738406e+03\n",
      "   5.31361372e+03   5.31361372e+03   5.31361372e+03   5.31361372e+03\n",
      "   5.31361372e+03   5.31361372e+03   5.31361372e+03   5.31361372e+03\n",
      "   5.31361372e+03   5.31361372e+03   5.31361372e+03   5.31361372e+03\n",
      "   4.88590132e+03   4.88590132e+03   4.88590132e+03   4.88590132e+03\n",
      "   4.88007157e+03   4.88007157e+03   4.88007157e+03   4.88007157e+03\n",
      "   4.42405798e+03   4.42405798e+03   4.42405798e+03   4.42405798e+03\n",
      "   4.41602265e+03   4.41602265e+03   4.41602265e+03   4.41602265e+03\n",
      "   3.92457160e+03   3.92457160e+03   3.92457160e+03   3.92457160e+03\n",
      "   3.91420666e+03   3.91420666e+03   3.91420666e+03   3.91420666e+03\n",
      "   3.77692651e+03   3.77692651e+03   3.77692651e+03   3.77692651e+03\n",
      "   3.77428999e+03   3.77428999e+03   3.77428999e+03   3.77428999e+03\n",
      "   3.77428999e+03   3.77428999e+03   3.77428999e+03   3.77428999e+03\n",
      "   3.77428999e+03   3.77428999e+03   3.77428999e+03   3.77428999e+03\n",
      "   3.37676274e+03   3.37676274e+03   3.37676274e+03   3.37676274e+03\n",
      "   3.36399069e+03   3.36399069e+03   3.36399069e+03   3.36399069e+03\n",
      "   3.30369193e+03   3.30369193e+03   3.30369193e+03   3.30369193e+03\n",
      "   3.29983735e+03   3.29983735e+03   3.29983735e+03   3.29983735e+03\n",
      "   2.79170538e+03   2.79170538e+03   2.79170538e+03   2.79170538e+03\n",
      "   2.78678341e+03   2.78678341e+03   2.78678341e+03   2.78678341e+03\n",
      "   2.76380186e+03   2.76380186e+03   2.76380186e+03   2.76380186e+03\n",
      "   2.74869798e+03   2.74869798e+03   2.74869798e+03   2.74869798e+03\n",
      "   2.44711504e+03   2.44711504e+03   2.44711504e+03   2.44711504e+03\n",
      "   2.44542198e+03   2.44542198e+03   2.44542198e+03   2.44542198e+03\n",
      "   2.44542198e+03   2.44542198e+03   2.44542198e+03   2.44542198e+03\n",
      "   2.44542198e+03   2.44542198e+03   2.44542198e+03   2.44542198e+03\n",
      "   2.23011710e+03   2.23011710e+03   2.23011710e+03   2.23011710e+03\n",
      "   2.22444409e+03   2.22444409e+03   2.22444409e+03   2.22444409e+03\n",
      "   2.05607557e+03   2.05607557e+03   2.05607557e+03   2.05607557e+03\n",
      "   2.03943435e+03   2.03943435e+03   2.03943435e+03   2.03943435e+03\n",
      "   1.92917305e+03   1.92917305e+03   1.92917305e+03   1.92917305e+03\n",
      "   1.92694876e+03   1.92694876e+03   1.92694876e+03   1.92694876e+03\n",
      "   1.60199743e+03   1.60199743e+03   1.60199743e+03   1.60199743e+03\n",
      "   1.59620641e+03   1.59620641e+03   1.59620641e+03   1.59620641e+03\n",
      "   1.36164227e+03   1.36164227e+03   1.36164227e+03   1.36164227e+03\n",
      "   1.35927538e+03   1.35927538e+03   1.35927538e+03   1.35927538e+03\n",
      "   1.20568094e+03   1.20568094e+03   1.20568094e+03   1.20568094e+03\n",
      "   1.20485077e+03   1.20485077e+03   1.20485077e+03   1.20485077e+03\n",
      "   1.20485077e+03   1.20485077e+03   1.20485077e+03   1.20485077e+03\n",
      "   1.20485077e+03   1.20485077e+03   1.20485077e+03   1.20485077e+03\n",
      "   1.17746797e+03   1.17746797e+03   1.17746797e+03   1.17746797e+03\n",
      "   1.17746797e+03   1.17746797e+03   1.17746797e+03   1.17746797e+03\n",
      "   8.78191958e+02   8.78191958e+02   8.78191958e+02   8.78191958e+02\n",
      "   8.73638593e+02   8.73638593e+02   8.73638593e+02   8.73638593e+02\n",
      "   7.27976642e+02   7.27976642e+02   7.27976642e+02   7.27976642e+02\n",
      "   7.26152259e+02   7.26152259e+02   7.26152259e+02   7.26152259e+02\n",
      "   6.35477988e+02   6.35477988e+02   6.35477988e+02   6.35477988e+02\n",
      "   6.34749213e+02   6.34749213e+02   6.34749213e+02   6.34749213e+02\n",
      "   1.96435556e-08   1.96426664e-08   1.15148400e-08   1.15136199e-08\n",
      "   6.29506024e-09   6.29415606e-09   5.74639483e-09   5.74571752e-09\n",
      "   2.85319722e-09   2.85268223e-09   2.80491913e-09   2.80183665e-09\n",
      "   6.38213059e-10   6.37128770e-10   2.30214968e-12   3.06701432e-13\n",
      "   2.39998054e-13   2.33792345e-13   1.66275529e-13   8.70276133e-15]\n",
      "Removed 20 which is 9.43% of the 212 singular values.\n",
      "Compression took 0.0166449546814 seconds.\n"
     ]
    }
   ],
   "source": [
    "Chi_1, Xi_1, Chi_2, Xi_2 = compress_L(Chi_1), compress_L(Xi_1),compress_L(Chi_2),compress_L(Xi_2)"
   ]
  },
  {
   "cell_type": "code",
   "execution_count": 168,
   "metadata": {},
   "outputs": [
    {
     "name": "stdout",
     "output_type": "stream",
     "text": [
      "1000 loops, best of 3: 203 µs per loop\n",
      "1000 loops, best of 3: 235 µs per loop\n"
     ]
    }
   ],
   "source": [
    "%timeit (Chi_1+Xi_1).dag()\n",
    "\n",
    "%timeit Chi_1-Xi_1"
   ]
  },
  {
   "cell_type": "markdown",
   "metadata": {
    "collapsed": true
   },
   "source": [
    "#### L_RC, H_0, expects = phonon_dynamics_calculator(1000, 100, 100, 300, 5, 500, 500, 4,5)\n",
    "L_approx = compress_L(L_RC)\n",
    "L_RC, H_0, expects = phonon_dynamics_calculator(1000, 100, 100, 300, 5, 500, 500, 4,4)\n",
    "L_approx = compress_L(L_RC)\n",
    "L_RC, H_0, expects = phonon_dynamics_calculator(1000, 100, 100, 300, 5, 500, 500, 3,3)\n",
    "L_approx = compress_L(L_RC)\n",
    "L_RC, H_0, expects = phonon_dynamics_calculator(1000, 100, 100, 300, 5, 500, 500, 3,4)\n",
    "L_approx = compress_L(L_RC)\n",
    "L_RC, H_0, expects = phonon_dynamics_calculator(1000, 100, 100, 300, 5, 500, 500, 4,3)\n",
    "L_approx = compress_L(L_RC)\n",
    "\n",
    "\n",
    "\n",
    "\"\"\"\n",
    "L_approx = compress_L(L_RC)\n",
    "del L_RC, H_0, L_approx, expects\n",
    "L_RC, H_0, expects = phonon_dynamics_calculator(1000, 100, 100, 300, 5, 100, 50, 6, 6)\n",
    "L_approx = compress_L(L_RC)\n",
    "del L_RC, H_0, L_approx, expects\n",
    "L_RC, H_0, expects = phonon_dynamics_calculator(1000, 100, 100, 300, 5, 100, 50, 7, 7)\n",
    "L_approx = compress_L(L_RC)\n",
    "del L_RC, H_0, L_approx, expects\n",
    "L_RC, H_0, expects = phonon_dynamics_calculator(1000, 100, 100, 300, 5, 100, 50, 8, 8)\n",
    "L_approx = compress_L(L_RC)\n",
    "del L_RC, H_0, L_approx, expects\n",
    "\"\"\"\n",
    "\n"
   ]
  },
  {
   "cell_type": "code",
   "execution_count": 68,
   "metadata": {},
   "outputs": [
    {
     "name": "stdout",
     "output_type": "stream",
     "text": [
      "Building the RC Liouvillian took  1.07638502121 seconds.\n",
      "Full optical Liouvillian took 1.17074418068 seconds.\n",
      "[  5.74843612e+03   4.75790404e+03   3.95729385e+03   3.91312464e+03\n",
      "   3.83821719e+03   3.61003399e+03   3.55661930e+03   3.46716145e+03\n",
      "   3.26386816e+03   3.24333561e+03   3.16854620e+03   2.26310253e+03\n",
      "   2.15916182e+03   2.10725995e+03   2.00106886e+03   2.00106886e+03\n",
      "   1.96699956e+03   1.93419969e+03   1.87336101e+03   1.60252691e+03\n",
      "   1.47083067e+03   1.33404590e+03   1.33404590e+03   1.33404590e+03\n",
      "   1.12186010e+03   9.94358252e+02   8.24027307e+02   6.67022952e+02\n",
      "   6.67022952e+02   4.55486946e+02   3.17248713e+02   4.73981874e-13] 0.00097918510437\n",
      "[0.0, 317.24871288892638, 455.48694575653445, 667.02295221018483, 667.02295221018483, 824.0273067857197, 994.35825209428822, 1121.860099206473, 1334.0459044203697, 1334.0459044203699, 1334.0459044203699, 1470.8306675384758, 1602.5269118068893, 1873.3610063790529, 1934.1996866295942, 1966.9995616748424, 2001.0688566305548, 2001.0688566305548, 2107.2599518649536, 2159.1618164454344, 2263.1025322657397, 3168.5462017446116, 3243.3356056978191, 3263.8681645425204, 3467.1614477785702, 3556.6193006511971, 3610.0339857745817, 3838.217188980399, 3913.1246366937189, 3957.2938521312262, 4757.9040408569363, 5748.4361166392682] 0.000382900238037\n",
      "Building the RC Liouvillian took  1.24588084221 seconds.\n",
      "Full optical Liouvillian took 1.13025212288 seconds.\n",
      "[  6.43373834e+03   4.75790404e+03   4.75790404e+03   4.63200933e+03\n",
      "   4.48094316e+03   3.94673595e+03   3.82167730e+03   3.61003399e+03\n",
      "   3.61003399e+03   3.27689532e+03   3.18177459e+03   3.08206974e+03\n",
      "   2.92451713e+03   2.81032405e+03   2.66809181e+03   2.26304929e+03\n",
      "   2.15756744e+03   2.00106886e+03   2.00106886e+03   1.93419969e+03\n",
      "   1.93419969e+03   1.77888060e+03   1.68805066e+03   1.59234798e+03\n",
      "   1.46958390e+03   1.33404590e+03   1.33404590e+03   1.33404590e+03\n",
      "   1.12157979e+03   9.94172266e+02   7.86329632e+02   6.67022952e+02\n",
      "   6.67022952e+02   4.55476263e+02   3.17241246e+02   4.67704467e-13] 0.00134801864624\n",
      "[0.0, 317.24124602015513, 455.47626253396294, 667.02295221018483, 667.02295221018483, 786.32963154724393, 994.17226618463462, 1121.5797942906959, 1334.0459044203697, 1334.0459044203699, 1334.0459044203699, 1469.5839002554044, 1592.3479752129804, 1688.0506574173285, 1778.8805996891463, 1934.199686629594, 1934.1996866295947, 2001.0688566305548, 2001.0688566305548, 2157.5674389333735, 2263.0492877510287, 2668.0918088407398, 2810.3240483031682, 2924.5171338125351, 3082.0697417119436, 3181.7745934058371, 3276.8953237291116, 3610.0339857745807, 3610.033985774583, 3821.677303849503, 3946.7359548723525, 4480.9431606002117, 4632.0093327052264, 4757.9040408569317, 4757.9040408569317, 6433.738340001918] 0.000446081161499\n"
     ]
    }
   ],
   "source": [
    "\n",
    "L_RC, H_0, expects = phonon_dynamics_calculator(1000, 100, 100, 300, 5, 500, 500, 3,3)\n",
    "ti = time.time()\n",
    "u, s, vh = svd(H_0.full())\n",
    "print s, time.time()- ti\n",
    "ti = time.time()\n",
    "print sorted(H_0.eigenenergies()) ,time.time()- ti\n",
    "\n",
    "L_RC, H_0, expects = phonon_dynamics_calculator(1000, 100, 100, 300, 5, 500, 500, 3,6)\n",
    "ti = time.time()\n",
    "u, s, vh = svd(H_0.full())\n",
    "print s, time.time()- ti\n",
    "ti = time.time()\n",
    "print sorted(H_0.eigenenergies()) ,time.time()- ti\n"
   ]
  },
  {
   "cell_type": "code",
   "execution_count": 63,
   "metadata": {},
   "outputs": [
    {
     "name": "stdout",
     "output_type": "stream",
     "text": [
      "Building the RC Liouvillian took  1.02686190605 seconds.\n",
      "Full optical Liouvillian took 0.82214307785 seconds.\n",
      "[  6.46263528e+04   6.24806987e+04   5.95546645e+04 ...,   4.90909953e-12\n",
      "   4.90909953e-12   4.64592362e-12]\n",
      "Removed 4 which is 0.39% of the 1024 singular values.\n",
      "Compression took 1.8036608696 seconds.\n",
      "Building the RC Liouvillian took  1.2979259491 seconds.\n",
      "Full optical Liouvillian took 1.08403611183 seconds.\n",
      "[  5.98761795e+04   5.98744854e+04   5.98580592e+04 ...,   1.15074034e-12\n",
      "   1.09385706e-12   7.92404165e-13]\n",
      "Removed 36 which is 2.78% of the 1296 singular values.\n",
      "Compression took 3.26391196251 seconds.\n",
      "Building the RC Liouvillian took  1.56289887428 seconds.\n",
      "Full optical Liouvillian took 1.39505887032 seconds.\n",
      "[  8.13873229e+04   7.92623066e+04   7.40049764e+04 ...,   6.11578255e-12\n",
      "   6.11578255e-12   6.11578255e-12]\n",
      "Removed 4 which is 0.25% of the 1600 singular values.\n",
      "Compression took 6.32245087624 seconds.\n",
      "Building the RC Liouvillian took  1.52168798447 seconds.\n",
      "Full optical Liouvillian took 1.37062597275 seconds.\n",
      "[  8.13873229e+04   7.92623066e+04   7.40049764e+04 ...,   6.11578255e-12\n",
      "   6.11578255e-12   6.11578255e-12]\n",
      "Removed 4 which is 0.25% of the 1600 singular values.\n",
      "Compression took 6.15095615387 seconds.\n"
     ]
    },
    {
     "data": {
      "text/plain": [
       "'L_RC, H_0, expects = phonon_dynamics_calculator(1000, 100, 100, 300, 5, 500, 500, 5,2)\\nL_approx = compress_L(L_RC)'"
      ]
     },
     "execution_count": 63,
     "metadata": {},
     "output_type": "execute_result"
    }
   ],
   "source": [
    "\n",
    "\"\"\"L_RC, H_0, expects = phonon_dynamics_calculator(1000, 100, 100, 300, 5, 500, 500, 5,2)\n",
    "L_approx = compress_L(L_RC)\"\"\""
   ]
  },
  {
   "cell_type": "code",
   "execution_count": 33,
   "metadata": {},
   "outputs": [
    {
     "name": "stdout",
     "output_type": "stream",
     "text": [
      "Building the RC Liouvillian took  14.2370569706 seconds.\n"
     ]
    }
   ],
   "source": [
    "L_RC, H_0, expects = phonon_dynamics_calculator(1000, 100, 100, 300, 5, 100, 50, 3, 3)\n",
    "#L_approx = compress_L_sp(L_RC)\n",
    "#del L_RC, H_0, L_approx, expects\n",
    "#L_RC, H_0, expects = phonon_dynamics_calculator(1000, 100, 100, 300, 5, 100, 50, 6, 6)\n",
    "#L_approx = compress_L_sp(L_RC)\n",
    "#del L_RC, H_0, L_approx, expects\n",
    "#L_RC, H_0, expects = phonon_dynamics_calculator(1000, 100, 100, 300, 5, 100, 50, 7, 7)\n",
    "#L_approx = compress_L_sp(L_RC)\n",
    "#del L_RC, H_0, L_approx, expects\n",
    "#L_RC, H_0, expects = phonon_dynamics_calculator(1000, 100, 100, 300, 5, 100, 50, 8, 8)\n",
    "#L_approx = compress_L_sp(L_RC)\n",
    "#del L_RC, H_0, L_approx, expects"
   ]
  },
  {
   "cell_type": "code",
   "execution_count": 40,
   "metadata": {},
   "outputs": [
    {
     "name": "stdout",
     "output_type": "stream",
     "text": [
      "(10816, 10816) [[[4, 6, 6], [4, 6, 6]], [[4, 6, 6], [4, 6, 6]]]\n"
     ]
    }
   ],
   "source": [
    "print L_RC.shape, L_RC.dims"
   ]
  },
  {
   "cell_type": "code",
   "execution_count": 7,
   "metadata": {},
   "outputs": [
    {
     "data": {
      "text/plain": [
       "array([[    0.00000000+0.j,     0.00000000+0.j,     0.00000000+0.j, ...,\n",
       "            0.00000000+0.j,     0.00000000+0.j,     0.00000000+0.j],\n",
       "       [    0.00000000+0.j,   667.02295221+0.j,     0.00000000+0.j, ...,\n",
       "            0.00000000+0.j,     0.00000000+0.j,     0.00000000+0.j],\n",
       "       [    0.00000000+0.j,     0.00000000+0.j,  1334.04590442+0.j, ...,\n",
       "            0.00000000+0.j,     0.00000000+0.j,     0.00000000+0.j],\n",
       "       ..., \n",
       "       [    0.00000000+0.j,     0.00000000+0.j,     0.00000000+0.j, ...,\n",
       "         4101.06885663+0.j,     0.00000000+0.j,     0.00000000+0.j],\n",
       "       [    0.00000000+0.j,     0.00000000+0.j,     0.00000000+0.j, ...,\n",
       "            0.00000000+0.j,  3434.04590442+0.j,   228.88394474+0.j],\n",
       "       [    0.00000000+0.j,     0.00000000+0.j,     0.00000000+0.j, ...,\n",
       "            0.00000000+0.j,   228.88394474+0.j,  4101.06885663+0.j]])"
      ]
     },
     "execution_count": 7,
     "metadata": {},
     "output_type": "execute_result"
    }
   ],
   "source": []
  },
  {
   "cell_type": "code",
   "execution_count": 32,
   "metadata": {
    "collapsed": true
   },
   "outputs": [],
   "source": [
    "from qutip import sigmax, "
   ]
  },
  {
   "cell_type": "code",
   "execution_count": null,
   "metadata": {
    "collapsed": true
   },
   "outputs": [],
   "source": []
  }
 ],
 "metadata": {
  "kernelspec": {
   "display_name": "Python 2",
   "language": "python",
   "name": "python2"
  },
  "language_info": {
   "codemirror_mode": {
    "name": "ipython",
    "version": 2
   },
   "file_extension": ".py",
   "mimetype": "text/x-python",
   "name": "python",
   "nbconvert_exporter": "python",
   "pygments_lexer": "ipython2",
   "version": "2.7.13"
  }
 },
 "nbformat": 4,
 "nbformat_minor": 2
}
