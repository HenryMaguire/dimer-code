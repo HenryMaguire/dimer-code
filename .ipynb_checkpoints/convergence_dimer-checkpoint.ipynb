{
 "cells": [
  {
   "cell_type": "code",
   "execution_count": null,
   "metadata": {
    "collapsed": true
   },
   "outputs": [],
   "source": [
    "# Incase we have to clear all variables\n",
    "%reset -f"
   ]
  },
  {
   "cell_type": "code",
   "execution_count": 3,
   "metadata": {
    "collapsed": true
   },
   "outputs": [],
   "source": [
    "colourWheel =['#329932',\n",
    "            '#ff6961',\n",
    "            'b',\n",
    "            '#6a3d9a',\n",
    "            '#fb9a99',\n",
    "            '#e31a1c',\n",
    "            '#fdbf6f',\n",
    "            '#ff7f00',\n",
    "            '#cab2d6',\n",
    "            '#6a3d9a',\n",
    "            '#ffff99',\n",
    "            '#b15928',\n",
    "            '#67001f',\n",
    "            '#b2182b',\n",
    "            '#d6604d',\n",
    "            '#f4a582',\n",
    "            '#fddbc7',\n",
    "            '#f7f7f7',\n",
    "            '#d1e5f0',\n",
    "            '#92c5de',\n",
    "            '#4393c3',\n",
    "            '#2166ac',\n",
    "            '#053061']\n",
    "\n",
    "from dimer_setup import *\n",
    "from utils import *"
   ]
  },
  {
   "cell_type": "code",
   "execution_count": 4,
   "metadata": {
    "collapsed": true
   },
   "outputs": [],
   "source": [
    "import matplotlib.pyplot as plt\n",
    "from heatmap_setup import calculate_steadystate\n",
    "from scipy.sparse.linalg import eigs, lgmres\n",
    "from scipy.sparse import csc_matrix\n",
    "import time\n",
    "import numpy as np"
   ]
  },
  {
   "cell_type": "markdown",
   "metadata": {},
   "source": [
    "### Example Liouvillian"
   ]
  },
  {
   "cell_type": "code",
   "execution_count": 5,
   "metadata": {},
   "outputs": [
    {
     "name": "stdout",
     "output_type": "stream",
     "text": [
      "The operators took 1.56062483788 and have dimension 36.\n",
      "Building the RC Liouvillian took 1.608 seconds.\n",
      "****************************************************************\n",
      "It is 1296by1296. The full basis would be 1296by1296\n",
      "It took  1.09560012817  seconds to build the Non-secular RWA Liouvillian\n"
     ]
    }
   ],
   "source": [
    "w_2 = 1.4*ev_to_inv_cm\n",
    "bias = 0.1*ev_to_inv_cm\n",
    "V = 0.01*ev_to_inv_cm\n",
    "alpha = 50/pi\n",
    "alpha_EM = 5.309e-3\n",
    "N = 3\n",
    "pap = alpha_to_pialpha_prop(alpha, w_2)\n",
    "wc = 100.\n",
    "w_0 = 200.\n",
    "Gamma = (w_0**2)/wc\n",
    "PARAMS = PARAMS_setup(bias=bias, w_2=w_2, \n",
    "                      V = 0.1*ev_to_inv_cm, pialpha_prop=pap,\n",
    "                      T_EM=6000., T_ph =300., alpha_EM=alpha_EM, shift=True,\n",
    "                      num_cpus=4, N=N, Gamma=Gamma, w_0=w_0,\n",
    "                      silent=True, exc_diff=0)\n",
    "\n",
    "H, L = get_H_and_L(PARAMS, silent=False, threshold=1e-7)"
   ]
  },
  {
   "cell_type": "code",
   "execution_count": null,
   "metadata": {
    "collapsed": true
   },
   "outputs": [],
   "source": [
    "ti = time.time()\n",
    "ssL, info = calculate_steadystate(H, L, method=\"eigen\", persistent=False)\n",
    "print time.time()-ti; ti = time.time()\n"
   ]
  },
  {
   "cell_type": "code",
   "execution_count": null,
   "metadata": {
    "collapsed": true
   },
   "outputs": [],
   "source": [
    "expectation(ssL)"
   ]
  },
  {
   "cell_type": "code",
   "execution_count": null,
   "metadata": {
    "collapsed": true
   },
   "outputs": [],
   "source": [
    "from scipy.sparse.linalg import eigs\n",
    "from qutip.cy.spconvert import dense2D_to_fastcsr_fmode\n",
    "\n",
    "def v0_estimate(H, PARAMS, method=0):\n",
    "    H = H[1]\n",
    "    T1, T2 = PARAMS['T_EM'], 0.5*(PARAMS['T_1']+PARAMS['T_2'])\n",
    "    alpha1, alpha2 = PARAMS['alpha_EM'], 0.5*(PARAMS['alpha_1']+PARAMS['alpha_2'])\n",
    "    p1 = alpha1/(alpha1+alpha2)\n",
    "    p2 = alpha2/(alpha1+alpha2)\n",
    "    p1/= (p1+p2)\n",
    "    p2/= (p1+p2)\n",
    "    if method==1:\n",
    "        # Average two density matrices together\n",
    "        r1 = (-beta_f(T1)*H).expm(method='sparse')\n",
    "        r2 = (-beta_f(T2)*H).expm(method='sparse')\n",
    "        rho_approx = r1#+r2\n",
    "        return qt.operator_to_vector(rho_approx/rho_approx.tr()).data.todense()\n",
    "    elif method==0:\n",
    "        # Averages temperatures\n",
    "        r1 = (-beta_f(abs(2*T1-T2))*H).expm(method='sparse')\n",
    "        return qt.operator_to_vector(r1/r1.tr()).data.todense()\n",
    "    else:\n",
    "        r1 = (-beta_f(T1)*H).expm(method='sparse')\n",
    "        r2 = (-beta_f(T2)*H).expm(method='sparse')\n",
    "        rho_approx = 0.5*(r1+r2)+(-beta_f(abs(2*T1-T2))*H).expm(method='sparse')\n",
    "        return qt.operator_to_vector(rho_approx/rho_approx.tr()).data.todense()\n",
    "\n",
    "def expectation(rho, expval='site_coherence'):\n",
    "    e_op = make_expectation_operators(PARAMS)[expval]\n",
    "    return (rho*e_op).tr()\n",
    "\n",
    "def vec_to_dm(evec, _H):\n",
    "    n = int(np.sqrt(evec.shape[0]))\n",
    "    data = dense2D_to_fastcsr_fmode(evec.reshape((n, n)).T, n, n)\n",
    "    data = 0.5 * (data + data.H)\n",
    "    data = qt.Qobj(data, dims=_H[1].dims, isherm=True)\n",
    "    return data/data.tr()\n",
    "\n",
    "\n",
    "\n",
    "def _steadystate(H, L, tol=1e-8, sigma=1e-12, ncv=18, print_coh=True, v0=None):\n",
    "    L_full = -1*qt.liouvillian(H[1], c_ops=[L]).data\n",
    "    ti = time.time()\n",
    "    evals, evec = eigs(L_full, 1, which='LM', sigma=sigma, tol=tol, ncv=ncv, v0=v0)\n",
    "    print(\"Steadystate took {:0.3f} seconds\".format(time.time() - ti))\n",
    "    rho = vec_to_dm(evec, H)\n",
    "    if print_coh:\n",
    "        print(\"Coherence is {}\".format(expectation(rho)))\n",
    "    return rho"
   ]
  },
  {
   "cell_type": "code",
   "execution_count": null,
   "metadata": {
    "collapsed": true
   },
   "outputs": [],
   "source": [
    "#ev, evec = H[1].\n",
    "from scipy.linalg import eig, inv\n",
    "import numpy as np\n",
    "def sorted_eig(_H):\n",
    "    if type(_H) == qt.Qobj:\n",
    "        _H = _H.full()\n",
    "    eigenValues, eigenVectors = eig(_H)\n",
    "    idx = eigenValues.argsort()[::-1]   \n",
    "    return eigenValues[idx], eigenVectors[:,idx]\n",
    "\n",
    "def to_eigenbasis(op, evals, evecs, evecs_inv):\n",
    "    if type(op) == qt.Qobj:\n",
    "        op = op.full()\n",
    "    A = np.matmul(evecs_inv, op)\n",
    "    return np.matmul(A, evecs)\n",
    "\n",
    "def to_site_basis(op, evals, evecs, evecs_inv):\n",
    "    if type(op) == qt.Qobj:\n",
    "        op = op.full()\n",
    "    A = np.matmul(evecs, op)\n",
    "    return np.matmul(A, evecs_inv)\n",
    "\n",
    "def array_to_qobj(arr, qobj_in_basis):\n",
    "    return qt.Qobj(arr, dims=qobj_in_basis.dims)\n",
    "#print H[1]\n",
    "eVals, eVecs = H[1].eigenstates()\n",
    "evecs = np.transpose(np.array([v.dag().full()[0] for v in eVecs]))\n",
    "\n",
    "#evals, evecs = sorted_eig(H[1])\n",
    "ti = time.time()\n",
    "evecs_inv = inv(evecs)\n",
    "print (time.time() - ti)\n",
    "D = to_eigenbasis(H[1], evals, evecs, evecs_inv)\n",
    "H_again = to_site_basis(qt.Qobj(D), evals, evecs, evecs_inv)\n",
    "\n",
    "assert np.sum(np.around(sorted_eig(qt.Qobj(H_array))[0]-sorted_eig(qt.Qobj(D))[0], 3)) == 0. # get diagonal\n",
    "assert np.sum(np.around(H_again - H_array, 3)) == 0. # get H again from diagonal\n",
    "\n",
    "print np.sum(D)\n",
    "print np.sum(H[1].transform(eVecs).full())"
   ]
  },
  {
   "cell_type": "code",
   "execution_count": null,
   "metadata": {
    "collapsed": true
   },
   "outputs": [],
   "source": [
    "v0 = v0_estimate(H, PARAMS, method=0)\n",
    "print(np.sum(abs(vec_to_dm(v0, H)-ssL)))\n",
    "rho = _steadystate(H, L, v0=v0, method=\"eigen\")"
   ]
  },
  {
   "cell_type": "code",
   "execution_count": null,
   "metadata": {
    "collapsed": true
   },
   "outputs": [],
   "source": [
    "v0 = v0_estimate(H, PARAMS, method=1)\n",
    "print(np.sum(abs(vec_to_dm(v0, H)-ssL)))\n",
    "rho = _steadystate(H, L, v0=v0)"
   ]
  },
  {
   "cell_type": "code",
   "execution_count": null,
   "metadata": {
    "collapsed": true
   },
   "outputs": [],
   "source": [
    "v0 = v0_estimate(H, PARAMS, method=2)\n",
    "print(np.sum(abs(vec_to_dm(v0, H)-ssL)))\n",
    "rho = _steadystate(H, L, v0=v0)"
   ]
  },
  {
   "cell_type": "code",
   "execution_count": null,
   "metadata": {
    "collapsed": true
   },
   "outputs": [],
   "source": [
    "#v0 = v0_estimate(H, PARAMS, method=0)\n",
    "#print(np.sum(abs(vec_to_dm(v0, H)-ssL)))\n",
    "rho = _steadystate(H, L, v0=None)"
   ]
  },
  {
   "cell_type": "code",
   "execution_count": null,
   "metadata": {
    "collapsed": true
   },
   "outputs": [],
   "source": [
    "visualise_sparse(L)\n",
    "visualise_sparse(L_tidy)"
   ]
  },
  {
   "cell_type": "code",
   "execution_count": null,
   "metadata": {
    "collapsed": true
   },
   "outputs": [],
   "source": [
    "print nonzero_elements(L)\n",
    "print nonzero_elements(L_tidy)\n",
    "print total_elements(L)\n",
    "print 100*float(nonzero_elements(L))/total_elements(L)\n",
    "print 100*float(nonzero_elements(L_tidy))/total_elements(L)"
   ]
  },
  {
   "cell_type": "code",
   "execution_count": null,
   "metadata": {
    "collapsed": true
   },
   "outputs": [],
   "source": [
    "print \"Total error per nz dm element due to chop: {}\".format(np.sum(ssL.full()-ssLt.full())/nonzero_elements(ssL)) \n",
    "\n",
    "visualise_dense(ssL)\n",
    "visualise_dense(ssLt)\n"
   ]
  },
  {
   "cell_type": "code",
   "execution_count": null,
   "metadata": {
    "collapsed": true
   },
   "outputs": [],
   "source": []
  },
  {
   "cell_type": "markdown",
   "metadata": {},
   "source": [
    "# For N=6, with no "
   ]
  },
  {
   "cell_type": "code",
   "execution_count": null,
   "metadata": {
    "code_folding": [],
    "collapsed": true
   },
   "outputs": [],
   "source": [
    "\"\"\"from heatmap_setup import steadystate\n",
    "\n",
    "w_2 = 8000.\n",
    "alpha = 20.\n",
    "\n",
    "N = 6\n",
    "pap = alpha_to_pialpha_prop(alpha, w_2)\n",
    "PARAMS = PARAMS_setup(bias=100., w_2=8000., V = 100., pialpha_prop=pap,\n",
    "                                 T_EM=6000., T_ph =300.,\n",
    "                                 alpha_EM=0.1, shift=True,\n",
    "                                 num_cpus=3, N=N, Gamma=200., w_0=300.,\n",
    "                                 silent=True, exc_diff=0)\n",
    "from numpy.linalg import norm\n",
    "def estimateCondition(M):\n",
    "    vec = np.ones((1, M.shape[0])).T\n",
    "    return norm(M.dot(vec), np.inf)\"\"\""
   ]
  },
  {
   "cell_type": "code",
   "execution_count": null,
   "metadata": {},
   "outputs": [
    {
     "name": "stdout",
     "output_type": "stream",
     "text": [
      "The operators took 0.465590953827 and have dimension 16.\n",
      "Building the RC Liouvillian took 0.478 seconds.\n",
      "****************************************************************\n",
      "It is 256by256. The full basis would be 256by256\n",
      "It took  0.23925614357  seconds to build the Non-secular RWA Liouvillian\n",
      "direct 0.00485801696777\n",
      "power 0.00387692451477\n",
      "eigen 0.0102441310883\n",
      "The operators took 1.36446094513 and have dimension 36.\n",
      "Building the RC Liouvillian took 1.394 seconds.\n",
      "****************************************************************\n",
      "It is 1296by1296. The full basis would be 1296by1296\n",
      "It took  1.17290687561  seconds to build the Non-secular RWA Liouvillian\n",
      "direct 0.0952131748199\n",
      "power 0.264683961868\n",
      "eigen 0.309825897217\n",
      "The operators took 0.373327970505 and have dimension 16.\n",
      "Building the RC Liouvillian took 0.380 seconds.\n",
      "****************************************************************\n",
      "It is 256by256. The full basis would be 256by256\n",
      "It took  0.244354963303  seconds to build the Non-secular RWA Liouvillian\n",
      "THIS ONE IS EIG BASIS\n",
      "direct 0.00599813461304\n",
      "power 0.004802942276\n",
      "eigen 0.00607800483704\n"
     ]
    }
   ],
   "source": [
    "from qutip import build_preconditioner\n",
    "\n",
    "def method_plotter(N_vals, data_dict, info_dict, ax1, ax2, linestyle=\"solid\"):\n",
    "    linewidth=1.\n",
    "    if linestyle == 'dashed':\n",
    "        linewidth=1.6\n",
    "    for i, key in enumerate(data_dict.keys()):\n",
    "        ax1.plot(N_vals, data_dict[key], label=key, color=colourWheel[i], ls=linestyle, lw=lw)\n",
    "        #print info_dict[key]\n",
    "        ax2.plot(N_vals, info_dict[key], label=key, color=colourWheel[i], ls=linestyle, lw=lw)\n",
    "    ax1.legend()\n",
    "    ax2.legend()\n",
    "    ax1.set_ylabel(\"Coherence\")\n",
    "    ax2.set_ylabel(\"Solution time\")\n",
    "\n",
    "\n",
    "def method_comparison(N_i, N_f, plot=False, site_basis=True):\n",
    "    methods = ['direct','power', 'eigen']\n",
    "    data_dict = dict()\n",
    "    info_dict = dict()\n",
    "    N_vals = range(N_i, N_f)\n",
    "    for N in N_vals:\n",
    "        PARAMS.update({'N_1':N, 'N_2':N, 'exc':int(2*N)})\n",
    "        H, L = get_H_and_L(PARAMS,silent=False, threshold=1e-7, site_basis=site_basis)\n",
    "        exps = make_expectation_operators(H, PARAMS, site_basis=site_basis)\n",
    "        for method in methods:\n",
    "            try:\n",
    "                M=None\n",
    "                \"\"\" \n",
    "                if \"iterative\" in method:\n",
    "                    ti = time.time()\n",
    "                    M = build_preconditioner(H[1], [L], fill_factor=1000,\n",
    "                                           drop_tol=1e-4, use_rcm=True, ILU_MILU='smilu_2')\n",
    "                    print \"Building preconditioner ({}) took {} seconds\".format(estimateCondition(M), \n",
    "                                                                                     time.time()-ti)\"\"\"\n",
    "                ss, full_info = steadystate(H[1], [L], method=method, M=M,\n",
    "                                           use_precond=True, use_rcm=True, \n",
    "                                           return_info=True, tol=1e-8, maxiter=5000)\n",
    "\n",
    "                print method, full_info['solution_time']\n",
    "                info = full_info['solution_time']\n",
    "\n",
    "                coh = (exps['sigma_x']*ss).tr()\n",
    "                try:\n",
    "                    data_dict[method].append(coh)\n",
    "                    info_dict[method].append(info)\n",
    "                except KeyError:\n",
    "                    data_dict[method] = [coh]\n",
    "                    info_dict[method] = [info]\n",
    "            except Exception as err:\n",
    "                print \"{} failed due to : {}\".format(method, err)\n",
    "                try:\n",
    "                    data_dict[method].append(None)\n",
    "                    info_dict[method].append(None)\n",
    "                except KeyError:\n",
    "                    data_dict[method] = [None]\n",
    "                    info_dict[method] = [None]\n",
    "    #if plot:\n",
    "    #    method_plotter(N_vals, data_dict, info_dict)\n",
    "    return N_vals, data_dict, info_dict\n",
    "\n",
    "N_vals, data_dict_sb, info_dict_sb = method_comparison(2,4)\n",
    "N_vals, data_dict_eb, info_dict_eb = method_comparison(2,4, site_basis=False)\n",
    "print data_dict_sb['direct']\n",
    "f, (ax1, ax2) = plt.subplots(2,1, figsize=(10,7))\n",
    "method_plotter(N_vals, data_dict_sb, info_dict_sb, ax1, ax2)\n",
    "method_plotter(N_vals, data_dict_eb, info_dict_eb, ax1, ax2, linestyle=\"dashed\")\n",
    "plt.show()"
   ]
  },
  {
   "cell_type": "markdown",
   "metadata": {
    "heading_collapsed": true
   },
   "source": [
    "# Plotting methods"
   ]
  },
  {
   "cell_type": "code",
   "execution_count": null,
   "metadata": {
    "collapsed": true,
    "hidden": true
   },
   "outputs": [],
   "source": [
    "def steadystate_observable(ss_array, PARAMS, observable):\n",
    "    try:\n",
    "        size = (len(PARAMS['y_values']), len(PARAMS['x_values']))\n",
    "    except KeyError:\n",
    "        size = (1,1)\n",
    "    # deal with the case where N is being changed as an x value\n",
    "    if 'N_1' in PARAMS['x_axis_parameters']:\n",
    "        data_array = np.zeros(size)         # Collect data\n",
    "        N_values = PARAMS['x_values']\n",
    "        # NEw observable operator for each N value\n",
    "        for i, N in enumerate(N_values):\n",
    "            PARAMS.update({'N_1' : N, 'N_2' : N})\n",
    "            exc = N+PARAMS['exc_diff']\n",
    "            # Leave it so exc can be fixed or a y_parameter\n",
    "            if 'exc' in PARAMS['x_axis_parameters']:\n",
    "                PARAMS.update({'exc': exc})\n",
    "            _obs_op = make_expectation_operators(PARAMS)[observable]\n",
    "            for j, y in enumerate(PARAMS['y_values']):\n",
    "                # the case where exc is on the y axis\n",
    "                if 'exc_diff' in PARAMS['y_axis_parameters']:\n",
    "                    PARAMS.update({'exc': N+y})\n",
    "                    _obs_op = make_expectation_operators(PARAMS)[observable]\n",
    "                try:\n",
    "                    print ss_array[j][i].shape, _obs_op.shape\n",
    "                    data_array[j][i] = (qt.Qobj(ss_array[j][i])*_obs_op).tr().real\n",
    "                except AttributeError:\n",
    "                    data_array[j][i] = np.nan\n",
    "        return data_array\n",
    "    else:\n",
    "        # Much simpler if N isn't on the x-axis\n",
    "        obs_op = make_expectation_operators(PARAMS)[observable]\n",
    "        f = lambda x: (qt.Qobj(x)*obs_op).tr()\n",
    "        ss_array = np.reshape(ss_array, (1, size[0]*size[1]))[0]\n",
    "\n",
    "        data_array = map(f, ss_array)\n",
    "        data_array = np.array(data_array).reshape(size).real\n",
    "        return data_array\n",
    "\n",
    "\n",
    "def heatmap_plotter(num, plot_SD=True, dir_name=\"heatmap\", \n",
    "                     print_params=False, observable='sigma_x', \n",
    "                    reverse_x=True):\n",
    "    \n",
    "    directory = 'DATA/'+dir_name+'_'+str(num)\n",
    "    ss_array = load_obj(directory+'/ss_array')\n",
    "    PARAMS = load_obj(directory+'/PARAMS')\n",
    "    info_array = load_obj(directory+'/info_array') # reverse ordering -> lower_N-higher_N\n",
    "    info = info_array[0][0]\n",
    "    \n",
    "    try:\n",
    "        # To catch an old bug where these were in \"info\" not in PARAMS\n",
    "        keys = ['x_values', 'y_values', 'y_axis_parameters', 'x_axis_parameters']\n",
    "        PARAMS.update(dict((key, info[key]) for key in keys))\n",
    "    except Exception as err:\n",
    "        print \"new style\"\n",
    "    if plot_SD:\n",
    "        plot_UD_SD(PARAMS[\"Gamma_1\"], PARAMS[\"alpha_1\"], PARAMS[\"w0_1\"], eps=2000.)\n",
    "    \n",
    "    ss_array = steadystate_observable(ss_array, PARAMS, observable)\n",
    "\n",
    "    \n",
    "    f, axes = plt.subplots(1,1, figsize=(13,6))\n",
    "    for i, y_val in enumerate(PARAMS['y_values']):\n",
    "        x_values = PARAMS['x_values']\n",
    "        if reverse_x:\n",
    "            x_values = x_values[::-1]\n",
    "        axes.plot(x_values, ss_array[i], \n",
    "                  label=str(PARAMS['y_axis_parameters'])+\"=\"+str(y_val))\n",
    "    \n",
    "    print_PARAMS(PARAMS)\n",
    "    \n",
    "    plt.xlabel(', '.join(PARAMS['x_axis_parameters']))\n",
    "    plt.ylabel(\"Steadystate \"+observable)\n",
    "    #plt.ylabel(', '.join(info['y_axis_parameters']))\n",
    "    plt.legend()\n",
    "    plt.grid()\n",
    "    plot_filename = 'PLOTS/'+dir_name+'_'+str(num)+'.pdf'\n",
    "    plt.savefig(plot_filename)\n",
    "    print \"saved at {}\".format(plot_filename)\n",
    "    plt.show()"
   ]
  },
  {
   "cell_type": "code",
   "execution_count": null,
   "metadata": {
    "collapsed": true,
    "hidden": true
   },
   "outputs": [],
   "source": [
    "heatmap_plotter(2, plot_SD=False, dir_name='heatmap_excvN', \n",
    "                     print_params=False, observable='sigma_x', \n",
    "                    reverse_x=True)"
   ]
  },
  {
   "cell_type": "code",
   "execution_count": null,
   "metadata": {
    "collapsed": true,
    "hidden": true
   },
   "outputs": [],
   "source": []
  }
 ],
 "metadata": {
  "kernelspec": {
   "display_name": "Python 2",
   "language": "python",
   "name": "python2"
  },
  "language_info": {
   "codemirror_mode": {
    "name": "ipython",
    "version": 2
   },
   "file_extension": ".py",
   "mimetype": "text/x-python",
   "name": "python",
   "nbconvert_exporter": "python",
   "pygments_lexer": "ipython2",
   "version": "2.7.13"
  }
 },
 "nbformat": 4,
 "nbformat_minor": 2
}
