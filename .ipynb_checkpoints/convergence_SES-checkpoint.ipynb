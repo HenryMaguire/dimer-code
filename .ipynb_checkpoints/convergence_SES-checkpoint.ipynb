{
 "cells": [
  {
   "cell_type": "code",
   "execution_count": 1,
   "metadata": {
    "collapsed": true
   },
   "outputs": [],
   "source": [
    "from SES_setup import *\n",
    "import time\n",
    "from heatmap_setup import calculate_steadystate, heat_map_calculator\n",
    "\n",
    "\n",
    "dirname = 'SES_heatmap_excvN'"
   ]
  },
  {
   "cell_type": "code",
   "execution_count": 6,
   "metadata": {},
   "outputs": [
    {
     "name": "stdout",
     "output_type": "stream",
     "text": [
      "N_1 = 7, N_2 = 7, exc= 11\n",
      "Steady state took 377.875 seconds\n",
      "Build time: 41.631 \t | \t Solution time: 377.875\n",
      "N_1 = 6, N_2 = 6, exc= 9\n",
      "Steady state took 56.886 seconds\n",
      "Build time: 19.008 \t | \t Solution time: 56.886\n",
      "N_1 = 5, N_2 = 5, exc= 7\n",
      "Steady state took 9.179 seconds\n",
      "Build time: 7.498 \t | \t Solution time: 9.179\n",
      "N_1 = 4, N_2 = 4, exc= 5\n",
      "Steady state took 0.584 seconds\n",
      "Build time: 3.196 \t | \t Solution time: 0.584\n",
      "N_1 = 3, N_2 = 3, exc= 3\n",
      "Steady state took 0.102 seconds\n",
      "Build time: 1.061 \t | \t Solution time: 0.102\n",
      "N_1 = 7, N_2 = 7, exc= 12\n",
      "Steady state took 381.490 seconds\n",
      "Build time: 42.032 \t | \t Solution time: 381.490\n",
      "N_1 = 6, N_2 = 6, exc= 10\n",
      "Steady state took 61.151 seconds\n",
      "Build time: 18.216 \t | \t Solution time: 61.151\n",
      "N_1 = 5, N_2 = 5, exc= 8\n",
      "Steady state took 12.858 seconds\n",
      "Build time: 8.237 \t | \t Solution time: 12.858\n",
      "N_1 = 4, N_2 = 4, exc= 6\n",
      "Steady state took 1.029 seconds\n",
      "Build time: 3.218 \t | \t Solution time: 1.029\n",
      "N_1 = 3, N_2 = 3, exc= 4\n",
      "Steady state took 0.102 seconds\n",
      "Build time: 1.182 \t | \t Solution time: 0.102\n",
      "N_1 = 7, N_2 = 7, exc= 13\n",
      "Steady state took 376.696 seconds\n",
      "Build time: 38.578 \t | \t Solution time: 376.696\n",
      "N_1 = 6, N_2 = 6, exc= 11\n",
      "Steady state took 62.582 seconds\n",
      "Build time: 20.094 \t | \t Solution time: 62.582\n",
      "N_1 = 5, N_2 = 5, exc= 9\n",
      "Steady state took 12.934 seconds\n",
      "Build time: 8.687 \t | \t Solution time: 12.934\n",
      "N_1 = 4, N_2 = 4, exc= 7\n",
      "Steady state took 1.099 seconds\n",
      "Build time: 3.424 \t | \t Solution time: 1.099\n",
      "N_1 = 3, N_2 = 3, exc= 5\n",
      "Steady state took 0.101 seconds\n",
      "Build time: 1.177 \t | \t Solution time: 0.101\n",
      "Files saved at DATA/SES_heatmap_excvN_1\n"
     ]
    }
   ],
   "source": [
    "method = 'eigen'\n",
    "#method = 'power'\n",
    "#x_values=[6][::-1] # N\n",
    "#x_values=[5,6,7,8,9,10,11][::-1] # N\n",
    "x_values=[3,4,5,6,7][::-1] # N\n",
    "\n",
    "w_2 = 8000.\n",
    "alpha = 50./pi\n",
    "\n",
    "pap = alpha_to_pialpha_prop(alpha, w_2)\n",
    "wc = 100.\n",
    "w_0 = 200.\n",
    "Gamma = (w_0**2)/wc\n",
    "PARAMS = PARAMS_setup(bias=100., w_2=8000., V = 100., pialpha_prop=pap,\n",
    "                                T_EM=6000., T_ph =300.,\n",
    "                                alpha_EM=0.1, shift=True,\n",
    "                                num_cpus=3, N=3, Gamma=Gamma, w_0=w_0,\n",
    "                                silent=True, exc_diff=0)\n",
    "exc = PARAMS['exc']\n",
    "\n",
    " # N\n",
    "#y_values=[5,4,3,2,1,0] # exc\n",
    "y_values=[3,2, 1] # exc_diff (exc = 2n-exc_diff)\n",
    "\"\"\"try:\n",
    "    if 'iterative' in method:\n",
    "        print(\"Using fill-factor of {}\".format(ff))\n",
    "\"\"\"\n",
    "ss_array, info_array= heat_map_calculator(PARAMS,\n",
    "                        x_axis_parameters=['N_1', 'N_2'],\n",
    "                        y_axis_parameters=['exc_diff'],\n",
    "                        x_values=x_values,\n",
    "                        y_values=y_values,\n",
    "                        dir_name='SES_heatmap_excvN',\n",
    "                        fill_factor=None, save_data=True, \n",
    "                        persistent=False, method=method, threshold=1e-7)"
   ]
  },
  {
   "cell_type": "code",
   "execution_count": 7,
   "metadata": {
    "collapsed": true
   },
   "outputs": [],
   "source": [
    "import matplotlib.pyplot as plt\n",
    "\n",
    "def steadystate_observable(ss_array, PARAMS, observable):\n",
    "    try:\n",
    "        size = (len(PARAMS['y_values']), len(PARAMS['x_values']))\n",
    "    except KeyError:\n",
    "        size = (1,1)\n",
    "    # deal with the case where N is being changed as an x value\n",
    "    if 'N_1' in PARAMS['x_axis_parameters']:\n",
    "        data_array = np.zeros(size)         # Collect data\n",
    "        N_values = PARAMS['x_values']\n",
    "        # NEw observable operator for each N value\n",
    "        for i, N in enumerate(N_values):\n",
    "            PARAMS.update({'N_1' : N, 'N_2' : N})\n",
    "            exc = (2*N)-PARAMS['exc_diff']\n",
    "            print (N, exc, PARAMS['exc_diff'])\n",
    "            # Leave it so exc can be fixed or a y_parameter\n",
    "            if 'exc' in PARAMS['x_axis_parameters']:\n",
    "                PARAMS.update({'exc': exc})\n",
    "            _obs_op = make_expectation_operators(PARAMS)[observable]\n",
    "            for j, y in enumerate(PARAMS['y_values']):\n",
    "                # the case where exc is on the y axis\n",
    "                if 'exc_diff' in PARAMS['y_axis_parameters']:\n",
    "                    PARAMS.update({'exc': (2*N)-y})\n",
    "                    _obs_op = make_expectation_operators(PARAMS)[observable]\n",
    "                try:\n",
    "                    print ss_array[j][i].shape, _obs_op.shape\n",
    "                    data_array[j][i] = (qt.Qobj(ss_array[j][i])*_obs_op).tr().real\n",
    "                except AttributeError:\n",
    "                    data_array[j][i] = np.nan\n",
    "        return data_array\n",
    "    else:\n",
    "        # Much simpler if N isn't on the x-axis\n",
    "        obs_op = make_expectation_operators(PARAMS)[observable]\n",
    "        f = lambda x: (qt.Qobj(x)*obs_op).tr()\n",
    "        ss_array = np.reshape(ss_array, (1, size[0]*size[1]))[0]\n",
    "\n",
    "        data_array = map(f, ss_array)\n",
    "        data_array = np.array(data_array).reshape(size).real\n",
    "        return data_array\n",
    "\n",
    "\n",
    "def heatmap_plotter(num, plot_SD=True, dir_name=\"heatmap\", \n",
    "                     print_params=False, observable='sigma_x', \n",
    "                    reverse_x=True):\n",
    "    \n",
    "    directory = 'DATA/'+dir_name+'_'+str(num)\n",
    "    ss_array = load_obj(directory+'/ss_array')\n",
    "    PARAMS = load_obj(directory+'/PARAMS')\n",
    "    info_array = load_obj(directory+'/info_array') # reverse ordering -> lower_N-higher_N\n",
    "    info = info_array[0][0]\n",
    "    \n",
    "    try:\n",
    "        # To catch an old bug where these were in \"info\" not in PARAMS\n",
    "        keys = ['x_values', 'y_values', 'y_axis_parameters', 'x_axis_parameters']\n",
    "        PARAMS.update(dict((key, info[key]) for key in keys))\n",
    "    except Exception as err:\n",
    "        print \"new style\"\n",
    "    if plot_SD:\n",
    "        plot_UD_SD(PARAMS[\"Gamma_1\"], PARAMS[\"alpha_1\"], PARAMS[\"w0_1\"], eps=2000.)\n",
    "    \n",
    "    ss_array = steadystate_observable(ss_array, PARAMS, observable)\n",
    "\n",
    "    \n",
    "    f, axes = plt.subplots(1,1, figsize=(13,6))\n",
    "    for i, y_val in enumerate(PARAMS['y_values']):\n",
    "        x_values = PARAMS['x_values']\n",
    "        if reverse_x:\n",
    "            x_values = x_values[::-1]\n",
    "        axes.plot(x_values, ss_array[i], \n",
    "                  label=str(PARAMS['y_axis_parameters'])+\"=\"+str(y_val))\n",
    "    \n",
    "    print_PARAMS(PARAMS)\n",
    "    \n",
    "    plt.xlabel(', '.join(PARAMS['x_axis_parameters']))\n",
    "    plt.ylabel(\"Steadystate \"+observable)\n",
    "    #plt.ylabel(', '.join(info['y_axis_parameters']))\n",
    "    plt.legend()\n",
    "    plt.grid()\n",
    "    plot_filename = 'PLOTS/'+dir_name+'_'+str(num)+'.pdf'\n",
    "    plt.savefig(plot_filename)\n",
    "    print \"saved at {}\".format(plot_filename)\n",
    "    plt.show()"
   ]
  },
  {
   "cell_type": "code",
   "execution_count": 8,
   "metadata": {},
   "outputs": [
    {
     "name": "stdout",
     "output_type": "stream",
     "text": [
      "new style\n"
     ]
    },
    {
     "data": {
      "image/png": "[encoded data removed]",
      "text/plain": [
       "<matplotlib.figure.Figure at 0x7f373042e110>"
      ]
     },
     "metadata": {},
     "output_type": "display_data"
    },
    {
     "name": "stdout",
     "output_type": "stream",
     "text": [
      "(7, 13, 1)\n",
      "(144, 144) (144, 144)\n",
      "(147, 147) (147, 147)\n",
      "(147, 147) (147, 147)\n",
      "(6, 11, 1)\n",
      "(105, 105) (105, 105)\n",
      "(108, 108) (108, 108)\n",
      "(108, 108) (108, 108)\n",
      "(5, 9, 1)\n",
      "(72, 72) (72, 72)\n",
      "(75, 75) (75, 75)\n",
      "(75, 75) (75, 75)\n",
      "(4, 7, 1)\n",
      "(45, 45) (45, 45)\n",
      "(48, 48) (48, 48)\n",
      "(48, 48) (48, 48)\n",
      "(3, 5, 1)\n",
      "(24, 24) (24, 24)\n",
      "(27, 27) (27, 27)\n",
      "(27, 27) (27, 27)\n"
     ]
    },
    {
     "ename": "ValueError",
     "evalue": "Unknown format code 'f' for object of type 'str'",
     "output_type": "error",
     "traceback": [
      "\u001b[0;31m\u001b[0m",
      "\u001b[0;31mValueError\u001b[0mTraceback (most recent call last)",
      "\u001b[0;32m<ipython-input-8-e1038add3c5c>\u001b[0m in \u001b[0;36m<module>\u001b[0;34m()\u001b[0m\n\u001b[1;32m      1\u001b[0m heatmap_plotter(1, plot_SD=True, dir_name=dirname, \n\u001b[1;32m      2\u001b[0m                      \u001b[0mprint_params\u001b[0m\u001b[0;34m=\u001b[0m\u001b[0mFalse\u001b[0m\u001b[0;34m,\u001b[0m \u001b[0mobservable\u001b[0m\u001b[0;34m=\u001b[0m\u001b[0;34m'sigma_x'\u001b[0m\u001b[0;34m,\u001b[0m\u001b[0;34m\u001b[0m\u001b[0m\n\u001b[0;32m----> 3\u001b[0;31m                     reverse_x=True)\n\u001b[0m",
      "\u001b[0;32m<ipython-input-7-25b425539ff8>\u001b[0m in \u001b[0;36mheatmap_plotter\u001b[0;34m(num, plot_SD, dir_name, print_params, observable, reverse_x)\u001b[0m\n\u001b[1;32m     71\u001b[0m                   label=str(PARAMS['y_axis_parameters'])+\"=\"+str(y_val))\n\u001b[1;32m     72\u001b[0m \u001b[0;34m\u001b[0m\u001b[0m\n\u001b[0;32m---> 73\u001b[0;31m     \u001b[0mprint_PARAMS\u001b[0m\u001b[0;34m(\u001b[0m\u001b[0mPARAMS\u001b[0m\u001b[0;34m)\u001b[0m\u001b[0;34m\u001b[0m\u001b[0m\n\u001b[0m\u001b[1;32m     74\u001b[0m \u001b[0;34m\u001b[0m\u001b[0m\n\u001b[1;32m     75\u001b[0m     \u001b[0mplt\u001b[0m\u001b[0;34m.\u001b[0m\u001b[0mxlabel\u001b[0m\u001b[0;34m(\u001b[0m\u001b[0;34m', '\u001b[0m\u001b[0;34m.\u001b[0m\u001b[0mjoin\u001b[0m\u001b[0;34m(\u001b[0m\u001b[0mPARAMS\u001b[0m\u001b[0;34m[\u001b[0m\u001b[0;34m'x_axis_parameters'\u001b[0m\u001b[0;34m]\u001b[0m\u001b[0;34m)\u001b[0m\u001b[0;34m)\u001b[0m\u001b[0;34m\u001b[0m\u001b[0m\n",
      "\u001b[0;32m/home/henry/Work/phd-work/dimer-code/utils.pyc\u001b[0m in \u001b[0;36mprint_PARAMS\u001b[0;34m(PARAMS)\u001b[0m\n\u001b[1;32m    261\u001b[0m         \u001b[0;32mtry\u001b[0m\u001b[0;34m:\u001b[0m\u001b[0;34m\u001b[0m\u001b[0m\n\u001b[1;32m    262\u001b[0m             \u001b[0;32mif\u001b[0m \u001b[0mkey\u001b[0m \u001b[0;32mnot\u001b[0m \u001b[0;32min\u001b[0m \u001b[0mnot_useful\u001b[0m\u001b[0;34m:\u001b[0m\u001b[0;34m\u001b[0m\u001b[0m\n\u001b[0;32m--> 263\u001b[0;31m                 \u001b[0mparam_strings\u001b[0m\u001b[0;34m.\u001b[0m\u001b[0mappend\u001b[0m\u001b[0;34m(\u001b[0m\u001b[0;34m\"{}={:0.2f}\"\u001b[0m\u001b[0;34m.\u001b[0m\u001b[0mformat\u001b[0m\u001b[0;34m(\u001b[0m\u001b[0mkey\u001b[0m\u001b[0;34m,\u001b[0m \u001b[0mPARAMS\u001b[0m\u001b[0;34m[\u001b[0m\u001b[0mkey\u001b[0m\u001b[0;34m]\u001b[0m\u001b[0;34m)\u001b[0m\u001b[0;34m)\u001b[0m\u001b[0;34m\u001b[0m\u001b[0m\n\u001b[0m\u001b[1;32m    264\u001b[0m         \u001b[0;32mexcept\u001b[0m \u001b[0mKeyError\u001b[0m\u001b[0;34m:\u001b[0m\u001b[0;34m\u001b[0m\u001b[0m\n\u001b[1;32m    265\u001b[0m             \u001b[0;32mpass\u001b[0m\u001b[0;34m\u001b[0m\u001b[0m\n",
      "\u001b[0;31mValueError\u001b[0m: Unknown format code 'f' for object of type 'str'"
     ]
    }
   ],
   "source": [
    "heatmap_plotter(1, plot_SD=True, dir_name=dirname, \n",
    "                     print_params=False, observable='sigma_x', \n",
    "                    reverse_x=True)"
   ]
  },
  {
   "cell_type": "code",
   "execution_count": null,
   "metadata": {
    "collapsed": true
   },
   "outputs": [],
   "source": []
  }
 ],
 "metadata": {
  "kernelspec": {
   "display_name": "Python 2",
   "language": "python",
   "name": "python2"
  },
  "language_info": {
   "codemirror_mode": {
    "name": "ipython",
    "version": 2
   },
   "file_extension": ".py",
   "mimetype": "text/x-python",
   "name": "python",
   "nbconvert_exporter": "python",
   "pygments_lexer": "ipython2",
   "version": "2.7.13"
  }
 },
 "nbformat": 4,
 "nbformat_minor": 2
}
