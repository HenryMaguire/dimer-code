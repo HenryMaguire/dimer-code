{
 "cells": [
  {
   "cell_type": "code",
   "execution_count": 4,
   "metadata": {},
   "outputs": [],
   "source": [
    "import SES_setup as ses\n",
    "import time\n",
    "import numpy as np\n",
    "from numpy import pi\n",
    "from heatmap_setup import calculate_steadystate, heat_map_calculator\n",
    "from utils import *\n",
    "reload(ses)\n",
    "dirname = 'SES_heatmap_excvN'"
   ]
  },
  {
   "cell_type": "markdown",
   "metadata": {},
   "source": [
    "# Calculating"
   ]
  },
  {
   "cell_type": "code",
   "execution_count": 9,
   "metadata": {},
   "outputs": [
    {
     "data": {
      "text/plain": [
       "42.819739500000004"
      ]
     },
     "execution_count": 9,
     "metadata": {},
     "output_type": "execute_result"
    }
   ],
   "source": [
    "(5.309e-3)*ev_to_inv_cm"
   ]
  },
  {
   "cell_type": "code",
   "execution_count": null,
   "metadata": {},
   "outputs": [
    {
     "name": "stdout",
     "output_type": "stream",
     "text": [
      "The operators took 3.30557703972 and have dimension 147.\n",
      "((147, 147), (147, 147), (147, 147))\n",
      "Building the RC Liouvillian took 4.193 seconds.\n",
      "****************************************************************\n",
      "It is 21609by21609. The full basis would be 21609by21609\n",
      "It took  1.63617801666  seconds to build the Non-secular RWA Liouvillian\n"
     ]
    }
   ],
   "source": [
    "reload(ses)\n",
    "method = 'eigen'\n",
    "#method = 'power'\n",
    "#x_values=[6][::-1] # N\n",
    "x_values=[5,6,7,8,9,10,11,12] # N\n",
    "#x_values=[3,4,5,6,7][::-1] # N\n",
    "\n",
    "w_2 = 1.4*ev_to_inv_cm\n",
    "alpha = 50./pi\n",
    "\n",
    "pap = alpha_to_pialpha_prop(alpha, w_2)\n",
    "wc = 100.\n",
    "w_0 = 200.\n",
    "\n",
    "Gamma = (w_0**2)/wc\n",
    "PARAMS = ses.PARAMS_setup(bias=0., w_2=w_2, V = (1e-3)*ev_to_inv_cm, pialpha_prop=pap,\n",
    "                                T_EM=6000., T_ph =300.,\n",
    "                                alpha_EM=43, shift=True,\n",
    "                                num_cpus=16, N=7, Gamma=Gamma, w_0=w_0,\n",
    "                                silent=True, exc_diff=0)\n",
    "\n",
    "exc = PARAMS['exc']\n",
    "\n",
    " # N\n",
    "y_values=[5,4,3,2,1,0] # exc\n",
    "#y_values=[3,2, 1] # exc_diff (exc = 2n-exc_diff)\n",
    "\"\"\"try:\n",
    "    if 'iterative' in method:\n",
    "        print(\"Using fill-factor of {}\".format(ff))\n",
    "\n",
    "\n",
    "ss_array, info_array= heat_map_calculator(PARAMS,\n",
    "                        x_axis_parameters=['N_1', 'N_2'],\n",
    "                        y_axis_parameters=['exc_diff'],\n",
    "                        x_values=x_values,\n",
    "                        y_values=y_values,\n",
    "                        dir_name='SES_heatmap_excvN',\n",
    "                        fill_factor=None, save_data=True, \n",
    "                        persistent=False, method=method, threshold=1e-7)\n",
    "\"\"\"\n",
    "method = 'eigen'\n",
    "H, L1 = ses.get_H_and_L(PARAMS, silent=False, threshold=1e-7)\n",
    "SS1, _ = calculate_steadystate(H, L1, persistent=False, method=method)\n",
    "PARAMS.update({'num_cpus' :1})\n",
    "H, L2 = ses.get_H_and_L(PARAMS, silent=False, threshold=1e-7)\n",
    "SS2, _ = calculate_steadystate(H, L2, persistent=False, method=method)\n",
    "\n",
    "e_op = ses.make_expectation_operators(PARAMS)['XO']\n",
    "print((SS1*e_op).tr(), (SS2*e_op).tr())\n",
    "e_op = ses.make_expectation_operators(PARAMS)['site_coherence']\n",
    "print((SS1*e_op).tr(), (SS2*e_op).tr())\n",
    "\n",
    "#print np.sum((abs(L1-L2).data))"
   ]
  },
  {
   "cell_type": "code",
   "execution_count": 5,
   "metadata": {},
   "outputs": [
    {
     "name": "stdout",
     "output_type": "stream",
     "text": [
      "8.0655\n"
     ]
    }
   ],
   "source": [
    "print(ev_to_inv_cm*1e-3)"
   ]
  },
  {
   "cell_type": "code",
   "execution_count": 5,
   "metadata": {},
   "outputs": [
    {
     "name": "stdout",
     "output_type": "stream",
     "text": [
      "10969307\n"
     ]
    }
   ],
   "source": [
    "L = qt.liouvillian(H[1], c_ops=[L1])\n",
    "print (L.data.nnz)"
   ]
  },
  {
   "cell_type": "code",
   "execution_count": 28,
   "metadata": {},
   "outputs": [
    {
     "data": {
      "text/plain": [
       "(1.6078870006264179e-13+0j)"
      ]
     },
     "execution_count": 28,
     "metadata": {},
     "output_type": "execute_result"
    }
   ],
   "source": [
    "((SS1*e_op).tr()-(SS2*e_op).tr())"
   ]
  },
  {
   "cell_type": "markdown",
   "metadata": {},
   "source": []
  },
  {
   "cell_type": "code",
   "execution_count": null,
   "metadata": {},
   "outputs": [
    {
     "name": "stdout",
     "output_type": "stream",
     "text": [
      "((57, 57), (57, 57), (57, 57))\n",
      "N_1 = 5, N_2 = 5, exc= 5\n",
      "Steady state took 2.567 seconds\n",
      "Build time: 2.942 \t | \t Solution time: 2.567\n",
      "((90, 90), (90, 90), (90, 90))\n",
      "N_1 = 6, N_2 = 6, exc= 7\n",
      "Steady state took 33.662 seconds\n",
      "Build time: 3.955 \t | \t Solution time: 33.662\n",
      "((129, 129), (129, 129), (129, 129))\n",
      "N_1 = 7, N_2 = 7, exc= 9\n",
      "Steady state took 265.399 seconds\n",
      "Build time: 7.291 \t | \t Solution time: 265.399\n",
      "The operators took 8.40929889679 and have dimension 174.\n",
      "((174, 174), (174, 174), (174, 174))\n",
      "Building the RC Liouvillian took 11.359 seconds.\n",
      "****************************************************************\n",
      "It is 30276by30276. The full basis would be 36864by36864\n",
      "It took  2.95376205444  seconds to build the Non-secular RWA Liouvillian\n",
      "N_1 = 8, N_2 = 8, exc= 11\n",
      "Steady state took 1744.340 seconds\n",
      "Build time: 16.445 \t | \t Solution time: 1744.340\n",
      "The operators took 17.5115561485 and have dimension 225.\n",
      "((225, 225), (225, 225), (225, 225))\n",
      "Building the RC Liouvillian took 23.968 seconds.\n",
      "****************************************************************\n",
      "It is 50625by50625. The full basis would be 59049by59049\n",
      "It took  5.12931680679  seconds to build the Non-secular RWA Liouvillian\n",
      "N_1 = 9, N_2 = 9, exc= 13"
     ]
    }
   ],
   "source": [
    "method = 'eigen'\n",
    "#method = 'power'\n",
    "#x_values=[6][::-1] # N\n",
    "x_values=[5,6,7,8,9,10,11,12] # N\n",
    "#x_values=[3,4,5,6,7][::-1] # N\n",
    "\n",
    "w_2 = 8000.\n",
    "alpha = 50./pi\n",
    "\n",
    "pap = alpha_to_pialpha_prop(alpha, w_2)\n",
    "wc = 100.\n",
    "w_0 = 200.\n",
    "Gamma = (w_0**2)/wc\n",
    "PARAMS = ses.PARAMS_setup(bias=100., w_2=8000., V = 100., pialpha_prop=pap,\n",
    "                                T_EM=6000., T_ph =300.,\n",
    "                                alpha_EM=0.1, shift=True,\n",
    "                                num_cpus=12, N=12, Gamma=Gamma, w_0=w_0,\n",
    "                                silent=True, exc_diff=5)\n",
    "\n",
    "exc = PARAMS['exc']\n",
    "\n",
    " # N\n",
    "y_values=[5,4,3,2,1,0] # exc\n",
    "#y_values=[3,2, 1] # exc_diff (exc = 2n-exc_diff)\n",
    "\n",
    "ss_array, info_array= heat_map_calculator(PARAMS,\n",
    "                        x_axis_parameters=['N_1', 'N_2'],\n",
    "                        y_axis_parameters=['exc_diff'],\n",
    "                        x_values=x_values,\n",
    "                        y_values=y_values,\n",
    "                        dir_name='SES_heatmap_excvN',\n",
    "                        fill_factor=None, save_data=True, \n",
    "                        persistent=False, method=method, threshold=1e-7)\n"
   ]
  },
  {
   "cell_type": "markdown",
   "metadata": {
    "heading_collapsed": true
   },
   "source": [
    "# Plotting"
   ]
  },
  {
   "cell_type": "code",
   "execution_count": null,
   "metadata": {
    "collapsed": true,
    "hidden": true
   },
   "outputs": [],
   "source": [
    "import matplotlib.pyplot as plt\n",
    "\n",
    "def steadystate_observable(ss_array, PARAMS, observable):\n",
    "    try:\n",
    "        size = (len(PARAMS['y_values']), len(PARAMS['x_values']))\n",
    "    except KeyError:\n",
    "        size = (1,1)\n",
    "    # deal with the case where N is being changed as an x value\n",
    "    if 'N_1' in PARAMS['x_axis_parameters']:\n",
    "        data_array = np.zeros(size)         # Collect data\n",
    "        N_values = PARAMS['x_values']\n",
    "        # NEw observable operator for each N value\n",
    "        for i, N in enumerate(N_values):\n",
    "            PARAMS.update({'N_1' : N, 'N_2' : N})\n",
    "            exc = (2*N)-PARAMS['exc_diff']\n",
    "            print (N, exc, PARAMS['exc_diff'])\n",
    "            # Leave it so exc can be fixed or a y_parameter\n",
    "            if 'exc' in PARAMS['x_axis_parameters']:\n",
    "                PARAMS.update({'exc': exc})\n",
    "            _obs_op = make_expectation_operators(PARAMS)[observable]\n",
    "            for j, y in enumerate(PARAMS['y_values']):\n",
    "                # the case where exc is on the y axis\n",
    "                if 'exc_diff' in PARAMS['y_axis_parameters']:\n",
    "                    PARAMS.update({'exc': (2*N)-y})\n",
    "                    _obs_op = make_expectation_operators(PARAMS)[observable]\n",
    "                try:\n",
    "                    print ss_array[j][i].shape, _obs_op.shape\n",
    "                    data_array[j][i] = (qt.Qobj(ss_array[j][i])*_obs_op).tr().real\n",
    "                except AttributeError:\n",
    "                    data_array[j][i] = np.nan\n",
    "        return data_array\n",
    "    else:\n",
    "        # Much simpler if N isn't on the x-axis\n",
    "        obs_op = make_expectation_operators(PARAMS)[observable]\n",
    "        f = lambda x: (qt.Qobj(x)*obs_op).tr()\n",
    "        ss_array = np.reshape(ss_array, (1, size[0]*size[1]))[0]\n",
    "\n",
    "        data_array = map(f, ss_array)\n",
    "        data_array = np.array(data_array).reshape(size).real\n",
    "        return data_array\n",
    "\n",
    "\n",
    "def heatmap_plotter(num, plot_SD=True, dir_name=\"heatmap\", \n",
    "                     print_params=False, observable='sigma_x', \n",
    "                    reverse_x=True):\n",
    "    \n",
    "    directory = 'DATA/'+dir_name+'_'+str(num)\n",
    "    ss_array = load_obj(directory+'/ss_array')\n",
    "    PARAMS = load_obj(directory+'/PARAMS')\n",
    "    info_array = load_obj(directory+'/info_array') # reverse ordering -> lower_N-higher_N\n",
    "    info = info_array[0][0]\n",
    "    \n",
    "    try:\n",
    "        # To catch an old bug where these were in \"info\" not in PARAMS\n",
    "        keys = ['x_values', 'y_values', 'y_axis_parameters', 'x_axis_parameters']\n",
    "        PARAMS.update(dict((key, info[key]) for key in keys))\n",
    "    except Exception as err:\n",
    "        print \"new style\"\n",
    "    if plot_SD:\n",
    "        plot_UD_SD(PARAMS[\"Gamma_1\"], PARAMS[\"alpha_1\"], PARAMS[\"w0_1\"], eps=2000.)\n",
    "    \n",
    "    ss_array = steadystate_observable(ss_array, PARAMS, observable)\n",
    "\n",
    "    \n",
    "    f, axes = plt.subplots(1,1, figsize=(13,6))\n",
    "    for i, y_val in enumerate(PARAMS['y_values']):\n",
    "        x_values = PARAMS['x_values']\n",
    "        if reverse_x:\n",
    "            x_values = x_values[::-1]\n",
    "        axes.plot(x_values, ss_array[i], \n",
    "                  label=str(PARAMS['y_axis_parameters'])+\"=\"+str(y_val))\n",
    "    \n",
    "    print_PARAMS(PARAMS)\n",
    "    \n",
    "    plt.xlabel(', '.join(PARAMS['x_axis_parameters']))\n",
    "    plt.ylabel(\"Steadystate \"+observable)\n",
    "    #plt.ylabel(', '.join(info['y_axis_parameters']))\n",
    "    plt.legend()\n",
    "    plt.grid()\n",
    "    plot_filename = 'PLOTS/'+dir_name+'_'+str(num)+'.pdf'\n",
    "    plt.savefig(plot_filename)\n",
    "    print \"saved at {}\".format(plot_filename)\n",
    "    plt.show()"
   ]
  },
  {
   "cell_type": "code",
   "execution_count": null,
   "metadata": {
    "hidden": true,
    "scrolled": true
   },
   "outputs": [],
   "source": [
    "heatmap_plotter(1, plot_SD=True, dir_name=dirname, \n",
    "                     print_params=False, observable='sigma_x', \n",
    "                    reverse_x=True)"
   ]
  },
  {
   "cell_type": "code",
   "execution_count": null,
   "metadata": {
    "collapsed": true,
    "hidden": true
   },
   "outputs": [],
   "source": []
  }
 ],
 "metadata": {
  "kernelspec": {
   "display_name": "Python 2",
   "language": "python",
   "name": "python2"
  },
  "language_info": {
   "codemirror_mode": {
    "name": "ipython",
    "version": 2
   },
   "file_extension": ".py",
   "mimetype": "text/x-python",
   "name": "python",
   "nbconvert_exporter": "python",
   "pygments_lexer": "ipython2",
   "version": "2.7.15"
  }
 },
 "nbformat": 4,
 "nbformat_minor": 2
}
