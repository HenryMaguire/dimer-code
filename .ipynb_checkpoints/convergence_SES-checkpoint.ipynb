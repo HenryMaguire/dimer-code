{
 "cells": [
  {
   "cell_type": "code",
   "execution_count": 1,
   "metadata": {
    "collapsed": true
   },
   "outputs": [],
   "source": [
    "import SES_setup as ses\n",
    "import time\n",
    "import numpy as np\n",
    "from numpy import pi\n",
    "from heatmap_setup import calculate_steadystate, heat_map_calculator\n",
    "from utils import *\n",
    "reload(ses)\n",
    "dirname = 'SES_heatmap_excvN'"
   ]
  },
  {
   "cell_type": "markdown",
   "metadata": {},
   "source": [
    "# Calculating"
   ]
  },
  {
   "cell_type": "code",
   "execution_count": 59,
   "metadata": {},
   "outputs": [
    {
     "data": {
      "text/plain": [
       "42.819739500000004"
      ]
     },
     "execution_count": 59,
     "metadata": {},
     "output_type": "execute_result"
    }
   ],
   "source": [
    "(5.309e-3)*ev_to_inv_cm"
   ]
  },
  {
   "cell_type": "code",
   "execution_count": 43,
   "metadata": {},
   "outputs": [
    {
     "name": "stdout",
     "output_type": "stream",
     "text": [
      "The operators took 20.6890888214 and have dimension 147.\n",
      "((147, 147), (147, 147), (147, 147))\n",
      "Building the RC Liouvillian took 23.229 seconds.\n",
      "****************************************************************\n",
      "It is 21609by21609. The full basis would be 21609by21609\n",
      "It took  6.49420213699  seconds to build the Non-secular RWA Liouvillian\n",
      "Steady state took 1145.746 seconds\n"
     ]
    },
    {
     "data": {
      "text/plain": [
       "\"\\nPARAMS.update({'num_cpus' :1})\\nH, L2 = ses.get_H_and_L(PARAMS, silent=False, threshold=1e-7)\\nSS2, _ = calculate_steadystate(H, L2, persistent=False, method=method)\\n\\ne_op = ses.make_expectation_operators(PARAMS)['XO']\\nprint((SS1*e_op).tr(), (SS2*e_op).tr())\\ne_op = ses.make_expectation_operators(PARAMS)['site_coherence']\\nprint((SS1*e_op).tr(), (SS2*e_op).tr())\\n\\n#print np.sum((abs(L1-L2).data))\""
      ]
     },
     "execution_count": 43,
     "metadata": {},
     "output_type": "execute_result"
    }
   ],
   "source": [
    "reload(ses)\n",
    "method = 'eigen'\n",
    "#method = 'power'\n",
    "#x_values=[6][::-1] # N\n",
    "x_values=[5,6,7,8,9,10,11,12] # N\n",
    "#x_values=[3,4,5,6,7][::-1] # N\n",
    "\n",
    "w_2 = 1.4*ev_to_inv_cm\n",
    "alpha = 50./pi\n",
    "\n",
    "pap = alpha_to_pialpha_prop(alpha, w_2)\n",
    "wc = 100.\n",
    "w_0 = 200.\n",
    "\n",
    "Gamma = (w_0**2)/wc\n",
    "PARAMS = ses.PARAMS_setup(bias=0., w_2=w_2, V = (1e-3)*ev_to_inv_cm, pialpha_prop=pap,\n",
    "                                T_EM=6000., T_ph =300.,\n",
    "                                alpha_EM=10, shift=True,\n",
    "                                num_cpus=4, N=7, Gamma=Gamma, w_0=w_0,\n",
    "                                silent=True, exc_diff=0)\n",
    "\n",
    "exc = PARAMS['exc']\n",
    "\n",
    " # N\n",
    "y_values=[5,4,3,2,1,0] # exc\n",
    "#y_values=[3,2, 1] # exc_diff (exc = 2n-exc_diff)\n",
    "\"\"\"try:\n",
    "    if 'iterative' in method:\n",
    "        print(\"Using fill-factor of {}\".format(ff))\n",
    "\n",
    "\n",
    "ss_array, info_array= heat_map_calculator(PARAMS,\n",
    "                        x_axis_parameters=['N_1', 'N_2'],\n",
    "                        y_axis_parameters=['exc_diff'],\n",
    "                        x_values=x_values,\n",
    "                        y_values=y_values,\n",
    "                        dir_name='SES_heatmap_excvN',\n",
    "                        fill_factor=None, save_data=True, \n",
    "                        persistent=False, method=method, threshold=1e-7)\n",
    "\"\"\"\n",
    "method = 'eigen'\n",
    "H, L1 = ses.get_H_and_L(PARAMS, silent=False, threshold=1e-7)\n",
    "\n",
    "SS1, _ = calculate_steadystate(H, L1, persistent=False, method=method)\n",
    "\"\"\"\n",
    "PARAMS.update({'num_cpus' :1})\n",
    "H, L2 = ses.get_H_and_L(PARAMS, silent=False, threshold=1e-7)\n",
    "SS2, _ = calculate_steadystate(H, L2, persistent=False, method=method)\n",
    "\n",
    "e_op = ses.make_expectation_operators(PARAMS)['XO']\n",
    "print((SS1*e_op).tr(), (SS2*e_op).tr())\n",
    "e_op = ses.make_expectation_operators(PARAMS)['site_coherence']\n",
    "print((SS1*e_op).tr(), (SS2*e_op).tr())\n",
    "\n",
    "#print np.sum((abs(L1-L2).data))\"\"\"\n"
   ]
  },
  {
   "cell_type": "code",
   "execution_count": 93,
   "metadata": {},
   "outputs": [
    {
     "name": "stdout",
     "output_type": "stream",
     "text": [
      "******\n",
      "5700.0\n",
      "[[ 1.68886652]]\n",
      "((0.05157951124246602+0j), (0.05761940526692793+0j))\n",
      "((0.051579511242466035+0j), (0.057619405266917376+0j))\n",
      "(0.896840977515068, 0.8847611894661547)\n",
      "((-0.0001049822607901411+0j), (0.000607664298643429+6.659932073058497e-16j))\n",
      "******\n",
      "[[ 1.7049089]]\n",
      "((0.055125758081189+0j), (0.05761940526692793+0j))\n",
      "((0.05512575808118901+0j), (0.057619405266917376+0j))\n",
      "(0.889748483837622, 0.8847611894661547)\n",
      "((-0.0001065932146316788+0j), (0.000607664298643429+6.659932073058497e-16j))\n"
     ]
    }
   ],
   "source": [
    "def v0_estimate(H, PARAMS, method=1):\n",
    "    T1, T2 = PARAMS['T_EM'], 0.5*(PARAMS['T_1']+PARAMS['T_2'])\n",
    "    alpha1, alpha2 = PARAMS['alpha_EM'], 0.5*(PARAMS['alpha_1']+PARAMS['alpha_2'])\n",
    "    p1 = alpha1/(alpha1+alpha2)\n",
    "    p2 = alpha2/(alpha1+alpha2)\n",
    "    p1/= (p1+p2)\n",
    "    p2/= (p1+p2)\n",
    "    if method==1:\n",
    "        # Average two density matrices together\n",
    "        r1 = (-beta_f(T1)*H).expm(method='sparse')\n",
    "        r2 = (-beta_f(T2)*H).expm(method='sparse')\n",
    "        rho_approx = r1+r2\n",
    "        return qt.operator_to_vector(rho_approx/rho_approx.tr()).data.todense()\n",
    "    else:\n",
    "        # Averages temperatures\n",
    "        r1 = (-beta_f(abs(T1-T2))*H).expm(method='sparse')\n",
    "        return qt.operator_to_vector(r1/r1.tr()).data.todense()\n",
    "\n",
    "for m in [0,1]:\n",
    "    print \"******\"\n",
    "    test = v0_estimate(H[1], PARAMS, method=m)\n",
    "\n",
    "    #print(qt.operator_to_vector(SS1).data.todense())\n",
    "    #print(test)\n",
    "    print sum(abs(qt.operator_to_vector(SS1).data.todense() - test))\n",
    "    #print H[1].dims\n",
    "    test_rho = qt.vector_to_operator(qt.Qobj(test, dims=qt.operator_to_vector(SS1).dims))\n",
    "    print(expectation(test_rho, expval='XO'), expectation(SS1, expval='XO'))\n",
    "    print(expectation(test_rho, expval='OX'), expectation(SS1, expval='OX'))\n",
    "    print(expectation(test_rho, expval='OO'), expectation(SS1, expval='OO'))\n",
    "    print(expectation(test_rho, expval='site_coherence'), expectation(SS1, expval='site_coherence'))"
   ]
  },
  {
   "cell_type": "code",
   "execution_count": 94,
   "metadata": {},
   "outputs": [
    {
     "ename": "TypeError",
     "evalue": "calculate_steadystate() got an unexpected keyword argument 'x0'",
     "output_type": "error",
     "traceback": [
      "\u001b[0;31m---------------------------------------------------------------------------\u001b[0m",
      "\u001b[0;31mTypeError\u001b[0m                                 Traceback (most recent call last)",
      "\u001b[0;32m<ipython-input-94-3c9c47151c77>\u001b[0m in \u001b[0;36m<module>\u001b[0;34m()\u001b[0m\n\u001b[1;32m      1\u001b[0m \u001b[0mv_est\u001b[0m \u001b[0;34m=\u001b[0m \u001b[0mv0_estimate\u001b[0m\u001b[0;34m(\u001b[0m\u001b[0mH\u001b[0m\u001b[0;34m[\u001b[0m\u001b[0;36m1\u001b[0m\u001b[0;34m]\u001b[0m\u001b[0;34m,\u001b[0m \u001b[0mPARAMS\u001b[0m\u001b[0;34m,\u001b[0m \u001b[0mmethod\u001b[0m\u001b[0;34m=\u001b[0m\u001b[0;36m1\u001b[0m\u001b[0;34m)\u001b[0m\u001b[0;34m\u001b[0m\u001b[0m\n\u001b[0;32m----> 2\u001b[0;31m \u001b[0mSS1\u001b[0m\u001b[0;34m,\u001b[0m \u001b[0m_\u001b[0m \u001b[0;34m=\u001b[0m \u001b[0mcalculate_steadystate\u001b[0m\u001b[0;34m(\u001b[0m\u001b[0mH\u001b[0m\u001b[0;34m,\u001b[0m \u001b[0mL1\u001b[0m\u001b[0;34m,\u001b[0m \u001b[0mpersistent\u001b[0m\u001b[0;34m=\u001b[0m\u001b[0mFalse\u001b[0m\u001b[0;34m,\u001b[0m \u001b[0mmethod\u001b[0m\u001b[0;34m=\u001b[0m\u001b[0;34m'eigen'\u001b[0m\u001b[0;34m,\u001b[0m \u001b[0mx0\u001b[0m\u001b[0;34m=\u001b[0m\u001b[0mv_est\u001b[0m\u001b[0;34m)\u001b[0m\u001b[0;34m\u001b[0m\u001b[0m\n\u001b[0m\u001b[1;32m      3\u001b[0m \u001b[0;34m\u001b[0m\u001b[0m\n\u001b[1;32m      4\u001b[0m \u001b[0mv_est\u001b[0m \u001b[0;34m=\u001b[0m \u001b[0mv0_estimate\u001b[0m\u001b[0;34m(\u001b[0m\u001b[0mH\u001b[0m\u001b[0;34m,\u001b[0m \u001b[0mPARAMS\u001b[0m\u001b[0;34m,\u001b[0m \u001b[0mmethod\u001b[0m\u001b[0;34m=\u001b[0m\u001b[0;36m0\u001b[0m\u001b[0;34m)\u001b[0m\u001b[0;34m\u001b[0m\u001b[0m\n\u001b[1;32m      5\u001b[0m \u001b[0mSS2\u001b[0m\u001b[0;34m,\u001b[0m \u001b[0m_\u001b[0m \u001b[0;34m=\u001b[0m \u001b[0mcalculate_steadystate\u001b[0m\u001b[0;34m(\u001b[0m\u001b[0mH\u001b[0m\u001b[0;34m,\u001b[0m \u001b[0mL1\u001b[0m\u001b[0;34m,\u001b[0m \u001b[0mpersistent\u001b[0m\u001b[0;34m=\u001b[0m\u001b[0mFalse\u001b[0m\u001b[0;34m,\u001b[0m \u001b[0mmethod\u001b[0m\u001b[0;34m=\u001b[0m\u001b[0;34m'eigen'\u001b[0m\u001b[0;34m,\u001b[0m \u001b[0mx0\u001b[0m\u001b[0;34m=\u001b[0m\u001b[0mv_est\u001b[0m\u001b[0;34m)\u001b[0m\u001b[0;34m\u001b[0m\u001b[0m\n",
      "\u001b[0;31mTypeError\u001b[0m: calculate_steadystate() got an unexpected keyword argument 'x0'"
     ]
    }
   ],
   "source": [
    "v_est = v0_estimate(H[1], PARAMS, method=1)\n",
    "SS1, _ = calculate_steadystate(H, L1, persistent=False, method='eigen', x0=v_est)\n",
    "\n",
    "v_est = v0_estimate(H, PARAMS, method=0)\n",
    "SS2, _ = calculate_steadystate(H, L1, persistent=False, method='eigen', x0=v_est)"
   ]
  },
  {
   "cell_type": "code",
   "execution_count": 60,
   "metadata": {},
   "outputs": [
    {
     "name": "stdout",
     "output_type": "stream",
     "text": [
      "(147, 147) (147, 147)\n",
      "(0.000607664298643+6.65993207306e-16j)\n"
     ]
    }
   ],
   "source": [
    "def expectation(rho, expval='site_coherence':\n",
    "    e_op = ses.make_expectation_operators(PARAMS)[expval]\n",
    "    return ((rho*e_op).tr())\n",
    "\n",
    "print(coherence_exp(SS1))"
   ]
  },
  {
   "cell_type": "code",
   "execution_count": 42,
   "metadata": {},
   "outputs": [
    {
     "name": "stdout",
     "output_type": "stream",
     "text": [
      "Steadystate took 160.341 seconds\n",
      "[[  5.78691041e-05 +6.14539918e-08j]\n",
      " [  7.68968184e-07 -5.24265284e-07j]\n",
      " [  3.53352612e-08 -5.74949416e-08j]\n",
      " ..., \n",
      " [  2.00874877e-03 -1.46472429e-04j]\n",
      " [  1.29804854e-02 -1.03641071e-03j]\n",
      " [  5.25408477e-02 +5.57956593e-05j]]\n",
      "(108, 108) (108, 108)\n",
      "Coherence is (0.000686369728167+9.02699952548e-17j)\n",
      "Steadystate took 156.320 seconds\n",
      "[[  5.65739498e-05 -1.21747769e-05j]\n",
      " [  6.40743869e-07 -6.74991445e-07j]\n",
      " [  2.23807627e-08 -6.36659285e-08j]\n",
      " ..., \n",
      " [  1.93237285e-03 -5.67856448e-04j]\n",
      " [  1.24679372e-02 -3.75735149e-03j]\n",
      " [  5.13649438e-02 -1.10537930e-02j]]\n",
      "(108, 108) (108, 108)\n",
      "Coherence is (0.000686369728167+9.30618158489e-17j)\n",
      "Steadystate took 136.659 seconds\n",
      "[[ -6.35751245e-06 -5.75188580e-05j]\n",
      " [ -6.06321056e-07 -7.06074312e-07j]\n",
      " [ -6.10594201e-08 -2.87401498e-08j]\n",
      " ..., \n",
      " [ -3.68370274e-04 -1.98010836e-03j]\n",
      " [ -2.46975439e-03 -1.27854394e-02j]\n",
      " [ -5.77214903e-03 -5.22228502e-02j]]\n",
      "(108, 108) (108, 108)\n",
      "Coherence is (0.000686369728167+1.18594777011e-16j)\n",
      "Steadystate took 139.546 seconds\n",
      "[[  5.75410249e-05 -6.15365288e-06j]\n",
      " [  7.08218394e-07 -6.03815256e-07j]\n",
      " [  2.89563351e-08 -6.09571952e-08j]\n",
      " ..., \n",
      " [  1.98140126e-03 -3.61351393e-04j]\n",
      " [  1.27941108e-02 -2.42443332e-03j]\n",
      " [  5.22429761e-02 -5.58705968e-03j]]\n",
      "(108, 108) (108, 108)\n",
      "Coherence is (0.000686369728167+9.22317235606e-17j)\n",
      "Steadystate took 142.488 seconds\n",
      "[[  3.84223212e-05 +4.32731121e-05j]\n",
      " [  9.02830974e-07 +2.25969883e-07j]\n",
      " [  6.64416942e-08 -1.18216017e-08j]\n",
      " ..., \n",
      " [  1.44473201e-03 +1.40330867e-03j]\n",
      " [  9.40299151e-03 +9.00837932e-03j]\n",
      " [  3.48846134e-02 +3.92887711e-02j]]\n",
      "(108, 108) (108, 108)\n",
      "Coherence is (0.000686369728167+1.03256704402e-16j)\n"
     ]
    }
   ],
   "source": [
    "from scipy.sparse.linalg import eigs\n",
    "from qutip.cy.spconvert import dense2D_to_fastcsr_fmode\n",
    "\n",
    "def vec_to_dm(evec, _H):\n",
    "    n = int(np.sqrt(evec.shape[0]))\n",
    "    data = dense2D_to_fastcsr_fmode(evec.reshape((n, n)).T, n, n)\n",
    "    data = 0.5 * (data + data.H)\n",
    "    data = qt.Qobj(data, dims=_H[1].dims, isherm=True)\n",
    "    return data/data.tr()\n",
    "\n",
    "\n",
    "\n",
    "def _steadystate(H, L, tol=1e-8, sigma=1e-12, ncv=25, print_coh=True):\n",
    "    L_full = -1*qt.liouvillian(H[1], c_ops=[L]).data\n",
    "    ti = time.time()\n",
    "    evals, evec = eigs(L_full, 1, which='LM', sigma=sigma, tol=tol, ncv=ncv)\n",
    "    print(\"Steadystate took {:0.3f} seconds\".format(time.time() - ti))\n",
    "    rho = vec_to_dm(evec, H)\n",
    "    if print_coh:\n",
    "        print(\"Coherence is {}\".format(coherence_exp(rho)))\n",
    "    return evals, rho\n",
    "\n",
    "\n",
    "ev, dm = _steadystate(H, L1, tol=1e-12, sigma=1e-12, ncv=10)\n",
    "ev, dm = _steadystate(H, L1, tol=1e-12, sigma=1e-12, ncv=15)\n",
    "ev, dm = _steadystate(H, L1, tol=1e-12, sigma=1e-12, ncv=20)\n",
    "ev, dm = _steadystate(H, L1, tol=1e-12, sigma=1e-12, ncv=25)\n",
    "ev, dm = _steadystate(H, L1, tol=1e-12, sigma=1e-12, ncv=30)"
   ]
  },
  {
   "cell_type": "code",
   "execution_count": 41,
   "metadata": {},
   "outputs": [
    {
     "ename": "ValueError",
     "evalue": "cannot convert float NaN to integer",
     "output_type": "error",
     "traceback": [
      "\u001b[0;31m---------------------------------------------------------------------------\u001b[0m",
      "\u001b[0;31mValueError\u001b[0m                                Traceback (most recent call last)",
      "\u001b[0;32m/home/henry/anaconda2/envs/qutip/lib/python2.7/site-packages/IPython/core/formatters.pyc\u001b[0m in \u001b[0;36m__call__\u001b[0;34m(self, obj)\u001b[0m\n\u001b[1;32m    309\u001b[0m             \u001b[0mmethod\u001b[0m \u001b[0;34m=\u001b[0m \u001b[0mget_real_method\u001b[0m\u001b[0;34m(\u001b[0m\u001b[0mobj\u001b[0m\u001b[0;34m,\u001b[0m \u001b[0mself\u001b[0m\u001b[0;34m.\u001b[0m\u001b[0mprint_method\u001b[0m\u001b[0;34m)\u001b[0m\u001b[0;34m\u001b[0m\u001b[0m\n\u001b[1;32m    310\u001b[0m             \u001b[0;32mif\u001b[0m \u001b[0mmethod\u001b[0m \u001b[0;32mis\u001b[0m \u001b[0;32mnot\u001b[0m \u001b[0mNone\u001b[0m\u001b[0;34m:\u001b[0m\u001b[0;34m\u001b[0m\u001b[0m\n\u001b[0;32m--> 311\u001b[0;31m                 \u001b[0;32mreturn\u001b[0m \u001b[0mmethod\u001b[0m\u001b[0;34m(\u001b[0m\u001b[0;34m)\u001b[0m\u001b[0;34m\u001b[0m\u001b[0m\n\u001b[0m\u001b[1;32m    312\u001b[0m             \u001b[0;32mreturn\u001b[0m \u001b[0mNone\u001b[0m\u001b[0;34m\u001b[0m\u001b[0m\n\u001b[1;32m    313\u001b[0m         \u001b[0;32melse\u001b[0m\u001b[0;34m:\u001b[0m\u001b[0;34m\u001b[0m\u001b[0m\n",
      "\u001b[0;32m/home/henry/anaconda2/envs/qutip/lib/python2.7/site-packages/qutip/qobj.pyc\u001b[0m in \u001b[0;36m_repr_latex_\u001b[0;34m(self)\u001b[0m\n\u001b[1;32m    806\u001b[0m             \u001b[0;32mfor\u001b[0m \u001b[0mm\u001b[0m \u001b[0;32min\u001b[0m \u001b[0mrange\u001b[0m\u001b[0;34m(\u001b[0m\u001b[0;36m5\u001b[0m\u001b[0;34m)\u001b[0m\u001b[0;34m:\u001b[0m\u001b[0;34m\u001b[0m\u001b[0m\n\u001b[1;32m    807\u001b[0m                 \u001b[0;32mfor\u001b[0m \u001b[0mn\u001b[0m \u001b[0;32min\u001b[0m \u001b[0mrange\u001b[0m\u001b[0;34m(\u001b[0m\u001b[0;36m5\u001b[0m\u001b[0;34m)\u001b[0m\u001b[0;34m:\u001b[0m\u001b[0;34m\u001b[0m\u001b[0m\n\u001b[0;32m--> 808\u001b[0;31m                     \u001b[0ms\u001b[0m \u001b[0;34m+=\u001b[0m \u001b[0m_format_element\u001b[0m\u001b[0;34m(\u001b[0m\u001b[0mm\u001b[0m\u001b[0;34m,\u001b[0m \u001b[0mn\u001b[0m\u001b[0;34m,\u001b[0m \u001b[0mself\u001b[0m\u001b[0;34m.\u001b[0m\u001b[0mdata\u001b[0m\u001b[0;34m[\u001b[0m\u001b[0mm\u001b[0m\u001b[0;34m,\u001b[0m \u001b[0mn\u001b[0m\u001b[0;34m]\u001b[0m\u001b[0;34m)\u001b[0m\u001b[0;34m\u001b[0m\u001b[0m\n\u001b[0m\u001b[1;32m    809\u001b[0m                 \u001b[0ms\u001b[0m \u001b[0;34m+=\u001b[0m \u001b[0;34mr' & \\cdots'\u001b[0m\u001b[0;34m\u001b[0m\u001b[0m\n\u001b[1;32m    810\u001b[0m                 \u001b[0;32mfor\u001b[0m \u001b[0mn\u001b[0m \u001b[0;32min\u001b[0m \u001b[0mrange\u001b[0m\u001b[0;34m(\u001b[0m\u001b[0mN\u001b[0m \u001b[0;34m-\u001b[0m \u001b[0;36m5\u001b[0m\u001b[0;34m,\u001b[0m \u001b[0mN\u001b[0m\u001b[0;34m)\u001b[0m\u001b[0;34m:\u001b[0m\u001b[0;34m\u001b[0m\u001b[0m\n",
      "\u001b[0;32m/home/henry/anaconda2/envs/qutip/lib/python2.7/site-packages/qutip/qobj.pyc\u001b[0m in \u001b[0;36m_format_element\u001b[0;34m(m, n, d)\u001b[0m\n\u001b[1;32m    795\u001b[0m                     \u001b[0;32mreturn\u001b[0m \u001b[0ms\u001b[0m \u001b[0;34m+\u001b[0m \u001b[0m_format_float\u001b[0m\u001b[0;34m(\u001b[0m\u001b[0mnp\u001b[0m\u001b[0;34m.\u001b[0m\u001b[0mimag\u001b[0m\u001b[0;34m(\u001b[0m\u001b[0md\u001b[0m\u001b[0;34m)\u001b[0m\u001b[0;34m)\u001b[0m \u001b[0;34m+\u001b[0m \u001b[0;34m\"j\"\u001b[0m\u001b[0;34m\u001b[0m\u001b[0m\n\u001b[1;32m    796\u001b[0m                 \u001b[0;32melse\u001b[0m\u001b[0;34m:\u001b[0m\u001b[0;34m\u001b[0m\u001b[0m\n\u001b[0;32m--> 797\u001b[0;31m                     \u001b[0ms_re\u001b[0m \u001b[0;34m=\u001b[0m \u001b[0m_format_float\u001b[0m\u001b[0;34m(\u001b[0m\u001b[0mnp\u001b[0m\u001b[0;34m.\u001b[0m\u001b[0mreal\u001b[0m\u001b[0;34m(\u001b[0m\u001b[0md\u001b[0m\u001b[0;34m)\u001b[0m\u001b[0;34m)\u001b[0m\u001b[0;34m\u001b[0m\u001b[0m\n\u001b[0m\u001b[1;32m    798\u001b[0m                     \u001b[0ms_im\u001b[0m \u001b[0;34m=\u001b[0m \u001b[0m_format_float\u001b[0m\u001b[0;34m(\u001b[0m\u001b[0mnp\u001b[0m\u001b[0;34m.\u001b[0m\u001b[0mimag\u001b[0m\u001b[0;34m(\u001b[0m\u001b[0md\u001b[0m\u001b[0;34m)\u001b[0m\u001b[0;34m)\u001b[0m\u001b[0;34m\u001b[0m\u001b[0m\n\u001b[1;32m    799\u001b[0m                     \u001b[0;32mif\u001b[0m \u001b[0mnp\u001b[0m\u001b[0;34m.\u001b[0m\u001b[0mimag\u001b[0m\u001b[0;34m(\u001b[0m\u001b[0md\u001b[0m\u001b[0;34m)\u001b[0m \u001b[0;34m>\u001b[0m \u001b[0;36m0.0\u001b[0m\u001b[0;34m:\u001b[0m\u001b[0;34m\u001b[0m\u001b[0m\n",
      "\u001b[0;32m/home/henry/anaconda2/envs/qutip/lib/python2.7/site-packages/qutip/qobj.pyc\u001b[0m in \u001b[0;36m_format_float\u001b[0;34m(value)\u001b[0m\n\u001b[1;32m    780\u001b[0m             \u001b[0;32melif\u001b[0m \u001b[0mabs\u001b[0m\u001b[0;34m(\u001b[0m\u001b[0mvalue\u001b[0m\u001b[0;34m)\u001b[0m \u001b[0;34m>\u001b[0m \u001b[0;36m1000.0\u001b[0m \u001b[0;32mor\u001b[0m \u001b[0mabs\u001b[0m\u001b[0;34m(\u001b[0m\u001b[0mvalue\u001b[0m\u001b[0;34m)\u001b[0m \u001b[0;34m<\u001b[0m \u001b[0;36m0.001\u001b[0m\u001b[0;34m:\u001b[0m\u001b[0;34m\u001b[0m\u001b[0m\n\u001b[1;32m    781\u001b[0m                 \u001b[0;32mreturn\u001b[0m \u001b[0;34m(\u001b[0m\u001b[0;34m\"%.3e\"\u001b[0m \u001b[0;34m%\u001b[0m \u001b[0mvalue\u001b[0m\u001b[0;34m)\u001b[0m\u001b[0;34m.\u001b[0m\u001b[0mreplace\u001b[0m\u001b[0;34m(\u001b[0m\u001b[0;34m\"e\"\u001b[0m\u001b[0;34m,\u001b[0m \u001b[0;34mr\"\\times10^{\"\u001b[0m\u001b[0;34m)\u001b[0m \u001b[0;34m+\u001b[0m \u001b[0;34m\"}\"\u001b[0m\u001b[0;34m\u001b[0m\u001b[0m\n\u001b[0;32m--> 782\u001b[0;31m             \u001b[0;32melif\u001b[0m \u001b[0mabs\u001b[0m\u001b[0;34m(\u001b[0m\u001b[0mvalue\u001b[0m \u001b[0;34m-\u001b[0m \u001b[0mint\u001b[0m\u001b[0;34m(\u001b[0m\u001b[0mvalue\u001b[0m\u001b[0;34m)\u001b[0m\u001b[0;34m)\u001b[0m \u001b[0;34m<\u001b[0m \u001b[0;36m0.001\u001b[0m\u001b[0;34m:\u001b[0m\u001b[0;34m\u001b[0m\u001b[0m\n\u001b[0m\u001b[1;32m    783\u001b[0m                 \u001b[0;32mreturn\u001b[0m \u001b[0;34m\"%.1f\"\u001b[0m \u001b[0;34m%\u001b[0m \u001b[0mvalue\u001b[0m\u001b[0;34m\u001b[0m\u001b[0m\n\u001b[1;32m    784\u001b[0m             \u001b[0;32melse\u001b[0m\u001b[0;34m:\u001b[0m\u001b[0;34m\u001b[0m\u001b[0m\n",
      "\u001b[0;31mValueError\u001b[0m: cannot convert float NaN to integer"
     ]
    },
    {
     "data": {
      "text/plain": [
       "Quantum object: dims = [[3, 6, 6], [3, 6, 6]], shape = (108, 108), type = oper, isherm = True\n",
       "Qobj data =\n",
       "[[ nan+nanj  nan+nanj  nan+nanj ...,  nan+nanj  nan+nanj  nan+nanj]\n",
       " [ nan+nanj  nan+nanj  nan+nanj ...,  nan+nanj  nan+nanj  nan+nanj]\n",
       " [ nan+nanj  nan+nanj  nan+nanj ...,  nan+nanj  nan+nanj  nan+nanj]\n",
       " ..., \n",
       " [ nan+nanj  nan+nanj  nan+nanj ...,  nan+nanj  nan+nanj  nan+nanj]\n",
       " [ nan+nanj  nan+nanj  nan+nanj ...,  nan+nanj  nan+nanj  nan+nanj]\n",
       " [ nan+nanj  nan+nanj  nan+nanj ...,  nan+nanj  nan+nanj  nan+nanj]]"
      ]
     },
     "execution_count": 41,
     "metadata": {},
     "output_type": "execute_result"
    }
   ],
   "source": [
    "dm"
   ]
  },
  {
   "cell_type": "markdown",
   "metadata": {},
   "source": [
    "# Old Parameters"
   ]
  },
  {
   "cell_type": "code",
   "execution_count": null,
   "metadata": {
    "collapsed": true
   },
   "outputs": [],
   "source": [
    "reload(ses)\n",
    "method = 'eigen'\n",
    "#method = 'power'\n",
    "#x_values=[6][::-1] # N\n",
    "x_values=[5,6,7,8,9,10,11,12] # N\n",
    "#x_values=[3,4,5,6,7][::-1] # N\n",
    "\n",
    "w_2 = 1.*ev_to_inv_cm\n",
    "alpha = 50./pi\n",
    "\n",
    "pap = alpha_to_pialpha_prop(alpha, w_2)\n",
    "wc = 100.\n",
    "w_0 = 200.\n",
    "\n",
    "Gamma = (w_0**2)/wc\n",
    "PARAMS = ses.PARAMS_setup(bias=100., w_2=w_2, V = 100, pialpha_prop=pap,\n",
    "                                T_EM=6000., T_ph =300.,\n",
    "                                alpha_EM=1., shift=True,\n",
    "                                num_cpus=4, N=7, Gamma=Gamma, w_0=w_0,\n",
    "                                silent=True, exc_diff=0)\n",
    "\n",
    "exc = PARAMS['exc']\n",
    "\n",
    " # N\n",
    "y_values=[5,4,3,2,1,0] # exc\n",
    "#y_values=[3,2, 1] # exc_diff (exc = 2n-exc_diff)\n",
    "\"\"\"try:\n",
    "    if 'iterative' in method:\n",
    "        print(\"Using fill-factor of {}\".format(ff))\n",
    "\n",
    "\n",
    "ss_array, info_array= heat_map_calculator(PARAMS,\n",
    "                        x_axis_parameters=['N_1', 'N_2'],\n",
    "                        y_axis_parameters=['exc_diff'],\n",
    "                        x_values=x_values,\n",
    "                        y_values=y_values,\n",
    "                        dir_name='SES_heatmap_excvN',\n",
    "                        fill_factor=None, save_data=True, \n",
    "                        persistent=False, method=method, threshold=1e-7)\n",
    "\"\"\"\n",
    "method = 'eigen'\n",
    "H, L1 = ses.get_H_and_L(PARAMS, silent=False, threshold=1e-7)\n",
    "SS1, _ = calculate_steadystate(H, L1, persistent=False, method=method)\n",
    "\"\"\"PARAMS.update({'num_cpus' :1})\n",
    "H, L2 = ses.get_H_and_L(PARAMS, silent=False, threshold=1e-7)\n",
    "SS2, _ = calculate_steadystate(H, L2, persistent=False, method=method)\"\"\"\n",
    "\n",
    "e_op = ses.make_expectation_operators(PARAMS)['XO']\n",
    "print (SS1*e_op).tr()#, (SS2*e_op).tr())\n",
    "e_op = ses.make_expectation_operators(PARAMS)['site_coherence']\n",
    "print (SS1*e_op).tr()#, (SS2*e_op).tr())\n",
    "\n",
    "#print np.sum((abs(L1-L2).data))"
   ]
  },
  {
   "cell_type": "code",
   "execution_count": null,
   "metadata": {
    "collapsed": true
   },
   "outputs": [],
   "source": [
    "print(ev_to_inv_cm*1e-3)"
   ]
  },
  {
   "cell_type": "code",
   "execution_count": null,
   "metadata": {
    "collapsed": true
   },
   "outputs": [],
   "source": [
    "L = qt.liouvillian(H[1], c_ops=[L1])\n",
    "print (L.data.nnz)"
   ]
  },
  {
   "cell_type": "code",
   "execution_count": null,
   "metadata": {
    "collapsed": true
   },
   "outputs": [],
   "source": [
    "((SS1*e_op).tr()-(SS2*e_op).tr())"
   ]
  },
  {
   "cell_type": "markdown",
   "metadata": {},
   "source": []
  },
  {
   "cell_type": "code",
   "execution_count": null,
   "metadata": {
    "collapsed": true
   },
   "outputs": [],
   "source": [
    "method = 'eigen'\n",
    "#method = 'power'\n",
    "#x_values=[6][::-1] # N\n",
    "x_values=[5,6,7,8,9,10,11,12] # N\n",
    "#x_values=[3,4,5,6,7][::-1] # N\n",
    "\n",
    "w_2 = 8000.\n",
    "alpha = 50./pi\n",
    "\n",
    "pap = alpha_to_pialpha_prop(alpha, w_2)\n",
    "wc = 100.\n",
    "w_0 = 200.\n",
    "Gamma = (w_0**2)/wc\n",
    "PARAMS = ses.PARAMS_setup(bias=100., w_2=8000., V = 100., pialpha_prop=pap,\n",
    "                                T_EM=6000., T_ph =300.,\n",
    "                                alpha_EM=0.1, shift=True,\n",
    "                                num_cpus=12, N=12, Gamma=Gamma, w_0=w_0,\n",
    "                                silent=True, exc_diff=5)\n",
    "\n",
    "exc = PARAMS['exc']\n",
    "\n",
    " # N\n",
    "y_values=[5,4,3,2,1,0] # exc\n",
    "#y_values=[3,2, 1] # exc_diff (exc = 2n-exc_diff)\n",
    "\n",
    "ss_array, info_array= heat_map_calculator(PARAMS,\n",
    "                        x_axis_parameters=['N_1', 'N_2'],\n",
    "                        y_axis_parameters=['exc_diff'],\n",
    "                        x_values=x_values,\n",
    "                        y_values=y_values,\n",
    "                        dir_name='SES_heatmap_excvN',\n",
    "                        fill_factor=None, save_data=True, \n",
    "                        persistent=False, method=method, threshold=1e-7)\n"
   ]
  },
  {
   "cell_type": "markdown",
   "metadata": {
    "heading_collapsed": true
   },
   "source": [
    "# Plotting"
   ]
  },
  {
   "cell_type": "code",
   "execution_count": null,
   "metadata": {
    "collapsed": true,
    "hidden": true
   },
   "outputs": [],
   "source": [
    "import matplotlib.pyplot as plt\n",
    "\n",
    "def steadystate_observable(ss_array, PARAMS, observable):\n",
    "    try:\n",
    "        size = (len(PARAMS['y_values']), len(PARAMS['x_values']))\n",
    "    except KeyError:\n",
    "        size = (1,1)\n",
    "    # deal with the case where N is being changed as an x value\n",
    "    if 'N_1' in PARAMS['x_axis_parameters']:\n",
    "        data_array = np.zeros(size)         # Collect data\n",
    "        N_values = PARAMS['x_values']\n",
    "        # NEw observable operator for each N value\n",
    "        for i, N in enumerate(N_values):\n",
    "            PARAMS.update({'N_1' : N, 'N_2' : N})\n",
    "            exc = (2*N)-PARAMS['exc_diff']\n",
    "            print (N, exc, PARAMS['exc_diff'])\n",
    "            # Leave it so exc can be fixed or a y_parameter\n",
    "            if 'exc' in PARAMS['x_axis_parameters']:\n",
    "                PARAMS.update({'exc': exc})\n",
    "            _obs_op = make_expectation_operators(PARAMS)[observable]\n",
    "            for j, y in enumerate(PARAMS['y_values']):\n",
    "                # the case where exc is on the y axis\n",
    "                if 'exc_diff' in PARAMS['y_axis_parameters']:\n",
    "                    PARAMS.update({'exc': (2*N)-y})\n",
    "                    _obs_op = make_expectation_operators(PARAMS)[observable]\n",
    "                try:\n",
    "                    print ss_array[j][i].shape, _obs_op.shape\n",
    "                    data_array[j][i] = (qt.Qobj(ss_array[j][i])*_obs_op).tr().real\n",
    "                except AttributeError:\n",
    "                    data_array[j][i] = np.nan\n",
    "        return data_array\n",
    "    else:\n",
    "        # Much simpler if N isn't on the x-axis\n",
    "        obs_op = make_expectation_operators(PARAMS)[observable]\n",
    "        f = lambda x: (qt.Qobj(x)*obs_op).tr()\n",
    "        ss_array = np.reshape(ss_array, (1, size[0]*size[1]))[0]\n",
    "\n",
    "        data_array = map(f, ss_array)\n",
    "        data_array = np.array(data_array).reshape(size).real\n",
    "        return data_array\n",
    "\n",
    "\n",
    "def heatmap_plotter(num, plot_SD=True, dir_name=\"heatmap\", \n",
    "                     print_params=False, observable='sigma_x', \n",
    "                    reverse_x=True):\n",
    "    \n",
    "    directory = 'DATA/'+dir_name+'_'+str(num)\n",
    "    ss_array = load_obj(directory+'/ss_array')\n",
    "    PARAMS = load_obj(directory+'/PARAMS')\n",
    "    info_array = load_obj(directory+'/info_array') # reverse ordering -> lower_N-higher_N\n",
    "    info = info_array[0][0]\n",
    "    \n",
    "    try:\n",
    "        # To catch an old bug where these were in \"info\" not in PARAMS\n",
    "        keys = ['x_values', 'y_values', 'y_axis_parameters', 'x_axis_parameters']\n",
    "        PARAMS.update(dict((key, info[key]) for key in keys))\n",
    "    except Exception as err:\n",
    "        print \"new style\"\n",
    "    if plot_SD:\n",
    "        plot_UD_SD(PARAMS[\"Gamma_1\"], PARAMS[\"alpha_1\"], PARAMS[\"w0_1\"], eps=2000.)\n",
    "    \n",
    "    ss_array = steadystate_observable(ss_array, PARAMS, observable)\n",
    "\n",
    "    \n",
    "    f, axes = plt.subplots(1,1, figsize=(13,6))\n",
    "    for i, y_val in enumerate(PARAMS['y_values']):\n",
    "        x_values = PARAMS['x_values']\n",
    "        if reverse_x:\n",
    "            x_values = x_values[::-1]\n",
    "        axes.plot(x_values, ss_array[i], \n",
    "                  label=str(PARAMS['y_axis_parameters'])+\"=\"+str(y_val))\n",
    "    \n",
    "    print_PARAMS(PARAMS)\n",
    "    \n",
    "    plt.xlabel(', '.join(PARAMS['x_axis_parameters']))\n",
    "    plt.ylabel(\"Steadystate \"+observable)\n",
    "    #plt.ylabel(', '.join(info['y_axis_parameters']))\n",
    "    plt.legend()\n",
    "    plt.grid()\n",
    "    plot_filename = 'PLOTS/'+dir_name+'_'+str(num)+'.pdf'\n",
    "    plt.savefig(plot_filename)\n",
    "    print \"saved at {}\".format(plot_filename)\n",
    "    plt.show()"
   ]
  },
  {
   "cell_type": "code",
   "execution_count": null,
   "metadata": {
    "collapsed": true,
    "hidden": true,
    "scrolled": true
   },
   "outputs": [],
   "source": [
    "heatmap_plotter(1, plot_SD=True, dir_name=dirname, \n",
    "                     print_params=False, observable='sigma_x', \n",
    "                    reverse_x=True)"
   ]
  },
  {
   "cell_type": "code",
   "execution_count": null,
   "metadata": {
    "collapsed": true,
    "hidden": true
   },
   "outputs": [],
   "source": []
  }
 ],
 "metadata": {
  "kernelspec": {
   "display_name": "Python 2",
   "language": "python",
   "name": "python2"
  },
  "language_info": {
   "codemirror_mode": {
    "name": "ipython",
    "version": 2
   },
   "file_extension": ".py",
   "mimetype": "text/x-python",
   "name": "python",
   "nbconvert_exporter": "python",
   "pygments_lexer": "ipython2",
   "version": "2.7.13"
  }
 },
 "nbformat": 4,
 "nbformat_minor": 2
}
