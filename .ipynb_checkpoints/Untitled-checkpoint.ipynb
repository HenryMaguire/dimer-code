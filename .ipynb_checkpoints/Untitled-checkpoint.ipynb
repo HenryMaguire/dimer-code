{
 "cells": [
  {
   "cell_type": "code",
   "execution_count": 1,
   "metadata": {},
   "outputs": [
    {
     "name": "stdout",
     "output_type": "stream",
     "text": [
      "SES_setup loaded globally\n"
     ]
    }
   ],
   "source": [
    "import matplotlib\n",
    "import matplotlib.pyplot as plt\n",
    "\n",
    "import time\n",
    "import heatmap_setup as hm\n",
    "import numpy as np\n",
    "\n",
    "from SES_setup import *\n",
    "from utils import *\n",
    "from style import *"
   ]
  },
  {
   "cell_type": "code",
   "execution_count": 4,
   "metadata": {},
   "outputs": [
    {
     "name": "stdout",
     "output_type": "stream",
     "text": [
      "Full optical Liouvillian took 2.3909869194 seconds.\n",
      "Full optical Liouvillian took 2.39807510376 seconds.\n",
      "auto wc phonon liouvs took 4.79235887527 seconds\n",
      "Not including optical dissipator\n"
     ]
    }
   ],
   "source": [
    "# Dimer code with zero optical coupling, start system in upper state\n",
    "\n",
    "import weak_phonons as wp\n",
    "import weak_phonons_auto as wpa\n",
    "reload(wpa)\n",
    "reload(wp)\n",
    "reload(opt)\n",
    "\n",
    "w_2 = 1000.\n",
    "bias = 0.01*ev_to_inv_cm #0.0000001*ev_to_inv_cm\n",
    "V = 0.01*ev_to_inv_cm #0.00001*ev_to_inv_cm\n",
    "alpha = 2.5\n",
    "alpha_EM = 0. # inv_ps_to_inv_cm *10^-3\n",
    "N =6\n",
    "wc = 100.\n",
    "w_0 = 200.\n",
    "site_basis = True\n",
    "Gamma = (w_0**2)/wc\n",
    "\n",
    "PARAMS = PARAMS_setup(bias=bias, w_2=w_2, V = V, alpha=alpha,\n",
    "                      T_EM=6000., T_ph =180., alpha_EM=alpha_EM, shift=True,\n",
    "                      num_cpus=4, N=N, Gamma=Gamma, w_0=w_0,\n",
    "                      silent=True, exc_diff=0)\n",
    "\n",
    "H, L = wpa.get_wc_H_and_L(PARAMS, silent=True, threshold=0.)\n",
    "Hs, Ls, Ladd = get_H_and_L(PARAMS, silent=True, threshold=0.)\n",
    "\n",
    "# RF code. Use same subsystem Hamiltonian and the RC and Redfield code\n",
    "save_obj(Hs, 'H')\n",
    "save_obj(L, 'L_wc')\n",
    "save_obj(L, 'L_sc')\n",
    "#print H, Hs[0]"
   ]
  },
  {
   "cell_type": "code",
   "execution_count": 3,
   "metadata": {},
   "outputs": [
    {
     "name": "stdout",
     "output_type": "stream",
     "text": [
      "3.92699081699\n"
     ]
    }
   ],
   "source": [
    "print alpha*pi/2"
   ]
  },
  {
   "cell_type": "code",
   "execution_count": null,
   "metadata": {},
   "outputs": [],
   "source": []
  }
 ],
 "metadata": {
  "kernelspec": {
   "display_name": "Python 2",
   "language": "python",
   "name": "python2"
  },
  "language_info": {
   "codemirror_mode": {
    "name": "ipython",
    "version": 2
   },
   "file_extension": ".py",
   "mimetype": "text/x-python",
   "name": "python",
   "nbconvert_exporter": "python",
   "pygments_lexer": "ipython2",
   "version": "2.7.15"
  }
 },
 "nbformat": 4,
 "nbformat_minor": 2
}
