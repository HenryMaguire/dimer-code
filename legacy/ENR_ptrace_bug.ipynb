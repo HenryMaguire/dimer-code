{
 "cells": [
  {
   "cell_type": "code",
   "execution_count": null,
   "metadata": {},
   "outputs": [],
   "source": [
    "\n",
    "G = basis(1,0)\n",
    "E = basis(2,1)\n",
    "\n",
    "E_proj = E*E.dag()\n",
    "# electronic params\n",
    "epsilon = 2000.\n",
    "# mode params\n",
    "w1 = 100. # frequencies\n",
    "w2 = 150.\n",
    "gamma1 = 2*w1 # mode dissipation rates\n",
    "gamma2 = 2*w2  \n",
    "alpha1 = w1/10. # system-mode couplings\n",
    "alpha2 = w2/10.\n",
    "\n",
    "# build the Hamiltonian \n",
    "\n",
    "H_sub = epsilon*E_proj\n",
    "\n",
    "# now we include the two modes, but don't even couple them to our electronic system\n",
    "#coupling_ops = [sigma_m1.dag()*sigma_m1, sigma_m2.dag()*sigma_m2] # system-RC operators\n",
    "\n",
    "I_sub = qeye(H_sub.shape[0])\n",
    "I = enr_identity([N,N], N+exc_diff)\n",
    "\n",
    "H_S = tensor(H_sub, I)\n",
    "\n",
    "atemp = enr_destroy([N,N], N+exc_diff)\n",
    "\n",
    "a_RC_exc = [tensor(I_sub, aa) for aa in atemp] # annhilation ops in exc restr basis\n",
    "phonon_operators = []\n",
    "for i in range(len(a_RC_exc)):\n",
    "    A_i = a_RC_exc[i].dag() + a_RC_exc[i]\n",
    "    H_Ii = alpha*tensor(coupling_ops[i], I)*A_i\n",
    "    H_RCi = w_0*a_RC_exc[i].dag()*a_RC_exc[i]\n",
    "    H_S += H_RCi\n",
    "    phonon_operators.append(A_i)\n",
    "\n",
    "\n",
    "def rate_up(w, T, gamma):\n",
    "    n = Occupation(w, T)\n",
    "    rate = 0.5 * pi * n * J(w, gamma)\n",
    "    return rate\n",
    "\n",
    "def rate_down(w, T, gamma):\n",
    "    n = Occupation(w, T)\n",
    "    rate = 0.5 * pi * (n + 1. ) * J(w, gamma)\n",
    "    return rate\n",
    "\n",
    "def lin_construct(O):\n",
    "    Od = O.dag()\n",
    "    L = 2. * spre(O) * spost(Od) - spre(Od * O) - spost(Od * O)\n",
    "    return L\n"
   ]
  }
 ],
 "metadata": {
  "kernelspec": {
   "display_name": "Python 3",
   "language": "python",
   "name": "python3"
  },
  "language_info": {
   "codemirror_mode": {
    "name": "ipython",
    "version": 3
   },
   "file_extension": ".py",
   "mimetype": "text/x-python",
   "name": "python",
   "nbconvert_exporter": "python",
   "pygments_lexer": "ipython3",
   "version": "3.6.5"
  }
 },
 "nbformat": 4,
 "nbformat_minor": 2
}
