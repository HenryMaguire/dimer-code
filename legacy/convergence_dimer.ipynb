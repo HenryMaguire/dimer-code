{
 "cells": [
  {
   "cell_type": "code",
   "execution_count": null,
   "metadata": {
    "collapsed": true
   },
   "outputs": [],
   "source": [
    "# Incase we have to clear all variables\n",
    "%reset -f"
   ]
  },
  {
   "cell_type": "code",
   "execution_count": 1,
   "metadata": {
    "collapsed": true
   },
   "outputs": [],
   "source": [
    "%matplotlib inline \n",
    "import matplotlib\n",
    "import matplotlib.pyplot as plt\n",
    "colourWheel =['#329932',\n",
    "            '#ff6961',\n",
    "            'b',\n",
    "            '#6a3d9a',\n",
    "            '#fb9a99',\n",
    "            '#e31a1c',\n",
    "            '#fdbf6f',\n",
    "            '#ff7f00',\n",
    "            '#cab2d6',\n",
    "            '#6a3d9a',\n",
    "            '#ffff99',\n",
    "            '#b15928',\n",
    "            '#67001f',\n",
    "            '#b2182b',\n",
    "            '#d6604d',\n",
    "            '#f4a582',\n",
    "            '#fddbc7',\n",
    "            '#f7f7f7',\n",
    "            '#d1e5f0',\n",
    "            '#92c5de',\n",
    "            '#4393c3',\n",
    "            '#2166ac',\n",
    "            '#053061']\n",
    "\n",
    "from dimer_setup import *\n",
    "from utils import *"
   ]
  },
  {
   "cell_type": "markdown",
   "metadata": {},
   "source": [
    "### Example Liouvillian"
   ]
  },
  {
   "cell_type": "code",
   "execution_count": 60,
   "metadata": {},
   "outputs": [],
   "source": [
    "import time\n",
    "from heatmap_setup import calculate_steadystate\n",
    "import numpy as np\n",
    "\n",
    "\n",
    "w_2 = 1.4*ev_to_inv_cm\n",
    "bias = 0.01*ev_to_inv_cm #0.0000001*ev_to_inv_cm\n",
    "V = 0.01*ev_to_inv_cm #0.00001*ev_to_inv_cm\n",
    "alpha = 200./pi\n",
    "alpha_EM = 5.309e-3 # inv_ps_to_inv_cm *10^-3\n",
    "N =4\n",
    "wc = 100.\n",
    "w_0 = 200.\n",
    "site_basis = True\n",
    "Gamma = (w_0**2)/wc\n",
    "PARAMS = PARAMS_setup(bias=bias, w_2=w_2, \n",
    "                      V = V, alpha=alpha,\n",
    "                      T_EM=6000., T_ph =300., alpha_EM=alpha_EM, shift=True,\n",
    "                      num_cpus=4, N=N, Gamma=Gamma, w_0=w_0,\n",
    "                      silent=True, exc_diff=0)\n",
    "\n",
    "#\n",
    "\n"
   ]
  },
  {
   "cell_type": "code",
   "execution_count": null,
   "metadata": {
    "collapsed": true
   },
   "outputs": [],
   "source": [
    "H, L = get_H_and_L(PARAMS, silent=False, threshold=1e-7, site_basis=site_basis)"
   ]
  },
  {
   "cell_type": "code",
   "execution_count": null,
   "metadata": {},
   "outputs": [],
   "source": [
    "ssL, info = calculate_steadystate(H, L, method=\"power\", persistent=True)\n",
    "exps = make_expectation_operators(H, PARAMS, site_basis=site_basis)\n",
    "\n",
    "ss_therm = thermal_state(PARAMS[\"T_EM\"], H[1])\n",
    "for key, op in exps.items():\n",
    "    if 'RC' not in key:\n",
    "        if 'coherence' in key:\n",
    "            res, therm = (ssL*op).tr(), (ss_therm*op).tr()\n",
    "        else:\n",
    "            res, therm = (ssL*op).tr().real, (ss_therm*op).tr().real\n",
    "        print \"{} : {} \\t | \\t {} \\t | \\t {}\".format(key, res, therm, abs(res - therm))"
   ]
  },
  {
   "cell_type": "code",
   "execution_count": null,
   "metadata": {
    "collapsed": true,
    "scrolled": true
   },
   "outputs": [],
   "source": [
    "print_PARAMS(PARAMS)"
   ]
  },
  {
   "cell_type": "markdown",
   "metadata": {},
   "source": [
    "###  Helper functions for generating solution estimates, manipulating operators and changing bases"
   ]
  },
  {
   "cell_type": "code",
   "execution_count": null,
   "metadata": {
    "collapsed": true
   },
   "outputs": [],
   "source": [
    "from scipy.sparse.linalg import eigs\n",
    "from qutip.cy.spconvert import dense2D_to_fastcsr_fmode\n",
    "\n",
    "def v0_estimate(H, PARAMS, method=0):\n",
    "    H = H[1]\n",
    "    T1, T2 = PARAMS['T_EM'], 0.5*(PARAMS['T_1']+PARAMS['T_2'])\n",
    "    alpha1, alpha2 = PARAMS['alpha_EM'], 0.5*(PARAMS['alpha_1']+PARAMS['alpha_2'])\n",
    "    p1 = alpha1/(alpha1+alpha2)\n",
    "    p2 = alpha2/(alpha1+alpha2)\n",
    "    p1/= (p1+p2)\n",
    "    p2/= (p1+p2)\n",
    "    if method==1:\n",
    "        # Average two density matrices together\n",
    "        r1 = (-beta_f(T1)*H).expm(method='sparse')\n",
    "        r1/ = r1.tr()\n",
    "        r2 = (-beta_f(T2)*H).expm(method='sparse')\n",
    "        r2/ = r2.tr()\n",
    "        rho_approx = r1#+r2\n",
    "        return qt.operator_to_vector(rho_approx/rho_approx.tr()).data.todense()\n",
    "    elif method==0:\n",
    "        # Averages temperatures\n",
    "        r1 = (-beta_f(abs(2*T1-T2))*H).expm(method='sparse')\n",
    "        return qt.operator_to_vector(r1/r1.tr()).data.todense()\n",
    "    else:\n",
    "        r1 = (-beta_f(T1)*H).expm(method='sparse')\n",
    "        r2 = (-beta_f(T2)*H).expm(method='sparse')\n",
    "        rho_approx = 0.5*(r1+r2)+(-beta_f(abs(2*T1-T2))*H).expm(method='sparse')\n",
    "        return qt.operator_to_vector(rho_approx/rho_approx.tr()).data.todense()\n",
    "\n",
    "def expectation(rho, expval='site_coherence'):\n",
    "    e_op = make_expectation_operators(PARAMS)[expval]\n",
    "    return (rho*e_op).tr()\n",
    "\n",
    "def vec_to_dm(evec, _H):\n",
    "    n = int(np.sqrt(evec.shape[0]))\n",
    "    data = dense2D_to_fastcsr_fmode(evec.reshape((n, n)).T, n, n)\n",
    "    data = 0.5 * (data + data.H)\n",
    "    data = qt.Qobj(data, dims=_H[1].dims, isherm=True)\n",
    "    return data/data.tr()\n",
    "\n",
    "def L_steadystate(L, tol=1e-8, sigma=1e-12, ncv=18, print_coh=True, v0=None):\n",
    "    ti = time.time()\n",
    "    evals, evec = eigs(L, 1, which='LM', sigma=sigma, tol=tol, ncv=ncv, v0=v0)\n",
    "    print(\"Steadystate took {:0.3f} seconds\".format(time.time() - ti))\n",
    "    rho = vec_to_dm(evec, H)\n",
    "    if print_coh:\n",
    "        print(\"Coherence is {}\".format(expectation(rho)))\n",
    "    return rho\n",
    "\n",
    "def _steadystate(H, L, tol=1e-8, sigma=1e-12, ncv=18, print_coh=True, v0=None):\n",
    "    L_full = -1*qt.liouvillian(H[1], c_ops=[L]).data\n",
    "    ti = time.time()\n",
    "    evals, evec = eigs(L_full, 1, which='LM', sigma=sigma, tol=tol, ncv=ncv, v0=v0)\n",
    "    print(\"Steadystate took {:0.3f} seconds\".format(time.time() - ti))\n",
    "    rho = vec_to_dm(evec, H)\n",
    "    if print_coh:\n",
    "        print(\"Coherence is {}\".format(expectation(rho)))\n",
    "    return rho\n",
    "\n",
    "#ev, evec = H[1].\n",
    "from scipy.linalg import eig, inv\n",
    "import numpy as np\n",
    "\n",
    "def sorted_eig(_H):\n",
    "    if type(_H) == qt.Qobj:\n",
    "        _H = _H.full()\n",
    "    eigenValues, eigenVectors = eig(_H)\n",
    "    idx = eigenValues.argsort()[::-1]   \n",
    "    return eigenValues[idx], eigenVectors[:,idx]\n",
    "\n",
    "def to_eigenbasis(op, evals, evecs, evecs_inv):\n",
    "    if type(op) == qt.Qobj:\n",
    "        op = op.full()\n",
    "    A = np.matmul(evecs_inv, op)\n",
    "    return np.matmul(A, evecs)\n",
    "\n",
    "def to_site_basis(op, evals, evecs, evecs_inv):\n",
    "    if type(op) == qt.Qobj:\n",
    "        op = op.full()\n",
    "    A = np.matmul(evecs, op)\n",
    "    return np.matmul(A, evecs_inv)\n",
    "\n",
    "def array_to_qobj(arr, qobj_in_basis):\n",
    "    return qt.Qobj(arr, dims=qobj_in_basis.dims)\n",
    "\n",
    "#print H[1]\n",
    "eVals, eVecs = H[1].eigenstates()\n",
    "evecs = np.transpose(np.array([v.dag().full()[0] for v in eVecs]))\n",
    "\n",
    "#evals, evecs = sorted_eig(H[1])\n",
    "ti = time.time()\n",
    "evecs_inv = inv(evecs)\n",
    "print (time.time() - ti)\n",
    "D = to_eigenbasis(H[1], evals, evecs, evecs_inv)\n",
    "H_again = to_site_basis(qt.Qobj(D), evals, evecs, evecs_inv)\n",
    "\n",
    "assert np.sum(np.around(sorted_eig(qt.Qobj(H_array))[0]-sorted_eig(qt.Qobj(D))[0], 3)) == 0. # get diagonal\n",
    "assert np.sum(np.around(H_again - H_array, 3)) == 0. # get H again from diagonal\n",
    "\n",
    "print np.sum(D)\n",
    "print np.sum(H[1].transform(eVecs).full())\n",
    "\n",
    "\n",
    "v0 = v0_estimate(H, PARAMS, method=0)\n",
    "print(np.sum(abs(vec_to_dm(v0, H)-ssL)))\n",
    "rho = _steadystate(H, L, v0=v0, method=\"eigen\")\n",
    "\n",
    "v0 = v0_estimate(H, PARAMS, method=1)\n",
    "print(np.sum(abs(vec_to_dm(v0, H)-ssL)))\n",
    "rho = _steadystate(H, L, v0=v0)\n",
    "\n",
    "v0 = v0_estimate(H, PARAMS, method=2)\n",
    "print(np.sum(abs(vec_to_dm(v0, H)-ssL)))\n",
    "rho = _steadystate(H, L, v0=v0)"
   ]
  },
  {
   "cell_type": "markdown",
   "metadata": {
    "collapsed": true
   },
   "source": [
    "## Inspecting how sparsity and $\\textit{chopping}$ affect structure and solution time"
   ]
  },
  {
   "cell_type": "code",
   "execution_count": null,
   "metadata": {
    "collapsed": true
   },
   "outputs": [],
   "source": [
    "H, L = get_H_and_L(PARAMS, silent=False, threshold=0, site_basis=site_basis)\n",
    "ssL, infoL = calculate_steadystate(H, L, method=\"power\", persistent=True)\n",
    "H, L_tidy = get_H_and_L(PARAMS, silent=False, threshold=1e-7, site_basis=site_basis)\n",
    "ssLt, infoLt = calculate_steadystate(H, L_tidy, method=\"power\", persistent=True)\n",
    "\n",
    "print \"Total error per nz dm element due to chop: {}\".format(np.sum((ssL.full()-ssLt.full())**2)/nonzero_elements(ssL)) \n",
    "\n",
    "visualise_dense(ssL)\n",
    "visualise_dense(ssLt)\n",
    "\n",
    "visualise_sparse(L)\n",
    "visualise_sparse(L_tidy)\n"
   ]
  },
  {
   "cell_type": "markdown",
   "metadata": {
    "collapsed": true
   },
   "source": [
    "# Excitation restriction"
   ]
  },
  {
   "cell_type": "code",
   "execution_count": 61,
   "metadata": {
    "code_folding": [],
    "scrolled": true
   },
   "outputs": [
    {
     "name": "stdout",
     "output_type": "stream",
     "text": [
      "N_1 = 3, N_2 = 3, exc= 3, H_dim=32\n",
      "Steady state took 0.048 seconds with direct\n",
      "(32, 32) (32, 32)\n",
      "Build time: 1.926 \t | \t Solution time: 0.048 \t | \t Sigma x -0.0534388846118\n",
      "N_1 = 4, N_2 = 4, exc= 4, H_dim=52\n",
      "Steady state took 0.272 seconds with direct\n",
      "(52, 52) (52, 52)\n",
      "Build time: 2.641 \t | \t Solution time: 0.272 \t | \t Sigma x -0.0519593850024\n",
      "N_1 = 5, N_2 = 5, exc= 5, H_dim=76\n",
      "Steady state took 1.541 seconds with direct\n",
      "(76, 76) (76, 76)\n",
      "Build time: 5.337 \t | \t Solution time: 1.541 \t | \t Sigma x -0.0510444121425\n",
      "N_1 = 6, N_2 = 6, exc= 6, H_dim=104\n",
      "Steady state took 9.252 seconds with direct\n",
      "(104, 104) (104, 104)\n",
      "Build time: 10.294 \t | \t Solution time: 9.252 \t | \t Sigma x -0.0504929508128\n",
      "N_1 = 7, N_2 = 7, exc= 7, H_dim=136\n",
      "Steady state took 40.610 seconds with direct\n",
      "(136, 136) (136, 136)\n",
      "Build time: 19.559 \t | \t Solution time: 40.610 \t | \t Sigma x -0.0501706320981\n",
      "****************************************************************\n",
      "The operators took 19.0918939114 and have dimension 172.\n",
      "Building the RC Liouvillian took 22.154 seconds.\n",
      "It is 29584by29584. The full basis would be 65536by65536\n",
      "It took  10.728345871  seconds to build the Non-secular RWA Liouvillian\n",
      "Chopping reduced the sparsity from 1.834% to 1.550%\n",
      "N_1 = 8, N_2 = 8, exc= 8, H_dim=172\n",
      "Steady state took 180.736 seconds with direct\n",
      "(172, 172) (172, 172)\n",
      "Build time: 38.684 \t | \t Solution time: 180.736 \t | \t Sigma x -0.0499879241674\n",
      "N_1 = 3, N_2 = 3, exc= 4, H_dim=36\n",
      "Steady state took 0.080 seconds with direct\n",
      "(36, 36) (36, 36)\n",
      "Build time: 1.420 \t | \t Solution time: 0.080 \t | \t Sigma x -0.0532491944651\n",
      "N_1 = 4, N_2 = 4, exc= 5, H_dim=60\n",
      "Steady state took 0.491 seconds with direct\n",
      "(60, 60) (60, 60)\n",
      "Build time: 3.173 \t | \t Solution time: 0.491 \t | \t Sigma x -0.0517941202622\n",
      "N_1 = 5, N_2 = 5, exc= 6, H_dim=88\n",
      "Steady state took 3.618 seconds with direct\n",
      "(88, 88) (88, 88)\n",
      "Build time: 7.345 \t | \t Solution time: 3.618 \t | \t Sigma x -0.0509232198696\n",
      "N_1 = 6, N_2 = 6, exc= 7, H_dim=120\n",
      "Steady state took 22.946 seconds with direct\n",
      "(120, 120) (120, 120)\n",
      "Build time: 14.522 \t | \t Solution time: 22.946 \t | \t Sigma x -0.0504111664018\n",
      "N_1 = 7, N_2 = 7, exc= 8, H_dim=156\n",
      "Steady state took 130.922 seconds with direct\n",
      "(156, 156) (156, 156)\n",
      "Build time: 28.736 \t | \t Solution time: 130.922 \t | \t Sigma x -0.050118656486\n",
      "****************************************************************\n",
      "The operators took 28.7113749981 and have dimension 196.\n",
      "Building the RC Liouvillian took 33.417 seconds.\n",
      "It is 38416by38416. The full basis would be 65536by65536\n",
      "It took  14.7051599026  seconds to build the Non-secular RWA Liouvillian\n",
      "Chopping reduced the sparsity from 1.652% to 1.386%\n",
      "N_1 = 8, N_2 = 8, exc= 9, H_dim=196\n",
      "Steady state took 422.573 seconds with direct\n",
      "(196, 196) (196, 196)\n",
      "Build time: 57.147 \t | \t Solution time: 422.573 \t | \t Sigma x -0.0499564744936\n",
      "N_1 = 3, N_2 = 3, exc= 5, H_dim=36\n",
      "Steady state took 0.045 seconds with direct\n",
      "(36, 36) (36, 36)\n",
      "Build time: 1.345 \t | \t Solution time: 0.045 \t | \t Sigma x -0.0532491944651\n",
      "N_1 = 4, N_2 = 4, exc= 6, H_dim=64\n",
      "Steady state took 0.712 seconds with direct\n",
      "(64, 64) (64, 64)\n",
      "Build time: 3.749 \t | \t Solution time: 0.712 \t | \t Sigma x -0.0517500291253\n",
      "N_1 = 5, N_2 = 5, exc= 7, H_dim=96\n",
      "Steady state took 5.929 seconds with direct\n",
      "(96, 96) (96, 96)\n",
      "Build time: 8.990 \t | \t Solution time: 5.929 \t | \t Sigma x -0.0508840415928\n",
      "N_1 = 6, N_2 = 6, exc= 8, H_dim=132\n",
      "Steady state took 42.016 seconds with direct\n",
      "(132, 132) (132, 132)\n",
      "Build time: 18.187 \t | \t Solution time: 42.016 \t | \t Sigma x -0.0503829616243\n",
      "N_1 = 7, N_2 = 7, exc= 9, H_dim=172\n",
      "Steady state took 200.399 seconds with direct\n",
      "(172, 172) (172, 172)\n",
      "Build time: 37.728 \t | \t Solution time: 200.399 \t | \t Sigma x -0.0501002045663\n",
      "****************************************************************\n",
      "The operators took 38.2543702126 and have dimension 216.\n",
      "Building the RC Liouvillian took 44.717 seconds.\n",
      "It is 46656by46656. The full basis would be 65536by65536\n",
      "It took  18.0978360176  seconds to build the Non-secular RWA Liouvillian\n",
      "Chopping reduced the sparsity from 1.524% to 1.272%\n",
      "N_1 = 8, N_2 = 8, exc= 10, H_dim=216\n",
      "Steady state took 616.944 seconds with direct\n",
      "(216, 216) (216, 216)\n",
      "Build time: 75.524 \t | \t Solution time: 616.944 \t | \t Sigma x -0.049945135871\n",
      "N_1 = 3, N_2 = 3, exc= 6, H_dim=36\n",
      "Steady state took 0.058 seconds with direct\n",
      "(36, 36) (36, 36)\n",
      "Build time: 1.394 \t | \t Solution time: 0.058 \t | \t Sigma x -0.0532491944651\n",
      "N_1 = 4, N_2 = 4, exc= 7, H_dim=64\n",
      "Steady state took 0.920 seconds with direct\n",
      "(64, 64) (64, 64)\n",
      "Build time: 3.829 \t | \t Solution time: 0.920 \t | \t Sigma x -0.0517500291253\n",
      "N_1 = 5, N_2 = 5, exc= 8, H_dim=100\n",
      "Steady state took 7.133 seconds with direct\n",
      "(100, 100) (100, 100)\n",
      "Build time: 12.009 \t | \t Solution time: 7.133 \t | \t Sigma x -0.050874065935\n",
      "N_1 = 6, N_2 = 6, exc= 9, H_dim=140\n",
      "Steady state took 61.351 seconds with direct\n",
      "(140, 140) (140, 140)\n",
      "Build time: 21.041 \t | \t Solution time: 61.351 \t | \t Sigma x -0.0503740881459\n",
      "N_1 = 7, N_2 = 7, exc= 10, H_dim=184\n",
      "Steady state took 285.910 seconds with direct\n",
      "(184, 184) (184, 184)\n",
      "Build time: 45.473 \t | \t Solution time: 285.910 \t | \t Sigma x -0.050093940709\n",
      "****************************************************************\n",
      "The operators took 47.6446690559 and have dimension 232.\n",
      "Building the RC Liouvillian took 55.522 seconds.\n",
      "It is 53824by53824. The full basis would be 65536by65536\n",
      "It took  21.7707741261  seconds to build the Non-secular RWA Liouvillian\n",
      "Chopping reduced the sparsity from 1.436% to 1.190%\n",
      "N_1 = 8, N_2 = 8, exc= 11, H_dim=232\n",
      "Steady state took 1234.673 seconds with direct\n",
      "(232, 232) (232, 232)\n",
      "Build time: 93.537 \t | \t Solution time: 1234.673 \t | \t Sigma x -0.0499411461652\n",
      "Files saved at DATA/heatmap_excvN_11\n"
     ]
    }
   ],
   "source": [
    "import heatmap_setup as hm\n",
    "reload(hm)\n",
    "x_values=[3,4,5,6,7,8] # N\n",
    "y_values=[0,1,2,3] # exc_diff (exc =  +exc_diff)\n",
    "method='direct'\n",
    "ss_array, info_array = hm.heat_map_calculator(PARAMS,\n",
    "                            x_axis_parameters=['N_1', 'N_2'],\n",
    "                            y_axis_parameters=['exc_diff'],\n",
    "                            x_values=x_values,\n",
    "                            y_values=y_values,\n",
    "                            dir_name='heatmap_excvN', save_data=True,\n",
    "                            persistent=False, method=method, threshold=1e-7)"
   ]
  },
  {
   "cell_type": "code",
   "execution_count": 19,
   "metadata": {},
   "outputs": [
    {
     "ename": "TypeError",
     "evalue": "Incompatible Qobj shapes",
     "output_type": "error",
     "traceback": [
      "\u001b[0;31m---------------------------------------------------------------------------\u001b[0m",
      "\u001b[0;31mTypeError\u001b[0m                                 Traceback (most recent call last)",
      "\u001b[0;32m<ipython-input-19-18d9a5a3f239>\u001b[0m in \u001b[0;36m<module>\u001b[0;34m()\u001b[0m\n\u001b[0;32m----> 1\u001b[0;31m \u001b[0mss_obs_array\u001b[0m \u001b[0;34m=\u001b[0m \u001b[0msteadystate_observable\u001b[0m\u001b[0;34m(\u001b[0m\u001b[0mss_array\u001b[0m\u001b[0;34m,\u001b[0m \u001b[0mPARAMS\u001b[0m\u001b[0;34m,\u001b[0m \u001b[0;34m'sigma_x'\u001b[0m\u001b[0;34m)\u001b[0m\u001b[0;34m\u001b[0m\u001b[0m\n\u001b[0m\u001b[1;32m      2\u001b[0m \u001b[0;32mprint\u001b[0m \u001b[0mss_obs_array\u001b[0m\u001b[0;34m\u001b[0m\u001b[0m\n\u001b[1;32m      3\u001b[0m \u001b[0;32mprint\u001b[0m \u001b[0;34m(\u001b[0m\u001b[0mss_obs_array\u001b[0m\u001b[0;34m[\u001b[0m\u001b[0;34m-\u001b[0m\u001b[0;36m1\u001b[0m\u001b[0;34m]\u001b[0m\u001b[0;34m-\u001b[0m\u001b[0mss_obs_array\u001b[0m\u001b[0;34m[\u001b[0m\u001b[0;34m-\u001b[0m\u001b[0;36m2\u001b[0m\u001b[0;34m]\u001b[0m\u001b[0;34m)\u001b[0m\u001b[0;34m/\u001b[0m\u001b[0mss_obs_array\u001b[0m\u001b[0;34m[\u001b[0m\u001b[0;34m-\u001b[0m\u001b[0;36m2\u001b[0m\u001b[0;34m]\u001b[0m\u001b[0;34m\u001b[0m\u001b[0m\n",
      "\u001b[0;32m<ipython-input-4-c79504228866>\u001b[0m in \u001b[0;36msteadystate_observable\u001b[0;34m(ss_array, PARAMS, observable)\u001b[0m\n\u001b[1;32m     23\u001b[0m                 \u001b[0;32mtry\u001b[0m\u001b[0;34m:\u001b[0m\u001b[0;34m\u001b[0m\u001b[0m\n\u001b[1;32m     24\u001b[0m                     \u001b[0;31m#print j,i ,ss_array[j][i].shape, _obs_op.shape\u001b[0m\u001b[0;34m\u001b[0m\u001b[0;34m\u001b[0m\u001b[0m\n\u001b[0;32m---> 25\u001b[0;31m                     \u001b[0mdata_array\u001b[0m\u001b[0;34m[\u001b[0m\u001b[0mj\u001b[0m\u001b[0;34m]\u001b[0m\u001b[0;34m[\u001b[0m\u001b[0mi\u001b[0m\u001b[0;34m]\u001b[0m \u001b[0;34m=\u001b[0m \u001b[0;34m(\u001b[0m\u001b[0mqt\u001b[0m\u001b[0;34m.\u001b[0m\u001b[0mQobj\u001b[0m\u001b[0;34m(\u001b[0m\u001b[0mss_array\u001b[0m\u001b[0;34m[\u001b[0m\u001b[0mj\u001b[0m\u001b[0;34m]\u001b[0m\u001b[0;34m[\u001b[0m\u001b[0mi\u001b[0m\u001b[0;34m]\u001b[0m\u001b[0;34m)\u001b[0m\u001b[0;34m*\u001b[0m\u001b[0m_obs_op\u001b[0m\u001b[0;34m)\u001b[0m\u001b[0;34m.\u001b[0m\u001b[0mtr\u001b[0m\u001b[0;34m(\u001b[0m\u001b[0;34m)\u001b[0m\u001b[0;34m.\u001b[0m\u001b[0mreal\u001b[0m\u001b[0;34m\u001b[0m\u001b[0m\n\u001b[0m\u001b[1;32m     26\u001b[0m                 \u001b[0;32mexcept\u001b[0m \u001b[0mAttributeError\u001b[0m\u001b[0;34m:\u001b[0m\u001b[0;34m\u001b[0m\u001b[0m\n\u001b[1;32m     27\u001b[0m                     \u001b[0mdata_array\u001b[0m\u001b[0;34m[\u001b[0m\u001b[0mj\u001b[0m\u001b[0;34m]\u001b[0m\u001b[0;34m[\u001b[0m\u001b[0mi\u001b[0m\u001b[0;34m]\u001b[0m \u001b[0;34m=\u001b[0m \u001b[0mnp\u001b[0m\u001b[0;34m.\u001b[0m\u001b[0mnan\u001b[0m\u001b[0;34m\u001b[0m\u001b[0m\n",
      "\u001b[0;32m/home/henry/anaconda2/envs/qutip/lib/python2.7/site-packages/qutip/qobj.pyc\u001b[0m in \u001b[0;36m__mul__\u001b[0;34m(self, other)\u001b[0m\n\u001b[1;32m    507\u001b[0m \u001b[0;34m\u001b[0m\u001b[0m\n\u001b[1;32m    508\u001b[0m             \u001b[0;32melse\u001b[0m\u001b[0;34m:\u001b[0m\u001b[0;34m\u001b[0m\u001b[0m\n\u001b[0;32m--> 509\u001b[0;31m                 \u001b[0;32mraise\u001b[0m \u001b[0mTypeError\u001b[0m\u001b[0;34m(\u001b[0m\u001b[0;34m\"Incompatible Qobj shapes\"\u001b[0m\u001b[0;34m)\u001b[0m\u001b[0;34m\u001b[0m\u001b[0m\n\u001b[0m\u001b[1;32m    510\u001b[0m \u001b[0;34m\u001b[0m\u001b[0m\n\u001b[1;32m    511\u001b[0m         \u001b[0;32melif\u001b[0m \u001b[0misinstance\u001b[0m\u001b[0;34m(\u001b[0m\u001b[0mother\u001b[0m\u001b[0;34m,\u001b[0m \u001b[0mnp\u001b[0m\u001b[0;34m.\u001b[0m\u001b[0mndarray\u001b[0m\u001b[0;34m)\u001b[0m\u001b[0;34m:\u001b[0m\u001b[0;34m\u001b[0m\u001b[0m\n",
      "\u001b[0;31mTypeError\u001b[0m: Incompatible Qobj shapes"
     ]
    }
   ],
   "source": [
    "ss_obs_array = steadystate_observable(ss_array, PARAMS, 'sigma_x')\n",
    "print ss_obs_array\n",
    "print (ss_obs_array[-1]-ss_obs_array[-2])/ss_obs_array[-2]"
   ]
  },
  {
   "cell_type": "code",
   "execution_count": 47,
   "metadata": {},
   "outputs": [
    {
     "name": "stdout",
     "output_type": "stream",
     "text": [
      "[[-0.05530504 -0.05530504]\n",
      " [-0.05529627 -0.05529627]\n",
      " [        nan         nan]\n",
      " [        nan         nan]]\n"
     ]
    }
   ],
   "source": [
    "ss_array1, PARAMS, info_arr = heatmap_loader(8, dir_name=\"heatmap_excvN\")\n",
    "ss_obs_array = steadystate_observable(ss_array1, PARAMS, 'sigma_x')"
   ]
  },
  {
   "cell_type": "code",
   "execution_count": 49,
   "metadata": {},
   "outputs": [
    {
     "data": {
      "text/plain": [
       "[<matplotlib.lines.Line2D at 0x7f6bb0322350>]"
      ]
     },
     "execution_count": 49,
     "metadata": {},
     "output_type": "execute_result"
    },
    {
     "data": {
      "image/png": "[encoded data removed]",
      "text/plain": [
       "<matplotlib.figure.Figure at 0x7f6bb664e750>"
      ]
     },
     "metadata": {},
     "output_type": "display_data"
    }
   ],
   "source": [
    "ss_array2, PARAMS, info_arr = heatmap_loader(7, dir_name=\"heatmap_excvN\")\n",
    "ss_obs_array = steadystate_observable(ss_array2, PARAMS, 'sigma_x')"
   ]
  },
  {
   "cell_type": "code",
   "execution_count": 118,
   "metadata": {},
   "outputs": [
    {
     "name": "stdout",
     "output_type": "stream",
     "text": [
      "Converged sigma_x is -0.049756748028\n",
      "[3.3988101457355819, 1.9644803672863216, 1.1261153912852502, 0.64244499457386373, 0.36550413686990157, 0.20761795641808498, 0.11782791898599156, 0.066835969479457316, 0.037900653460496557, 0.021488786403584256, 0.01218250702188222]\n"
     ]
    },
    {
     "data": {
      "image/png": "[encoded data removed]",
      "text/plain": [
       "<matplotlib.figure.Figure at 0x7f6baf16d250>"
      ]
     },
     "metadata": {},
     "output_type": "display_data"
    }
   ],
   "source": [
    "def fit_f(x_vals, y_vals):\n",
    "    return sp.optimize.curve_fit(f, x_vals, y_vals)[0]\n",
    "\n",
    "def f(x, a, b, c):\n",
    "    return a*np.exp(-b*x)-c\n",
    "\n",
    "def calc_f(x, fp):\n",
    "    return f(x, fp[0], fp[1], fp[2])\n",
    "\n",
    "obs_operator='sigma_x'\n",
    "ss_array, PARAMS, info_arr = heatmap_loader(10, dir_name=\"heatmap_excvN\")\n",
    "ss_obs_array = steadystate_observable(ss_array, PARAMS, obs_operator)\n",
    "X_values = np.array(PARAMS['x_values'])\n",
    "fit_params = fit_f(X_values[3::], ss_obs_array[0][3::])\n",
    "\n",
    "plt.plot(X_values, ss_obs_array[0])\n",
    "x_proj = np.arange(3,15)\n",
    "fit_proj = calc_f(x_proj, fit_params)\n",
    "print (\"Converged {} is {}\".format(obs_operator, max(fit_proj)))\n",
    "\n",
    "percent_change = []\n",
    "for i in range(len(fit_proj)-1):\n",
    "    percent_change.append(100*(fit_proj[i]-fit_proj[i+1])/fit_proj[i+1])\n",
    "plt.plot(x_proj, fit_proj)\n",
    "#print percent_change"
   ]
  },
  {
   "cell_type": "code",
   "execution_count": 63,
   "metadata": {},
   "outputs": [
    {
     "name": "stdout",
     "output_type": "stream",
     "text": [
      "plotting in new style\n",
      "saved at PLOTS/heatmap_excvN_10.pdf\n"
     ]
    },
    {
     "data": {
      "image/png": "[encoded data removed]",
      "text/plain": [
       "<matplotlib.figure.Figure at 0x7f6bb154e5d0>"
      ]
     },
     "metadata": {},
     "output_type": "display_data"
    }
   ],
   "source": [
    "heatmap_plotter(num=10, plot_SD=False, dir_name=\"heatmap_excvN\",\n",
    "                print_params=False, observable='sigma_x', reverse_x=False)"
   ]
  },
  {
   "cell_type": "code",
   "execution_count": 62,
   "metadata": {
    "scrolled": true
   },
   "outputs": [
    {
     "name": "stdout",
     "output_type": "stream",
     "text": [
      "plotting in new style\n",
      "saved at PLOTS/heatmap_excvN_11.pdf\n"
     ]
    },
    {
     "data": {
      "image/png": "[encoded data removed]",
      "text/plain": [
       "<matplotlib.figure.Figure at 0x7f6bb15762d0>"
      ]
     },
     "metadata": {},
     "output_type": "display_data"
    }
   ],
   "source": [
    "heatmap_plotter(num=11, plot_SD=False, dir_name=\"heatmap_excvN\",\n",
    "                print_params=False, observable='sigma_x', reverse_x=False)"
   ]
  },
  {
   "cell_type": "code",
   "execution_count": null,
   "metadata": {},
   "outputs": [],
   "source": [
    "ss_info_params = [ss_array, info_array, PARAMS]\n",
    "\n",
    "#heatmap_plotter(ss_info_params=ss_info_params, plot_SD=False,\n",
    "#                print_params=False, observable='sigma_x', reverse_x=True)\n",
    "heatmap_plotter(num=5, plot_SD=False, dir_name=\"heatmap_excvN\",\n",
    "                print_params=False, observable='sigma_x', reverse_x=False)"
   ]
  },
  {
   "cell_type": "code",
   "execution_count": null,
   "metadata": {},
   "outputs": [],
   "source": [
    "PARAMS['y_values']"
   ]
  },
  {
   "cell_type": "code",
   "execution_count": 50,
   "metadata": {
    "collapsed": true
   },
   "outputs": [],
   "source": [
    "def steadystate_observable(ss_array, PARAMS, observable):\n",
    "    try:\n",
    "        size = (len(PARAMS['y_values']), len(PARAMS['x_values']))\n",
    "    except KeyError:\n",
    "        size = (1,1)\n",
    "    # deal with the case where N is being changed as an x value\n",
    "    if 'N_1' in PARAMS['x_axis_parameters']:\n",
    "        data_array = np.zeros(size)         # Collect data\n",
    "        N_values = PARAMS['x_values']\n",
    "        # NEw observable operator for each N value\n",
    "        for i, N in enumerate(N_values):\n",
    "            PARAMS.update({'N_1' : N, 'N_2' : N})\n",
    "            exc = N+PARAMS['exc_diff']\n",
    "            # Leave it so exc can be fixed or a y_parameter\n",
    "            if 'exc' in PARAMS['x_axis_parameters']:\n",
    "                PARAMS.update({'exc': exc})\n",
    "            _obs_op = make_expectation_operators(PARAMS)[observable]\n",
    "            for j, y in enumerate(PARAMS['y_values']):\n",
    "                # the case where exc is on the y axis\n",
    "                if 'exc_diff' in PARAMS['y_axis_parameters']:\n",
    "                    PARAMS.update({'exc': N+y})\n",
    "                    _obs_op = make_expectation_operators(PARAMS)[observable]\n",
    "                try:\n",
    "                    #print j,i ,ss_array[j][i].shape, _obs_op.shape\n",
    "                    data_array[j][i] = (qt.Qobj(ss_array[j][i])*_obs_op).tr().real\n",
    "                except AttributeError:\n",
    "                    data_array[j][i] = np.nan\n",
    "        return data_array\n",
    "    else:\n",
    "        # Much simpler if N isn't on the x-axis\n",
    "        obs_op = make_expectation_operators(PARAMS)[observable]\n",
    "        f = lambda x: (qt.Qobj(x)*obs_op).tr()\n",
    "        ss_array = np.reshape(ss_array, (1, size[0]*size[1]))[0]\n",
    "\n",
    "        data_array = map(f, ss_array)\n",
    "        data_array = np.array(data_array).reshape(size).real\n",
    "        return data_array\n",
    "\n"
   ]
  },
  {
   "cell_type": "code",
   "execution_count": null,
   "metadata": {},
   "outputs": [],
   "source": [
    "plt.imshow(steadystate_observable(ss_array, PARAMS, 'sigma_x'))"
   ]
  },
  {
   "cell_type": "code",
   "execution_count": 12,
   "metadata": {
    "collapsed": true
   },
   "outputs": [],
   "source": [
    "# With saved data, we can calculte things differently\n",
    "\n",
    "def heatmap_loader(num, dir_name=\"heatmap\"):\n",
    "    directory = 'DATA/'+dir_name+'_'+str(num)\n",
    "    ss_array = load_obj(directory+'/ss_array')\n",
    "    PARAMS = load_obj(directory+'/PARAMS')\n",
    "    info_array = load_obj(directory+'/info_array') # reverse ordering -> lower_N-higher_N\n",
    "    return ss_array, PARAMS, info_array\n",
    "\n",
    "def heatmap_plotter(ss_info_params=False, num=-1, plot_SD=True, dir_name=\"heatmap\", \n",
    "                     print_params=False, observable='sigma_x', \n",
    "                    reverse_x=True):\n",
    "    if num>=0:\n",
    "        ss_array, PARAMS, info_array = heatmap_loader(num, dir_name=dir_name)\n",
    "        \n",
    "    if ss_info_params:\n",
    "        if num>=0:\n",
    "            print \"Not loading saved data, using data from arguments instead\"\n",
    "        ss_array,info_array, PARAMS = ss_info_params[0], ss_info_params[1], ss_info_params[2]\n",
    "    info = info_array[0][0]\n",
    "    #print info\n",
    "    \n",
    "    try:\n",
    "        # To catch an old bug where these were in \"info\" not in PARAMS\n",
    "        keys = ['x_values', 'y_values', 'y_axis_parameters', 'x_axis_parameters']\n",
    "        PARAMS.update(dict((key, info[key]) for key in keys))\n",
    "    except Exception as err:\n",
    "        print \"plotting in new style\"\n",
    "    if plot_SD:\n",
    "        plot_UD_SD(PARAMS[\"Gamma_1\"], PARAMS[\"alpha_1\"], PARAMS[\"w0_1\"], eps=2000.)\n",
    "    #print PARAMS\n",
    "    ss_array = steadystate_observable(ss_array, PARAMS, observable)\n",
    "    \n",
    "    f, axes = plt.subplots(1,1, figsize=(13,6))\n",
    "    for i, y_val in enumerate(PARAMS['y_values']):\n",
    "        x_values = PARAMS['x_values']\n",
    "        #x_values = x_values[::-1]\n",
    "        #if reverse_x: # Crazy bug which flips x direction - cba to refactor\n",
    "        #    x_values = x_values[::-1]\n",
    "        axes.plot(x_values, ss_array[i], \n",
    "                  label=str(PARAMS['y_axis_parameters'])+\"=\"+str(y_val))\n",
    "    if print_params:\n",
    "        print_PARAMS(PARAMS)\n",
    "    \n",
    "    plt.xlabel(', '.join(PARAMS['x_axis_parameters']))\n",
    "    plt.ylabel(\"Steadystate \"+observable)\n",
    "    #plt.ylabel(', '.join(info['y_axis_parameters']))\n",
    "    plt.legend()\n",
    "    plt.grid()\n",
    "    plot_filename = 'PLOTS/'+dir_name+'_'+str(num)+'.pdf'\n",
    "    plt.savefig(plot_filename)\n",
    "    print \"saved at {}\".format(plot_filename)\n",
    "    plt.show()"
   ]
  },
  {
   "cell_type": "code",
   "execution_count": null,
   "metadata": {
    "scrolled": false
   },
   "outputs": [],
   "source": [
    "ss_info_params = [ss_array, info_array, PARAMS]\n",
    "\n",
    "heatmap_plotter(ss_info_params=ss_info_params, plot_SD=False,\n",
    "                print_params=False, observable='sigma_x', reverse_x=False)"
   ]
  },
  {
   "cell_type": "markdown",
   "metadata": {},
   "source": [
    "# For N=6, with no "
   ]
  },
  {
   "cell_type": "code",
   "execution_count": null,
   "metadata": {
    "code_folding": [],
    "collapsed": true
   },
   "outputs": [],
   "source": [
    "\"\"\"from heatmap_setup import steadystate\n",
    "\n",
    "w_2 = 8000.\n",
    "alpha = 20.\n",
    "\n",
    "N = 6\n",
    "pap = alpha_to_pialpha_prop(alpha, w_2)\n",
    "PARAMS = PARAMS_setup(bias=100., w_2=8000., V = 100., pialpha_prop=pap,\n",
    "                                 T_EM=6000., T_ph =300.,\n",
    "                                 alpha_EM=0.1, shift=True,\n",
    "                                 num_cpus=3, N=N, Gamma=200., w_0=300.,\n",
    "                                 silent=True, exc_diff=0)\n",
    "from numpy.linalg import norm\n",
    "def estimateCondition(M):\n",
    "    vec = np.ones((1, M.shape[0])).T\n",
    "    return norm(M.dot(vec), np.inf)\"\"\""
   ]
  },
  {
   "cell_type": "markdown",
   "metadata": {},
   "source": [
    "# Comparing SS solution methods (direct, inverse power, eigen)"
   ]
  },
  {
   "cell_type": "code",
   "execution_count": null,
   "metadata": {},
   "outputs": [],
   "source": [
    "from qutip import build_preconditioner\n",
    "\n",
    "def method_plotter(N_vals, data_dict, info_dict, ax1, ax2, linestyle=\"solid\"):\n",
    "    lw=1.\n",
    "    if linestyle == 'dashed':\n",
    "        lw=1.8\n",
    "    for i, key in enumerate(data_dict.keys()):\n",
    "        ax1.plot(N_vals, data_dict[key], label=key, color=colourWheel[i], ls=linestyle, linewidth=lw)\n",
    "        #print info_dict[key]\n",
    "        ax2.plot(N_vals, info_dict[key], label=key, color=colourWheel[i], ls=linestyle, linewidth=lw)\n",
    "    ax1.legend()\n",
    "    ax2.legend()\n",
    "    ax1.set_ylabel(\"Coherence\")\n",
    "    ax2.set_ylabel(\"Solution time\")\n",
    "\n",
    "\n",
    "def method_comparison(N_i, N_f, plot=False, site_basis=True):\n",
    "    methods = ['direct']\n",
    "    data_dict = dict()\n",
    "    info_dict = dict()\n",
    "    N_vals = range(N_i, N_f)\n",
    "    for exc_diff in [0,3,4]:\n",
    "        for N in N_vals:\n",
    "            PARAMS.update({'N_1':N, 'N_2':N, 'exc':int(2*N-exc_diff)})\n",
    "            H, L = get_H_and_L(PARAMS,silent=False, threshold=1e-7, site_basis=site_basis)\n",
    "            exps = make_expectation_operators(PARAMS, site_basis=site_basis)\n",
    "            for method in methods:\n",
    "                try:\n",
    "                    M=None\n",
    "\n",
    "                    if \"iterative\" in method:\n",
    "                        ti = time.time()\n",
    "                        M = build_preconditioner(H[1], [L], use_rcm=True, ILU_MILU='smilu_2')\n",
    "                        print(\"Building preconditioner took {} seconds\".format(time.time()-ti))\n",
    "                    ss, full_info = calculate_steadystate(H, L, method=method, persistent=True)\n",
    "                    info = full_info['solution_time']\n",
    "\n",
    "                    coh = (exps['sigma_x']*ss).tr().real\n",
    "                    try:\n",
    "                        data_dict[exc_diff].append(coh)\n",
    "                        info_dict[exc_diff].append(info)\n",
    "                    except KeyError:\n",
    "                        data_dict[exc_diff] = [coh]\n",
    "                        info_dict[exc_diff] = [info]\n",
    "                except Exception as err:\n",
    "                    print( \"{} failed due to : {}\".format(method, err))\n",
    "                    try:\n",
    "                        data_dict[exc_diff].append(None)\n",
    "                        info_dict[exc_diff].append(None)\n",
    "                    except KeyError:\n",
    "                        data_dict[exc_diff] = [None]\n",
    "                        info_dict[exc_diff] = [None]\n",
    "    #if plot:\n",
    "    #    method_plotter(N_vals, data_dict, info_dict)\n",
    "    return N_vals, data_dict, info_dict\n",
    "\n",
    "N_vals, data_dict_sb, info_dict_sb = method_comparison(3,7)\n",
    "#N_vals, data_dict_eb, info_dict_eb = method_comparison(3,7, site_basis=False)\n",
    "\n",
    "f, (ax1, ax2) = plt.subplots(2,1, figsize=(10,7))\n",
    "method_plotter(N_vals, data_dict_sb, info_dict_sb, ax1, ax2)\n",
    "#method_plotter(N_vals, data_dict_eb, info_dict_eb, ax1, ax2, linestyle=\"dashed\")\n"
   ]
  },
  {
   "cell_type": "markdown",
   "metadata": {},
   "source": [
    "# Plotting methods"
   ]
  },
  {
   "cell_type": "code",
   "execution_count": null,
   "metadata": {
    "collapsed": true
   },
   "outputs": [],
   "source": []
  },
  {
   "cell_type": "code",
   "execution_count": null,
   "metadata": {
    "collapsed": true
   },
   "outputs": [],
   "source": [
    "heatmap_plotter(2, plot_SD=False, dir_name='heatmap_excvN', \n",
    "                     print_params=False, observable='', \n",
    "                    reverse_x=True)"
   ]
  },
  {
   "cell_type": "code",
   "execution_count": null,
   "metadata": {
    "collapsed": true
   },
   "outputs": [],
   "source": []
  }
 ],
 "metadata": {
  "kernelspec": {
   "display_name": "Python 2",
   "language": "python",
   "name": "python2"
  },
  "language_info": {
   "codemirror_mode": {
    "name": "ipython",
    "version": 2
   },
   "file_extension": ".py",
   "mimetype": "text/x-python",
   "name": "python",
   "nbconvert_exporter": "python",
   "pygments_lexer": "ipython2",
   "version": "2.7.13"
  }
 },
 "nbformat": 4,
 "nbformat_minor": 2
}
