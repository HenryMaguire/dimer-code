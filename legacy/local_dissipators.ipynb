{
 "cells": [
  {
   "cell_type": "code",
   "execution_count": 2,
   "metadata": {},
   "outputs": [
    {
     "name": "stdout",
     "output_type": "stream",
     "text": [
      "SES_setup loaded globally\n"
     ]
    }
   ],
   "source": [
    "%matplotlib inline \n",
    "import matplotlib\n",
    "import matplotlib.pyplot as plt\n",
    "\n",
    "\n",
    "import time\n",
    "import heatmap_setup as hm\n",
    "import numpy as np\n",
    "\n",
    "\n",
    "from SES_setup import *\n",
    "from utils import *\n",
    "from style import *\n",
    "\n",
    "colourWheel =['#329932',\n",
    "            '#ff6961',\n",
    "            'b',\n",
    "            '#6a3d9a',\n",
    "            '#fb9a99',\n",
    "            '#e31a1c',\n",
    "            '#fdbf6f',\n",
    "            '#ff7f00',\n",
    "            '#cab2d6',\n",
    "            '#6a3d9a',\n",
    "            '#ffff99',\n",
    "            '#b15928',\n",
    "            '#67001f',\n",
    "            '#b2182b',\n",
    "            '#d6604d',\n",
    "            '#f4a582',\n",
    "            '#fddbc7',\n",
    "            '#f7f7f7',\n",
    "            '#d1e5f0',\n",
    "            '#92c5de',\n",
    "            '#4393c3',\n",
    "            '#2166ac',\n",
    "            '#053061'][::-1]\n",
    "plt.rcParams['axes.labelsize'] = 25\n",
    "plt.rcParams['legend.fontsize'] = 'large'"
   ]
  },
  {
   "cell_type": "markdown",
   "metadata": {},
   "source": [
    "# $\\pi\\alpha = 200$"
   ]
  },
  {
   "cell_type": "code",
   "execution_count": 8,
   "metadata": {},
   "outputs": [
    {
     "data": {
      "image/png": "[encoded data removed]",
      "text/plain": [
       "<matplotlib.figure.Figure at 0x7f7272c87d50>"
      ]
     },
     "metadata": {},
     "output_type": "display_data"
    },
    {
     "name": "stdout",
     "output_type": "stream",
     "text": [
      "Gap is 180.350062725. Phonon thermal energy is 208.5. Phonon SD peak is 115.01150115. N=7.\n",
      "Quantum object: dims = [[3], [3]], shape = (3, 3), type = oper, isherm = True\n",
      "Qobj data =\n",
      "[[     0.         0.         0.   ]\n",
      " [     0.     11372.355      0.   ]\n",
      " [     0.         0.     11291.7  ]]\n",
      "Quantum object: dims = [[3], [3]], shape = (3, 3), type = oper, isherm = True\n",
      "Qobj data =\n",
      "[[     0.         0.         0.   ]\n",
      " [     0.     11372.355     80.655]\n",
      " [     0.        80.655  11291.7  ]]\n",
      "Steady state for 3 took 0.016 seconds with direct, XO changed by 91.9578%\n",
      "Quantum object: dims = [[3], [3]], shape = (3, 3), type = oper, isherm = True\n",
      "Qobj data =\n",
      "[[     0.         0.         0.   ]\n",
      " [     0.     11372.355      0.   ]\n",
      " [     0.         0.     11291.7  ]]\n",
      "Quantum object: dims = [[3], [3]], shape = (3, 3), type = oper, isherm = True\n",
      "Qobj data =\n",
      "[[     0.         0.         0.   ]\n",
      " [     0.     11372.355     80.655]\n",
      " [     0.        80.655  11291.7  ]]\n",
      "Steady state for 4 took 0.081 seconds with direct, XO changed by 0.0247%\n",
      "local:  0.0575047457052 0.0573325028434 2.72751877668e-08\n",
      "Steady state for 3 took 0.023 seconds with direct, XO changed by 86.8034%\n",
      "Steady state for 4 took 0.098 seconds with direct, XO changed by 0.6913%\n",
      "Steady state for 5 took 0.644 seconds with direct, XO changed by 0.4260%\n",
      "Steady state for 6 took 3.198 seconds with direct, XO changed by 0.2553%\n",
      "Steady state for 7 took 13.935 seconds with direct, XO changed by 0.1482%\n",
      "Steady state for 8 took 60.622 seconds with direct, XO changed by 0.0834%\n",
      "non-local:  0.108310479874 0.0503965667884 -0.00181293635187\n"
     ]
    }
   ],
   "source": [
    "reload(hm)\n",
    "w_2 = 1.4*ev_to_inv_cm\n",
    "bias = 0.01*ev_to_inv_cm #0.0000001*ev_to_inv_cm\n",
    "V = 0.01*ev_to_inv_cm #0.00001*ev_to_inv_cm\n",
    "alpha = 200./pi\n",
    "alpha_EM = 5.309e-3 # inv_ps_to_inv_cm *10^-3\n",
    "N =7\n",
    "wc = 100.\n",
    "w_0 = 200.\n",
    "site_basis = True\n",
    "Gamma = (w_0**2)/wc\n",
    "PARAMS = PARAMS_setup(bias=bias, w_2=w_2, \n",
    "                      V = V, alpha=alpha,\n",
    "                      T_EM=6000., T_ph =300., alpha_EM=alpha_EM, shift=True,\n",
    "                      num_cpus=4, N=N, Gamma=Gamma, w_0=w_0,\n",
    "                      silent=False, exc_diff=N, parity_flip=True)\n",
    "\n",
    "\n",
    "ss_local, il = hm.calculate_converged_steadystate(PARAMS, conv_percent_tol=1e-1, etol=1e-8, N_min=3, N_max=10,\n",
    "                          method=\"direct\",  observable='XO', \n",
    "                          additive=False, local=True, threshold=0.)\n",
    "PARAMS.update({'N_1' : il['N'], 'N_2' : il['N'], 'exc' : il['N']})\n",
    "ops_local = hm.make_expectation_operators(PARAMS)\n",
    "print \"local: \",(ss_local*ops_local['dark']).tr().real, (ss_local*ops_local['bright']).tr().real, (ss_local*ops_local['eig_x']).tr().real\n",
    "\n",
    "\n",
    "ss, inl = hm.calculate_converged_steadystate(PARAMS, conv_percent_tol=1e-1, etol=1e-8, N_min=3, N_max=10,\n",
    "                          method=\"direct\", observable='XO', \n",
    "                          additive=False, local=False, threshold=0.)\n",
    "PARAMS.update({'N_1' : inl['N'], 'N_2' : inl['N'], 'exc' : inl['N']})\n",
    "ops = hm.make_expectation_operators(PARAMS)\n",
    "print \"non-local: \", (ss*ops['dark']).tr().real, (ss*ops['bright']).tr().real, (ss*ops['eig_x']).tr().real\n"
   ]
  },
  {
   "cell_type": "markdown",
   "metadata": {},
   "source": [
    "# $\\pi\\alpha = 20$"
   ]
  },
  {
   "cell_type": "code",
   "execution_count": 10,
   "metadata": {},
   "outputs": [
    {
     "data": {
      "image/png": "[encoded data removed]",
      "text/plain": [
       "<matplotlib.figure.Figure at 0x7f7274a45fd0>"
      ]
     },
     "metadata": {},
     "output_type": "display_data"
    },
    {
     "name": "stdout",
     "output_type": "stream",
     "text": [
      "Gap is 180.350062725. Phonon thermal energy is 208.5. Phonon SD peak is 115.01150115. N=7.\n",
      "Quantum object: dims = [[3], [3]], shape = (3, 3), type = oper, isherm = True\n",
      "Qobj data =\n",
      "[[     0.         0.         0.   ]\n",
      " [     0.     11372.355      0.   ]\n",
      " [     0.         0.     11291.7  ]]\n",
      "Quantum object: dims = [[3], [3]], shape = (3, 3), type = oper, isherm = True\n",
      "Qobj data =\n",
      "[[     0.         0.         0.   ]\n",
      " [     0.     11372.355     80.655]\n",
      " [     0.        80.655  11291.7  ]]\n",
      "Steady state for 3 took 0.020 seconds with direct, XO changed by 91.1142%\n",
      "Quantum object: dims = [[3], [3]], shape = (3, 3), type = oper, isherm = True\n",
      "Qobj data =\n",
      "[[     0.         0.         0.   ]\n",
      " [     0.     11372.355      0.   ]\n",
      " [     0.         0.     11291.7  ]]\n",
      "Quantum object: dims = [[3], [3]], shape = (3, 3), type = oper, isherm = True\n",
      "Qobj data =\n",
      "[[     0.         0.         0.   ]\n",
      " [     0.     11372.355     80.655]\n",
      " [     0.        80.655  11291.7  ]]\n",
      "Steady state for 4 took 0.084 seconds with direct, XO changed by 0.0079%\n",
      "local:  0.0576208548642 0.0573115570287 5.70442996309e-09\n",
      "Steady state for 3 took 0.040 seconds with direct, XO changed by 90.1765%\n",
      "Steady state for 4 took 0.132 seconds with direct, XO changed by 0.0809%\n",
      "non-local:  0.118332351226 0.0502819348381 -0.000175184592921\n"
     ]
    }
   ],
   "source": [
    "reload(hm)\n",
    "w_2 = 1.4*ev_to_inv_cm\n",
    "bias = 0.01*ev_to_inv_cm #0.0000001*ev_to_inv_cm\n",
    "V = 0.01*ev_to_inv_cm #0.00001*ev_to_inv_cm\n",
    "alpha = 20./pi\n",
    "alpha_EM = 5.309e-3 # inv_ps_to_inv_cm *10^-3\n",
    "N =7\n",
    "wc = 100.\n",
    "w_0 = 200.\n",
    "site_basis = True\n",
    "Gamma = (w_0**2)/wc\n",
    "PARAMS = PARAMS_setup(bias=bias, w_2=w_2, \n",
    "                      V = V, alpha=alpha,\n",
    "                      T_EM=6000., T_ph =300., alpha_EM=alpha_EM, shift=True,\n",
    "                      num_cpus=4, N=N, Gamma=Gamma, w_0=w_0,\n",
    "                      silent=False, exc_diff=N, parity_flip=True)\n",
    "\n",
    "\n",
    "ss_local, il = hm.calculate_converged_steadystate(PARAMS, conv_percent_tol=1e-1, etol=1e-8, N_min=3, N_max=10,\n",
    "                          method=\"direct\",  observable='XO', \n",
    "                          additive=False, local=True, threshold=0.)\n",
    "PARAMS.update({'N_1' : il['N'], 'N_2' : il['N'], 'exc' : il['N']})\n",
    "ops_local = hm.make_expectation_operators(PARAMS)\n",
    "print \"local: \",(ss_local*ops_local['dark']).tr().real, (ss_local*ops_local['bright']).tr().real, (ss_local*ops_local['eig_x']).tr().real\n",
    "\n",
    "\n",
    "ss, inl = hm.calculate_converged_steadystate(PARAMS, conv_percent_tol=1e-1, etol=1e-8, N_min=3, N_max=10,\n",
    "                          method=\"direct\", observable='XO', \n",
    "                          additive=False, local=False, threshold=0.)\n",
    "PARAMS.update({'N_1' : inl['N'], 'N_2' : inl['N'], 'exc' : inl['N']})\n",
    "ops = hm.make_expectation_operators(PARAMS)\n",
    "print \"non-local: \", (ss*ops['dark']).tr().real, (ss*ops['bright']).tr().real, (ss*ops['eig_x']).tr().real"
   ]
  },
  {
   "cell_type": "markdown",
   "metadata": {},
   "source": [
    "# $\\pi\\alpha = 2$"
   ]
  },
  {
   "cell_type": "code",
   "execution_count": 12,
   "metadata": {},
   "outputs": [
    {
     "data": {
      "image/png": "[encoded data removed]",
      "text/plain": [
       "<matplotlib.figure.Figure at 0x7f7272c81150>"
      ]
     },
     "metadata": {},
     "output_type": "display_data"
    },
    {
     "name": "stdout",
     "output_type": "stream",
     "text": [
      "Gap is 180.350062725. Phonon thermal energy is 208.5. Phonon SD peak is 115.01150115. N=7.\n",
      "Quantum object: dims = [[3], [3]], shape = (3, 3), type = oper, isherm = True\n",
      "Qobj data =\n",
      "[[     0.         0.         0.   ]\n",
      " [     0.     11372.355      0.   ]\n",
      " [     0.         0.     11291.7  ]]\n",
      "Quantum object: dims = [[3], [3]], shape = (3, 3), type = oper, isherm = True\n",
      "Qobj data =\n",
      "[[     0.         0.         0.   ]\n",
      " [     0.     11372.355     80.655]\n",
      " [     0.        80.655  11291.7  ]]\n",
      "Steady state for 3 took 0.053 seconds with direct, XO changed by 81.0652%\n",
      "Quantum object: dims = [[3], [3]], shape = (3, 3), type = oper, isherm = True\n",
      "Qobj data =\n",
      "[[     0.         0.         0.   ]\n",
      " [     0.     11372.355      0.   ]\n",
      " [     0.         0.     11291.7  ]]\n",
      "Quantum object: dims = [[3], [3]], shape = (3, 3), type = oper, isherm = True\n",
      "Qobj data =\n",
      "[[     0.         0.         0.   ]\n",
      " [     0.     11372.355     80.655]\n",
      " [     0.        80.655  11291.7  ]]\n",
      "Steady state for 4 took 0.066 seconds with direct, XO changed by 0.0079%\n",
      "local:  0.0576208548646 0.057311557029 5.70442996591e-09\n",
      "Steady state for 3 took 0.018 seconds with direct, XO changed by 78.3398%\n",
      "Steady state for 4 took 0.119 seconds with direct, XO changed by 0.0809%\n",
      "non-local:  0.118332351228 0.0502819348388 -0.000175184592924\n"
     ]
    }
   ],
   "source": [
    "reload(hm)\n",
    "w_2 = 1.4*ev_to_inv_cm\n",
    "bias = 0.01*ev_to_inv_cm #0.0000001*ev_to_inv_cm\n",
    "V = 0.01*ev_to_inv_cm #0.00001*ev_to_inv_cm\n",
    "alpha = 20./pi\n",
    "alpha_EM = 5.309e-3 # inv_ps_to_inv_cm *10^-3\n",
    "N =7\n",
    "wc = 100.\n",
    "w_0 = 200.\n",
    "site_basis = True\n",
    "Gamma = (w_0**2)/wc\n",
    "PARAMS = PARAMS_setup(bias=bias, w_2=w_2, \n",
    "                      V = V, alpha=alpha,\n",
    "                      T_EM=6000., T_ph =300., alpha_EM=alpha_EM, shift=True,\n",
    "                      num_cpus=4, N=N, Gamma=Gamma, w_0=w_0,\n",
    "                      silent=False, exc_diff=N, parity_flip=True)\n",
    "\n",
    "\n",
    "ss_local, il = hm.calculate_converged_steadystate(PARAMS, conv_percent_tol=1e-1, etol=1e-8, N_min=3, N_max=10,\n",
    "                          method=\"direct\",  observable='XO', \n",
    "                          additive=False, local=True, threshold=0.)\n",
    "PARAMS.update({'N_1' : il['N'], 'N_2' : il['N'], 'exc' : il['N']})\n",
    "ops_local = hm.make_expectation_operators(PARAMS)\n",
    "print \"local: \",(ss_local*ops_local['dark']).tr().real, (ss_local*ops_local['bright']).tr().real, (ss_local*ops_local['eig_x']).tr().real\n",
    "\n",
    "\n",
    "ss, inl = hm.calculate_converged_steadystate(PARAMS, conv_percent_tol=1e-1, etol=1e-8, N_min=3, N_max=10,\n",
    "                          method=\"direct\", observable='XO', \n",
    "                          additive=False, local=False, threshold=0.)\n",
    "PARAMS.update({'N_1' : inl['N'], 'N_2' : inl['N'], 'exc' : inl['N']})\n",
    "ops = hm.make_expectation_operators(PARAMS)\n",
    "print \"non-local: \", (ss*ops['dark']).tr().real, (ss*ops['bright']).tr().real, (ss*ops['eig_x']).tr().real"
   ]
  },
  {
   "cell_type": "code",
   "execution_count": null,
   "metadata": {
    "collapsed": true
   },
   "outputs": [],
   "source": []
  }
 ],
 "metadata": {
  "kernelspec": {
   "display_name": "Python 2",
   "language": "python",
   "name": "python2"
  },
  "language_info": {
   "codemirror_mode": {
    "name": "ipython",
    "version": 2
   },
   "file_extension": ".py",
   "mimetype": "text/x-python",
   "name": "python",
   "nbconvert_exporter": "python",
   "pygments_lexer": "ipython2",
   "version": "2.7.13"
  }
 },
 "nbformat": 4,
 "nbformat_minor": 2
}
