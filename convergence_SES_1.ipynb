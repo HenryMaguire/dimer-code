{
 "cells": [
  {
   "cell_type": "code",
   "execution_count": 8,
   "metadata": {
    "collapsed": true
   },
   "outputs": [],
   "source": [
    "# Incase we have to clear all variables\n",
    "%reset -f"
   ]
  },
  {
   "cell_type": "code",
   "execution_count": 1,
   "metadata": {},
   "outputs": [
    {
     "name": "stdout",
     "output_type": "stream",
     "text": [
      "YES\n"
     ]
    }
   ],
   "source": [
    "%matplotlib inline \n",
    "import matplotlib\n",
    "import matplotlib.pyplot as plt\n",
    "colourWheel =['#329932',\n",
    "            '#ff6961',\n",
    "            'b',\n",
    "            '#6a3d9a',\n",
    "            '#fb9a99',\n",
    "            '#e31a1c',\n",
    "            '#fdbf6f',\n",
    "            '#ff7f00',\n",
    "            '#cab2d6',\n",
    "            '#6a3d9a',\n",
    "            '#ffff99',\n",
    "            '#b15928',\n",
    "            '#67001f',\n",
    "            '#b2182b',\n",
    "            '#d6604d',\n",
    "            '#f4a582',\n",
    "            '#fddbc7',\n",
    "            '#f7f7f7',\n",
    "            '#d1e5f0',\n",
    "            '#92c5de',\n",
    "            '#4393c3',\n",
    "            '#2166ac',\n",
    "            '#053061']\n",
    "\n",
    "from SES_setup import *\n",
    "from utils import *\n",
    "from style import *"
   ]
  },
  {
   "cell_type": "markdown",
   "metadata": {},
   "source": [
    "### Example Liouvillian"
   ]
  },
  {
   "cell_type": "code",
   "execution_count": 2,
   "metadata": {},
   "outputs": [],
   "source": [
    "import time\n",
    "import heatmap_setup as hm\n",
    "import numpy as np\n",
    "\n",
    "\n",
    "w_2 = 1.4*ev_to_inv_cm\n",
    "bias = 0.01*ev_to_inv_cm #0.0000001*ev_to_inv_cm\n",
    "V = 0.01*ev_to_inv_cm #0.00001*ev_to_inv_cm\n",
    "alpha = 200./pi\n",
    "alpha_EM = 5.309e-3 # inv_ps_to_inv_cm *10^-3\n",
    "N =4\n",
    "wc = 100.\n",
    "w_0 = 200.\n",
    "site_basis = True\n",
    "Gamma = (w_0**2)/wc\n",
    "PARAMS = PARAMS_setup(bias=bias, w_2=w_2, \n",
    "                      V = V, alpha=alpha,\n",
    "                      T_EM=6000., T_ph =300., alpha_EM=alpha_EM, shift=True,\n",
    "                      num_cpus=4, N=N, Gamma=Gamma, w_0=w_0,\n",
    "                      silent=True, exc_diff=2*N)\n",
    "\n"
   ]
  },
  {
   "cell_type": "code",
   "execution_count": 9,
   "metadata": {},
   "outputs": [
    {
     "name": "stdout",
     "output_type": "stream",
     "text": [
      "****************************************************************\n",
      "The operators took 1.84512901306 and have dimension 48.\n",
      "Building the RC Liouvillian took 1.940 seconds.\n",
      "It is 2304by2304. The full basis would be 2304by2304\n",
      "It took  1.18283104897  seconds to build the Non-secular RWA Liouvillian\n",
      "Chopping reduced the sparsity from 8.028% to 7.405%\n"
     ]
    }
   ],
   "source": [
    "\n",
    "H, L = get_H_and_L(PARAMS, silent=False, threshold=1e-7)"
   ]
  },
  {
   "cell_type": "code",
   "execution_count": 12,
   "metadata": {},
   "outputs": [
    {
     "name": "stdout",
     "output_type": "stream",
     "text": [
      "Steady state took 0.413 seconds with power\n"
     ]
    },
    {
     "ename": "IndexError",
     "evalue": "invalid index",
     "output_type": "error",
     "traceback": [
      "\u001b[0;31m---------------------------------------------------------------------------\u001b[0m",
      "\u001b[0;31mIndexError\u001b[0m                                Traceback (most recent call last)",
      "\u001b[0;32m<ipython-input-12-c0951ad081d6>\u001b[0m in \u001b[0;36m<module>\u001b[0;34m()\u001b[0m\n\u001b[1;32m      8\u001b[0m             \u001b[0mres\u001b[0m\u001b[0;34m,\u001b[0m \u001b[0mtherm\u001b[0m \u001b[0;34m=\u001b[0m \u001b[0;34m(\u001b[0m\u001b[0mssL\u001b[0m\u001b[0;34m*\u001b[0m\u001b[0mop\u001b[0m\u001b[0;34m[\u001b[0m\u001b[0;34m'op'\u001b[0m\u001b[0;34m]\u001b[0m\u001b[0;34m)\u001b[0m\u001b[0;34m.\u001b[0m\u001b[0mtr\u001b[0m\u001b[0;34m(\u001b[0m\u001b[0;34m)\u001b[0m\u001b[0;34m,\u001b[0m \u001b[0;34m(\u001b[0m\u001b[0mss_therm\u001b[0m\u001b[0;34m*\u001b[0m\u001b[0mop\u001b[0m\u001b[0;34m[\u001b[0m\u001b[0;34m'op'\u001b[0m\u001b[0;34m]\u001b[0m\u001b[0;34m)\u001b[0m\u001b[0;34m.\u001b[0m\u001b[0mtr\u001b[0m\u001b[0;34m(\u001b[0m\u001b[0;34m)\u001b[0m\u001b[0;34m\u001b[0m\u001b[0m\n\u001b[1;32m      9\u001b[0m         \u001b[0;32melse\u001b[0m\u001b[0;34m:\u001b[0m\u001b[0;34m\u001b[0m\u001b[0m\n\u001b[0;32m---> 10\u001b[0;31m             \u001b[0mres\u001b[0m\u001b[0;34m,\u001b[0m \u001b[0mtherm\u001b[0m \u001b[0;34m=\u001b[0m \u001b[0;34m(\u001b[0m\u001b[0mssL\u001b[0m\u001b[0;34m*\u001b[0m\u001b[0mop\u001b[0m\u001b[0;34m[\u001b[0m\u001b[0;34m'op'\u001b[0m\u001b[0;34m]\u001b[0m\u001b[0;34m)\u001b[0m\u001b[0;34m.\u001b[0m\u001b[0mtr\u001b[0m\u001b[0;34m(\u001b[0m\u001b[0;34m)\u001b[0m\u001b[0;34m.\u001b[0m\u001b[0mreal\u001b[0m\u001b[0;34m,\u001b[0m \u001b[0;34m(\u001b[0m\u001b[0mss_therm\u001b[0m\u001b[0;34m*\u001b[0m\u001b[0mop\u001b[0m\u001b[0;34m[\u001b[0m\u001b[0;34m'op'\u001b[0m\u001b[0;34m]\u001b[0m\u001b[0;34m)\u001b[0m\u001b[0;34m.\u001b[0m\u001b[0mtr\u001b[0m\u001b[0;34m(\u001b[0m\u001b[0;34m)\u001b[0m\u001b[0;34m.\u001b[0m\u001b[0mreal\u001b[0m\u001b[0;34m\u001b[0m\u001b[0m\n\u001b[0m\u001b[1;32m     11\u001b[0m         \u001b[0;32mprint\u001b[0m \u001b[0;34m\"{} : {} \\t | \\t {} \\t | \\t {}\"\u001b[0m\u001b[0;34m.\u001b[0m\u001b[0mformat\u001b[0m\u001b[0;34m(\u001b[0m\u001b[0mkey\u001b[0m\u001b[0;34m,\u001b[0m \u001b[0mres\u001b[0m\u001b[0;34m,\u001b[0m \u001b[0mtherm\u001b[0m\u001b[0;34m,\u001b[0m \u001b[0mabs\u001b[0m\u001b[0;34m(\u001b[0m\u001b[0mres\u001b[0m \u001b[0;34m-\u001b[0m \u001b[0mtherm\u001b[0m\u001b[0;34m)\u001b[0m\u001b[0;34m)\u001b[0m\u001b[0;34m\u001b[0m\u001b[0m\n",
      "\u001b[0;32m/home/henry/anaconda2/envs/qutip/lib/python2.7/site-packages/qutip/qobj.pyc\u001b[0m in \u001b[0;36m__getitem__\u001b[0;34m(self, ind)\u001b[0m\n\u001b[1;32m    619\u001b[0m         \u001b[0mGET\u001b[0m \u001b[0mqobj\u001b[0m \u001b[0melements\u001b[0m\u001b[0;34m.\u001b[0m\u001b[0;34m\u001b[0m\u001b[0m\n\u001b[1;32m    620\u001b[0m         \"\"\"\n\u001b[0;32m--> 621\u001b[0;31m         \u001b[0mout\u001b[0m \u001b[0;34m=\u001b[0m \u001b[0mself\u001b[0m\u001b[0;34m.\u001b[0m\u001b[0mdata\u001b[0m\u001b[0;34m[\u001b[0m\u001b[0mind\u001b[0m\u001b[0;34m]\u001b[0m\u001b[0;34m\u001b[0m\u001b[0m\n\u001b[0m\u001b[1;32m    622\u001b[0m         \u001b[0;32mif\u001b[0m \u001b[0msp\u001b[0m\u001b[0;34m.\u001b[0m\u001b[0missparse\u001b[0m\u001b[0;34m(\u001b[0m\u001b[0mout\u001b[0m\u001b[0;34m)\u001b[0m\u001b[0;34m:\u001b[0m\u001b[0;34m\u001b[0m\u001b[0m\n\u001b[1;32m    623\u001b[0m             \u001b[0;32mreturn\u001b[0m \u001b[0mnp\u001b[0m\u001b[0;34m.\u001b[0m\u001b[0masarray\u001b[0m\u001b[0;34m(\u001b[0m\u001b[0mout\u001b[0m\u001b[0;34m.\u001b[0m\u001b[0mtodense\u001b[0m\u001b[0;34m(\u001b[0m\u001b[0;34m)\u001b[0m\u001b[0;34m)\u001b[0m\u001b[0;34m\u001b[0m\u001b[0m\n",
      "\u001b[0;32m/home/henry/anaconda2/envs/qutip/lib/python2.7/site-packages/scipy/sparse/csr.pyc\u001b[0m in \u001b[0;36m__getitem__\u001b[0;34m(self, key)\u001b[0m\n\u001b[1;32m    333\u001b[0m             \u001b[0mrow\u001b[0m\u001b[0;34m,\u001b[0m \u001b[0mcol\u001b[0m \u001b[0;34m=\u001b[0m \u001b[0mself\u001b[0m\u001b[0;34m.\u001b[0m\u001b[0m_index_to_arrays\u001b[0m\u001b[0;34m(\u001b[0m\u001b[0mrow\u001b[0m\u001b[0;34m,\u001b[0m \u001b[0mcol\u001b[0m\u001b[0;34m)\u001b[0m\u001b[0;34m\u001b[0m\u001b[0m\n\u001b[1;32m    334\u001b[0m \u001b[0;34m\u001b[0m\u001b[0m\n\u001b[0;32m--> 335\u001b[0;31m         \u001b[0mrow\u001b[0m \u001b[0;34m=\u001b[0m \u001b[0masindices\u001b[0m\u001b[0;34m(\u001b[0m\u001b[0mrow\u001b[0m\u001b[0;34m)\u001b[0m\u001b[0;34m\u001b[0m\u001b[0m\n\u001b[0m\u001b[1;32m    336\u001b[0m         \u001b[0mcol\u001b[0m \u001b[0;34m=\u001b[0m \u001b[0masindices\u001b[0m\u001b[0;34m(\u001b[0m\u001b[0mcol\u001b[0m\u001b[0;34m)\u001b[0m\u001b[0;34m\u001b[0m\u001b[0m\n\u001b[1;32m    337\u001b[0m         \u001b[0;32mif\u001b[0m \u001b[0mrow\u001b[0m\u001b[0;34m.\u001b[0m\u001b[0mshape\u001b[0m \u001b[0;34m!=\u001b[0m \u001b[0mcol\u001b[0m\u001b[0;34m.\u001b[0m\u001b[0mshape\u001b[0m\u001b[0;34m:\u001b[0m\u001b[0;34m\u001b[0m\u001b[0m\n",
      "\u001b[0;32m/home/henry/anaconda2/envs/qutip/lib/python2.7/site-packages/scipy/sparse/csr.pyc\u001b[0m in \u001b[0;36masindices\u001b[0;34m(x)\u001b[0m\n\u001b[1;32m    244\u001b[0m                     \u001b[0mx\u001b[0m \u001b[0;34m=\u001b[0m \u001b[0mx\u001b[0m\u001b[0;34m.\u001b[0m\u001b[0mastype\u001b[0m\u001b[0;34m(\u001b[0m\u001b[0midx_dtype\u001b[0m\u001b[0;34m)\u001b[0m\u001b[0;34m\u001b[0m\u001b[0m\n\u001b[1;32m    245\u001b[0m             \u001b[0;32mexcept\u001b[0m\u001b[0;34m:\u001b[0m\u001b[0;34m\u001b[0m\u001b[0m\n\u001b[0;32m--> 246\u001b[0;31m                 \u001b[0;32mraise\u001b[0m \u001b[0mIndexError\u001b[0m\u001b[0;34m(\u001b[0m\u001b[0;34m'invalid index'\u001b[0m\u001b[0;34m)\u001b[0m\u001b[0;34m\u001b[0m\u001b[0m\n\u001b[0m\u001b[1;32m    247\u001b[0m             \u001b[0;32melse\u001b[0m\u001b[0;34m:\u001b[0m\u001b[0;34m\u001b[0m\u001b[0m\n\u001b[1;32m    248\u001b[0m                 \u001b[0;32mreturn\u001b[0m \u001b[0mx\u001b[0m\u001b[0;34m\u001b[0m\u001b[0m\n",
      "\u001b[0;31mIndexError\u001b[0m: invalid index"
     ]
    }
   ],
   "source": [
    "ssL, info = hm.calculate_steadystate(H, L, method=\"power\", persistent=True)\n",
    "exps = make_expectation_operators(PARAMS, site_basis=site_basis)\n",
    "\n",
    "ss_therm = thermal_state(PARAMS[\"T_EM\"], H[1])\n",
    "for key, op in exps.items():\n",
    "    if 'RC' not in key:\n",
    "        if 'coherence' in key:\n",
    "            res, therm = (ssL*op).tr(), (ss_therm*op).tr()\n",
    "        else:\n",
    "            res, therm = (ssL*op).tr().real, (ss_therm*op).tr().real\n",
    "        print \"{} : {} \\t | \\t {} \\t | \\t {}\".format(key, res, therm, abs(res - therm))"
   ]
  },
  {
   "cell_type": "code",
   "execution_count": null,
   "metadata": {
    "collapsed": true,
    "scrolled": true
   },
   "outputs": [],
   "source": [
    "print_PARAMS(PARAMS)"
   ]
  },
  {
   "cell_type": "markdown",
   "metadata": {
    "collapsed": true
   },
   "source": [
    "## Inspecting how sparsity and $\\textit{chopping}$ affect structure and solution time"
   ]
  },
  {
   "cell_type": "code",
   "execution_count": null,
   "metadata": {},
   "outputs": [],
   "source": [
    "H, L = get_H_and_L(PARAMS, silent=False, threshold=0)\n",
    "ssL, infoL = calculate_steadystate(H, L, method=\"power\", persistent=True)\n",
    "H, L_tidy = get_H_and_L(PARAMS, silent=False, threshold=1e-7)\n",
    "ssLt, infoLt = calculate_steadystate(H, L_tidy, method=\"power\", persistent=True)\n",
    "\n",
    "print \"Total error per nz dm element due to chop: {}\".format(np.sum((ssL.full()-ssLt.full())**2)/nonzero_elements(ssL)) \n",
    "\n",
    "visualise_dense(ssL)\n",
    "visualise_dense(ssLt)\n",
    "\n",
    "visualise_sparse(L)\n",
    "visualise_sparse(L_tidy)\n"
   ]
  },
  {
   "cell_type": "markdown",
   "metadata": {
    "collapsed": true
   },
   "source": [
    "# Excitation restriction"
   ]
  },
  {
   "cell_type": "code",
   "execution_count": null,
   "metadata": {},
   "outputs": [],
   "source": [
    "reload(hm)\n",
    "ss, info = hm.calculate_converged_steadystate(PARAMS, conv_percent_tol=0.1, etol=1e-8, \n",
    "                                   method=\"direct\", observable='sigma_x')"
   ]
  },
  {
   "cell_type": "code",
   "execution_count": 3,
   "metadata": {
    "scrolled": true
   },
   "outputs": [
    {
     "name": "stdout",
     "output_type": "stream",
     "text": [
      "Steady state for 3 took 0.030 seconds with direct, sigma_x changed by 306.6831%\n",
      "Steady state for 4 took 0.122 seconds with direct, sigma_x changed by 0.0067%\n",
      "calculation converged\n",
      "Steady state for 3 took 0.030 seconds with direct, sigma_x changed by 231.2995%\n",
      "Steady state for 4 took 0.130 seconds with direct, sigma_x changed by 0.0805%\n",
      "Steady state for 5 took 0.620 seconds with direct, sigma_x changed by 0.0050%\n",
      "calculation converged\n",
      "Steady state for 3 took 0.018 seconds with direct, sigma_x changed by 138.7907%\n",
      "Steady state for 4 took 0.108 seconds with direct, sigma_x changed by 1.3160%\n",
      "Steady state for 5 took 0.584 seconds with direct, sigma_x changed by 0.1645%\n",
      "Steady state for 6 took 3.188 seconds with direct, sigma_x changed by 0.0164%\n",
      "Steady state for 7 took 16.840 seconds with direct, sigma_x changed by 0.0014%\n",
      "calculation converged\n",
      "Steady state for 3 took 0.023 seconds with direct, sigma_x changed by 135.5575%\n",
      "Steady state for 4 took 0.155 seconds with direct, sigma_x changed by 4.9206%\n",
      "Steady state for 5 took 1.161 seconds with direct, sigma_x changed by 1.0250%\n",
      "Steady state for 6 took 4.039 seconds with direct, sigma_x changed by 0.1633%\n",
      "Steady state for 7 took 19.949 seconds with direct, sigma_x changed by 0.0214%\n",
      "Steady state for 8 took 68.942 seconds with direct, sigma_x changed by 0.0024%\n",
      "calculation converged\n",
      "Steady state for 3 took 0.020 seconds with direct, sigma_x changed by 343.0396%\n",
      "Steady state for 4 took 0.108 seconds with direct, sigma_x changed by 0.0525%\n",
      "Steady state for 5 took 0.511 seconds with direct, sigma_x changed by 0.0113%\n",
      "Steady state for 6 took 3.222 seconds with direct, sigma_x changed by 0.0022%\n",
      "calculation converged\n",
      "Steady state for 3 took 0.017 seconds with direct, sigma_x changed by 137.0413%\n",
      "Steady state for 4 took 0.136 seconds with direct, sigma_x changed by 0.2794%\n",
      "Steady state for 5 took 0.681 seconds with direct, sigma_x changed by 0.0673%\n",
      "Steady state for 6 took 3.508 seconds with direct, sigma_x changed by 0.0149%\n",
      "Steady state for 7 took 19.018 seconds with direct, sigma_x changed by 0.0031%\n",
      "calculation converged\n",
      "Steady state for 3 took 0.044 seconds with direct, sigma_x changed by 115.0701%\n",
      "Steady state for 4 took 0.216 seconds with direct, sigma_x changed by 1.5379%\n",
      "Steady state for 5 took 0.591 seconds with direct, sigma_x changed by 0.4721%\n",
      "Steady state for 6 took 3.321 seconds with direct, sigma_x changed by 0.1304%\n",
      "Steady state for 7 took 16.745 seconds with direct, sigma_x changed by 0.0334%\n",
      "Steady state for 8 took 66.491 seconds with direct, sigma_x changed by 0.0081%\n",
      "calculation converged\n",
      "Steady state for 3 took 0.025 seconds with direct, sigma_x changed by 135.3031%\n",
      "Steady state for 4 took 0.123 seconds with direct, sigma_x changed by 3.7731%\n",
      "Steady state for 5 took 0.612 seconds with direct, sigma_x changed by 1.4125%\n",
      "Steady state for 6 took 3.743 seconds with direct, sigma_x changed by 0.4701%\n",
      "Steady state for 7 took 20.801 seconds with direct, sigma_x changed by 0.1427%\n",
      "Steady state for 8 took 72.469 seconds with direct, sigma_x changed by 0.0404%\n",
      "Steady state for 9 took 305.819 seconds with direct, sigma_x changed by 0.0108%\n",
      "Steady state for 10 took 945.623 seconds with direct, sigma_x changed by 0.0028%\n",
      "calculation converged\n",
      "Steady state for 3 took 0.020 seconds with direct, sigma_x changed by 109.1064%\n",
      "Steady state for 4 took 0.128 seconds with direct, sigma_x changed by 0.0572%\n",
      "Steady state for 5 took 0.603 seconds with direct, sigma_x changed by 0.0347%\n",
      "Steady state for 6 took 3.089 seconds with direct, sigma_x changed by 0.0190%\n",
      "Steady state for 7 took 21.474 seconds with direct, sigma_x changed by 0.0098%\n",
      "calculation converged\n",
      "Steady state for 3 took 0.028 seconds with direct, sigma_x changed by 122.0778%\n",
      "Steady state for 4 took 0.106 seconds with direct, sigma_x changed by 0.2843%\n",
      "Steady state for 5 took 0.713 seconds with direct, sigma_x changed by 0.1638%\n",
      "Steady state for 6 took 3.496 seconds with direct, sigma_x changed by 0.0896%\n",
      "Steady state for 7 took 18.341 seconds with direct, sigma_x changed by 0.0469%\n",
      "Steady state for 8 took 111.598 seconds with direct, sigma_x changed by 0.0237%\n",
      "Steady state for 9 took 373.400 seconds with direct, sigma_x changed by 0.0116%\n",
      "Steady state for 10 took 802.832 seconds with direct, sigma_x changed by 0.0055%\n",
      "calculation converged\n",
      "Steady state for 3 took 0.024 seconds with direct, sigma_x changed by 111.4008%\n",
      "Steady state for 4 took 0.124 seconds with direct, sigma_x changed by 1.1382%\n",
      "Steady state for 5 took 0.615 seconds with direct, sigma_x changed by 0.6802%\n",
      "Steady state for 6 took 3.452 seconds with direct, sigma_x changed by 0.3892%\n",
      "Steady state for 7 took 16.657 seconds with direct, sigma_x changed by 0.2137%\n",
      "Steady state for 8 took 70.460 seconds with direct, sigma_x changed by 0.1131%\n",
      "Steady state for 9 took 349.844 seconds with direct, sigma_x changed by 0.0581%\n",
      "Steady state for 10 took 1139.031 seconds with direct, sigma_x changed by 0.0291%\n",
      "calculation converged\n",
      "Steady state for 3 took 0.074 seconds with direct, sigma_x changed by 162.0405%\n",
      "Steady state for 4 took 0.227 seconds with direct, sigma_x changed by 2.2359%\n",
      "Steady state for 5 took 0.979 seconds with direct, sigma_x changed by 1.3959%\n",
      "Steady state for 6 took 4.511 seconds with direct, sigma_x changed by 0.8387%\n",
      "Steady state for 7 took 19.614 seconds with direct, sigma_x changed by 0.4848%\n",
      "Steady state for 8 took 74.694 seconds with direct, sigma_x changed by 0.2704%\n",
      "Steady state for 9 took 322.915 seconds with direct, sigma_x changed by 0.1462%\n",
      "Steady state for 10 took 927.697 seconds with direct, sigma_x changed by 0.0770%\n",
      "calculation converged\n",
      "Files saved at DATA/heatmap_TphvAlpha_1\n"
     ]
    }
   ],
   "source": [
    "x_values = [5/pi, 20/pi, 80/pi, 160/pi]\n",
    "y_values = [77., 150., 300.]\n",
    "\n",
    "ss_array, info_array = hm.heat_map_calculator(PARAMS,\n",
    "                            x_axis_parameters=['alpha_1', 'alpha_2'],\n",
    "                            y_axis_parameters=['T_1', 'T_2'],\n",
    "                            x_values=x_values,\n",
    "                            y_values=y_values,\n",
    "                            dir_name='heatmap_TphvAlpha', save_data=True,\n",
    "                            persistent=False, method='direct', threshold=3e-7)"
   ]
  },
  {
   "cell_type": "code",
   "execution_count": null,
   "metadata": {
    "collapsed": true
   },
   "outputs": [],
   "source": [
    "x_values = [5/pi, 20/pi, 80/pi, 160/pi]\n",
    "y_values = [77., 150., 300.]\n",
    "\n",
    "ss_array, info_array = hm.heat_map_calculator(PARAMS,\n",
    "                            x_axis_parameters=['alpha_1', 'alpha_2'],\n",
    "                            y_axis_parameters=['T_1', 'T_2'],\n",
    "                            x_values=x_values,\n",
    "                            y_values=y_values,\n",
    "                            dir_name='heatmap_TphvAlpha', save_data=True,\n",
    "                            persistent=False, method='direct', threshold=3e-7)"
   ]
  },
  {
   "cell_type": "code",
   "execution_count": null,
   "metadata": {
    "code_folding": [],
    "scrolled": true
   },
   "outputs": [],
   "source": [
    "import heatmap_setup as hm\n",
    "\n",
    "x_values=[3,4,5,6,7,8,9,10] # N\n",
    "y_values=[0] # exc_diff (exc =  +exc_diff)\n",
    "method='direct'\n",
    "ss_array, info_array = hm.heat_map_calculator(PARAMS,\n",
    "                            x_axis_parameters=['N_1', 'N_2'],\n",
    "                            y_axis_parameters=['exc_diff'],\n",
    "                            x_values=x_values,\n",
    "                            y_values=y_values,\n",
    "                            dir_name='heatmap_excvN', save_data=True,\n",
    "                            persistent=False, method=method, threshold=1e-6)"
   ]
  },
  {
   "cell_type": "code",
   "execution_count": null,
   "metadata": {},
   "outputs": [],
   "source": [
    "def fit_f(x_vals, y_vals):\n",
    "    return sp.optimize.curve_fit(f, x_vals, y_vals)[0]\n",
    "\n",
    "def f(x, a, b, c):\n",
    "    return a*np.exp(-b*x)-c\n",
    "\n",
    "def calc_f(x, fp):\n",
    "    return f(x, fp[0], fp[1], fp[2])\n",
    "\n",
    "obs_operator='sigma_x'\n",
    "ss_array, PARAMS, info_arr = heatmap_loader(11, dir_name=\"heatmap_excvN\")\n",
    "ss_obs_array = steadystate_observable(ss_array, PARAMS, obs_operator)\n",
    "X_values = np.array(PARAMS['x_values'])\n",
    "fit_params = fit_f(X_values[3::], ss_obs_array[0][3::])\n",
    "\n",
    "plt.plot(X_values, ss_obs_array[0])\n",
    "x_proj = np.arange(3,15)\n",
    "fit_proj = calc_f(x_proj, fit_params)\n",
    "print (\"Converged {} is {}\".format(obs_operator, max(fit_proj)))\n",
    "\n",
    "percent_change = []\n",
    "for i in range(len(fit_proj)-1):\n",
    "    percent_change.append(100*(fit_proj[i]-fit_proj[i+1])/fit_proj[i+1])\n",
    "plt.plot(x_proj, fit_proj)"
   ]
  },
  {
   "cell_type": "code",
   "execution_count": 38,
   "metadata": {},
   "outputs": [],
   "source": [
    "ss_arr_test, PARAMS, info_test = heatmap_loader(1, dir_name=\"heatmap_TphvAlpha\")"
   ]
  },
  {
   "cell_type": "code",
   "execution_count": null,
   "metadata": {},
   "outputs": [],
   "source": [
    "heatmap_plotter(num=12, plot_SD=False, dir_name=\"heatmap_excvN\",\n",
    "                print_params=False, observable='sigma_x')"
   ]
  },
  {
   "cell_type": "code",
   "execution_count": null,
   "metadata": {
    "scrolled": true
   },
   "outputs": [],
   "source": [
    "heatmap_plotter(num=11, plot_SD=False, dir_name=\"heatmap_excvN\",\n",
    "                print_params=False, observable='sigma_x')"
   ]
  },
  {
   "cell_type": "code",
   "execution_count": null,
   "metadata": {
    "collapsed": true
   },
   "outputs": [],
   "source": [
    "ss_info_params = [ss_array, info_array, PARAMS]\n",
    "\n",
    "#heatmap_plotter(ss_info_params=ss_info_params, plot_SD=False,\n",
    "#                print_params=False, observable='sigma_x')\n",
    "heatmap_plotter(num=5, plot_SD=False, dir_name=\"heatmap_excvN\",\n",
    "                print_params=False, observable='sigma_x')"
   ]
  },
  {
   "cell_type": "code",
   "execution_count": null,
   "metadata": {
    "collapsed": true
   },
   "outputs": [],
   "source": []
  },
  {
   "cell_type": "code",
   "execution_count": null,
   "metadata": {
    "collapsed": true
   },
   "outputs": [],
   "source": [
    "plt.imshow(steadystate_observable(ss_array, PARAMS, 'sigma_x'))"
   ]
  },
  {
   "cell_type": "code",
   "execution_count": 3,
   "metadata": {},
   "outputs": [],
   "source": [
    "\n",
    "def steadystate_observable(ss_array, PARAMS, observable):\n",
    "    ss_obs_array = np.zeros(shape=ss_array.shape)\n",
    "    for y, ss_row in enumerate(ss_array):\n",
    "        for x, ss_dm in enumerate(ss_row):\n",
    "            dim, size = ss_dm.dims[0][1::], int(ss_dm.shape[0]/PARAMS['sys_dim'])\n",
    "            \n",
    "            nstates, state2idx, idx2state = qt.enr_state_dictionaries(dim, dim[0]+0)\n",
    "            exc_diff = 0 # function finds the correct exc_diff given some dm\n",
    "            while nstates != size:\n",
    "                nstates, state2idx, idx2state = qt.enr_state_dictionaries(dim, dim[0]+exc_diff)\n",
    "            \n",
    "            #print exc_diff, dim[0]+exc_diff\n",
    "            PARAMS.update({'N_1':dim[0], 'N_2':dim[1], 'exc':dim[0]+exc_diff})\n",
    "            obs_op = make_expectation_operators(PARAMS)[observable]\n",
    "            #print obs_op.shape, ss_dm.shape\n",
    "            ss_obs_array[y][x] = (obs_op*ss_dm).tr().real #info_test[y][x]['solution_time']\n",
    "    return ss_obs_array\n",
    "\n",
    "#print ss_arr_test[0][0]\n",
    "#steadystate_observable(ss_arr_test, PARAMS, 'sigma_x')"
   ]
  },
  {
   "cell_type": "code",
   "execution_count": 9,
   "metadata": {},
   "outputs": [],
   "source": [
    "# With saved data, we can calculte things differently\n",
    "def _steadystate_observable(ss_array, PARAMS, observable):\n",
    "    try:\n",
    "        size = (len(PARAMS['y_values']), len(PARAMS['x_values']))\n",
    "    except KeyError:\n",
    "        size = (1,1)\n",
    "    # deal with the case where N is being changed as an x value\n",
    "    if 'N_1' in PARAMS['x_axis_parameters']:\n",
    "        data_array = np.zeros(size)         # Collect data\n",
    "        N_values = PARAMS['x_values']\n",
    "        # NEw observable operator for each N value\n",
    "        for i, N in enumerate(N_values):\n",
    "            PARAMS.update({'N_1' : N, 'N_2' : N})\n",
    "            exc = N+PARAMS['exc_diff']\n",
    "            # Leave it so exc can be fixed or a y_parameter\n",
    "            if 'exc' in PARAMS['x_axis_parameters']:\n",
    "                PARAMS.update({'exc': exc})\n",
    "            _obs_op = make_expectation_operators(PARAMS)[observable]\n",
    "            for j, y in enumerate(PARAMS['y_values']):\n",
    "                # the case where exc is on the y axis\n",
    "                if 'exc_diff' in PARAMS['y_axis_parameters']:\n",
    "                    PARAMS.update({'exc': N+y})\n",
    "                    _obs_op = make_expectation_operators(PARAMS)[observable]\n",
    "                try:\n",
    "                    #print j,i ,ss_array[j][i].shape, _obs_op.shape\n",
    "                    data_array[j][i] = (qt.Qobj(ss_array[j][i])*_obs_op).tr().real\n",
    "                except AttributeError:\n",
    "                    data_array[j][i] = np.nan\n",
    "        return data_array\n",
    "    else:\n",
    "        # Much simpler if N isn't on the x-axis\n",
    "        obs_op = make_expectation_operators(PARAMS)[observable]\n",
    "        f = lambda x: (qt.Qobj(x)*obs_op).tr()\n",
    "        ss_array = np.reshape(ss_array, (1, size[0]*size[1]))[0]\n",
    "\n",
    "        data_array = map(f, ss_array)\n",
    "        data_array = np.array(data_array).reshape(size).real\n",
    "        return data_array\n",
    "\n",
    "\n",
    "def heatmap_loader(num, dir_name=\"heatmap\"):\n",
    "    directory = 'DATA/'+dir_name+'_'+str(num)\n",
    "    ss_array = load_obj(directory+'/ss_array')\n",
    "    PARAMS = load_obj(directory+'/PARAMS')\n",
    "    info_array = load_obj(directory+'/info_array') # reverse ordering -> lower_N-higher_N\n",
    "    return ss_array, PARAMS, info_array\n",
    "\n",
    "def heatmap_plotter(ss_info_params=False, num=-1, plot_SD=True, dir_name=\"heatmap\", \n",
    "                     print_params=False, observable='sigma_x'):\n",
    "    if num>=0:\n",
    "        ss_array, PARAMS, info_array = heatmap_loader(num, dir_name=dir_name)\n",
    "        \n",
    "    if ss_info_params:\n",
    "        if num>=0:\n",
    "            print \"Not loading saved data, using data from arguments instead\"\n",
    "        ss_array, info_array, PARAMS = ss_info_params[0], ss_info_params[1], ss_info_params[2]\n",
    "    info = info_array[0][0]\n",
    "    #print info\n",
    "    \n",
    "    try:\n",
    "        # To catch an old bug where these were in \"info\" not in PARAMS\n",
    "        keys = ['x_values', 'y_values', 'y_axis_parameters', 'x_axis_parameters']\n",
    "        PARAMS.update(dict((key, info[key]) for key in keys))\n",
    "    except Exception as err:\n",
    "        print \"plotting in new style\"\n",
    "    if plot_SD:\n",
    "        plot_UD_SD(PARAMS[\"Gamma_1\"], PARAMS[\"alpha_1\"], PARAMS[\"w0_1\"], eps=8000.)\n",
    "    #print PARAMS\n",
    "    ss_array = steadystate_observable(ss_array, PARAMS, observable)\n",
    "    \n",
    "    f, axes = plt.subplots(1,1, figsize=(13,6))\n",
    "    ylab = ' = '.join([\"$\"+l+\"$\" for l in PARAMS['y_axis_parameters']])\n",
    "    for i, y_val in enumerate(PARAMS['y_values']):\n",
    "        x_values = PARAMS['x_values']\n",
    "\n",
    "        \n",
    "        axes.plot(x_values, ss_array[i], \n",
    "                  label=ylab+\"=\"+str(y_val))\n",
    "    if print_params:\n",
    "        print_PARAMS(PARAMS)\n",
    "    labs = (\"$\\\\\"+l+\"$\" for l in PARAMS['x_axis_parameters'])\n",
    "    xlab = ' , '.join(labs)\n",
    "    \n",
    "    plt.xlabel(xlab+\" (cm$^{-1}$)\")\n",
    "    #plt.xlabel(', '.join(PARAMS['x_axis_parameters']))\n",
    "    plt.ylabel(r\"Steadystate \"+make_expectation_labels()[observable])\n",
    "    #plt.ylabel(', '.join(info['y_axis_parameters']))\n",
    "    plt.legend()\n",
    "    plt.grid()\n",
    "    plot_filename = 'PLOTS/'+dir_name+'_'+str(num)+'.pdf'\n",
    "    plt.savefig(plot_filename,bbox_inches='tight')\n",
    "    print \"saved at {}\".format(plot_filename)\n",
    "    plt.show()"
   ]
  },
  {
   "cell_type": "code",
   "execution_count": 11,
   "metadata": {},
   "outputs": [
    {
     "name": "stdout",
     "output_type": "stream",
     "text": [
      "plotting in new style\n",
      "saved at PLOTS/heatmap_TphvAlpha_1.pdf\n"
     ]
    },
    {
     "data": {
      "image/png": "[encoded data removed]",
      "text/plain": [
       "<matplotlib.figure.Figure at 0x7fa35bc7d0d0>"
      ]
     },
     "metadata": {},
     "output_type": "display_data"
    }
   ],
   "source": [
    "heatmap_plotter(num=1, plot_SD=False, dir_name=\"heatmap_TphvAlpha\",\n",
    "                print_params=False, observable='sigma_x')"
   ]
  },
  {
   "cell_type": "code",
   "execution_count": 112,
   "metadata": {},
   "outputs": [],
   "source": [
    "def populations_plotter(ss_info_params=False, num=-1, plot_SD=True, dir_name=\"heatmap\", \n",
    "                     print_params=False, observable='sigma_x'):\n",
    "    if num>=0:\n",
    "        ss_array, PARAMS, info_array = heatmap_loader(num, dir_name=dir_name)\n",
    "        \n",
    "    if ss_info_params:\n",
    "        if num>=0:\n",
    "            print \"Not loading saved data, using data from arguments instead\"\n",
    "        ss_array,info_array, PARAMS = ss_info_params[0], ss_info_params[1], ss_info_params[2]\n",
    "    info = info_array[0][0]\n",
    "    #print info\n",
    "    \n",
    "    try:\n",
    "        # To catch an old bug where these were in \"info\" not in PARAMS\n",
    "        keys = ['x_values', 'y_values', 'y_axis_parameters', 'x_axis_parameters']\n",
    "        PARAMS.update(dict((key, info[key]) for key in keys))\n",
    "    except Exception as err:\n",
    "        print \"plotting in new style\"\n",
    "    if plot_SD:\n",
    "        plot_UD_SD(PARAMS[\"Gamma_1\"], PARAMS[\"alpha_1\"], PARAMS[\"w0_1\"], eps=8000.)\n",
    "    #print PARAMS\n",
    "    ss_array = steadystate_observable(ss_array, PARAMS, observable)\n",
    "    \n",
    "    f, axes = plt.subplots(1,1, figsize=(13,6))\n",
    "    for i, y_val in enumerate(PARAMS['y_values']):\n",
    "        x_values = PARAMS['x_values']\n",
    "\n",
    "        axes.plot(x_values, ss_array[i], \n",
    "                  label=str(PARAMS['y_axis_parameters'])+\"=\"+str(y_val))\n",
    "    if print_params:\n",
    "        print_PARAMS(PARAMS)\n",
    "    \n",
    "    plt.xlabel(r', ($cm^{-1}$)'.join(r\"\\\\\"+PARAMS['x_axis_parameters']))\n",
    "    plt.ylabel(\"Steadystate \"+observable)\n",
    "    #plt.ylabel(', '.join(info['y_axis_parameters']))\n",
    "    plt.legend()\n",
    "    plt.grid()\n",
    "    plot_filename = 'PLOTS/'+dir_name+'_'+str(num)+'.pdf'\n",
    "    plt.savefig(plot_filename)\n",
    "    print \"saved at {}\".format(plot_filename)\n",
    "    plt.show()"
   ]
  },
  {
   "cell_type": "code",
   "execution_count": null,
   "metadata": {
    "collapsed": true,
    "scrolled": false
   },
   "outputs": [],
   "source": [
    "ss_info_params = [ss_array, info_array, PARAMS]\n",
    "\n",
    "heatmap_plotter(ss_info_params=ss_info_params, plot_SD=False,\n",
    "                print_params=False, observable='sigma_x')"
   ]
  },
  {
   "cell_type": "markdown",
   "metadata": {},
   "source": [
    "# For N=6, with no "
   ]
  },
  {
   "cell_type": "code",
   "execution_count": null,
   "metadata": {
    "code_folding": [],
    "collapsed": true
   },
   "outputs": [],
   "source": [
    "\"\"\"from heatmap_setup import steadystate\n",
    "\n",
    "w_2 = 8000.\n",
    "alpha = 20.\n",
    "\n",
    "N = 6\n",
    "pap = alpha_to_pialpha_prop(alpha, w_2)\n",
    "PARAMS = PARAMS_setup(bias=100., w_2=8000., V = 100., pialpha_prop=pap,\n",
    "                                 T_EM=6000., T_ph =300.,\n",
    "                                 alpha_EM=0.1, shift=True,\n",
    "                                 num_cpus=3, N=N, Gamma=200., w_0=300.,\n",
    "                                 silent=True, exc_diff=0)\n",
    "from numpy.linalg import norm\n",
    "def estimateCondition(M):\n",
    "    vec = np.ones((1, M.shape[0])).T\n",
    "    return norm(M.dot(vec), np.inf)\"\"\""
   ]
  },
  {
   "cell_type": "markdown",
   "metadata": {},
   "source": [
    "# Comparing SS solution methods (direct, inverse power, eigen)"
   ]
  },
  {
   "cell_type": "code",
   "execution_count": null,
   "metadata": {
    "collapsed": true
   },
   "outputs": [],
   "source": [
    "from qutip import build_preconditioner\n",
    "\n",
    "def method_plotter(N_vals, data_dict, info_dict, ax1, ax2, linestyle=\"solid\"):\n",
    "    lw=1.\n",
    "    if linestyle == 'dashed':\n",
    "        lw=1.8\n",
    "    for i, key in enumerate(data_dict.keys()):\n",
    "        ax1.plot(N_vals, data_dict[key], label=key, color=colourWheel[i], ls=linestyle, linewidth=lw)\n",
    "        #print info_dict[key]\n",
    "        ax2.plot(N_vals, info_dict[key], label=key, color=colourWheel[i], ls=linestyle, linewidth=lw)\n",
    "    ax1.legend()\n",
    "    ax2.legend()\n",
    "    ax1.set_ylabel(\"Coherence\")\n",
    "    ax2.set_ylabel(\"Solution time\")\n",
    "\n",
    "\n",
    "def method_comparison(N_i, N_f, plot=False, site_basis=True):\n",
    "    methods = ['direct']\n",
    "    data_dict = dict()\n",
    "    info_dict = dict()\n",
    "    N_vals = range(N_i, N_f)\n",
    "    for exc_diff in [0,3,4]:\n",
    "        for N in N_vals:\n",
    "            PARAMS.update({'N_1':N, 'N_2':N, 'exc':int(2*N-exc_diff)})\n",
    "            H, L = get_H_and_L(PARAMS,silent=False, threshold=1e-7, site_basis=site_basis)\n",
    "            exps = make_expectation_operators(PARAMS, site_basis=site_basis)\n",
    "            for method in methods:\n",
    "                try:\n",
    "                    M=None\n",
    "\n",
    "                    if \"iterative\" in method:\n",
    "                        ti = time.time()\n",
    "                        M = build_preconditioner(H[1], [L], use_rcm=True, ILU_MILU='smilu_2')\n",
    "                        print(\"Building preconditioner took {} seconds\".format(time.time()-ti))\n",
    "                    ss, full_info = calculate_steadystate(H, L, method=method, persistent=True)\n",
    "                    info = full_info['solution_time']\n",
    "\n",
    "                    coh = (exps['sigma_x']*ss).tr().real\n",
    "                    try:\n",
    "                        data_dict[exc_diff].append(coh)\n",
    "                        info_dict[exc_diff].append(info)\n",
    "                    except KeyError:\n",
    "                        data_dict[exc_diff] = [coh]\n",
    "                        info_dict[exc_diff] = [info]\n",
    "                except Exception as err:\n",
    "                    print( \"{} failed due to : {}\".format(method, err))\n",
    "                    try:\n",
    "                        data_dict[exc_diff].append(None)\n",
    "                        info_dict[exc_diff].append(None)\n",
    "                    except KeyError:\n",
    "                        data_dict[exc_diff] = [None]\n",
    "                        info_dict[exc_diff] = [None]\n",
    "    #if plot:\n",
    "    #    method_plotter(N_vals, data_dict, info_dict)\n",
    "    return N_vals, data_dict, info_dict\n",
    "\n",
    "N_vals, data_dict_sb, info_dict_sb = method_comparison(3,7)\n",
    "#N_vals, data_dict_eb, info_dict_eb = method_comparison(3,7, site_basis=False)\n",
    "\n",
    "f, (ax1, ax2) = plt.subplots(2,1, figsize=(10,7))\n",
    "method_plotter(N_vals, data_dict_sb, info_dict_sb, ax1, ax2)\n",
    "#method_plotter(N_vals, data_dict_eb, info_dict_eb, ax1, ax2, linestyle=\"dashed\")\n"
   ]
  },
  {
   "cell_type": "markdown",
   "metadata": {},
   "source": [
    "# Plotting methods"
   ]
  },
  {
   "cell_type": "code",
   "execution_count": null,
   "metadata": {
    "collapsed": true
   },
   "outputs": [],
   "source": []
  },
  {
   "cell_type": "code",
   "execution_count": null,
   "metadata": {
    "collapsed": true
   },
   "outputs": [],
   "source": [
    "heatmap_plotter(2, plot_SD=False, dir_name='heatmap_excvN', \n",
    "                     print_params=False, observable='')"
   ]
  },
  {
   "cell_type": "code",
   "execution_count": null,
   "metadata": {
    "collapsed": true
   },
   "outputs": [],
   "source": []
  }
 ],
 "metadata": {
  "kernelspec": {
   "display_name": "Python 2",
   "language": "python",
   "name": "python2"
  },
  "language_info": {
   "codemirror_mode": {
    "name": "ipython",
    "version": 2
   },
   "file_extension": ".py",
   "mimetype": "text/x-python",
   "name": "python",
   "nbconvert_exporter": "python",
   "pygments_lexer": "ipython2",
   "version": "2.7.13"
  }
 },
 "nbformat": 4,
 "nbformat_minor": 2
}
