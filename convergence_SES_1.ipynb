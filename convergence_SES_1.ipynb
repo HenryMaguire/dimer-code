{
 "cells": [
  {
   "cell_type": "code",
   "execution_count": null,
   "metadata": {
    "collapsed": true
   },
   "outputs": [],
   "source": [
    "# Incase we have to clear all variables\n",
    "%reset -f"
   ]
  },
  {
   "cell_type": "code",
   "execution_count": 1,
   "metadata": {},
   "outputs": [],
   "source": [
    "%matplotlib inline \n",
    "import matplotlib\n",
    "import matplotlib.pyplot as plt\n",
    "colourWheel =['#329932',\n",
    "            '#ff6961',\n",
    "            'b',\n",
    "            '#6a3d9a',\n",
    "            '#fb9a99',\n",
    "            '#e31a1c',\n",
    "            '#fdbf6f',\n",
    "            '#ff7f00',\n",
    "            '#cab2d6',\n",
    "            '#6a3d9a',\n",
    "            '#ffff99',\n",
    "            '#b15928',\n",
    "            '#67001f',\n",
    "            '#b2182b',\n",
    "            '#d6604d',\n",
    "            '#f4a582',\n",
    "            '#fddbc7',\n",
    "            '#f7f7f7',\n",
    "            '#d1e5f0',\n",
    "            '#92c5de',\n",
    "            '#4393c3',\n",
    "            '#2166ac',\n",
    "            '#053061']\n",
    "\n",
    "from SES_setup import *\n",
    "from utils import *"
   ]
  },
  {
   "cell_type": "markdown",
   "metadata": {},
   "source": [
    "### Example Liouvillian"
   ]
  },
  {
   "cell_type": "code",
   "execution_count": 2,
   "metadata": {},
   "outputs": [],
   "source": [
    "import time\n",
    "from heatmap_setup import calculate_steadystate\n",
    "import numpy as np\n",
    "\n",
    "\n",
    "w_2 = 1.4*ev_to_inv_cm\n",
    "bias = 0.01*ev_to_inv_cm #0.0000001*ev_to_inv_cm\n",
    "V = 0.01*ev_to_inv_cm #0.00001*ev_to_inv_cm\n",
    "alpha = 200./pi\n",
    "alpha_EM = 5.309e-3 # inv_ps_to_inv_cm *10^-3\n",
    "N =4\n",
    "wc = 100.\n",
    "w_0 = 200.\n",
    "site_basis = True\n",
    "Gamma = (w_0**2)/wc\n",
    "PARAMS = PARAMS_setup(bias=bias, w_2=w_2, \n",
    "                      V = V, alpha=alpha,\n",
    "                      T_EM=6000., T_ph =300., alpha_EM=alpha_EM, shift=True,\n",
    "                      num_cpus=4, N=N, Gamma=Gamma, w_0=w_0,\n",
    "                      silent=True, exc_diff=N)\n",
    "\n"
   ]
  },
  {
   "cell_type": "code",
   "execution_count": 3,
   "metadata": {},
   "outputs": [
    {
     "name": "stdout",
     "output_type": "stream",
     "text": [
      "****************************************************************\n",
      "The operators took 1.45608997345 and have dimension 48.\n",
      "Building the RC Liouvillian took 1.534 seconds.\n",
      "It is 2304by2304. The full basis would be 2304by2304\n",
      "It took  0.970180988312  seconds to build the Non-secular RWA Liouvillian\n",
      "Chopping reduced the sparsity from 8.028% to 7.405%\n"
     ]
    }
   ],
   "source": [
    "H, L = get_H_and_L(PARAMS, silent=False, threshold=1e-7)"
   ]
  },
  {
   "cell_type": "code",
   "execution_count": 4,
   "metadata": {},
   "outputs": [
    {
     "name": "stdout",
     "output_type": "stream",
     "text": [
      "Steady state took 0.369 seconds with power\n",
      "OO : 0.840047821875 \t | \t 0.885585021995 \t | \t 0.0455372001205\n",
      "sigma_y : -9.63999709647e-07 \t | \t 0.0 \t | \t 9.63999709647e-07\n",
      "sigma_x : -0.0519360239491 \t | \t -0.00221138848301 \t | \t 0.0497246354661\n",
      "XO : 0.0653139201649 \t | \t 0.0566543293709 \t | \t 0.00865959079401\n",
      "eig_coherence : (-0.00150099453809-4.81999854824e-07j) \t | \t (-2.79518159697e-07+0j) \t | \t 0.00150071509734\n",
      "dark : 0.10975970634 \t | \t 0.0584438325047 \t | \t 0.0513158738349\n",
      "bright : 0.0501924717858 \t | \t 0.0559711455002 \t | \t 0.00577867371437\n",
      "OX : 0.0946382579605 \t | \t 0.057760648634 \t | \t 0.0368776093265\n",
      "site_coherence : (-0.0259680119746+4.81999854824e-07j) \t | \t (-0.0011056942415+0j) \t | \t 0.0248623177377\n"
     ]
    }
   ],
   "source": [
    "ssL, info = calculate_steadystate(H, L, method=\"power\", persistent=True)\n",
    "exps = make_expectation_operators(PARAMS, site_basis=site_basis)\n",
    "\n",
    "ss_therm = thermal_state(PARAMS[\"T_EM\"], H[1])\n",
    "for key, op in exps.items():\n",
    "    if 'RC' not in key:\n",
    "        if 'coherence' in key:\n",
    "            res, therm = (ssL*op).tr(), (ss_therm*op).tr()\n",
    "        else:\n",
    "            res, therm = (ssL*op).tr().real, (ss_therm*op).tr().real\n",
    "        print \"{} : {} \\t | \\t {} \\t | \\t {}\".format(key, res, therm, abs(res - therm))"
   ]
  },
  {
   "cell_type": "code",
   "execution_count": null,
   "metadata": {
    "collapsed": true,
    "scrolled": true
   },
   "outputs": [],
   "source": [
    "print_PARAMS(PARAMS)"
   ]
  },
  {
   "cell_type": "markdown",
   "metadata": {
    "collapsed": true
   },
   "source": [
    "## Inspecting how sparsity and $\\textit{chopping}$ affect structure and solution time"
   ]
  },
  {
   "cell_type": "code",
   "execution_count": null,
   "metadata": {},
   "outputs": [
    {
     "name": "stdout",
     "output_type": "stream",
     "text": [
      "****************************************************************\n",
      "The operators took 2.1188519001 and have dimension 48.\n",
      "Building the RC Liouvillian took 2.184 seconds.\n",
      "It is 2304by2304. The full basis would be 2304by2304\n",
      "It took  1.07835197449  seconds to build the Non-secular RWA Liouvillian\n",
      "Chopping reduced the sparsity from 8.028% to 8.028%\n",
      "Steady state took 0.411 seconds with power\n",
      "****************************************************************\n",
      "The operators took 1.58660984039 and have dimension 48.\n",
      "Building the RC Liouvillian took 1.661 seconds.\n",
      "It is 2304by2304. The full basis would be 2304by2304\n",
      "It took  1.2262468338  seconds to build the Non-secular RWA Liouvillian\n",
      "Chopping reduced the sparsity from 8.028% to 7.405%\n",
      "Steady state took 0.340 seconds with power\n",
      "Total error per nz dm element due to chop: (4.77021278203e-17+1.0448838674e-38j)\n"
     ]
    },
    {
     "data": {
      "image/png": "[encoded data removed]",
      "text/plain": [
       "<matplotlib.figure.Figure at 0x7fc87ffb8ad0>"
      ]
     },
     "metadata": {},
     "output_type": "display_data"
    },
    {
     "data": {
      "image/png": "[encoded data removed]",
      "text/plain": [
       "<matplotlib.figure.Figure at 0x7fc8776f6bd0>"
      ]
     },
     "metadata": {},
     "output_type": "display_data"
    },
    {
     "data": {
      "image/png": "[encoded data removed]",
      "text/plain": [
       "<matplotlib.figure.Figure at 0x7fc8776f67d0>"
      ]
     },
     "metadata": {},
     "output_type": "display_data"
    },
    {
     "data": {
      "image/png": "[encoded data removed]",
      "text/plain": [
       "<matplotlib.figure.Figure at 0x7fc8775fa2d0>"
      ]
     },
     "metadata": {},
     "output_type": "display_data"
    }
   ],
   "source": [
    "H, L = get_H_and_L(PARAMS, silent=False, threshold=0)\n",
    "ssL, infoL = calculate_steadystate(H, L, method=\"power\", persistent=True)\n",
    "H, L_tidy = get_H_and_L(PARAMS, silent=False, threshold=1e-7)\n",
    "ssLt, infoLt = calculate_steadystate(H, L_tidy, method=\"power\", persistent=True)\n",
    "\n",
    "print \"Total error per nz dm element due to chop: {}\".format(np.sum((ssL.full()-ssLt.full())**2)/nonzero_elements(ssL)) \n",
    "\n",
    "visualise_dense(ssL)\n",
    "visualise_dense(ssLt)\n",
    "\n",
    "visualise_sparse(L)\n",
    "visualise_sparse(L_tidy)\n"
   ]
  },
  {
   "cell_type": "markdown",
   "metadata": {
    "collapsed": true
   },
   "source": [
    "# Excitation restriction"
   ]
  },
  {
   "cell_type": "code",
   "execution_count": null,
   "metadata": {
    "code_folding": [],
    "scrolled": true
   },
   "outputs": [
    {
     "name": "stdout",
     "output_type": "stream",
     "text": [
      "N_1 = 3, N_2 = 3, exc= 3, H_dim=24\n",
      "Steady state took 0.028 seconds with direct\n",
      "(24, 24) (24, 24)\n",
      "Build time: 1.317 \t | \t Solution time: 0.028 \t | \t Sigma x -0.0536294499015\n",
      "N_1 = 4, N_2 = 4, exc= 4, H_dim=39\n",
      "Steady state took 0.084 seconds with direct\n",
      "(39, 39) (39, 39)\n",
      "Build time: 2.174 \t | \t Solution time: 0.084 \t | \t Sigma x -0.0521456295806\n",
      "N_1 = 5, N_2 = 5, exc= 5, H_dim=57\n",
      "Steady state took 0.575 seconds with direct\n",
      "(57, 57) (57, 57)\n",
      "Build time: 3.533 \t | \t Solution time: 0.575 \t | \t Sigma x -0.0512280255847\n",
      "N_1 = 6, N_2 = 6, exc= 6, H_dim=78\n",
      "Steady state took 2.473 seconds with direct\n",
      "(78, 78) (78, 78)\n",
      "Build time: 6.737 \t | \t Solution time: 2.473 \t | \t Sigma x -0.0506749997072\n",
      "N_1 = 7, N_2 = 7, exc= 7, H_dim=102\n",
      "Steady state took 17.148 seconds with direct\n",
      "(102, 102) (102, 102)\n",
      "Build time: 15.858 \t | \t Solution time: 17.148 \t | \t Sigma x -0.0503517812409\n",
      "****************************************************************\n",
      "The operators took 16.5804018974 and have dimension 129.\n",
      "Building the RC Liouvillian took 18.380 seconds.\n",
      "It is 16641by16641. The full basis would be 36864by36864\n",
      "It took  6.32670593262  seconds to build the Non-secular RWA Liouvillian\n",
      "Chopping reduced the sparsity from 3.090% to 2.907%\n",
      "N_1 = 8, N_2 = 8, exc= 8, H_dim=129\n",
      "Steady state took 53.327 seconds with direct\n",
      "(129, 129) (129, 129)\n",
      "Build time: 27.558 \t | \t Solution time: 53.327 \t | \t Sigma x -0.0501685730313\n",
      "****************************************************************\n",
      "The operators took 29.0686569214 and have dimension 159.\n",
      "Building the RC Liouvillian took 32.482 seconds.\n",
      "It is 25281by25281. The full basis would be 59049by59049\n",
      "It took  9.95756006241  seconds to build the Non-secular RWA Liouvillian\n",
      "Chopping reduced the sparsity from 2.534% to 2.359%\n",
      "N_1 = 9, N_2 = 9, exc= 9, H_dim=159\n",
      "Steady state took 137.544 seconds with direct\n",
      "(159, 159) (159, 159)\n",
      "Build time: 48.268 \t | \t Solution time: 137.544 \t | \t Sigma x -0.0500676585306\n",
      "****************************************************************\n",
      "The operators took 61.2560641766 and have dimension 192.\n",
      "Building the RC Liouvillian took 68.063 seconds.\n",
      "It is 36864by36864. The full basis would be 90000by90000\n",
      "It took  18.8128380775  seconds to build the Non-secular RWA Liouvillian\n",
      "Chopping reduced the sparsity from 2.120% to 1.941%\n",
      "N_1 = 10, N_2 = 10, exc= 10, H_dim=192\n",
      "Steady state took 540.281 seconds with direct\n",
      "(192, 192) (192, 192)\n",
      "Build time: 99.715 \t | \t Solution time: 540.281 \t | \t Sigma x -0.0500134734308\n",
      "N_1 = 3, N_2 = 3, exc= 4, H_dim=27\n",
      "Steady state took 0.030 seconds with direct\n",
      "(27, 27) (27, 27)\n",
      "Build time: 1.020 \t | \t Solution time: 0.030 \t | \t Sigma x -0.0534394171827\n",
      "N_1 = 4, N_2 = 4, exc= 5, H_dim=45\n",
      "Steady state took 0.250 seconds with direct\n",
      "(45, 45) (45, 45)\n",
      "Build time: 2.413 \t | \t Solution time: 0.250 \t | \t Sigma x -0.0519800101853\n",
      "N_1 = 5, N_2 = 5, exc= 6, H_dim=66\n",
      "Steady state took 1.217 seconds with direct\n",
      "(66, 66) (66, 66)\n",
      "Build time: 4.892 \t | \t Solution time: 1.217 \t | \t Sigma x -0.0511065664893\n",
      "N_1 = 6, N_2 = 6, exc= 7, H_dim=90\n",
      "Steady state took 6.977 seconds with direct\n",
      "(90, 90) (90, 90)\n",
      "Build time: 9.950 \t | \t Solution time: 6.977 \t | \t Sigma x -0.0505930364601\n",
      "N_1 = 7, N_2 = 7, exc= 8, H_dim=117\n",
      "Steady state took 28.512 seconds with direct\n",
      "(117, 117) (117, 117)\n",
      "Build time: 19.822 \t | \t Solution time: 28.512 \t | \t Sigma x -0.0502996944577\n",
      "****************************************************************\n",
      "The operators took 21.4231750965 and have dimension 147.\n",
      "Building the RC Liouvillian took 24.151 seconds.\n",
      "It is 21609by21609. The full basis would be 36864by36864\n",
      "It took  8.56249904633  seconds to build the Non-secular RWA Liouvillian\n",
      "Chopping reduced the sparsity from 2.766% to 2.603%\n",
      "N_1 = 8, N_2 = 8, exc= 9, H_dim=147\n",
      "Steady state took 124.108 seconds with direct\n",
      "(147, 147) (147, 147)\n",
      "Build time: 37.339 \t | \t Solution time: 124.108 \t | \t Sigma x -0.0501370583059\n",
      "****************************************************************\n",
      "The operators took 44.8158578873 and have dimension 180.\n",
      "Building the RC Liouvillian took 50.293 seconds.\n",
      "It is 32400by32400. The full basis would be 59049by59049\n",
      "It took  12.9924919605  seconds to build the Non-secular RWA Liouvillian\n",
      "Chopping reduced the sparsity from 2.278% to 2.120%\n",
      "N_1 = 9, N_2 = 9, exc= 10, H_dim=180\n",
      "Steady state took 334.571 seconds with direct\n",
      "(180, 180) (180, 180)\n",
      "Build time: 73.005 \t | \t Solution time: 334.571 \t | \t Sigma x -0.0500493564615\n",
      "****************************************************************\n",
      "The operators took 87.6335270405 and have dimension 216.\n",
      "Building the RC Liouvillian took 97.226 seconds.\n",
      "It is 46656by46656. The full basis would be 90000by90000\n",
      "It took  20.4326870441  seconds to build the Non-secular RWA Liouvillian\n",
      "Chopping reduced the sparsity from 1.916% to 1.745%\n",
      "N_1 = 10, N_2 = 10, exc= 11, H_dim=216\n",
      "Steady state took 758.771 seconds with direct\n",
      "(216, 216) (216, 216)\n",
      "Build time: 134.163 \t | \t Solution time: 758.771 \t | \t Sigma x -0.0500032061403\n",
      "N_1 = 3, N_2 = 3, exc= 5, H_dim=27\n",
      "Steady state took 0.029 seconds with direct\n",
      "(27, 27) (27, 27)\n",
      "Build time: 0.852 \t | \t Solution time: 0.029 \t | \t Sigma x -0.0534394171827\n",
      "N_1 = 4, N_2 = 4, exc= 6, H_dim=48\n",
      "Steady state took 0.238 seconds with direct\n",
      "(48, 48) (48, 48)\n",
      "Build time: 2.654 \t | \t Solution time: 0.238 \t | \t Sigma x -0.051935842875\n",
      "N_1 = 5, N_2 = 5, exc= 7, H_dim=72\n",
      "Steady state took 1.959 seconds with direct\n",
      "(72, 72) (72, 72)\n",
      "Build time: 5.766 \t | \t Solution time: 1.959 \t | \t Sigma x -0.0510673156191\n",
      "N_1 = 6, N_2 = 6, exc= 8, H_dim=99\n",
      "Steady state took 10.803 seconds with direct\n",
      "(99, 99) (99, 99)\n",
      "Build time: 12.249 \t | \t Solution time: 10.803 \t | \t Sigma x -0.0505647799371\n",
      "N_1 = 7, N_2 = 7, exc= 9, H_dim=129\n",
      "Steady state took 59.442 seconds with direct\n",
      "(129, 129) (129, 129)\n",
      "Build time: 24.981 \t | \t Solution time: 59.442 \t | \t Sigma x -0.0502812100082\n",
      "****************************************************************\n",
      "The operators took 28.9089009762 and have dimension 162.\n",
      "Building the RC Liouvillian took 32.687 seconds.\n",
      "It is 26244by26244. The full basis would be 36864by36864\n",
      "It took  10.1107399464  seconds to build the Non-secular RWA Liouvillian\n",
      "Chopping reduced the sparsity from 2.542% to 2.388%\n",
      "N_1 = 8, N_2 = 8, exc= 10, H_dim=162\n",
      "Steady state took 163.405 seconds with direct\n",
      "(162, 162) (162, 162)\n",
      "Build time: 49.230 \t | \t Solution time: 163.405 \t | \t Sigma x -0.0501257007803\n",
      "****************************************************************\n",
      "The operators took 58.9111659527 and have dimension 198.\n",
      "Building the RC Liouvillian took 66.005 seconds.\n",
      "It is 39204by39204. The full basis would be 59049by59049\n",
      "It took  16.1306807995  seconds to build the Non-secular RWA Liouvillian\n",
      "Chopping reduced the sparsity from 2.096% to 1.946%\n",
      "N_1 = 9, N_2 = 9, exc= 11, H_dim=198\n",
      "Steady state took 508.720 seconds with direct\n",
      "(198, 198) (198, 198)\n",
      "Build time: 94.874 \t | \t Solution time: 508.720 \t | \t Sigma x -0.0500426975537\n",
      "****************************************************************\n",
      "The operators took 123.984228849 and have dimension 237.\n",
      "Building the RC Liouvillian took 136.008 seconds.\n",
      "It is 56169by56169. The full basis would be 90000by90000\n",
      "It took  24.9898450375  seconds to build the Non-secular RWA Liouvillian\n",
      "Chopping reduced the sparsity from 1.768% to 1.603%\n",
      "N_1 = 10, N_2 = 10, exc= 12, H_dim=237\n",
      "Steady state took 1463.566 seconds with direct\n",
      "(237, 237) (237, 237)\n",
      "Build time: 183.821 \t | \t Solution time: 1463.566 \t | \t Sigma x -0.0499994458316\n",
      "N_1 = 3, N_2 = 3, exc= 6, H_dim=27\n",
      "Steady state took 1.706 seconds with direct\n",
      "(27, 27) (27, 27)\n",
      "Build time: 21.887 \t | \t Solution time: 1.706 \t | \t Sigma x -0.0534394171827\n",
      "N_1 = 4, N_2 = 4, exc= 7, H_dim=48\n",
      "Steady state took 1.564 seconds with direct\n",
      "(48, 48) (48, 48)\n",
      "Build time: 11.368 \t | \t Solution time: 1.564 \t | \t Sigma x -0.0519358428748\n",
      "N_1 = 5, N_2 = 5, exc= 8, H_dim=75\n",
      "Steady state took 3.109 seconds with direct\n",
      "(75, 75) (75, 75)\n",
      "Build time: 7.082 \t | \t Solution time: 3.109 \t | \t Sigma x -0.0510573241828\n",
      "N_1 = 6, N_2 = 6, exc= 9, H_dim=105\n",
      "Steady state took 16.703 seconds with direct\n",
      "(105, 105) (105, 105)\n",
      "Build time: 14.677 \t | \t Solution time: 16.703 \t | \t Sigma x -0.050555893184\n",
      "N_1 = 7, N_2 = 7, exc= 10, H_dim=138\n"
     ]
    },
    {
     "name": "stdout",
     "output_type": "stream",
     "text": [
      "Steady state took 85.854 seconds with direct\n",
      "(138, 138) (138, 138)\n",
      "Build time: 31.717 \t | \t Solution time: 85.854 \t | \t Sigma x -0.0502749374865\n",
      "****************************************************************\n",
      "The operators took 43.0328040123 and have dimension 174.\n",
      "Building the RC Liouvillian took 47.825 seconds.\n",
      "It is 30276by30276. The full basis would be 36864by36864\n",
      "It took  12.084676981  seconds to build the Non-secular RWA Liouvillian\n",
      "Chopping reduced the sparsity from 2.389% to 2.233%\n",
      "N_1 = 8, N_2 = 8, exc= 11, H_dim=174\n",
      "Steady state took 232.823 seconds with direct\n",
      "(174, 174) (174, 174)\n",
      "Build time: 68.120 \t | \t Solution time: 232.823 \t | \t Sigma x -0.0501217060668\n",
      "****************************************************************\n",
      "The operators took 81.1445431709 and have dimension 213.\n",
      "Building the RC Liouvillian took 89.984 seconds.\n",
      "It is 45369by45369. The full basis would be 59049by59049\n",
      "It took  18.8646218777  seconds to build the Non-secular RWA Liouvillian\n",
      "Chopping reduced the sparsity from 1.971% to 1.814%\n",
      "N_1 = 9, N_2 = 9, exc= 12, H_dim=213\n",
      "Steady state took 797.780 seconds with direct\n",
      "(213, 213) (213, 213)\n",
      "Build time: 125.025 \t | \t Solution time: 797.780 \t | \t Sigma x -0.0500403106829\n",
      "****************************************************************\n",
      "The operators took 166.089095831 and have dimension 255.\n",
      "Building the RC Liouvillian took 181.098 seconds.\n",
      "It is 65025by65025. The full basis would be 90000by90000\n",
      "It took  28.2866499424  seconds to build the Non-secular RWA Liouvillian\n",
      "Chopping reduced the sparsity from 1.660% to 1.494%\n",
      "N_1 = 10, N_2 = 10, exc= 13, H_dim=255\n"
     ]
    }
   ],
   "source": [
    "import heatmap_setup as hm\n",
    "reload(hm)\n",
    "x_values=[3,4,5,6,7,8,9,10] # N\n",
    "y_values=[0,1,2,3] # exc_diff (exc =  +exc_diff)\n",
    "method='direct'\n",
    "ss_array, info_array = hm.heat_map_calculator(PARAMS,\n",
    "                            x_axis_parameters=['N_1', 'N_2'],\n",
    "                            y_axis_parameters=['exc_diff'],\n",
    "                            x_values=x_values,\n",
    "                            y_values=y_values,\n",
    "                            dir_name='heatmap_excvN', save_data=True,\n",
    "                            persistent=False, method=method, threshold=1e-7)"
   ]
  },
  {
   "cell_type": "code",
   "execution_count": 114,
   "metadata": {},
   "outputs": [
    {
     "name": "stdout",
     "output_type": "stream",
     "text": [
      "[-0.02242956  0.56765198  0.04974882]\n",
      "[6 7 8] [-0.05049295 -0.05017063 -0.04998792]\n",
      "[3.3988101457355819, 1.9644803672863216, 1.1261153912852502, 0.64244499457386373, 0.36550413686990157, 0.20761795641808498, 0.11782791898599156, 0.066835969479457316]\n"
     ]
    },
    {
     "data": {
      "image/png": "[encoded data removed]",
      "text/plain": [
       "<matplotlib.figure.Figure at 0x7f6bb04685d0>"
      ]
     },
     "metadata": {},
     "output_type": "display_data"
    }
   ],
   "source": [
    "def fit_f(x_vals, y_vals):\n",
    "    return sp.optimize.curve_fit(f, x_vals, y_vals)[0]\n",
    "\n",
    "def f(x, a, b, c):\n",
    "    return a*np.exp(-b*x)-c\n",
    "\n",
    "def calc_f(x, fp):\n",
    "    return f(x, fp[0], fp[1], fp[2])\n",
    "\n",
    "obs_operator='sigma_x'\n",
    "ss_array, PARAMS, info_arr = heatmap_loader(11, dir_name=\"heatmap_excvN\")\n",
    "ss_obs_array = steadystate_observable(ss_array, PARAMS, obs_operator)\n",
    "X_values = np.array(PARAMS['x_values'])\n",
    "fit_params = fit_f(X_values[3::], ss_obs_array[0][3::])\n",
    "\n",
    "plt.plot(X_values, ss_obs_array[0])\n",
    "x_proj = np.arange(3,15)\n",
    "fit_proj = calc_f(x_proj, fit_params)\n",
    "print (\"Converged {} is {}\".format(obs_operator, max(fit_proj)))\n",
    "\n",
    "percent_change = []\n",
    "for i in range(len(fit_proj)-1):\n",
    "    percent_change.append(100*(fit_proj[i]-fit_proj[i+1])/fit_proj[i+1])\n",
    "plt.plot(x_proj, fit_proj)"
   ]
  },
  {
   "cell_type": "code",
   "execution_count": 63,
   "metadata": {},
   "outputs": [
    {
     "name": "stdout",
     "output_type": "stream",
     "text": [
      "plotting in new style\n",
      "saved at PLOTS/heatmap_excvN_10.pdf\n"
     ]
    },
    {
     "data": {
      "image/png": "[encoded data removed]",
      "text/plain": [
       "<matplotlib.figure.Figure at 0x7f6bb154e5d0>"
      ]
     },
     "metadata": {},
     "output_type": "display_data"
    }
   ],
   "source": [
    "heatmap_plotter(num=10, plot_SD=False, dir_name=\"heatmap_excvN\",\n",
    "                print_params=False, observable='sigma_x', reverse_x=False)"
   ]
  },
  {
   "cell_type": "code",
   "execution_count": 62,
   "metadata": {
    "scrolled": true
   },
   "outputs": [
    {
     "name": "stdout",
     "output_type": "stream",
     "text": [
      "plotting in new style\n",
      "saved at PLOTS/heatmap_excvN_11.pdf\n"
     ]
    },
    {
     "data": {
      "image/png": "[encoded data removed]",
      "text/plain": [
       "<matplotlib.figure.Figure at 0x7f6bb15762d0>"
      ]
     },
     "metadata": {},
     "output_type": "display_data"
    }
   ],
   "source": [
    "heatmap_plotter(num=11, plot_SD=False, dir_name=\"heatmap_excvN\",\n",
    "                print_params=False, observable='sigma_x', reverse_x=False)"
   ]
  },
  {
   "cell_type": "code",
   "execution_count": null,
   "metadata": {
    "collapsed": true
   },
   "outputs": [],
   "source": [
    "ss_info_params = [ss_array, info_array, PARAMS]\n",
    "\n",
    "#heatmap_plotter(ss_info_params=ss_info_params, plot_SD=False,\n",
    "#                print_params=False, observable='sigma_x', reverse_x=True)\n",
    "heatmap_plotter(num=5, plot_SD=False, dir_name=\"heatmap_excvN\",\n",
    "                print_params=False, observable='sigma_x', reverse_x=False)"
   ]
  },
  {
   "cell_type": "code",
   "execution_count": null,
   "metadata": {
    "collapsed": true
   },
   "outputs": [],
   "source": [
    "PARAMS['y_values']"
   ]
  },
  {
   "cell_type": "code",
   "execution_count": 50,
   "metadata": {
    "collapsed": true
   },
   "outputs": [],
   "source": [
    "def steadystate_observable(ss_array, PARAMS, observable):\n",
    "    try:\n",
    "        size = (len(PARAMS['y_values']), len(PARAMS['x_values']))\n",
    "    except KeyError:\n",
    "        size = (1,1)\n",
    "    # deal with the case where N is being changed as an x value\n",
    "    if 'N_1' in PARAMS['x_axis_parameters']:\n",
    "        data_array = np.zeros(size)         # Collect data\n",
    "        N_values = PARAMS['x_values']\n",
    "        # NEw observable operator for each N value\n",
    "        for i, N in enumerate(N_values):\n",
    "            PARAMS.update({'N_1' : N, 'N_2' : N})\n",
    "            exc = N+PARAMS['exc_diff']\n",
    "            # Leave it so exc can be fixed or a y_parameter\n",
    "            if 'exc' in PARAMS['x_axis_parameters']:\n",
    "                PARAMS.update({'exc': exc})\n",
    "            _obs_op = make_expectation_operators(PARAMS)[observable]\n",
    "            for j, y in enumerate(PARAMS['y_values']):\n",
    "                # the case where exc is on the y axis\n",
    "                if 'exc_diff' in PARAMS['y_axis_parameters']:\n",
    "                    PARAMS.update({'exc': N+y})\n",
    "                    _obs_op = make_expectation_operators(PARAMS)[observable]\n",
    "                try:\n",
    "                    #print j,i ,ss_array[j][i].shape, _obs_op.shape\n",
    "                    data_array[j][i] = (qt.Qobj(ss_array[j][i])*_obs_op).tr().real\n",
    "                except AttributeError:\n",
    "                    data_array[j][i] = np.nan\n",
    "        return data_array\n",
    "    else:\n",
    "        # Much simpler if N isn't on the x-axis\n",
    "        obs_op = make_expectation_operators(PARAMS)[observable]\n",
    "        f = lambda x: (qt.Qobj(x)*obs_op).tr()\n",
    "        ss_array = np.reshape(ss_array, (1, size[0]*size[1]))[0]\n",
    "\n",
    "        data_array = map(f, ss_array)\n",
    "        data_array = np.array(data_array).reshape(size).real\n",
    "        return data_array\n",
    "\n"
   ]
  },
  {
   "cell_type": "code",
   "execution_count": null,
   "metadata": {
    "collapsed": true
   },
   "outputs": [],
   "source": [
    "plt.imshow(steadystate_observable(ss_array, PARAMS, 'sigma_x'))"
   ]
  },
  {
   "cell_type": "code",
   "execution_count": 12,
   "metadata": {
    "collapsed": true
   },
   "outputs": [],
   "source": [
    "# With saved data, we can calculte things differently\n",
    "\n",
    "def heatmap_loader(num, dir_name=\"heatmap\"):\n",
    "    directory = 'DATA/'+dir_name+'_'+str(num)\n",
    "    ss_array = load_obj(directory+'/ss_array')\n",
    "    PARAMS = load_obj(directory+'/PARAMS')\n",
    "    info_array = load_obj(directory+'/info_array') # reverse ordering -> lower_N-higher_N\n",
    "    return ss_array, PARAMS, info_array\n",
    "\n",
    "def heatmap_plotter(ss_info_params=False, num=-1, plot_SD=True, dir_name=\"heatmap\", \n",
    "                     print_params=False, observable='sigma_x', \n",
    "                    reverse_x=True):\n",
    "    if num>=0:\n",
    "        ss_array, PARAMS, info_array = heatmap_loader(num, dir_name=dir_name)\n",
    "        \n",
    "    if ss_info_params:\n",
    "        if num>=0:\n",
    "            print \"Not loading saved data, using data from arguments instead\"\n",
    "        ss_array,info_array, PARAMS = ss_info_params[0], ss_info_params[1], ss_info_params[2]\n",
    "    info = info_array[0][0]\n",
    "    #print info\n",
    "    \n",
    "    try:\n",
    "        # To catch an old bug where these were in \"info\" not in PARAMS\n",
    "        keys = ['x_values', 'y_values', 'y_axis_parameters', 'x_axis_parameters']\n",
    "        PARAMS.update(dict((key, info[key]) for key in keys))\n",
    "    except Exception as err:\n",
    "        print \"plotting in new style\"\n",
    "    if plot_SD:\n",
    "        plot_UD_SD(PARAMS[\"Gamma_1\"], PARAMS[\"alpha_1\"], PARAMS[\"w0_1\"], eps=2000.)\n",
    "    #print PARAMS\n",
    "    ss_array = steadystate_observable(ss_array, PARAMS, observable)\n",
    "    \n",
    "    f, axes = plt.subplots(1,1, figsize=(13,6))\n",
    "    for i, y_val in enumerate(PARAMS['y_values']):\n",
    "        x_values = PARAMS['x_values']\n",
    "        #x_values = x_values[::-1]\n",
    "        #if reverse_x: # Crazy bug which flips x direction - cba to refactor\n",
    "        #    x_values = x_values[::-1]\n",
    "        axes.plot(x_values, ss_array[i], \n",
    "                  label=str(PARAMS['y_axis_parameters'])+\"=\"+str(y_val))\n",
    "    if print_params:\n",
    "        print_PARAMS(PARAMS)\n",
    "    \n",
    "    plt.xlabel(', '.join(PARAMS['x_axis_parameters']))\n",
    "    plt.ylabel(\"Steadystate \"+observable)\n",
    "    #plt.ylabel(', '.join(info['y_axis_parameters']))\n",
    "    plt.legend()\n",
    "    plt.grid()\n",
    "    plot_filename = 'PLOTS/'+dir_name+'_'+str(num)+'.pdf'\n",
    "    plt.savefig(plot_filename)\n",
    "    print \"saved at {}\".format(plot_filename)\n",
    "    plt.show()"
   ]
  },
  {
   "cell_type": "code",
   "execution_count": null,
   "metadata": {
    "collapsed": true,
    "scrolled": false
   },
   "outputs": [],
   "source": [
    "ss_info_params = [ss_array, info_array, PARAMS]\n",
    "\n",
    "heatmap_plotter(ss_info_params=ss_info_params, plot_SD=False,\n",
    "                print_params=False, observable='sigma_x', reverse_x=False)"
   ]
  },
  {
   "cell_type": "markdown",
   "metadata": {},
   "source": [
    "# For N=6, with no "
   ]
  },
  {
   "cell_type": "code",
   "execution_count": null,
   "metadata": {
    "code_folding": [],
    "collapsed": true
   },
   "outputs": [],
   "source": [
    "\"\"\"from heatmap_setup import steadystate\n",
    "\n",
    "w_2 = 8000.\n",
    "alpha = 20.\n",
    "\n",
    "N = 6\n",
    "pap = alpha_to_pialpha_prop(alpha, w_2)\n",
    "PARAMS = PARAMS_setup(bias=100., w_2=8000., V = 100., pialpha_prop=pap,\n",
    "                                 T_EM=6000., T_ph =300.,\n",
    "                                 alpha_EM=0.1, shift=True,\n",
    "                                 num_cpus=3, N=N, Gamma=200., w_0=300.,\n",
    "                                 silent=True, exc_diff=0)\n",
    "from numpy.linalg import norm\n",
    "def estimateCondition(M):\n",
    "    vec = np.ones((1, M.shape[0])).T\n",
    "    return norm(M.dot(vec), np.inf)\"\"\""
   ]
  },
  {
   "cell_type": "markdown",
   "metadata": {},
   "source": [
    "# Comparing SS solution methods (direct, inverse power, eigen)"
   ]
  },
  {
   "cell_type": "code",
   "execution_count": null,
   "metadata": {
    "collapsed": true
   },
   "outputs": [],
   "source": [
    "from qutip import build_preconditioner\n",
    "\n",
    "def method_plotter(N_vals, data_dict, info_dict, ax1, ax2, linestyle=\"solid\"):\n",
    "    lw=1.\n",
    "    if linestyle == 'dashed':\n",
    "        lw=1.8\n",
    "    for i, key in enumerate(data_dict.keys()):\n",
    "        ax1.plot(N_vals, data_dict[key], label=key, color=colourWheel[i], ls=linestyle, linewidth=lw)\n",
    "        #print info_dict[key]\n",
    "        ax2.plot(N_vals, info_dict[key], label=key, color=colourWheel[i], ls=linestyle, linewidth=lw)\n",
    "    ax1.legend()\n",
    "    ax2.legend()\n",
    "    ax1.set_ylabel(\"Coherence\")\n",
    "    ax2.set_ylabel(\"Solution time\")\n",
    "\n",
    "\n",
    "def method_comparison(N_i, N_f, plot=False, site_basis=True):\n",
    "    methods = ['direct']\n",
    "    data_dict = dict()\n",
    "    info_dict = dict()\n",
    "    N_vals = range(N_i, N_f)\n",
    "    for exc_diff in [0,3,4]:\n",
    "        for N in N_vals:\n",
    "            PARAMS.update({'N_1':N, 'N_2':N, 'exc':int(2*N-exc_diff)})\n",
    "            H, L = get_H_and_L(PARAMS,silent=False, threshold=1e-7, site_basis=site_basis)\n",
    "            exps = make_expectation_operators(PARAMS, site_basis=site_basis)\n",
    "            for method in methods:\n",
    "                try:\n",
    "                    M=None\n",
    "\n",
    "                    if \"iterative\" in method:\n",
    "                        ti = time.time()\n",
    "                        M = build_preconditioner(H[1], [L], use_rcm=True, ILU_MILU='smilu_2')\n",
    "                        print(\"Building preconditioner took {} seconds\".format(time.time()-ti))\n",
    "                    ss, full_info = calculate_steadystate(H, L, method=method, persistent=True)\n",
    "                    info = full_info['solution_time']\n",
    "\n",
    "                    coh = (exps['sigma_x']*ss).tr().real\n",
    "                    try:\n",
    "                        data_dict[exc_diff].append(coh)\n",
    "                        info_dict[exc_diff].append(info)\n",
    "                    except KeyError:\n",
    "                        data_dict[exc_diff] = [coh]\n",
    "                        info_dict[exc_diff] = [info]\n",
    "                except Exception as err:\n",
    "                    print( \"{} failed due to : {}\".format(method, err))\n",
    "                    try:\n",
    "                        data_dict[exc_diff].append(None)\n",
    "                        info_dict[exc_diff].append(None)\n",
    "                    except KeyError:\n",
    "                        data_dict[exc_diff] = [None]\n",
    "                        info_dict[exc_diff] = [None]\n",
    "    #if plot:\n",
    "    #    method_plotter(N_vals, data_dict, info_dict)\n",
    "    return N_vals, data_dict, info_dict\n",
    "\n",
    "N_vals, data_dict_sb, info_dict_sb = method_comparison(3,7)\n",
    "#N_vals, data_dict_eb, info_dict_eb = method_comparison(3,7, site_basis=False)\n",
    "\n",
    "f, (ax1, ax2) = plt.subplots(2,1, figsize=(10,7))\n",
    "method_plotter(N_vals, data_dict_sb, info_dict_sb, ax1, ax2)\n",
    "#method_plotter(N_vals, data_dict_eb, info_dict_eb, ax1, ax2, linestyle=\"dashed\")\n"
   ]
  },
  {
   "cell_type": "markdown",
   "metadata": {},
   "source": [
    "# Plotting methods"
   ]
  },
  {
   "cell_type": "code",
   "execution_count": null,
   "metadata": {
    "collapsed": true
   },
   "outputs": [],
   "source": []
  },
  {
   "cell_type": "code",
   "execution_count": null,
   "metadata": {
    "collapsed": true
   },
   "outputs": [],
   "source": [
    "heatmap_plotter(2, plot_SD=False, dir_name='heatmap_excvN', \n",
    "                     print_params=False, observable='', \n",
    "                    reverse_x=True)"
   ]
  },
  {
   "cell_type": "code",
   "execution_count": null,
   "metadata": {
    "collapsed": true
   },
   "outputs": [],
   "source": []
  }
 ],
 "metadata": {
  "kernelspec": {
   "display_name": "Python 2",
   "language": "python",
   "name": "python2"
  },
  "language_info": {
   "codemirror_mode": {
    "name": "ipython",
    "version": 2
   },
   "file_extension": ".py",
   "mimetype": "text/x-python",
   "name": "python",
   "nbconvert_exporter": "python",
   "pygments_lexer": "ipython2",
   "version": "2.7.13"
  }
 },
 "nbformat": 4,
 "nbformat_minor": 2
}
